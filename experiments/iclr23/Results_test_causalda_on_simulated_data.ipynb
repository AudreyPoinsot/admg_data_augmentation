{
 "cells": [
  {
   "attachments": {},
   "cell_type": "markdown",
   "metadata": {},
   "source": [
    "# Results of the tests on simulated data from random SCMs"
   ]
  },
  {
   "cell_type": "markdown",
   "metadata": {},
   "source": [
    "### Imports"
   ]
  },
  {
   "cell_type": "code",
   "execution_count": 1,
   "metadata": {},
   "outputs": [],
   "source": [
    "import numpy as np\n",
    "import pandas as pd\n",
    "\n",
    "import plotly.express as px\n",
    "import plotly.graph_objects as go"
   ]
  },
  {
   "attachments": {},
   "cell_type": "markdown",
   "metadata": {},
   "source": [
    "## Utils functions"
   ]
  },
  {
   "cell_type": "code",
   "execution_count": 2,
   "metadata": {},
   "outputs": [],
   "source": [
    "color_list=[\"rgb(238,44,44)\",\n",
    "            \"rgb(0,0,205)\",\n",
    "            \"rgb(127,255,0)\",\n",
    "            \"rgb(191,62,255)\",\n",
    "            \"rgb(255,20,147)\",\n",
    "            \"rgb(255,48,48)\",\n",
    "            \"rgb(255,215,0)\",\n",
    "            \"rgb(0,0,255)\"] \n",
    "\n",
    "transparent_color_list=[\"rgba(238,44,44,0.2)\",\n",
    "            \"rgba(0,0,205,0.2)\",\n",
    "            \"rgba(127,255,0,0.2)\",\n",
    "            \"rgba(191,62,255,0.2)\",\n",
    "            \"rgba(255,20,147,0.2)\",\n",
    "            \"rgba(255,48,48,0.2)\",\n",
    "            \"rgba(255,215,0,0.2)\",\n",
    "            \"rgba(0,0,255,0.2)\"]"
   ]
  },
  {
   "cell_type": "code",
   "execution_count": 3,
   "metadata": {},
   "outputs": [],
   "source": [
    "def compute_stats_for_line_plot_paper(results_df, features_to_group_list, column_of_interest):\n",
    "    \"\"\"Compute mean, median and std for variable in column_of_interest when grouping by features_to_group_list\n",
    "\n",
    "    Args:\n",
    "        results_df (DataFrame): data table\n",
    "        features_to_group_list (list): List of columns among which to group by\n",
    "        column_of_interest (str): Column for which to compte stats\n",
    "\n",
    "    Returns:\n",
    "        DataFrame: Grouped table with stats\n",
    "    \"\"\"\n",
    "    res_copy_df = results_df.groupby(features_to_group_list).agg([np.mean, np.std, np.median]).reset_index()\n",
    "    res_copy_df[column_of_interest+'_mean'] = res_copy_df[column_of_interest]['mean']\n",
    "    res_copy_df[column_of_interest+'_upper'] = res_copy_df[column_of_interest]['mean'] + res_copy_df[column_of_interest]['std']\n",
    "    res_copy_df[column_of_interest+'_lower'] = res_copy_df[column_of_interest]['mean'] - res_copy_df[column_of_interest]['std']\n",
    "    res_copy_df[column_of_interest+'_median'] = res_copy_df[column_of_interest]['median']\n",
    "    res_copy_df = res_copy_df[features_to_group_list +  \n",
    "                               [column_of_interest+'_mean',  \n",
    "                               column_of_interest+'_upper', \n",
    "                               column_of_interest+'_lower', \n",
    "                               column_of_interest+'_median',\n",
    "                              ]]\n",
    "    return res_copy_df"
   ]
  },
  {
   "cell_type": "code",
   "execution_count": 4,
   "metadata": {},
   "outputs": [],
   "source": [
    "# Specific functions for Variance treatment\n",
    "\n",
    "def my_remove(liste, elmt):\n",
    "    \"\"\"Remove all occurences of elmt in liste\n",
    "\n",
    "    Args:\n",
    "        liste (list): list from whiwh to remove elmt\n",
    "        elmt (any): element to remove\n",
    "\n",
    "    Returns:\n",
    "        list: list without elmt\n",
    "    \"\"\"\n",
    "    while elmt in liste:\n",
    "      liste.remove(elmt)\n",
    "    return liste\n",
    "\n",
    "\n",
    "\n",
    "def process_variance_features(df_input):\n",
    "    \"\"\"Process variance features. From list of variances to relative difference of variance computed among all variances in the list\n",
    "\n",
    "    Args:\n",
    "        df_input (DataFrame): data table\n",
    "\n",
    "    Returns:\n",
    "        DataFrame: processed data table\n",
    "    \"\"\"\n",
    "    df = df_input.copy()\n",
    "    \n",
    "    # From string to numpy\n",
    "    df['variance_train_NOT_weighted'] = df.variance_train_NOT_weighted.apply(lambda x: x[1:-1].replace(\"\\n\",\"\").replace(\"[\",\"\").replace(\"]\",\"\").split(' ') if type(x)==str else x)\n",
    "    df['variance_train_NOT_weighted'] = df.variance_train_NOT_weighted.apply(lambda x: np.array(my_remove(x, '')).astype(float) if (type(x)==list)&('' in x) else np.array(x).astype(float))\n",
    "    df['variance_aug_NOT_weighted'] = df.variance_aug_NOT_weighted.apply(lambda x: x[1:-1].replace(\"\\n\",\"\").replace(\"[\",\"\").replace(\"]\",\"\").split(' ') if type(x)==str else x)\n",
    "    df['variance_aug_NOT_weighted'] = df.variance_aug_NOT_weighted.apply(lambda x: np.array(my_remove(x, '')).astype(float) if (type(x)==list)&('' in x) else np.array(x).astype(float))\n",
    "    df['variance_aug_weighted'] = df.variance_aug_weighted.apply(lambda x: x[1:-1].replace(\"\\n\",\"\").replace(\"[\",\"\").replace(\"]\",\"\").split(' ') if type(x)==str else x)\n",
    "    df['variance_aug_weighted'] = df.variance_aug_weighted.apply(lambda x: np.array(my_remove(x, '')).astype(float) if (type(x)==list)&('' in x) else np.array(x).astype(float))\n",
    "    \n",
    "    # Compute delta var\n",
    "    df = df.assign(relative_delta_var_NOT_weighted = lambda x: (x['variance_aug_NOT_weighted'] - x['variance_train_NOT_weighted'])/x['variance_train_NOT_weighted'])\n",
    "    df['relative_delta_var_NOT_weighted_mean'] = df.relative_delta_var_NOT_weighted.apply(lambda x: np.mean(x))\n",
    "    df['relative_delta_var_NOT_weighted_median'] = df.relative_delta_var_NOT_weighted.apply(lambda x: np.median(x))\n",
    "    df = df.assign(relative_delta_var_weighted = lambda x: (x['variance_aug_weighted'] - x['variance_train_NOT_weighted'])/x['variance_train_NOT_weighted'])\n",
    "    df['relative_delta_var_weighted_mean'] = df.relative_delta_var_weighted.apply(lambda x: np.mean(x))\n",
    "    df['relative_delta_var_weighted_median'] = df.relative_delta_var_weighted.apply(lambda x: np.median(x))\n",
    "    \n",
    "    return df\n",
    "\n",
    "\n",
    "\n",
    "def process_variance_features_robustness(df_input):\n",
    "    \"\"\"Process variance features. From list of variances to relative difference of variance computed among all variances in the list\n",
    "\n",
    "    Args:\n",
    "        df_input (DataFrame): data table\n",
    "\n",
    "    Returns:\n",
    "        DataFrame: processed data table\n",
    "    \"\"\"\n",
    "    df = df_input.copy()\n",
    "    \n",
    "    # From string to numpy\n",
    "    df['variance_train_NOT_weighted'] = df.variance_train_NOT_weighted.apply(lambda x: x[1:-1].replace(\"\\n\",\"\").replace(\"[\",\"\").replace(\"]\",\"\").split(' ') if type(x)==str else x)\n",
    "    df['variance_train_NOT_weighted'] = df.variance_train_NOT_weighted.apply(lambda x: np.array(my_remove(x, '')).astype(float) if (type(x)==list)&('' in x) else np.array(x).astype(float))\n",
    "    \n",
    "    df['variance_aug_weighted_true'] = df.variance_aug_weighted_true.apply(lambda x: x[1:-1].replace(\"\\n\",\"\").replace(\"[\",\"\").replace(\"]\",\"\").split(' ') if type(x)==str else x)\n",
    "    df['variance_aug_weighted_true'] = df.variance_aug_weighted_true.apply(lambda x: np.array(my_remove(x, '')).astype(float) if (type(x)==list)&('' in x) else np.array(x).astype(float))\n",
    "    \n",
    "    df['variance_aug_weighted_wrong'] = df.variance_aug_weighted_wrong.apply(lambda x: x[1:-1].replace(\"\\n\",\"\").replace(\"[\",\"\").replace(\"]\",\"\").split(' ') if type(x)==str else x)\n",
    "    df['variance_aug_weighted_wrong'] = df.variance_aug_weighted_wrong.apply(lambda x: np.array(my_remove(x, '')).astype(float) if (type(x)==list)&('' in x) else np.array(x).astype(float))\n",
    "    \n",
    "    # Compute delta var\n",
    "    df = df.assign(relative_delta_var_weighted_true = lambda x: (x['variance_aug_weighted_true'] - x['variance_train_NOT_weighted'])/x['variance_train_NOT_weighted'])\n",
    "    df['relative_delta_var_weighted_true_mean'] = df.relative_delta_var_weighted_true.apply(lambda x: np.mean(x))\n",
    "    df['relative_delta_var_weighted_true_median'] = df.relative_delta_var_weighted_true.apply(lambda x: np.median(x))\n",
    "    \n",
    "    df = df.assign(relative_delta_var_weighted_wrong = lambda x: (x['variance_aug_weighted_wrong'] - x['variance_train_NOT_weighted'])/x['variance_train_NOT_weighted'])\n",
    "    df['relative_delta_var_weighted_wrong_mean'] = df.relative_delta_var_weighted_wrong.apply(lambda x: np.mean(x))\n",
    "    df['relative_delta_var_weighted_wrong_median'] = df.relative_delta_var_weighted_wrong.apply(lambda x: np.median(x))\n",
    "    \n",
    "    df = df.assign(relative_delta_var_weighted_true_VS_wrong = lambda x: (x['variance_aug_weighted_wrong'] - x['variance_aug_weighted_true'])/x['variance_aug_weighted_true'])\n",
    "    df['relative_delta_var_weighted_true_VS_wrong_mean'] = df.relative_delta_var_weighted_true_VS_wrong.apply(lambda x: np.mean(x))\n",
    "    df['relative_delta_var_weighted_true_VS_wrong_median'] = df.relative_delta_var_weighted_true_VS_wrong.apply(lambda x: np.median(x))\n",
    "    return df"
   ]
  },
  {
   "attachments": {},
   "cell_type": "markdown",
   "metadata": {},
   "source": [
    "#### Chose wether to plot paper results or your results"
   ]
  },
  {
   "cell_type": "code",
   "execution_count": 5,
   "metadata": {},
   "outputs": [],
   "source": [
    "use_paper_results = True"
   ]
  },
  {
   "attachments": {},
   "cell_type": "markdown",
   "metadata": {},
   "source": [
    "## Weight threshold"
   ]
  },
  {
   "cell_type": "code",
   "execution_count": 6,
   "metadata": {},
   "outputs": [],
   "source": [
    "if use_paper_results:\n",
    "    folder_to_res = 'paper_results'\n",
    "    data_threshold = pd.read_csv(folder_to_res + '/intermediate_threshold_res_1e-05.csv')\n",
    "else:\n",
    "    folder_to_res = 'threshold_variation'\n",
    "    data_threshold = pd.read_csv(folder_to_res + '/threshold_res.csv')\n",
    "\n",
    "data_threshold['weight_threshold_log10'] = data_threshold.weight_threshold.apply(lambda x: np.log10(x))"
   ]
  },
  {
   "cell_type": "code",
   "execution_count": 56,
   "metadata": {},
   "outputs": [
    {
     "name": "stderr",
     "output_type": "stream",
     "text": [
      "C:\\Users\\AudreyPOINSOT\\AppData\\Local\\Temp\\ipykernel_21960\\1025098877.py:12: FutureWarning:\n",
      "\n",
      "['mechanism', 'predicted_variable', 'predicted_variable_node_type', 'variance_train_NOT_weighted', 'variance_aug_NOT_weighted', 'variance_aug_weighted'] did not aggregate successfully. If any error is raised this will raise in a future version of pandas. Drop these columns/ops to avoid this warning.\n",
      "\n"
     ]
    },
    {
     "data": {
      "application/vnd.plotly.v1+json": {
       "config": {
        "plotlyServerURL": "https://plot.ly"
       },
       "data": [
        {
         "fill": "toself",
         "fillcolor": "rgba(238,44,44,0.2)",
         "line": {
          "color": "rgba(255,255,255,0)"
         },
         "mode": "lines",
         "name": "std",
         "showlegend": true,
         "type": "scatter",
         "x": [
          -5,
          -4,
          -3,
          -2,
          -1,
          -1,
          -2,
          -3,
          -4,
          -5
         ],
         "y": [
          13.040751571009647,
          7.126821571171056,
          3.688063908518977,
          0.4375187192678545,
          0.2435096511562962,
          -0.042938222584867666,
          0.01076699501785977,
          -0.08120676566183405,
          -1.5302501425996278,
          -2.168751571009646
         ]
        },
        {
         "line": {
          "color": "rgb(238,44,44)"
         },
         "mode": "lines",
         "name": "mean",
         "showlegend": true,
         "type": "scatter",
         "x": [
          -5,
          -4,
          -3,
          -2,
          -1
         ],
         "y": [
          5.436,
          2.798285714285714,
          1.8034285714285714,
          0.22414285714285714,
          0.10028571428571427
         ]
        },
        {
         "line": {
          "color": "rgb(238,44,44)",
          "dash": "dot"
         },
         "mode": "lines",
         "name": "median",
         "showlegend": true,
         "type": "scatter",
         "x": [
          -5,
          -4,
          -3,
          -2,
          -1
         ],
         "y": [
          1.22,
          0.6442857142857144,
          0.6542857142857144,
          0.2371428571428571,
          0
         ]
        }
       ],
       "layout": {
        "height": 300,
        "legend": {
         "x": 0.99,
         "xanchor": "right",
         "y": 0.99,
         "yanchor": "top"
        },
        "margin": {
         "b": 10,
         "l": 20,
         "r": 10,
         "t": 10
        },
        "template": {
         "data": {
          "bar": [
           {
            "error_x": {
             "color": "#2a3f5f"
            },
            "error_y": {
             "color": "#2a3f5f"
            },
            "marker": {
             "line": {
              "color": "#E5ECF6",
              "width": 0.5
             },
             "pattern": {
              "fillmode": "overlay",
              "size": 10,
              "solidity": 0.2
             }
            },
            "type": "bar"
           }
          ],
          "barpolar": [
           {
            "marker": {
             "line": {
              "color": "#E5ECF6",
              "width": 0.5
             },
             "pattern": {
              "fillmode": "overlay",
              "size": 10,
              "solidity": 0.2
             }
            },
            "type": "barpolar"
           }
          ],
          "carpet": [
           {
            "aaxis": {
             "endlinecolor": "#2a3f5f",
             "gridcolor": "white",
             "linecolor": "white",
             "minorgridcolor": "white",
             "startlinecolor": "#2a3f5f"
            },
            "baxis": {
             "endlinecolor": "#2a3f5f",
             "gridcolor": "white",
             "linecolor": "white",
             "minorgridcolor": "white",
             "startlinecolor": "#2a3f5f"
            },
            "type": "carpet"
           }
          ],
          "choropleth": [
           {
            "colorbar": {
             "outlinewidth": 0,
             "ticks": ""
            },
            "type": "choropleth"
           }
          ],
          "contour": [
           {
            "colorbar": {
             "outlinewidth": 0,
             "ticks": ""
            },
            "colorscale": [
             [
              0,
              "#0d0887"
             ],
             [
              0.1111111111111111,
              "#46039f"
             ],
             [
              0.2222222222222222,
              "#7201a8"
             ],
             [
              0.3333333333333333,
              "#9c179e"
             ],
             [
              0.4444444444444444,
              "#bd3786"
             ],
             [
              0.5555555555555556,
              "#d8576b"
             ],
             [
              0.6666666666666666,
              "#ed7953"
             ],
             [
              0.7777777777777778,
              "#fb9f3a"
             ],
             [
              0.8888888888888888,
              "#fdca26"
             ],
             [
              1,
              "#f0f921"
             ]
            ],
            "type": "contour"
           }
          ],
          "contourcarpet": [
           {
            "colorbar": {
             "outlinewidth": 0,
             "ticks": ""
            },
            "type": "contourcarpet"
           }
          ],
          "heatmap": [
           {
            "colorbar": {
             "outlinewidth": 0,
             "ticks": ""
            },
            "colorscale": [
             [
              0,
              "#0d0887"
             ],
             [
              0.1111111111111111,
              "#46039f"
             ],
             [
              0.2222222222222222,
              "#7201a8"
             ],
             [
              0.3333333333333333,
              "#9c179e"
             ],
             [
              0.4444444444444444,
              "#bd3786"
             ],
             [
              0.5555555555555556,
              "#d8576b"
             ],
             [
              0.6666666666666666,
              "#ed7953"
             ],
             [
              0.7777777777777778,
              "#fb9f3a"
             ],
             [
              0.8888888888888888,
              "#fdca26"
             ],
             [
              1,
              "#f0f921"
             ]
            ],
            "type": "heatmap"
           }
          ],
          "heatmapgl": [
           {
            "colorbar": {
             "outlinewidth": 0,
             "ticks": ""
            },
            "colorscale": [
             [
              0,
              "#0d0887"
             ],
             [
              0.1111111111111111,
              "#46039f"
             ],
             [
              0.2222222222222222,
              "#7201a8"
             ],
             [
              0.3333333333333333,
              "#9c179e"
             ],
             [
              0.4444444444444444,
              "#bd3786"
             ],
             [
              0.5555555555555556,
              "#d8576b"
             ],
             [
              0.6666666666666666,
              "#ed7953"
             ],
             [
              0.7777777777777778,
              "#fb9f3a"
             ],
             [
              0.8888888888888888,
              "#fdca26"
             ],
             [
              1,
              "#f0f921"
             ]
            ],
            "type": "heatmapgl"
           }
          ],
          "histogram": [
           {
            "marker": {
             "pattern": {
              "fillmode": "overlay",
              "size": 10,
              "solidity": 0.2
             }
            },
            "type": "histogram"
           }
          ],
          "histogram2d": [
           {
            "colorbar": {
             "outlinewidth": 0,
             "ticks": ""
            },
            "colorscale": [
             [
              0,
              "#0d0887"
             ],
             [
              0.1111111111111111,
              "#46039f"
             ],
             [
              0.2222222222222222,
              "#7201a8"
             ],
             [
              0.3333333333333333,
              "#9c179e"
             ],
             [
              0.4444444444444444,
              "#bd3786"
             ],
             [
              0.5555555555555556,
              "#d8576b"
             ],
             [
              0.6666666666666666,
              "#ed7953"
             ],
             [
              0.7777777777777778,
              "#fb9f3a"
             ],
             [
              0.8888888888888888,
              "#fdca26"
             ],
             [
              1,
              "#f0f921"
             ]
            ],
            "type": "histogram2d"
           }
          ],
          "histogram2dcontour": [
           {
            "colorbar": {
             "outlinewidth": 0,
             "ticks": ""
            },
            "colorscale": [
             [
              0,
              "#0d0887"
             ],
             [
              0.1111111111111111,
              "#46039f"
             ],
             [
              0.2222222222222222,
              "#7201a8"
             ],
             [
              0.3333333333333333,
              "#9c179e"
             ],
             [
              0.4444444444444444,
              "#bd3786"
             ],
             [
              0.5555555555555556,
              "#d8576b"
             ],
             [
              0.6666666666666666,
              "#ed7953"
             ],
             [
              0.7777777777777778,
              "#fb9f3a"
             ],
             [
              0.8888888888888888,
              "#fdca26"
             ],
             [
              1,
              "#f0f921"
             ]
            ],
            "type": "histogram2dcontour"
           }
          ],
          "mesh3d": [
           {
            "colorbar": {
             "outlinewidth": 0,
             "ticks": ""
            },
            "type": "mesh3d"
           }
          ],
          "parcoords": [
           {
            "line": {
             "colorbar": {
              "outlinewidth": 0,
              "ticks": ""
             }
            },
            "type": "parcoords"
           }
          ],
          "pie": [
           {
            "automargin": true,
            "type": "pie"
           }
          ],
          "scatter": [
           {
            "fillpattern": {
             "fillmode": "overlay",
             "size": 10,
             "solidity": 0.2
            },
            "type": "scatter"
           }
          ],
          "scatter3d": [
           {
            "line": {
             "colorbar": {
              "outlinewidth": 0,
              "ticks": ""
             }
            },
            "marker": {
             "colorbar": {
              "outlinewidth": 0,
              "ticks": ""
             }
            },
            "type": "scatter3d"
           }
          ],
          "scattercarpet": [
           {
            "marker": {
             "colorbar": {
              "outlinewidth": 0,
              "ticks": ""
             }
            },
            "type": "scattercarpet"
           }
          ],
          "scattergeo": [
           {
            "marker": {
             "colorbar": {
              "outlinewidth": 0,
              "ticks": ""
             }
            },
            "type": "scattergeo"
           }
          ],
          "scattergl": [
           {
            "marker": {
             "colorbar": {
              "outlinewidth": 0,
              "ticks": ""
             }
            },
            "type": "scattergl"
           }
          ],
          "scattermapbox": [
           {
            "marker": {
             "colorbar": {
              "outlinewidth": 0,
              "ticks": ""
             }
            },
            "type": "scattermapbox"
           }
          ],
          "scatterpolar": [
           {
            "marker": {
             "colorbar": {
              "outlinewidth": 0,
              "ticks": ""
             }
            },
            "type": "scatterpolar"
           }
          ],
          "scatterpolargl": [
           {
            "marker": {
             "colorbar": {
              "outlinewidth": 0,
              "ticks": ""
             }
            },
            "type": "scatterpolargl"
           }
          ],
          "scatterternary": [
           {
            "marker": {
             "colorbar": {
              "outlinewidth": 0,
              "ticks": ""
             }
            },
            "type": "scatterternary"
           }
          ],
          "surface": [
           {
            "colorbar": {
             "outlinewidth": 0,
             "ticks": ""
            },
            "colorscale": [
             [
              0,
              "#0d0887"
             ],
             [
              0.1111111111111111,
              "#46039f"
             ],
             [
              0.2222222222222222,
              "#7201a8"
             ],
             [
              0.3333333333333333,
              "#9c179e"
             ],
             [
              0.4444444444444444,
              "#bd3786"
             ],
             [
              0.5555555555555556,
              "#d8576b"
             ],
             [
              0.6666666666666666,
              "#ed7953"
             ],
             [
              0.7777777777777778,
              "#fb9f3a"
             ],
             [
              0.8888888888888888,
              "#fdca26"
             ],
             [
              1,
              "#f0f921"
             ]
            ],
            "type": "surface"
           }
          ],
          "table": [
           {
            "cells": {
             "fill": {
              "color": "#EBF0F8"
             },
             "line": {
              "color": "white"
             }
            },
            "header": {
             "fill": {
              "color": "#C8D4E3"
             },
             "line": {
              "color": "white"
             }
            },
            "type": "table"
           }
          ]
         },
         "layout": {
          "annotationdefaults": {
           "arrowcolor": "#2a3f5f",
           "arrowhead": 0,
           "arrowwidth": 1
          },
          "autotypenumbers": "strict",
          "coloraxis": {
           "colorbar": {
            "outlinewidth": 0,
            "ticks": ""
           }
          },
          "colorscale": {
           "diverging": [
            [
             0,
             "#8e0152"
            ],
            [
             0.1,
             "#c51b7d"
            ],
            [
             0.2,
             "#de77ae"
            ],
            [
             0.3,
             "#f1b6da"
            ],
            [
             0.4,
             "#fde0ef"
            ],
            [
             0.5,
             "#f7f7f7"
            ],
            [
             0.6,
             "#e6f5d0"
            ],
            [
             0.7,
             "#b8e186"
            ],
            [
             0.8,
             "#7fbc41"
            ],
            [
             0.9,
             "#4d9221"
            ],
            [
             1,
             "#276419"
            ]
           ],
           "sequential": [
            [
             0,
             "#0d0887"
            ],
            [
             0.1111111111111111,
             "#46039f"
            ],
            [
             0.2222222222222222,
             "#7201a8"
            ],
            [
             0.3333333333333333,
             "#9c179e"
            ],
            [
             0.4444444444444444,
             "#bd3786"
            ],
            [
             0.5555555555555556,
             "#d8576b"
            ],
            [
             0.6666666666666666,
             "#ed7953"
            ],
            [
             0.7777777777777778,
             "#fb9f3a"
            ],
            [
             0.8888888888888888,
             "#fdca26"
            ],
            [
             1,
             "#f0f921"
            ]
           ],
           "sequentialminus": [
            [
             0,
             "#0d0887"
            ],
            [
             0.1111111111111111,
             "#46039f"
            ],
            [
             0.2222222222222222,
             "#7201a8"
            ],
            [
             0.3333333333333333,
             "#9c179e"
            ],
            [
             0.4444444444444444,
             "#bd3786"
            ],
            [
             0.5555555555555556,
             "#d8576b"
            ],
            [
             0.6666666666666666,
             "#ed7953"
            ],
            [
             0.7777777777777778,
             "#fb9f3a"
            ],
            [
             0.8888888888888888,
             "#fdca26"
            ],
            [
             1,
             "#f0f921"
            ]
           ]
          },
          "colorway": [
           "#636efa",
           "#EF553B",
           "#00cc96",
           "#ab63fa",
           "#FFA15A",
           "#19d3f3",
           "#FF6692",
           "#B6E880",
           "#FF97FF",
           "#FECB52"
          ],
          "font": {
           "color": "#2a3f5f"
          },
          "geo": {
           "bgcolor": "white",
           "lakecolor": "white",
           "landcolor": "#E5ECF6",
           "showlakes": true,
           "showland": true,
           "subunitcolor": "white"
          },
          "hoverlabel": {
           "align": "left"
          },
          "hovermode": "closest",
          "mapbox": {
           "style": "light"
          },
          "paper_bgcolor": "white",
          "plot_bgcolor": "#E5ECF6",
          "polar": {
           "angularaxis": {
            "gridcolor": "white",
            "linecolor": "white",
            "ticks": ""
           },
           "bgcolor": "#E5ECF6",
           "radialaxis": {
            "gridcolor": "white",
            "linecolor": "white",
            "ticks": ""
           }
          },
          "scene": {
           "xaxis": {
            "backgroundcolor": "#E5ECF6",
            "gridcolor": "white",
            "gridwidth": 2,
            "linecolor": "white",
            "showbackground": true,
            "ticks": "",
            "zerolinecolor": "white"
           },
           "yaxis": {
            "backgroundcolor": "#E5ECF6",
            "gridcolor": "white",
            "gridwidth": 2,
            "linecolor": "white",
            "showbackground": true,
            "ticks": "",
            "zerolinecolor": "white"
           },
           "zaxis": {
            "backgroundcolor": "#E5ECF6",
            "gridcolor": "white",
            "gridwidth": 2,
            "linecolor": "white",
            "showbackground": true,
            "ticks": "",
            "zerolinecolor": "white"
           }
          },
          "shapedefaults": {
           "line": {
            "color": "#2a3f5f"
           }
          },
          "ternary": {
           "aaxis": {
            "gridcolor": "white",
            "linecolor": "white",
            "ticks": ""
           },
           "baxis": {
            "gridcolor": "white",
            "linecolor": "white",
            "ticks": ""
           },
           "bgcolor": "#E5ECF6",
           "caxis": {
            "gridcolor": "white",
            "linecolor": "white",
            "ticks": ""
           }
          },
          "title": {
           "x": 0.05
          },
          "xaxis": {
           "automargin": true,
           "gridcolor": "white",
           "linecolor": "white",
           "ticks": "",
           "title": {
            "standoff": 15
           },
           "zerolinecolor": "white",
           "zerolinewidth": 2
          },
          "yaxis": {
           "automargin": true,
           "gridcolor": "white",
           "linecolor": "white",
           "ticks": "",
           "title": {
            "standoff": 15
           },
           "zerolinecolor": "white",
           "zerolinewidth": 2
          }
         }
        },
        "width": 800,
        "xaxis": {
         "title": {
          "text": "log10 probability threshold"
         }
        },
        "yaxis": {
         "title": {
          "text": "fraction of newly generated data"
         }
        }
       }
      }
     },
     "metadata": {},
     "output_type": "display_data"
    }
   ],
   "source": [
    "### fraction of augmented data mean, median, std depending on the weight_threshold\n",
    "\n",
    "# set x, y and color variables\n",
    "color_columns_list=['frac_augmented']\n",
    "x_column = 'weight_threshold_log10'\n",
    "\n",
    "# aggregate results\n",
    "res_tot = compute_stats_for_line_plot_paper(data_threshold, [x_column], color_columns_list[0])\n",
    "\n",
    "# Figure\n",
    "fig = go.Figure()\n",
    "  \n",
    "### frac_augmented results\n",
    "# abscisse\n",
    "x = res_tot[x_column].tolist()\n",
    "x_rev = x[::-1]\n",
    "# Line 1\n",
    "y1 = res_tot['frac_augmented' + '_mean'].tolist()\n",
    "y1_upper = res_tot['frac_augmented' + '_upper'].tolist()\n",
    "y1_lower = res_tot['frac_augmented' + '_lower'].tolist()\n",
    "y1_lower = y1_lower[::-1]\n",
    "# Line 2\n",
    "y2 = res_tot['frac_augmented' + '_median'].tolist()\n",
    "\n",
    "fig.add_trace(go.Scatter(\n",
    "    x=x+x_rev,\n",
    "    y=y1_upper+y1_lower,\n",
    "    fill='toself',\n",
    "    fillcolor=transparent_color_list[0],\n",
    "    line_color='rgba(255,255,255,0)', \n",
    "    showlegend=True,\n",
    "    name='std'\n",
    "))\n",
    "fig.add_trace(go.Scatter(\n",
    "    x=x,\n",
    "    y=y1,\n",
    "    line_color=color_list[0],\n",
    "    showlegend=True,\n",
    "    name='mean'\n",
    "))\n",
    "fig.add_trace(go.Scatter(\n",
    "    x=x,\n",
    "    y=y2,\n",
    "    line_color=color_list[0],\n",
    "    line_dash='dot',\n",
    "    showlegend=True,\n",
    "    name='median'\n",
    "))\n",
    "fig.update_traces(mode='lines')\n",
    "\n",
    "# magin & size\n",
    "fig.update_layout(\n",
    "    margin=dict(l=20, r=10, t=10, b=10),\n",
    "    width=800,\n",
    "    height=300,\n",
    ")\n",
    "\n",
    "# legend position\n",
    "fig.update_layout(legend=dict(\n",
    "    yanchor=\"top\",\n",
    "    y=0.99,\n",
    "    xanchor=\"right\",\n",
    "    x=0.99\n",
    "))\n",
    "\n",
    "# axis titles\n",
    "fig.update_yaxes(title_text='fraction of newly generated data')\n",
    "fig.update_xaxes(title_text='log10 probability threshold')\n",
    "\n",
    "fig.show()"
   ]
  },
  {
   "cell_type": "code",
   "execution_count": 55,
   "metadata": {},
   "outputs": [
    {
     "name": "stderr",
     "output_type": "stream",
     "text": [
      "C:\\Users\\AudreyPOINSOT\\AppData\\Local\\Temp\\ipykernel_21960\\1025098877.py:12: FutureWarning:\n",
      "\n",
      "['mechanism', 'predicted_variable', 'predicted_variable_node_type', 'variance_train_NOT_weighted', 'variance_aug_NOT_weighted', 'variance_aug_weighted'] did not aggregate successfully. If any error is raised this will raise in a future version of pandas. Drop these columns/ops to avoid this warning.\n",
      "\n"
     ]
    },
    {
     "data": {
      "application/vnd.plotly.v1+json": {
       "config": {
        "plotlyServerURL": "https://plot.ly"
       },
       "data": [
        {
         "fill": "toself",
         "fillcolor": "rgba(238,44,44,0.2)",
         "line": {
          "color": "rgba(255,255,255,0)"
         },
         "mode": "lines",
         "name": "std",
         "showlegend": true,
         "type": "scatter",
         "x": [
          -5,
          -4,
          -3,
          -2,
          -1,
          -1,
          -2,
          -3,
          -4,
          -5
         ],
         "y": [
          0.26849186132974545,
          0,
          0.2729250635696387,
          0.891127305442035,
          1.048699008406646,
          0.052158134450496774,
          -0.09112730544203501,
          -0.16378220642678154,
          0,
          -0.16849186132974547
         ]
        },
        {
         "line": {
          "color": "rgb(238,44,44)"
         },
         "mode": "lines",
         "name": "mean",
         "showlegend": true,
         "type": "scatter",
         "x": [
          -5,
          -4,
          -3,
          -2,
          -1
         ],
         "y": [
          0.05,
          0,
          0.054571428571428576,
          0.4,
          0.5504285714285715
         ]
        },
        {
         "line": {
          "color": "rgb(238,44,44)",
          "dash": "dot"
         },
         "mode": "lines",
         "name": "median",
         "showlegend": true,
         "type": "scatter",
         "x": [
          -5,
          -4,
          -3,
          -2,
          -1
         ],
         "y": [
          0,
          0,
          0,
          0,
          1
         ]
        }
       ],
       "layout": {
        "height": 300,
        "legend": {
         "x": 0.01,
         "xanchor": "left",
         "y": 0.99,
         "yanchor": "top"
        },
        "margin": {
         "b": 10,
         "l": 20,
         "r": 10,
         "t": 10
        },
        "template": {
         "data": {
          "bar": [
           {
            "error_x": {
             "color": "#2a3f5f"
            },
            "error_y": {
             "color": "#2a3f5f"
            },
            "marker": {
             "line": {
              "color": "#E5ECF6",
              "width": 0.5
             },
             "pattern": {
              "fillmode": "overlay",
              "size": 10,
              "solidity": 0.2
             }
            },
            "type": "bar"
           }
          ],
          "barpolar": [
           {
            "marker": {
             "line": {
              "color": "#E5ECF6",
              "width": 0.5
             },
             "pattern": {
              "fillmode": "overlay",
              "size": 10,
              "solidity": 0.2
             }
            },
            "type": "barpolar"
           }
          ],
          "carpet": [
           {
            "aaxis": {
             "endlinecolor": "#2a3f5f",
             "gridcolor": "white",
             "linecolor": "white",
             "minorgridcolor": "white",
             "startlinecolor": "#2a3f5f"
            },
            "baxis": {
             "endlinecolor": "#2a3f5f",
             "gridcolor": "white",
             "linecolor": "white",
             "minorgridcolor": "white",
             "startlinecolor": "#2a3f5f"
            },
            "type": "carpet"
           }
          ],
          "choropleth": [
           {
            "colorbar": {
             "outlinewidth": 0,
             "ticks": ""
            },
            "type": "choropleth"
           }
          ],
          "contour": [
           {
            "colorbar": {
             "outlinewidth": 0,
             "ticks": ""
            },
            "colorscale": [
             [
              0,
              "#0d0887"
             ],
             [
              0.1111111111111111,
              "#46039f"
             ],
             [
              0.2222222222222222,
              "#7201a8"
             ],
             [
              0.3333333333333333,
              "#9c179e"
             ],
             [
              0.4444444444444444,
              "#bd3786"
             ],
             [
              0.5555555555555556,
              "#d8576b"
             ],
             [
              0.6666666666666666,
              "#ed7953"
             ],
             [
              0.7777777777777778,
              "#fb9f3a"
             ],
             [
              0.8888888888888888,
              "#fdca26"
             ],
             [
              1,
              "#f0f921"
             ]
            ],
            "type": "contour"
           }
          ],
          "contourcarpet": [
           {
            "colorbar": {
             "outlinewidth": 0,
             "ticks": ""
            },
            "type": "contourcarpet"
           }
          ],
          "heatmap": [
           {
            "colorbar": {
             "outlinewidth": 0,
             "ticks": ""
            },
            "colorscale": [
             [
              0,
              "#0d0887"
             ],
             [
              0.1111111111111111,
              "#46039f"
             ],
             [
              0.2222222222222222,
              "#7201a8"
             ],
             [
              0.3333333333333333,
              "#9c179e"
             ],
             [
              0.4444444444444444,
              "#bd3786"
             ],
             [
              0.5555555555555556,
              "#d8576b"
             ],
             [
              0.6666666666666666,
              "#ed7953"
             ],
             [
              0.7777777777777778,
              "#fb9f3a"
             ],
             [
              0.8888888888888888,
              "#fdca26"
             ],
             [
              1,
              "#f0f921"
             ]
            ],
            "type": "heatmap"
           }
          ],
          "heatmapgl": [
           {
            "colorbar": {
             "outlinewidth": 0,
             "ticks": ""
            },
            "colorscale": [
             [
              0,
              "#0d0887"
             ],
             [
              0.1111111111111111,
              "#46039f"
             ],
             [
              0.2222222222222222,
              "#7201a8"
             ],
             [
              0.3333333333333333,
              "#9c179e"
             ],
             [
              0.4444444444444444,
              "#bd3786"
             ],
             [
              0.5555555555555556,
              "#d8576b"
             ],
             [
              0.6666666666666666,
              "#ed7953"
             ],
             [
              0.7777777777777778,
              "#fb9f3a"
             ],
             [
              0.8888888888888888,
              "#fdca26"
             ],
             [
              1,
              "#f0f921"
             ]
            ],
            "type": "heatmapgl"
           }
          ],
          "histogram": [
           {
            "marker": {
             "pattern": {
              "fillmode": "overlay",
              "size": 10,
              "solidity": 0.2
             }
            },
            "type": "histogram"
           }
          ],
          "histogram2d": [
           {
            "colorbar": {
             "outlinewidth": 0,
             "ticks": ""
            },
            "colorscale": [
             [
              0,
              "#0d0887"
             ],
             [
              0.1111111111111111,
              "#46039f"
             ],
             [
              0.2222222222222222,
              "#7201a8"
             ],
             [
              0.3333333333333333,
              "#9c179e"
             ],
             [
              0.4444444444444444,
              "#bd3786"
             ],
             [
              0.5555555555555556,
              "#d8576b"
             ],
             [
              0.6666666666666666,
              "#ed7953"
             ],
             [
              0.7777777777777778,
              "#fb9f3a"
             ],
             [
              0.8888888888888888,
              "#fdca26"
             ],
             [
              1,
              "#f0f921"
             ]
            ],
            "type": "histogram2d"
           }
          ],
          "histogram2dcontour": [
           {
            "colorbar": {
             "outlinewidth": 0,
             "ticks": ""
            },
            "colorscale": [
             [
              0,
              "#0d0887"
             ],
             [
              0.1111111111111111,
              "#46039f"
             ],
             [
              0.2222222222222222,
              "#7201a8"
             ],
             [
              0.3333333333333333,
              "#9c179e"
             ],
             [
              0.4444444444444444,
              "#bd3786"
             ],
             [
              0.5555555555555556,
              "#d8576b"
             ],
             [
              0.6666666666666666,
              "#ed7953"
             ],
             [
              0.7777777777777778,
              "#fb9f3a"
             ],
             [
              0.8888888888888888,
              "#fdca26"
             ],
             [
              1,
              "#f0f921"
             ]
            ],
            "type": "histogram2dcontour"
           }
          ],
          "mesh3d": [
           {
            "colorbar": {
             "outlinewidth": 0,
             "ticks": ""
            },
            "type": "mesh3d"
           }
          ],
          "parcoords": [
           {
            "line": {
             "colorbar": {
              "outlinewidth": 0,
              "ticks": ""
             }
            },
            "type": "parcoords"
           }
          ],
          "pie": [
           {
            "automargin": true,
            "type": "pie"
           }
          ],
          "scatter": [
           {
            "fillpattern": {
             "fillmode": "overlay",
             "size": 10,
             "solidity": 0.2
            },
            "type": "scatter"
           }
          ],
          "scatter3d": [
           {
            "line": {
             "colorbar": {
              "outlinewidth": 0,
              "ticks": ""
             }
            },
            "marker": {
             "colorbar": {
              "outlinewidth": 0,
              "ticks": ""
             }
            },
            "type": "scatter3d"
           }
          ],
          "scattercarpet": [
           {
            "marker": {
             "colorbar": {
              "outlinewidth": 0,
              "ticks": ""
             }
            },
            "type": "scattercarpet"
           }
          ],
          "scattergeo": [
           {
            "marker": {
             "colorbar": {
              "outlinewidth": 0,
              "ticks": ""
             }
            },
            "type": "scattergeo"
           }
          ],
          "scattergl": [
           {
            "marker": {
             "colorbar": {
              "outlinewidth": 0,
              "ticks": ""
             }
            },
            "type": "scattergl"
           }
          ],
          "scattermapbox": [
           {
            "marker": {
             "colorbar": {
              "outlinewidth": 0,
              "ticks": ""
             }
            },
            "type": "scattermapbox"
           }
          ],
          "scatterpolar": [
           {
            "marker": {
             "colorbar": {
              "outlinewidth": 0,
              "ticks": ""
             }
            },
            "type": "scatterpolar"
           }
          ],
          "scatterpolargl": [
           {
            "marker": {
             "colorbar": {
              "outlinewidth": 0,
              "ticks": ""
             }
            },
            "type": "scatterpolargl"
           }
          ],
          "scatterternary": [
           {
            "marker": {
             "colorbar": {
              "outlinewidth": 0,
              "ticks": ""
             }
            },
            "type": "scatterternary"
           }
          ],
          "surface": [
           {
            "colorbar": {
             "outlinewidth": 0,
             "ticks": ""
            },
            "colorscale": [
             [
              0,
              "#0d0887"
             ],
             [
              0.1111111111111111,
              "#46039f"
             ],
             [
              0.2222222222222222,
              "#7201a8"
             ],
             [
              0.3333333333333333,
              "#9c179e"
             ],
             [
              0.4444444444444444,
              "#bd3786"
             ],
             [
              0.5555555555555556,
              "#d8576b"
             ],
             [
              0.6666666666666666,
              "#ed7953"
             ],
             [
              0.7777777777777778,
              "#fb9f3a"
             ],
             [
              0.8888888888888888,
              "#fdca26"
             ],
             [
              1,
              "#f0f921"
             ]
            ],
            "type": "surface"
           }
          ],
          "table": [
           {
            "cells": {
             "fill": {
              "color": "#EBF0F8"
             },
             "line": {
              "color": "white"
             }
            },
            "header": {
             "fill": {
              "color": "#C8D4E3"
             },
             "line": {
              "color": "white"
             }
            },
            "type": "table"
           }
          ]
         },
         "layout": {
          "annotationdefaults": {
           "arrowcolor": "#2a3f5f",
           "arrowhead": 0,
           "arrowwidth": 1
          },
          "autotypenumbers": "strict",
          "coloraxis": {
           "colorbar": {
            "outlinewidth": 0,
            "ticks": ""
           }
          },
          "colorscale": {
           "diverging": [
            [
             0,
             "#8e0152"
            ],
            [
             0.1,
             "#c51b7d"
            ],
            [
             0.2,
             "#de77ae"
            ],
            [
             0.3,
             "#f1b6da"
            ],
            [
             0.4,
             "#fde0ef"
            ],
            [
             0.5,
             "#f7f7f7"
            ],
            [
             0.6,
             "#e6f5d0"
            ],
            [
             0.7,
             "#b8e186"
            ],
            [
             0.8,
             "#7fbc41"
            ],
            [
             0.9,
             "#4d9221"
            ],
            [
             1,
             "#276419"
            ]
           ],
           "sequential": [
            [
             0,
             "#0d0887"
            ],
            [
             0.1111111111111111,
             "#46039f"
            ],
            [
             0.2222222222222222,
             "#7201a8"
            ],
            [
             0.3333333333333333,
             "#9c179e"
            ],
            [
             0.4444444444444444,
             "#bd3786"
            ],
            [
             0.5555555555555556,
             "#d8576b"
            ],
            [
             0.6666666666666666,
             "#ed7953"
            ],
            [
             0.7777777777777778,
             "#fb9f3a"
            ],
            [
             0.8888888888888888,
             "#fdca26"
            ],
            [
             1,
             "#f0f921"
            ]
           ],
           "sequentialminus": [
            [
             0,
             "#0d0887"
            ],
            [
             0.1111111111111111,
             "#46039f"
            ],
            [
             0.2222222222222222,
             "#7201a8"
            ],
            [
             0.3333333333333333,
             "#9c179e"
            ],
            [
             0.4444444444444444,
             "#bd3786"
            ],
            [
             0.5555555555555556,
             "#d8576b"
            ],
            [
             0.6666666666666666,
             "#ed7953"
            ],
            [
             0.7777777777777778,
             "#fb9f3a"
            ],
            [
             0.8888888888888888,
             "#fdca26"
            ],
            [
             1,
             "#f0f921"
            ]
           ]
          },
          "colorway": [
           "#636efa",
           "#EF553B",
           "#00cc96",
           "#ab63fa",
           "#FFA15A",
           "#19d3f3",
           "#FF6692",
           "#B6E880",
           "#FF97FF",
           "#FECB52"
          ],
          "font": {
           "color": "#2a3f5f"
          },
          "geo": {
           "bgcolor": "white",
           "lakecolor": "white",
           "landcolor": "#E5ECF6",
           "showlakes": true,
           "showland": true,
           "subunitcolor": "white"
          },
          "hoverlabel": {
           "align": "left"
          },
          "hovermode": "closest",
          "mapbox": {
           "style": "light"
          },
          "paper_bgcolor": "white",
          "plot_bgcolor": "#E5ECF6",
          "polar": {
           "angularaxis": {
            "gridcolor": "white",
            "linecolor": "white",
            "ticks": ""
           },
           "bgcolor": "#E5ECF6",
           "radialaxis": {
            "gridcolor": "white",
            "linecolor": "white",
            "ticks": ""
           }
          },
          "scene": {
           "xaxis": {
            "backgroundcolor": "#E5ECF6",
            "gridcolor": "white",
            "gridwidth": 2,
            "linecolor": "white",
            "showbackground": true,
            "ticks": "",
            "zerolinecolor": "white"
           },
           "yaxis": {
            "backgroundcolor": "#E5ECF6",
            "gridcolor": "white",
            "gridwidth": 2,
            "linecolor": "white",
            "showbackground": true,
            "ticks": "",
            "zerolinecolor": "white"
           },
           "zaxis": {
            "backgroundcolor": "#E5ECF6",
            "gridcolor": "white",
            "gridwidth": 2,
            "linecolor": "white",
            "showbackground": true,
            "ticks": "",
            "zerolinecolor": "white"
           }
          },
          "shapedefaults": {
           "line": {
            "color": "#2a3f5f"
           }
          },
          "ternary": {
           "aaxis": {
            "gridcolor": "white",
            "linecolor": "white",
            "ticks": ""
           },
           "baxis": {
            "gridcolor": "white",
            "linecolor": "white",
            "ticks": ""
           },
           "bgcolor": "#E5ECF6",
           "caxis": {
            "gridcolor": "white",
            "linecolor": "white",
            "ticks": ""
           }
          },
          "title": {
           "x": 0.05
          },
          "xaxis": {
           "automargin": true,
           "gridcolor": "white",
           "linecolor": "white",
           "ticks": "",
           "title": {
            "standoff": 15
           },
           "zerolinecolor": "white",
           "zerolinewidth": 2
          },
          "yaxis": {
           "automargin": true,
           "gridcolor": "white",
           "linecolor": "white",
           "ticks": "",
           "title": {
            "standoff": 15
           },
           "zerolinecolor": "white",
           "zerolinewidth": 2
          }
         }
        },
        "width": 800,
        "xaxis": {
         "title": {
          "text": "log10 probability threshold"
         }
        },
        "yaxis": {
         "title": {
          "text": "fraction of filtered data"
         }
        }
       }
      }
     },
     "metadata": {},
     "output_type": "display_data"
    }
   ],
   "source": [
    "# fraction of filtered data mean, median, std depending on the weight_threshold\n",
    "\n",
    "# set x, y and color variables\n",
    "color_columns_list=['frac_filtered']\n",
    "x_column = 'weight_threshold_log10'\n",
    "\n",
    "# aggregate results\n",
    "res_tot = compute_stats_for_line_plot_paper(data_threshold, [x_column], color_columns_list[0])\n",
    "\n",
    "# Figure\n",
    "fig = go.Figure()\n",
    "  \n",
    "### frac_filtered results\n",
    "# abscisse\n",
    "x = res_tot[x_column].tolist()\n",
    "x_rev = x[::-1]\n",
    "# Line 1\n",
    "y1 = res_tot['frac_filtered' + '_mean'].tolist()\n",
    "y1_upper = res_tot['frac_filtered' + '_upper'].tolist()\n",
    "y1_lower = res_tot['frac_filtered' + '_lower'].tolist()\n",
    "y1_lower = y1_lower[::-1]\n",
    "# Line 2\n",
    "y2 = res_tot['frac_filtered' + '_median'].tolist()\n",
    "\n",
    "fig.add_trace(go.Scatter(\n",
    "    x=x+x_rev,\n",
    "    y=y1_upper+y1_lower,\n",
    "    fill='toself',\n",
    "    fillcolor=transparent_color_list[0],\n",
    "    line_color='rgba(255,255,255,0)', \n",
    "    showlegend=True,\n",
    "    name='std'\n",
    "))\n",
    "fig.add_trace(go.Scatter(\n",
    "    x=x,\n",
    "    y=y1,\n",
    "    line_color=color_list[0],\n",
    "    showlegend=True,\n",
    "    name='mean'\n",
    "))\n",
    "fig.add_trace(go.Scatter(\n",
    "    x=x,\n",
    "    y=y2,\n",
    "    line_color=color_list[0],\n",
    "    line_dash='dot',\n",
    "    showlegend=True,\n",
    "    name='median'\n",
    "))\n",
    "fig.update_traces(mode='lines')\n",
    "\n",
    "# magin & size\n",
    "fig.update_layout(\n",
    "    margin=dict(l=20, r=10, t=10, b=10),\n",
    "    width=800,\n",
    "    height=300,\n",
    ")\n",
    "\n",
    "# legend position\n",
    "fig.update_layout(legend=dict(\n",
    "    yanchor=\"top\",\n",
    "    y=0.99,\n",
    "    xanchor=\"left\",\n",
    "    x=0.01\n",
    "))\n",
    "\n",
    "# axis titles\n",
    "fig.update_yaxes(title_text='fraction of filtered data')\n",
    "fig.update_xaxes(title_text='log10 probability threshold')\n",
    "\n",
    "fig.show()"
   ]
  },
  {
   "cell_type": "code",
   "execution_count": 9,
   "metadata": {},
   "outputs": [
    {
     "name": "stderr",
     "output_type": "stream",
     "text": [
      "C:\\Users\\AudreyPOINSOT\\AppData\\Local\\Temp\\ipykernel_21960\\1025098877.py:12: FutureWarning:\n",
      "\n",
      "['mechanism', 'predicted_variable', 'predicted_variable_node_type', 'variance_train_NOT_weighted', 'variance_aug_NOT_weighted', 'variance_aug_weighted'] did not aggregate successfully. If any error is raised this will raise in a future version of pandas. Drop these columns/ops to avoid this warning.\n",
      "\n",
      "C:\\Users\\AudreyPOINSOT\\AppData\\Local\\Temp\\ipykernel_21960\\1025098877.py:12: FutureWarning:\n",
      "\n",
      "['mechanism', 'predicted_variable', 'predicted_variable_node_type', 'variance_train_NOT_weighted', 'variance_aug_NOT_weighted', 'variance_aug_weighted'] did not aggregate successfully. If any error is raised this will raise in a future version of pandas. Drop these columns/ops to avoid this warning.\n",
      "\n"
     ]
    },
    {
     "data": {
      "application/vnd.plotly.v1+json": {
       "config": {
        "plotlyServerURL": "https://plot.ly"
       },
       "data": [
        {
         "line": {
          "color": "rgb(238,44,44)",
          "dash": "dot"
         },
         "mode": "lines",
         "name": "CausalDA",
         "type": "scatter",
         "x": [
          -5,
          -4,
          -3,
          -2,
          -1
         ],
         "y": [
          0.4244139645460384,
          0.4173539882360937,
          0.4126076970303683,
          0.3783280570523267,
          0.33769638662177504
         ]
        },
        {
         "line": {
          "color": "rgb(0,0,205)",
          "dash": "dot"
         },
         "mode": "lines",
         "name": "Baseline",
         "type": "scatter",
         "x": [
          -5,
          -4,
          -3,
          -2,
          -1
         ],
         "y": [
          0.3656975355620934,
          0.3694345841078934,
          0.35815395298684016,
          0.38513255109136546,
          0.33512073617563787
         ]
        }
       ],
       "layout": {
        "height": 300,
        "legend": {
         "x": 0.01,
         "xanchor": "left",
         "y": 0.01,
         "yanchor": "bottom"
        },
        "margin": {
         "b": 10,
         "l": 20,
         "r": 10,
         "t": 10
        },
        "template": {
         "data": {
          "bar": [
           {
            "error_x": {
             "color": "#2a3f5f"
            },
            "error_y": {
             "color": "#2a3f5f"
            },
            "marker": {
             "line": {
              "color": "#E5ECF6",
              "width": 0.5
             },
             "pattern": {
              "fillmode": "overlay",
              "size": 10,
              "solidity": 0.2
             }
            },
            "type": "bar"
           }
          ],
          "barpolar": [
           {
            "marker": {
             "line": {
              "color": "#E5ECF6",
              "width": 0.5
             },
             "pattern": {
              "fillmode": "overlay",
              "size": 10,
              "solidity": 0.2
             }
            },
            "type": "barpolar"
           }
          ],
          "carpet": [
           {
            "aaxis": {
             "endlinecolor": "#2a3f5f",
             "gridcolor": "white",
             "linecolor": "white",
             "minorgridcolor": "white",
             "startlinecolor": "#2a3f5f"
            },
            "baxis": {
             "endlinecolor": "#2a3f5f",
             "gridcolor": "white",
             "linecolor": "white",
             "minorgridcolor": "white",
             "startlinecolor": "#2a3f5f"
            },
            "type": "carpet"
           }
          ],
          "choropleth": [
           {
            "colorbar": {
             "outlinewidth": 0,
             "ticks": ""
            },
            "type": "choropleth"
           }
          ],
          "contour": [
           {
            "colorbar": {
             "outlinewidth": 0,
             "ticks": ""
            },
            "colorscale": [
             [
              0,
              "#0d0887"
             ],
             [
              0.1111111111111111,
              "#46039f"
             ],
             [
              0.2222222222222222,
              "#7201a8"
             ],
             [
              0.3333333333333333,
              "#9c179e"
             ],
             [
              0.4444444444444444,
              "#bd3786"
             ],
             [
              0.5555555555555556,
              "#d8576b"
             ],
             [
              0.6666666666666666,
              "#ed7953"
             ],
             [
              0.7777777777777778,
              "#fb9f3a"
             ],
             [
              0.8888888888888888,
              "#fdca26"
             ],
             [
              1,
              "#f0f921"
             ]
            ],
            "type": "contour"
           }
          ],
          "contourcarpet": [
           {
            "colorbar": {
             "outlinewidth": 0,
             "ticks": ""
            },
            "type": "contourcarpet"
           }
          ],
          "heatmap": [
           {
            "colorbar": {
             "outlinewidth": 0,
             "ticks": ""
            },
            "colorscale": [
             [
              0,
              "#0d0887"
             ],
             [
              0.1111111111111111,
              "#46039f"
             ],
             [
              0.2222222222222222,
              "#7201a8"
             ],
             [
              0.3333333333333333,
              "#9c179e"
             ],
             [
              0.4444444444444444,
              "#bd3786"
             ],
             [
              0.5555555555555556,
              "#d8576b"
             ],
             [
              0.6666666666666666,
              "#ed7953"
             ],
             [
              0.7777777777777778,
              "#fb9f3a"
             ],
             [
              0.8888888888888888,
              "#fdca26"
             ],
             [
              1,
              "#f0f921"
             ]
            ],
            "type": "heatmap"
           }
          ],
          "heatmapgl": [
           {
            "colorbar": {
             "outlinewidth": 0,
             "ticks": ""
            },
            "colorscale": [
             [
              0,
              "#0d0887"
             ],
             [
              0.1111111111111111,
              "#46039f"
             ],
             [
              0.2222222222222222,
              "#7201a8"
             ],
             [
              0.3333333333333333,
              "#9c179e"
             ],
             [
              0.4444444444444444,
              "#bd3786"
             ],
             [
              0.5555555555555556,
              "#d8576b"
             ],
             [
              0.6666666666666666,
              "#ed7953"
             ],
             [
              0.7777777777777778,
              "#fb9f3a"
             ],
             [
              0.8888888888888888,
              "#fdca26"
             ],
             [
              1,
              "#f0f921"
             ]
            ],
            "type": "heatmapgl"
           }
          ],
          "histogram": [
           {
            "marker": {
             "pattern": {
              "fillmode": "overlay",
              "size": 10,
              "solidity": 0.2
             }
            },
            "type": "histogram"
           }
          ],
          "histogram2d": [
           {
            "colorbar": {
             "outlinewidth": 0,
             "ticks": ""
            },
            "colorscale": [
             [
              0,
              "#0d0887"
             ],
             [
              0.1111111111111111,
              "#46039f"
             ],
             [
              0.2222222222222222,
              "#7201a8"
             ],
             [
              0.3333333333333333,
              "#9c179e"
             ],
             [
              0.4444444444444444,
              "#bd3786"
             ],
             [
              0.5555555555555556,
              "#d8576b"
             ],
             [
              0.6666666666666666,
              "#ed7953"
             ],
             [
              0.7777777777777778,
              "#fb9f3a"
             ],
             [
              0.8888888888888888,
              "#fdca26"
             ],
             [
              1,
              "#f0f921"
             ]
            ],
            "type": "histogram2d"
           }
          ],
          "histogram2dcontour": [
           {
            "colorbar": {
             "outlinewidth": 0,
             "ticks": ""
            },
            "colorscale": [
             [
              0,
              "#0d0887"
             ],
             [
              0.1111111111111111,
              "#46039f"
             ],
             [
              0.2222222222222222,
              "#7201a8"
             ],
             [
              0.3333333333333333,
              "#9c179e"
             ],
             [
              0.4444444444444444,
              "#bd3786"
             ],
             [
              0.5555555555555556,
              "#d8576b"
             ],
             [
              0.6666666666666666,
              "#ed7953"
             ],
             [
              0.7777777777777778,
              "#fb9f3a"
             ],
             [
              0.8888888888888888,
              "#fdca26"
             ],
             [
              1,
              "#f0f921"
             ]
            ],
            "type": "histogram2dcontour"
           }
          ],
          "mesh3d": [
           {
            "colorbar": {
             "outlinewidth": 0,
             "ticks": ""
            },
            "type": "mesh3d"
           }
          ],
          "parcoords": [
           {
            "line": {
             "colorbar": {
              "outlinewidth": 0,
              "ticks": ""
             }
            },
            "type": "parcoords"
           }
          ],
          "pie": [
           {
            "automargin": true,
            "type": "pie"
           }
          ],
          "scatter": [
           {
            "fillpattern": {
             "fillmode": "overlay",
             "size": 10,
             "solidity": 0.2
            },
            "type": "scatter"
           }
          ],
          "scatter3d": [
           {
            "line": {
             "colorbar": {
              "outlinewidth": 0,
              "ticks": ""
             }
            },
            "marker": {
             "colorbar": {
              "outlinewidth": 0,
              "ticks": ""
             }
            },
            "type": "scatter3d"
           }
          ],
          "scattercarpet": [
           {
            "marker": {
             "colorbar": {
              "outlinewidth": 0,
              "ticks": ""
             }
            },
            "type": "scattercarpet"
           }
          ],
          "scattergeo": [
           {
            "marker": {
             "colorbar": {
              "outlinewidth": 0,
              "ticks": ""
             }
            },
            "type": "scattergeo"
           }
          ],
          "scattergl": [
           {
            "marker": {
             "colorbar": {
              "outlinewidth": 0,
              "ticks": ""
             }
            },
            "type": "scattergl"
           }
          ],
          "scattermapbox": [
           {
            "marker": {
             "colorbar": {
              "outlinewidth": 0,
              "ticks": ""
             }
            },
            "type": "scattermapbox"
           }
          ],
          "scatterpolar": [
           {
            "marker": {
             "colorbar": {
              "outlinewidth": 0,
              "ticks": ""
             }
            },
            "type": "scatterpolar"
           }
          ],
          "scatterpolargl": [
           {
            "marker": {
             "colorbar": {
              "outlinewidth": 0,
              "ticks": ""
             }
            },
            "type": "scatterpolargl"
           }
          ],
          "scatterternary": [
           {
            "marker": {
             "colorbar": {
              "outlinewidth": 0,
              "ticks": ""
             }
            },
            "type": "scatterternary"
           }
          ],
          "surface": [
           {
            "colorbar": {
             "outlinewidth": 0,
             "ticks": ""
            },
            "colorscale": [
             [
              0,
              "#0d0887"
             ],
             [
              0.1111111111111111,
              "#46039f"
             ],
             [
              0.2222222222222222,
              "#7201a8"
             ],
             [
              0.3333333333333333,
              "#9c179e"
             ],
             [
              0.4444444444444444,
              "#bd3786"
             ],
             [
              0.5555555555555556,
              "#d8576b"
             ],
             [
              0.6666666666666666,
              "#ed7953"
             ],
             [
              0.7777777777777778,
              "#fb9f3a"
             ],
             [
              0.8888888888888888,
              "#fdca26"
             ],
             [
              1,
              "#f0f921"
             ]
            ],
            "type": "surface"
           }
          ],
          "table": [
           {
            "cells": {
             "fill": {
              "color": "#EBF0F8"
             },
             "line": {
              "color": "white"
             }
            },
            "header": {
             "fill": {
              "color": "#C8D4E3"
             },
             "line": {
              "color": "white"
             }
            },
            "type": "table"
           }
          ]
         },
         "layout": {
          "annotationdefaults": {
           "arrowcolor": "#2a3f5f",
           "arrowhead": 0,
           "arrowwidth": 1
          },
          "autotypenumbers": "strict",
          "coloraxis": {
           "colorbar": {
            "outlinewidth": 0,
            "ticks": ""
           }
          },
          "colorscale": {
           "diverging": [
            [
             0,
             "#8e0152"
            ],
            [
             0.1,
             "#c51b7d"
            ],
            [
             0.2,
             "#de77ae"
            ],
            [
             0.3,
             "#f1b6da"
            ],
            [
             0.4,
             "#fde0ef"
            ],
            [
             0.5,
             "#f7f7f7"
            ],
            [
             0.6,
             "#e6f5d0"
            ],
            [
             0.7,
             "#b8e186"
            ],
            [
             0.8,
             "#7fbc41"
            ],
            [
             0.9,
             "#4d9221"
            ],
            [
             1,
             "#276419"
            ]
           ],
           "sequential": [
            [
             0,
             "#0d0887"
            ],
            [
             0.1111111111111111,
             "#46039f"
            ],
            [
             0.2222222222222222,
             "#7201a8"
            ],
            [
             0.3333333333333333,
             "#9c179e"
            ],
            [
             0.4444444444444444,
             "#bd3786"
            ],
            [
             0.5555555555555556,
             "#d8576b"
            ],
            [
             0.6666666666666666,
             "#ed7953"
            ],
            [
             0.7777777777777778,
             "#fb9f3a"
            ],
            [
             0.8888888888888888,
             "#fdca26"
            ],
            [
             1,
             "#f0f921"
            ]
           ],
           "sequentialminus": [
            [
             0,
             "#0d0887"
            ],
            [
             0.1111111111111111,
             "#46039f"
            ],
            [
             0.2222222222222222,
             "#7201a8"
            ],
            [
             0.3333333333333333,
             "#9c179e"
            ],
            [
             0.4444444444444444,
             "#bd3786"
            ],
            [
             0.5555555555555556,
             "#d8576b"
            ],
            [
             0.6666666666666666,
             "#ed7953"
            ],
            [
             0.7777777777777778,
             "#fb9f3a"
            ],
            [
             0.8888888888888888,
             "#fdca26"
            ],
            [
             1,
             "#f0f921"
            ]
           ]
          },
          "colorway": [
           "#636efa",
           "#EF553B",
           "#00cc96",
           "#ab63fa",
           "#FFA15A",
           "#19d3f3",
           "#FF6692",
           "#B6E880",
           "#FF97FF",
           "#FECB52"
          ],
          "font": {
           "color": "#2a3f5f"
          },
          "geo": {
           "bgcolor": "white",
           "lakecolor": "white",
           "landcolor": "#E5ECF6",
           "showlakes": true,
           "showland": true,
           "subunitcolor": "white"
          },
          "hoverlabel": {
           "align": "left"
          },
          "hovermode": "closest",
          "mapbox": {
           "style": "light"
          },
          "paper_bgcolor": "white",
          "plot_bgcolor": "#E5ECF6",
          "polar": {
           "angularaxis": {
            "gridcolor": "white",
            "linecolor": "white",
            "ticks": ""
           },
           "bgcolor": "#E5ECF6",
           "radialaxis": {
            "gridcolor": "white",
            "linecolor": "white",
            "ticks": ""
           }
          },
          "scene": {
           "xaxis": {
            "backgroundcolor": "#E5ECF6",
            "gridcolor": "white",
            "gridwidth": 2,
            "linecolor": "white",
            "showbackground": true,
            "ticks": "",
            "zerolinecolor": "white"
           },
           "yaxis": {
            "backgroundcolor": "#E5ECF6",
            "gridcolor": "white",
            "gridwidth": 2,
            "linecolor": "white",
            "showbackground": true,
            "ticks": "",
            "zerolinecolor": "white"
           },
           "zaxis": {
            "backgroundcolor": "#E5ECF6",
            "gridcolor": "white",
            "gridwidth": 2,
            "linecolor": "white",
            "showbackground": true,
            "ticks": "",
            "zerolinecolor": "white"
           }
          },
          "shapedefaults": {
           "line": {
            "color": "#2a3f5f"
           }
          },
          "ternary": {
           "aaxis": {
            "gridcolor": "white",
            "linecolor": "white",
            "ticks": ""
           },
           "baxis": {
            "gridcolor": "white",
            "linecolor": "white",
            "ticks": ""
           },
           "bgcolor": "#E5ECF6",
           "caxis": {
            "gridcolor": "white",
            "linecolor": "white",
            "ticks": ""
           }
          },
          "title": {
           "x": 0.05
          },
          "xaxis": {
           "automargin": true,
           "gridcolor": "white",
           "linecolor": "white",
           "ticks": "",
           "title": {
            "standoff": 15
           },
           "zerolinecolor": "white",
           "zerolinewidth": 2
          },
          "yaxis": {
           "automargin": true,
           "gridcolor": "white",
           "linecolor": "white",
           "ticks": "",
           "title": {
            "standoff": 15
           },
           "zerolinecolor": "white",
           "zerolinewidth": 2
          }
         }
        },
        "width": 1600,
        "xaxis": {
         "title": {
          "text": "log10 probability threshold"
         }
        },
        "yaxis": {
         "title": {
          "text": "MAPE"
         }
        }
       }
      }
     },
     "metadata": {},
     "output_type": "display_data"
    }
   ],
   "source": [
    "### XGB median MAPE depending on the weight_threshold\n",
    "\n",
    "# set x, y and color variables\n",
    "color_columns_list=['MAPE_CausalDA', 'MAPE_Baseline']\n",
    "x_column = 'weight_threshold_log10'\n",
    "\n",
    "# aggregate results\n",
    "res_tot = compute_stats_for_line_plot_paper(data_threshold, [x_column], color_columns_list[0])\n",
    "res_col = compute_stats_for_line_plot_paper(data_threshold, [x_column], color_columns_list[1])\n",
    "res_tot = res_tot.merge(res_col, how=\"left\", on=[x_column]).sort_values(by=[x_column])\n",
    "\n",
    "# Figure\n",
    "fig = go.Figure()\n",
    "  \n",
    "### CausalDA results\n",
    "# abscisse\n",
    "x = res_tot[x_column].tolist()\n",
    "x_rev = x[::-1]\n",
    "# Line 1\n",
    "y1 = res_tot['MAPE_CausalDA' + '_mean'].tolist()\n",
    "y1_upper = res_tot['MAPE_CausalDA' + '_upper'].tolist()\n",
    "y1_lower = res_tot['MAPE_CausalDA' + '_lower'].tolist()\n",
    "y1_lower = y1_lower[::-1]\n",
    "# Line 2\n",
    "y2 = res_tot['MAPE_CausalDA' + '_median'].tolist()\n",
    "\n",
    "fig.add_trace(go.Scatter(\n",
    "    x=x,\n",
    "    y=y2,\n",
    "    line_color=color_list[0],\n",
    "    line_dash='dot',\n",
    "    name='CausalDA',\n",
    "))\n",
    "fig.update_traces(mode='lines')\n",
    "\n",
    "### Baseline results\n",
    "# abscisse\n",
    "x = res_tot[x_column].tolist()\n",
    "x_rev = x[::-1]\n",
    "# Line 1\n",
    "y1 = res_tot['MAPE_Baseline' + '_mean'].tolist()\n",
    "y1_upper = res_tot['MAPE_Baseline' + '_upper'].tolist()\n",
    "y1_lower = res_tot['MAPE_Baseline' + '_lower'].tolist()\n",
    "y1_lower = y1_lower[::-1]\n",
    "# Line 2\n",
    "y2 = res_tot['MAPE_Baseline' + '_median'].tolist()\n",
    "\n",
    "fig.add_trace(go.Scatter(\n",
    "    x=x,\n",
    "    y=y2,\n",
    "    line_color=color_list[1],\n",
    "    line_dash='dot',\n",
    "    name='Baseline',\n",
    "))\n",
    "fig.update_traces(mode='lines')\n",
    "\n",
    "# legend position\n",
    "fig.update_layout(legend=dict(\n",
    "    yanchor=\"bottom\",\n",
    "    y=0.01,\n",
    "    xanchor=\"left\",\n",
    "    x=0.01\n",
    "))\n",
    "\n",
    "# magin & size\n",
    "fig.update_layout(\n",
    "    margin=dict(l=20, r=10, t=10, b=10),\n",
    "    width=1600,\n",
    "    height=300,\n",
    ")\n",
    "\n",
    "# axis titles\n",
    "fig.update_yaxes(title_text='MAPE')\n",
    "fig.update_xaxes(title_text='log10 probability threshold')\n",
    "\n",
    "fig.show()"
   ]
  },
  {
   "cell_type": "code",
   "execution_count": 54,
   "metadata": {},
   "outputs": [
    {
     "name": "stderr",
     "output_type": "stream",
     "text": [
      "C:\\Users\\AudreyPOINSOT\\AppData\\Local\\Temp\\ipykernel_21960\\1025098877.py:12: FutureWarning:\n",
      "\n",
      "['predicted_variable_node_type'] did not aggregate successfully. If any error is raised this will raise in a future version of pandas. Drop these columns/ops to avoid this warning.\n",
      "\n"
     ]
    },
    {
     "data": {
      "application/vnd.plotly.v1+json": {
       "config": {
        "plotlyServerURL": "https://plot.ly"
       },
       "data": [
        {
         "fill": "toself",
         "fillcolor": "rgba(238,44,44,0.2)",
         "line": {
          "color": "rgba(255,255,255,0)"
         },
         "mode": "lines",
         "name": "std",
         "showlegend": true,
         "type": "scatter",
         "x": [
          -5,
          -4,
          -3,
          -2,
          -1,
          -1,
          -2,
          -3,
          -4,
          -5
         ],
         "y": [
          0.04069196397781055,
          0.032760480233108465,
          0.029035820168748824,
          0.04682072003033036,
          0.06202495550166787,
          -0.01769774909842725,
          -0.004759286020816,
          -0.07877330665040724,
          -0.04701068967620286,
          -0.14074949066731327
         ]
        },
        {
         "line": {
          "color": "rgb(238,44,44)"
         },
         "mode": "lines",
         "name": "mean",
         "showlegend": true,
         "type": "scatter",
         "x": [
          -5,
          -4,
          -3,
          -2,
          -1
         ],
         "y": [
          -0.050028763344751356,
          -0.007125104721547195,
          -0.02486874324082921,
          0.02103071700475718,
          0.022163603201620308
         ]
        },
        {
         "line": {
          "color": "rgb(238,44,44)",
          "dash": "dot"
         },
         "mode": "lines",
         "name": "median",
         "showlegend": true,
         "type": "scatter",
         "x": [
          -5,
          -4,
          -3,
          -2,
          -1
         ],
         "y": [
          -0.0002108147130497814,
          0.00010241810753999248,
          -0.015129691292731753,
          0.01259429053025838,
          0.003630246446346055
         ]
        }
       ],
       "layout": {
        "height": 300,
        "legend": {
         "x": 0.99,
         "xanchor": "right",
         "y": 0.01,
         "yanchor": "bottom"
        },
        "margin": {
         "b": 10,
         "l": 20,
         "r": 10,
         "t": 10
        },
        "template": {
         "data": {
          "bar": [
           {
            "error_x": {
             "color": "#2a3f5f"
            },
            "error_y": {
             "color": "#2a3f5f"
            },
            "marker": {
             "line": {
              "color": "#E5ECF6",
              "width": 0.5
             },
             "pattern": {
              "fillmode": "overlay",
              "size": 10,
              "solidity": 0.2
             }
            },
            "type": "bar"
           }
          ],
          "barpolar": [
           {
            "marker": {
             "line": {
              "color": "#E5ECF6",
              "width": 0.5
             },
             "pattern": {
              "fillmode": "overlay",
              "size": 10,
              "solidity": 0.2
             }
            },
            "type": "barpolar"
           }
          ],
          "carpet": [
           {
            "aaxis": {
             "endlinecolor": "#2a3f5f",
             "gridcolor": "white",
             "linecolor": "white",
             "minorgridcolor": "white",
             "startlinecolor": "#2a3f5f"
            },
            "baxis": {
             "endlinecolor": "#2a3f5f",
             "gridcolor": "white",
             "linecolor": "white",
             "minorgridcolor": "white",
             "startlinecolor": "#2a3f5f"
            },
            "type": "carpet"
           }
          ],
          "choropleth": [
           {
            "colorbar": {
             "outlinewidth": 0,
             "ticks": ""
            },
            "type": "choropleth"
           }
          ],
          "contour": [
           {
            "colorbar": {
             "outlinewidth": 0,
             "ticks": ""
            },
            "colorscale": [
             [
              0,
              "#0d0887"
             ],
             [
              0.1111111111111111,
              "#46039f"
             ],
             [
              0.2222222222222222,
              "#7201a8"
             ],
             [
              0.3333333333333333,
              "#9c179e"
             ],
             [
              0.4444444444444444,
              "#bd3786"
             ],
             [
              0.5555555555555556,
              "#d8576b"
             ],
             [
              0.6666666666666666,
              "#ed7953"
             ],
             [
              0.7777777777777778,
              "#fb9f3a"
             ],
             [
              0.8888888888888888,
              "#fdca26"
             ],
             [
              1,
              "#f0f921"
             ]
            ],
            "type": "contour"
           }
          ],
          "contourcarpet": [
           {
            "colorbar": {
             "outlinewidth": 0,
             "ticks": ""
            },
            "type": "contourcarpet"
           }
          ],
          "heatmap": [
           {
            "colorbar": {
             "outlinewidth": 0,
             "ticks": ""
            },
            "colorscale": [
             [
              0,
              "#0d0887"
             ],
             [
              0.1111111111111111,
              "#46039f"
             ],
             [
              0.2222222222222222,
              "#7201a8"
             ],
             [
              0.3333333333333333,
              "#9c179e"
             ],
             [
              0.4444444444444444,
              "#bd3786"
             ],
             [
              0.5555555555555556,
              "#d8576b"
             ],
             [
              0.6666666666666666,
              "#ed7953"
             ],
             [
              0.7777777777777778,
              "#fb9f3a"
             ],
             [
              0.8888888888888888,
              "#fdca26"
             ],
             [
              1,
              "#f0f921"
             ]
            ],
            "type": "heatmap"
           }
          ],
          "heatmapgl": [
           {
            "colorbar": {
             "outlinewidth": 0,
             "ticks": ""
            },
            "colorscale": [
             [
              0,
              "#0d0887"
             ],
             [
              0.1111111111111111,
              "#46039f"
             ],
             [
              0.2222222222222222,
              "#7201a8"
             ],
             [
              0.3333333333333333,
              "#9c179e"
             ],
             [
              0.4444444444444444,
              "#bd3786"
             ],
             [
              0.5555555555555556,
              "#d8576b"
             ],
             [
              0.6666666666666666,
              "#ed7953"
             ],
             [
              0.7777777777777778,
              "#fb9f3a"
             ],
             [
              0.8888888888888888,
              "#fdca26"
             ],
             [
              1,
              "#f0f921"
             ]
            ],
            "type": "heatmapgl"
           }
          ],
          "histogram": [
           {
            "marker": {
             "pattern": {
              "fillmode": "overlay",
              "size": 10,
              "solidity": 0.2
             }
            },
            "type": "histogram"
           }
          ],
          "histogram2d": [
           {
            "colorbar": {
             "outlinewidth": 0,
             "ticks": ""
            },
            "colorscale": [
             [
              0,
              "#0d0887"
             ],
             [
              0.1111111111111111,
              "#46039f"
             ],
             [
              0.2222222222222222,
              "#7201a8"
             ],
             [
              0.3333333333333333,
              "#9c179e"
             ],
             [
              0.4444444444444444,
              "#bd3786"
             ],
             [
              0.5555555555555556,
              "#d8576b"
             ],
             [
              0.6666666666666666,
              "#ed7953"
             ],
             [
              0.7777777777777778,
              "#fb9f3a"
             ],
             [
              0.8888888888888888,
              "#fdca26"
             ],
             [
              1,
              "#f0f921"
             ]
            ],
            "type": "histogram2d"
           }
          ],
          "histogram2dcontour": [
           {
            "colorbar": {
             "outlinewidth": 0,
             "ticks": ""
            },
            "colorscale": [
             [
              0,
              "#0d0887"
             ],
             [
              0.1111111111111111,
              "#46039f"
             ],
             [
              0.2222222222222222,
              "#7201a8"
             ],
             [
              0.3333333333333333,
              "#9c179e"
             ],
             [
              0.4444444444444444,
              "#bd3786"
             ],
             [
              0.5555555555555556,
              "#d8576b"
             ],
             [
              0.6666666666666666,
              "#ed7953"
             ],
             [
              0.7777777777777778,
              "#fb9f3a"
             ],
             [
              0.8888888888888888,
              "#fdca26"
             ],
             [
              1,
              "#f0f921"
             ]
            ],
            "type": "histogram2dcontour"
           }
          ],
          "mesh3d": [
           {
            "colorbar": {
             "outlinewidth": 0,
             "ticks": ""
            },
            "type": "mesh3d"
           }
          ],
          "parcoords": [
           {
            "line": {
             "colorbar": {
              "outlinewidth": 0,
              "ticks": ""
             }
            },
            "type": "parcoords"
           }
          ],
          "pie": [
           {
            "automargin": true,
            "type": "pie"
           }
          ],
          "scatter": [
           {
            "fillpattern": {
             "fillmode": "overlay",
             "size": 10,
             "solidity": 0.2
            },
            "type": "scatter"
           }
          ],
          "scatter3d": [
           {
            "line": {
             "colorbar": {
              "outlinewidth": 0,
              "ticks": ""
             }
            },
            "marker": {
             "colorbar": {
              "outlinewidth": 0,
              "ticks": ""
             }
            },
            "type": "scatter3d"
           }
          ],
          "scattercarpet": [
           {
            "marker": {
             "colorbar": {
              "outlinewidth": 0,
              "ticks": ""
             }
            },
            "type": "scattercarpet"
           }
          ],
          "scattergeo": [
           {
            "marker": {
             "colorbar": {
              "outlinewidth": 0,
              "ticks": ""
             }
            },
            "type": "scattergeo"
           }
          ],
          "scattergl": [
           {
            "marker": {
             "colorbar": {
              "outlinewidth": 0,
              "ticks": ""
             }
            },
            "type": "scattergl"
           }
          ],
          "scattermapbox": [
           {
            "marker": {
             "colorbar": {
              "outlinewidth": 0,
              "ticks": ""
             }
            },
            "type": "scattermapbox"
           }
          ],
          "scatterpolar": [
           {
            "marker": {
             "colorbar": {
              "outlinewidth": 0,
              "ticks": ""
             }
            },
            "type": "scatterpolar"
           }
          ],
          "scatterpolargl": [
           {
            "marker": {
             "colorbar": {
              "outlinewidth": 0,
              "ticks": ""
             }
            },
            "type": "scatterpolargl"
           }
          ],
          "scatterternary": [
           {
            "marker": {
             "colorbar": {
              "outlinewidth": 0,
              "ticks": ""
             }
            },
            "type": "scatterternary"
           }
          ],
          "surface": [
           {
            "colorbar": {
             "outlinewidth": 0,
             "ticks": ""
            },
            "colorscale": [
             [
              0,
              "#0d0887"
             ],
             [
              0.1111111111111111,
              "#46039f"
             ],
             [
              0.2222222222222222,
              "#7201a8"
             ],
             [
              0.3333333333333333,
              "#9c179e"
             ],
             [
              0.4444444444444444,
              "#bd3786"
             ],
             [
              0.5555555555555556,
              "#d8576b"
             ],
             [
              0.6666666666666666,
              "#ed7953"
             ],
             [
              0.7777777777777778,
              "#fb9f3a"
             ],
             [
              0.8888888888888888,
              "#fdca26"
             ],
             [
              1,
              "#f0f921"
             ]
            ],
            "type": "surface"
           }
          ],
          "table": [
           {
            "cells": {
             "fill": {
              "color": "#EBF0F8"
             },
             "line": {
              "color": "white"
             }
            },
            "header": {
             "fill": {
              "color": "#C8D4E3"
             },
             "line": {
              "color": "white"
             }
            },
            "type": "table"
           }
          ]
         },
         "layout": {
          "annotationdefaults": {
           "arrowcolor": "#2a3f5f",
           "arrowhead": 0,
           "arrowwidth": 1
          },
          "autotypenumbers": "strict",
          "coloraxis": {
           "colorbar": {
            "outlinewidth": 0,
            "ticks": ""
           }
          },
          "colorscale": {
           "diverging": [
            [
             0,
             "#8e0152"
            ],
            [
             0.1,
             "#c51b7d"
            ],
            [
             0.2,
             "#de77ae"
            ],
            [
             0.3,
             "#f1b6da"
            ],
            [
             0.4,
             "#fde0ef"
            ],
            [
             0.5,
             "#f7f7f7"
            ],
            [
             0.6,
             "#e6f5d0"
            ],
            [
             0.7,
             "#b8e186"
            ],
            [
             0.8,
             "#7fbc41"
            ],
            [
             0.9,
             "#4d9221"
            ],
            [
             1,
             "#276419"
            ]
           ],
           "sequential": [
            [
             0,
             "#0d0887"
            ],
            [
             0.1111111111111111,
             "#46039f"
            ],
            [
             0.2222222222222222,
             "#7201a8"
            ],
            [
             0.3333333333333333,
             "#9c179e"
            ],
            [
             0.4444444444444444,
             "#bd3786"
            ],
            [
             0.5555555555555556,
             "#d8576b"
            ],
            [
             0.6666666666666666,
             "#ed7953"
            ],
            [
             0.7777777777777778,
             "#fb9f3a"
            ],
            [
             0.8888888888888888,
             "#fdca26"
            ],
            [
             1,
             "#f0f921"
            ]
           ],
           "sequentialminus": [
            [
             0,
             "#0d0887"
            ],
            [
             0.1111111111111111,
             "#46039f"
            ],
            [
             0.2222222222222222,
             "#7201a8"
            ],
            [
             0.3333333333333333,
             "#9c179e"
            ],
            [
             0.4444444444444444,
             "#bd3786"
            ],
            [
             0.5555555555555556,
             "#d8576b"
            ],
            [
             0.6666666666666666,
             "#ed7953"
            ],
            [
             0.7777777777777778,
             "#fb9f3a"
            ],
            [
             0.8888888888888888,
             "#fdca26"
            ],
            [
             1,
             "#f0f921"
            ]
           ]
          },
          "colorway": [
           "#636efa",
           "#EF553B",
           "#00cc96",
           "#ab63fa",
           "#FFA15A",
           "#19d3f3",
           "#FF6692",
           "#B6E880",
           "#FF97FF",
           "#FECB52"
          ],
          "font": {
           "color": "#2a3f5f"
          },
          "geo": {
           "bgcolor": "white",
           "lakecolor": "white",
           "landcolor": "#E5ECF6",
           "showlakes": true,
           "showland": true,
           "subunitcolor": "white"
          },
          "hoverlabel": {
           "align": "left"
          },
          "hovermode": "closest",
          "mapbox": {
           "style": "light"
          },
          "paper_bgcolor": "white",
          "plot_bgcolor": "#E5ECF6",
          "polar": {
           "angularaxis": {
            "gridcolor": "white",
            "linecolor": "white",
            "ticks": ""
           },
           "bgcolor": "#E5ECF6",
           "radialaxis": {
            "gridcolor": "white",
            "linecolor": "white",
            "ticks": ""
           }
          },
          "scene": {
           "xaxis": {
            "backgroundcolor": "#E5ECF6",
            "gridcolor": "white",
            "gridwidth": 2,
            "linecolor": "white",
            "showbackground": true,
            "ticks": "",
            "zerolinecolor": "white"
           },
           "yaxis": {
            "backgroundcolor": "#E5ECF6",
            "gridcolor": "white",
            "gridwidth": 2,
            "linecolor": "white",
            "showbackground": true,
            "ticks": "",
            "zerolinecolor": "white"
           },
           "zaxis": {
            "backgroundcolor": "#E5ECF6",
            "gridcolor": "white",
            "gridwidth": 2,
            "linecolor": "white",
            "showbackground": true,
            "ticks": "",
            "zerolinecolor": "white"
           }
          },
          "shapedefaults": {
           "line": {
            "color": "#2a3f5f"
           }
          },
          "ternary": {
           "aaxis": {
            "gridcolor": "white",
            "linecolor": "white",
            "ticks": ""
           },
           "baxis": {
            "gridcolor": "white",
            "linecolor": "white",
            "ticks": ""
           },
           "bgcolor": "#E5ECF6",
           "caxis": {
            "gridcolor": "white",
            "linecolor": "white",
            "ticks": ""
           }
          },
          "title": {
           "x": 0.05
          },
          "xaxis": {
           "automargin": true,
           "gridcolor": "white",
           "linecolor": "white",
           "ticks": "",
           "title": {
            "standoff": 15
           },
           "zerolinecolor": "white",
           "zerolinewidth": 2
          },
          "yaxis": {
           "automargin": true,
           "gridcolor": "white",
           "linecolor": "white",
           "ticks": "",
           "title": {
            "standoff": 15
           },
           "zerolinecolor": "white",
           "zerolinewidth": 2
          }
         }
        },
        "width": 800,
        "xaxis": {
         "title": {
          "text": "log10 probability threshold"
         }
        },
        "yaxis": {
         "title": {
          "text": "Mean relative difference in variance"
         }
        }
       }
      }
     },
     "metadata": {},
     "output_type": "display_data"
    }
   ],
   "source": [
    "### mean relative difference in varaince mean, median, std depending on the weight_threshold\n",
    "\n",
    "# set x, y and color variables\n",
    "color_columns_list=['relative_delta_var_weighted_mean']\n",
    "x_column = 'weight_threshold_log10'\n",
    "\n",
    "# compute variance\n",
    "results_df_var = process_variance_features(data_threshold)[[x_column, \n",
    "                                                       'predicted_variable_node_type',\n",
    "                                                       'relative_delta_var_weighted_mean',\n",
    "                                                       'relative_delta_var_NOT_weighted_mean',\n",
    "                                                       'relative_delta_var_NOT_weighted_median',\n",
    "                                                       'relative_delta_var_weighted_median'\n",
    "                                                      ]]\n",
    "\n",
    "# aggregate results\n",
    "res_tot = compute_stats_for_line_plot_paper(results_df_var, [x_column], color_columns_list[0])\n",
    "\n",
    "# Figure\n",
    "fig = go.Figure()\n",
    "  \n",
    "### relative_delta_var_weighted_mean results\n",
    "# abscisse\n",
    "x = res_tot[x_column].tolist()\n",
    "x_rev = x[::-1]\n",
    "# Line 1\n",
    "y1 = res_tot['relative_delta_var_weighted_mean' + '_mean'].tolist()\n",
    "y1_upper = res_tot['relative_delta_var_weighted_mean' + '_upper'].tolist()\n",
    "y1_lower = res_tot['relative_delta_var_weighted_mean' + '_lower'].tolist()\n",
    "y1_lower = y1_lower[::-1]\n",
    "# Line 2\n",
    "y2 = res_tot['relative_delta_var_weighted_mean' + '_median'].tolist()\n",
    "\n",
    "fig.add_trace(go.Scatter(\n",
    "    x=x+x_rev,\n",
    "    y=y1_upper+y1_lower,\n",
    "    fill='toself',\n",
    "    fillcolor=transparent_color_list[0],\n",
    "    line_color='rgba(255,255,255,0)', \n",
    "    showlegend=True,\n",
    "    name='std'\n",
    "))\n",
    "fig.add_trace(go.Scatter(\n",
    "    x=x,\n",
    "    y=y1,\n",
    "    line_color=color_list[0],\n",
    "    showlegend=True,\n",
    "    name='mean'\n",
    "))\n",
    "fig.add_trace(go.Scatter(\n",
    "    x=x,\n",
    "    y=y2,\n",
    "    line_color=color_list[0],\n",
    "    line_dash='dot',\n",
    "    showlegend=True,\n",
    "    name='median'\n",
    "))\n",
    "fig.update_traces(mode='lines')\n",
    "\n",
    "# magin & size\n",
    "fig.update_layout(\n",
    "    margin=dict(l=20, r=10, t=10, b=10),\n",
    "    width=800,\n",
    "    height=300,\n",
    ")\n",
    "\n",
    "# legend position\n",
    "fig.update_layout(legend=dict(\n",
    "    yanchor=\"bottom\",\n",
    "    y=0.01,\n",
    "    xanchor=\"right\",\n",
    "    x=0.99\n",
    "))\n",
    "\n",
    "# axis titles\n",
    "fig.update_yaxes(title_text='Mean relative difference in variance')\n",
    "fig.update_xaxes(title_text='log10 probability threshold')\n",
    "\n",
    "fig.show()"
   ]
  },
  {
   "cell_type": "code",
   "execution_count": 53,
   "metadata": {},
   "outputs": [
    {
     "name": "stderr",
     "output_type": "stream",
     "text": [
      "C:\\Users\\AudreyPOINSOT\\AppData\\Local\\Temp\\ipykernel_21960\\1025098877.py:12: FutureWarning:\n",
      "\n",
      "['mechanism', 'predicted_variable', 'predicted_variable_node_type', 'variance_train_NOT_weighted', 'variance_aug_NOT_weighted', 'variance_aug_weighted'] did not aggregate successfully. If any error is raised this will raise in a future version of pandas. Drop these columns/ops to avoid this warning.\n",
      "\n"
     ]
    },
    {
     "data": {
      "application/vnd.plotly.v1+json": {
       "config": {
        "plotlyServerURL": "https://plot.ly"
       },
       "data": [
        {
         "fill": "toself",
         "fillcolor": "rgba(238,44,44,0.2)",
         "line": {
          "color": "rgba(255,255,255,0)"
         },
         "mode": "lines",
         "name": "std",
         "showlegend": true,
         "type": "scatter",
         "x": [
          -5,
          -4,
          -3,
          -2,
          -1,
          -1,
          -2,
          -3,
          -4,
          -5
         ],
         "y": [
          1.4415112189639148,
          1.0259884791113618,
          0.8979385271863145,
          0.21900113354715178,
          0.15842608958885765,
          0.052110887658997344,
          0.10729066078583688,
          0.12234048779220341,
          0.04083981239427814,
          0.1573881165058234
         ]
        },
        {
         "line": {
          "color": "rgb(238,44,44)"
         },
         "mode": "lines",
         "name": "mean",
         "showlegend": true,
         "type": "scatter",
         "x": [
          -5,
          -4,
          -3,
          -2,
          -1
         ],
         "y": [
          0.799449667734869,
          0.53341414575282,
          0.510139507489259,
          0.16314589716649433,
          0.1052684886239275
         ]
        },
        {
         "line": {
          "color": "rgb(238,44,44)",
          "dash": "dot"
         },
         "mode": "lines",
         "name": "median",
         "showlegend": true,
         "type": "scatter",
         "x": [
          -5,
          -4,
          -3,
          -2,
          -1
         ],
         "y": [
          0.5527271484665771,
          0.27173502599758004,
          0.2524335856532056,
          0.160072664123808,
          0.0906525458037933
         ]
        }
       ],
       "layout": {
        "height": 300,
        "legend": {
         "x": 0.99,
         "xanchor": "right",
         "y": 0.99,
         "yanchor": "top"
        },
        "margin": {
         "b": 10,
         "l": 20,
         "r": 10,
         "t": 10
        },
        "template": {
         "data": {
          "bar": [
           {
            "error_x": {
             "color": "#2a3f5f"
            },
            "error_y": {
             "color": "#2a3f5f"
            },
            "marker": {
             "line": {
              "color": "#E5ECF6",
              "width": 0.5
             },
             "pattern": {
              "fillmode": "overlay",
              "size": 10,
              "solidity": 0.2
             }
            },
            "type": "bar"
           }
          ],
          "barpolar": [
           {
            "marker": {
             "line": {
              "color": "#E5ECF6",
              "width": 0.5
             },
             "pattern": {
              "fillmode": "overlay",
              "size": 10,
              "solidity": 0.2
             }
            },
            "type": "barpolar"
           }
          ],
          "carpet": [
           {
            "aaxis": {
             "endlinecolor": "#2a3f5f",
             "gridcolor": "white",
             "linecolor": "white",
             "minorgridcolor": "white",
             "startlinecolor": "#2a3f5f"
            },
            "baxis": {
             "endlinecolor": "#2a3f5f",
             "gridcolor": "white",
             "linecolor": "white",
             "minorgridcolor": "white",
             "startlinecolor": "#2a3f5f"
            },
            "type": "carpet"
           }
          ],
          "choropleth": [
           {
            "colorbar": {
             "outlinewidth": 0,
             "ticks": ""
            },
            "type": "choropleth"
           }
          ],
          "contour": [
           {
            "colorbar": {
             "outlinewidth": 0,
             "ticks": ""
            },
            "colorscale": [
             [
              0,
              "#0d0887"
             ],
             [
              0.1111111111111111,
              "#46039f"
             ],
             [
              0.2222222222222222,
              "#7201a8"
             ],
             [
              0.3333333333333333,
              "#9c179e"
             ],
             [
              0.4444444444444444,
              "#bd3786"
             ],
             [
              0.5555555555555556,
              "#d8576b"
             ],
             [
              0.6666666666666666,
              "#ed7953"
             ],
             [
              0.7777777777777778,
              "#fb9f3a"
             ],
             [
              0.8888888888888888,
              "#fdca26"
             ],
             [
              1,
              "#f0f921"
             ]
            ],
            "type": "contour"
           }
          ],
          "contourcarpet": [
           {
            "colorbar": {
             "outlinewidth": 0,
             "ticks": ""
            },
            "type": "contourcarpet"
           }
          ],
          "heatmap": [
           {
            "colorbar": {
             "outlinewidth": 0,
             "ticks": ""
            },
            "colorscale": [
             [
              0,
              "#0d0887"
             ],
             [
              0.1111111111111111,
              "#46039f"
             ],
             [
              0.2222222222222222,
              "#7201a8"
             ],
             [
              0.3333333333333333,
              "#9c179e"
             ],
             [
              0.4444444444444444,
              "#bd3786"
             ],
             [
              0.5555555555555556,
              "#d8576b"
             ],
             [
              0.6666666666666666,
              "#ed7953"
             ],
             [
              0.7777777777777778,
              "#fb9f3a"
             ],
             [
              0.8888888888888888,
              "#fdca26"
             ],
             [
              1,
              "#f0f921"
             ]
            ],
            "type": "heatmap"
           }
          ],
          "heatmapgl": [
           {
            "colorbar": {
             "outlinewidth": 0,
             "ticks": ""
            },
            "colorscale": [
             [
              0,
              "#0d0887"
             ],
             [
              0.1111111111111111,
              "#46039f"
             ],
             [
              0.2222222222222222,
              "#7201a8"
             ],
             [
              0.3333333333333333,
              "#9c179e"
             ],
             [
              0.4444444444444444,
              "#bd3786"
             ],
             [
              0.5555555555555556,
              "#d8576b"
             ],
             [
              0.6666666666666666,
              "#ed7953"
             ],
             [
              0.7777777777777778,
              "#fb9f3a"
             ],
             [
              0.8888888888888888,
              "#fdca26"
             ],
             [
              1,
              "#f0f921"
             ]
            ],
            "type": "heatmapgl"
           }
          ],
          "histogram": [
           {
            "marker": {
             "pattern": {
              "fillmode": "overlay",
              "size": 10,
              "solidity": 0.2
             }
            },
            "type": "histogram"
           }
          ],
          "histogram2d": [
           {
            "colorbar": {
             "outlinewidth": 0,
             "ticks": ""
            },
            "colorscale": [
             [
              0,
              "#0d0887"
             ],
             [
              0.1111111111111111,
              "#46039f"
             ],
             [
              0.2222222222222222,
              "#7201a8"
             ],
             [
              0.3333333333333333,
              "#9c179e"
             ],
             [
              0.4444444444444444,
              "#bd3786"
             ],
             [
              0.5555555555555556,
              "#d8576b"
             ],
             [
              0.6666666666666666,
              "#ed7953"
             ],
             [
              0.7777777777777778,
              "#fb9f3a"
             ],
             [
              0.8888888888888888,
              "#fdca26"
             ],
             [
              1,
              "#f0f921"
             ]
            ],
            "type": "histogram2d"
           }
          ],
          "histogram2dcontour": [
           {
            "colorbar": {
             "outlinewidth": 0,
             "ticks": ""
            },
            "colorscale": [
             [
              0,
              "#0d0887"
             ],
             [
              0.1111111111111111,
              "#46039f"
             ],
             [
              0.2222222222222222,
              "#7201a8"
             ],
             [
              0.3333333333333333,
              "#9c179e"
             ],
             [
              0.4444444444444444,
              "#bd3786"
             ],
             [
              0.5555555555555556,
              "#d8576b"
             ],
             [
              0.6666666666666666,
              "#ed7953"
             ],
             [
              0.7777777777777778,
              "#fb9f3a"
             ],
             [
              0.8888888888888888,
              "#fdca26"
             ],
             [
              1,
              "#f0f921"
             ]
            ],
            "type": "histogram2dcontour"
           }
          ],
          "mesh3d": [
           {
            "colorbar": {
             "outlinewidth": 0,
             "ticks": ""
            },
            "type": "mesh3d"
           }
          ],
          "parcoords": [
           {
            "line": {
             "colorbar": {
              "outlinewidth": 0,
              "ticks": ""
             }
            },
            "type": "parcoords"
           }
          ],
          "pie": [
           {
            "automargin": true,
            "type": "pie"
           }
          ],
          "scatter": [
           {
            "fillpattern": {
             "fillmode": "overlay",
             "size": 10,
             "solidity": 0.2
            },
            "type": "scatter"
           }
          ],
          "scatter3d": [
           {
            "line": {
             "colorbar": {
              "outlinewidth": 0,
              "ticks": ""
             }
            },
            "marker": {
             "colorbar": {
              "outlinewidth": 0,
              "ticks": ""
             }
            },
            "type": "scatter3d"
           }
          ],
          "scattercarpet": [
           {
            "marker": {
             "colorbar": {
              "outlinewidth": 0,
              "ticks": ""
             }
            },
            "type": "scattercarpet"
           }
          ],
          "scattergeo": [
           {
            "marker": {
             "colorbar": {
              "outlinewidth": 0,
              "ticks": ""
             }
            },
            "type": "scattergeo"
           }
          ],
          "scattergl": [
           {
            "marker": {
             "colorbar": {
              "outlinewidth": 0,
              "ticks": ""
             }
            },
            "type": "scattergl"
           }
          ],
          "scattermapbox": [
           {
            "marker": {
             "colorbar": {
              "outlinewidth": 0,
              "ticks": ""
             }
            },
            "type": "scattermapbox"
           }
          ],
          "scatterpolar": [
           {
            "marker": {
             "colorbar": {
              "outlinewidth": 0,
              "ticks": ""
             }
            },
            "type": "scatterpolar"
           }
          ],
          "scatterpolargl": [
           {
            "marker": {
             "colorbar": {
              "outlinewidth": 0,
              "ticks": ""
             }
            },
            "type": "scatterpolargl"
           }
          ],
          "scatterternary": [
           {
            "marker": {
             "colorbar": {
              "outlinewidth": 0,
              "ticks": ""
             }
            },
            "type": "scatterternary"
           }
          ],
          "surface": [
           {
            "colorbar": {
             "outlinewidth": 0,
             "ticks": ""
            },
            "colorscale": [
             [
              0,
              "#0d0887"
             ],
             [
              0.1111111111111111,
              "#46039f"
             ],
             [
              0.2222222222222222,
              "#7201a8"
             ],
             [
              0.3333333333333333,
              "#9c179e"
             ],
             [
              0.4444444444444444,
              "#bd3786"
             ],
             [
              0.5555555555555556,
              "#d8576b"
             ],
             [
              0.6666666666666666,
              "#ed7953"
             ],
             [
              0.7777777777777778,
              "#fb9f3a"
             ],
             [
              0.8888888888888888,
              "#fdca26"
             ],
             [
              1,
              "#f0f921"
             ]
            ],
            "type": "surface"
           }
          ],
          "table": [
           {
            "cells": {
             "fill": {
              "color": "#EBF0F8"
             },
             "line": {
              "color": "white"
             }
            },
            "header": {
             "fill": {
              "color": "#C8D4E3"
             },
             "line": {
              "color": "white"
             }
            },
            "type": "table"
           }
          ]
         },
         "layout": {
          "annotationdefaults": {
           "arrowcolor": "#2a3f5f",
           "arrowhead": 0,
           "arrowwidth": 1
          },
          "autotypenumbers": "strict",
          "coloraxis": {
           "colorbar": {
            "outlinewidth": 0,
            "ticks": ""
           }
          },
          "colorscale": {
           "diverging": [
            [
             0,
             "#8e0152"
            ],
            [
             0.1,
             "#c51b7d"
            ],
            [
             0.2,
             "#de77ae"
            ],
            [
             0.3,
             "#f1b6da"
            ],
            [
             0.4,
             "#fde0ef"
            ],
            [
             0.5,
             "#f7f7f7"
            ],
            [
             0.6,
             "#e6f5d0"
            ],
            [
             0.7,
             "#b8e186"
            ],
            [
             0.8,
             "#7fbc41"
            ],
            [
             0.9,
             "#4d9221"
            ],
            [
             1,
             "#276419"
            ]
           ],
           "sequential": [
            [
             0,
             "#0d0887"
            ],
            [
             0.1111111111111111,
             "#46039f"
            ],
            [
             0.2222222222222222,
             "#7201a8"
            ],
            [
             0.3333333333333333,
             "#9c179e"
            ],
            [
             0.4444444444444444,
             "#bd3786"
            ],
            [
             0.5555555555555556,
             "#d8576b"
            ],
            [
             0.6666666666666666,
             "#ed7953"
            ],
            [
             0.7777777777777778,
             "#fb9f3a"
            ],
            [
             0.8888888888888888,
             "#fdca26"
            ],
            [
             1,
             "#f0f921"
            ]
           ],
           "sequentialminus": [
            [
             0,
             "#0d0887"
            ],
            [
             0.1111111111111111,
             "#46039f"
            ],
            [
             0.2222222222222222,
             "#7201a8"
            ],
            [
             0.3333333333333333,
             "#9c179e"
            ],
            [
             0.4444444444444444,
             "#bd3786"
            ],
            [
             0.5555555555555556,
             "#d8576b"
            ],
            [
             0.6666666666666666,
             "#ed7953"
            ],
            [
             0.7777777777777778,
             "#fb9f3a"
            ],
            [
             0.8888888888888888,
             "#fdca26"
            ],
            [
             1,
             "#f0f921"
            ]
           ]
          },
          "colorway": [
           "#636efa",
           "#EF553B",
           "#00cc96",
           "#ab63fa",
           "#FFA15A",
           "#19d3f3",
           "#FF6692",
           "#B6E880",
           "#FF97FF",
           "#FECB52"
          ],
          "font": {
           "color": "#2a3f5f"
          },
          "geo": {
           "bgcolor": "white",
           "lakecolor": "white",
           "landcolor": "#E5ECF6",
           "showlakes": true,
           "showland": true,
           "subunitcolor": "white"
          },
          "hoverlabel": {
           "align": "left"
          },
          "hovermode": "closest",
          "mapbox": {
           "style": "light"
          },
          "paper_bgcolor": "white",
          "plot_bgcolor": "#E5ECF6",
          "polar": {
           "angularaxis": {
            "gridcolor": "white",
            "linecolor": "white",
            "ticks": ""
           },
           "bgcolor": "#E5ECF6",
           "radialaxis": {
            "gridcolor": "white",
            "linecolor": "white",
            "ticks": ""
           }
          },
          "scene": {
           "xaxis": {
            "backgroundcolor": "#E5ECF6",
            "gridcolor": "white",
            "gridwidth": 2,
            "linecolor": "white",
            "showbackground": true,
            "ticks": "",
            "zerolinecolor": "white"
           },
           "yaxis": {
            "backgroundcolor": "#E5ECF6",
            "gridcolor": "white",
            "gridwidth": 2,
            "linecolor": "white",
            "showbackground": true,
            "ticks": "",
            "zerolinecolor": "white"
           },
           "zaxis": {
            "backgroundcolor": "#E5ECF6",
            "gridcolor": "white",
            "gridwidth": 2,
            "linecolor": "white",
            "showbackground": true,
            "ticks": "",
            "zerolinecolor": "white"
           }
          },
          "shapedefaults": {
           "line": {
            "color": "#2a3f5f"
           }
          },
          "ternary": {
           "aaxis": {
            "gridcolor": "white",
            "linecolor": "white",
            "ticks": ""
           },
           "baxis": {
            "gridcolor": "white",
            "linecolor": "white",
            "ticks": ""
           },
           "bgcolor": "#E5ECF6",
           "caxis": {
            "gridcolor": "white",
            "linecolor": "white",
            "ticks": ""
           }
          },
          "title": {
           "x": 0.05
          },
          "xaxis": {
           "automargin": true,
           "gridcolor": "white",
           "linecolor": "white",
           "ticks": "",
           "title": {
            "standoff": 15
           },
           "zerolinecolor": "white",
           "zerolinewidth": 2
          },
          "yaxis": {
           "automargin": true,
           "gridcolor": "white",
           "linecolor": "white",
           "ticks": "",
           "title": {
            "standoff": 15
           },
           "zerolinecolor": "white",
           "zerolinewidth": 2
          }
         }
        },
        "width": 800,
        "xaxis": {
         "title": {
          "text": "log10 probability threshold"
         }
        },
        "yaxis": {
         "title": {
          "text": "Wasserstein distance"
         }
        }
       }
      }
     },
     "metadata": {},
     "output_type": "display_data"
    }
   ],
   "source": [
    "# Wasserstein distance between original setand augmented set mean, median, std depending on the weight_threshold\n",
    "\n",
    "# set x, y and color variables\n",
    "color_columns_list=['Wasserstein_dist_train_vs_aug_weighted']\n",
    "x_column = 'weight_threshold_log10'\n",
    "\n",
    "# aggregate results\n",
    "res_tot = compute_stats_for_line_plot_paper(data_threshold, [x_column], color_columns_list[0])\n",
    "\n",
    "# Figure\n",
    "fig = go.Figure()\n",
    "  \n",
    "### Wasserstein_dist_train_vs_aug_weighted results\n",
    "# abscisse\n",
    "x = res_tot[x_column].tolist()\n",
    "x_rev = x[::-1]\n",
    "# Line 1\n",
    "y1 = res_tot['Wasserstein_dist_train_vs_aug_weighted' + '_mean'].tolist()\n",
    "y1_upper = res_tot['Wasserstein_dist_train_vs_aug_weighted' + '_upper'].tolist()\n",
    "y1_lower = res_tot['Wasserstein_dist_train_vs_aug_weighted' + '_lower'].tolist()\n",
    "y1_lower = y1_lower[::-1]\n",
    "# Line 2\n",
    "y2 = res_tot['Wasserstein_dist_train_vs_aug_weighted' + '_median'].tolist()\n",
    "\n",
    "fig.add_trace(go.Scatter(\n",
    "    x=x+x_rev,\n",
    "    y=y1_upper+y1_lower,\n",
    "    fill='toself',\n",
    "    fillcolor=transparent_color_list[0],\n",
    "    line_color='rgba(255,255,255,0)', \n",
    "    showlegend=True,\n",
    "    name='std'\n",
    "))\n",
    "fig.add_trace(go.Scatter(\n",
    "    x=x,\n",
    "    y=y1,\n",
    "    line_color=color_list[0],\n",
    "    showlegend=True,\n",
    "    name='mean'\n",
    "))\n",
    "fig.add_trace(go.Scatter(\n",
    "    x=x,\n",
    "    y=y2,\n",
    "    line_color=color_list[0],\n",
    "    line_dash='dot',\n",
    "    showlegend=True,\n",
    "    name='median'\n",
    "))\n",
    "fig.update_traces(mode='lines')\n",
    "\n",
    "# magin & size\n",
    "fig.update_layout(\n",
    "    margin=dict(l=20, r=10, t=10, b=10),\n",
    "    width=800,\n",
    "    height=300,\n",
    ")\n",
    "\n",
    "# legend position\n",
    "fig.update_layout(legend=dict(\n",
    "    yanchor=\"top\",\n",
    "    y=0.99,\n",
    "    xanchor=\"right\",\n",
    "    x=0.99\n",
    "))\n",
    "\n",
    "# axis titles\n",
    "fig.update_yaxes(title_text='Wasserstein distance')\n",
    "fig.update_xaxes(title_text='log10 probability threshold')\n",
    "\n",
    "fig.show()"
   ]
  },
  {
   "attachments": {},
   "cell_type": "markdown",
   "metadata": {},
   "source": [
    "## Dataset size"
   ]
  },
  {
   "cell_type": "code",
   "execution_count": 12,
   "metadata": {},
   "outputs": [],
   "source": [
    "if use_paper_results:\n",
    "    folder_to_res = 'paper_results'\n",
    "else:\n",
    "    folder_to_res = 'nb_observations_variation'\n",
    "\n",
    "data_size = pd.read_csv(folder_to_res + '/nb_observations_res.csv')\n",
    "data_size['nb_observations_log'] = data_size.nb_observations.apply(lambda x: np.log(x))"
   ]
  },
  {
   "cell_type": "code",
   "execution_count": 13,
   "metadata": {},
   "outputs": [
    {
     "name": "stderr",
     "output_type": "stream",
     "text": [
      "C:\\Users\\AudreyPOINSOT\\AppData\\Local\\Temp\\ipykernel_21960\\1025098877.py:12: FutureWarning:\n",
      "\n",
      "['mechanism', 'predicted_variable', 'predicted_variable_node_type', 'variance_train_NOT_weighted', 'variance_aug_NOT_weighted', 'variance_aug_weighted'] did not aggregate successfully. If any error is raised this will raise in a future version of pandas. Drop these columns/ops to avoid this warning.\n",
      "\n",
      "C:\\Users\\AudreyPOINSOT\\AppData\\Local\\Temp\\ipykernel_21960\\1025098877.py:12: FutureWarning:\n",
      "\n",
      "['mechanism', 'predicted_variable', 'predicted_variable_node_type', 'variance_train_NOT_weighted', 'variance_aug_NOT_weighted', 'variance_aug_weighted'] did not aggregate successfully. If any error is raised this will raise in a future version of pandas. Drop these columns/ops to avoid this warning.\n",
      "\n"
     ]
    },
    {
     "data": {
      "application/vnd.plotly.v1+json": {
       "config": {
        "plotlyServerURL": "https://plot.ly"
       },
       "data": [
        {
         "line": {
          "color": "rgb(238,44,44)",
          "dash": "dot"
         },
         "mode": "lines",
         "name": "CausalDA",
         "type": "scatter",
         "x": [
          3.4011973816621555,
          3.6888794541139363,
          4.0943445622221,
          4.382026634673881,
          4.605170185988092,
          5.703782474656201,
          6.214608098422191,
          6.551080335043404
         ],
         "y": [
          0.7021949819402609,
          0.9936278179579525,
          0.6548462912109303,
          0.5537237816265296,
          0.4928758731265683,
          0.37357651921681606,
          0.41973454137054234,
          0.32695495053026175
         ]
        },
        {
         "line": {
          "color": "rgb(0,0,205)",
          "dash": "dot"
         },
         "mode": "lines",
         "name": "Baseline",
         "type": "scatter",
         "x": [
          3.4011973816621555,
          3.6888794541139363,
          4.0943445622221,
          4.382026634673881,
          4.605170185988092,
          5.703782474656201,
          6.214608098422191,
          6.551080335043404
         ],
         "y": [
          0.5262393225346698,
          0.6114517945703224,
          0.5421307109873146,
          0.5245038409451305,
          0.44746931988002064,
          0.40418015963020426,
          0.47023030015659073,
          0.3281590209277462
         ]
        }
       ],
       "layout": {
        "height": 300,
        "legend": {
         "x": 0.01,
         "xanchor": "left",
         "y": 0.01,
         "yanchor": "bottom"
        },
        "margin": {
         "b": 10,
         "l": 20,
         "r": 10,
         "t": 10
        },
        "template": {
         "data": {
          "bar": [
           {
            "error_x": {
             "color": "#2a3f5f"
            },
            "error_y": {
             "color": "#2a3f5f"
            },
            "marker": {
             "line": {
              "color": "#E5ECF6",
              "width": 0.5
             },
             "pattern": {
              "fillmode": "overlay",
              "size": 10,
              "solidity": 0.2
             }
            },
            "type": "bar"
           }
          ],
          "barpolar": [
           {
            "marker": {
             "line": {
              "color": "#E5ECF6",
              "width": 0.5
             },
             "pattern": {
              "fillmode": "overlay",
              "size": 10,
              "solidity": 0.2
             }
            },
            "type": "barpolar"
           }
          ],
          "carpet": [
           {
            "aaxis": {
             "endlinecolor": "#2a3f5f",
             "gridcolor": "white",
             "linecolor": "white",
             "minorgridcolor": "white",
             "startlinecolor": "#2a3f5f"
            },
            "baxis": {
             "endlinecolor": "#2a3f5f",
             "gridcolor": "white",
             "linecolor": "white",
             "minorgridcolor": "white",
             "startlinecolor": "#2a3f5f"
            },
            "type": "carpet"
           }
          ],
          "choropleth": [
           {
            "colorbar": {
             "outlinewidth": 0,
             "ticks": ""
            },
            "type": "choropleth"
           }
          ],
          "contour": [
           {
            "colorbar": {
             "outlinewidth": 0,
             "ticks": ""
            },
            "colorscale": [
             [
              0,
              "#0d0887"
             ],
             [
              0.1111111111111111,
              "#46039f"
             ],
             [
              0.2222222222222222,
              "#7201a8"
             ],
             [
              0.3333333333333333,
              "#9c179e"
             ],
             [
              0.4444444444444444,
              "#bd3786"
             ],
             [
              0.5555555555555556,
              "#d8576b"
             ],
             [
              0.6666666666666666,
              "#ed7953"
             ],
             [
              0.7777777777777778,
              "#fb9f3a"
             ],
             [
              0.8888888888888888,
              "#fdca26"
             ],
             [
              1,
              "#f0f921"
             ]
            ],
            "type": "contour"
           }
          ],
          "contourcarpet": [
           {
            "colorbar": {
             "outlinewidth": 0,
             "ticks": ""
            },
            "type": "contourcarpet"
           }
          ],
          "heatmap": [
           {
            "colorbar": {
             "outlinewidth": 0,
             "ticks": ""
            },
            "colorscale": [
             [
              0,
              "#0d0887"
             ],
             [
              0.1111111111111111,
              "#46039f"
             ],
             [
              0.2222222222222222,
              "#7201a8"
             ],
             [
              0.3333333333333333,
              "#9c179e"
             ],
             [
              0.4444444444444444,
              "#bd3786"
             ],
             [
              0.5555555555555556,
              "#d8576b"
             ],
             [
              0.6666666666666666,
              "#ed7953"
             ],
             [
              0.7777777777777778,
              "#fb9f3a"
             ],
             [
              0.8888888888888888,
              "#fdca26"
             ],
             [
              1,
              "#f0f921"
             ]
            ],
            "type": "heatmap"
           }
          ],
          "heatmapgl": [
           {
            "colorbar": {
             "outlinewidth": 0,
             "ticks": ""
            },
            "colorscale": [
             [
              0,
              "#0d0887"
             ],
             [
              0.1111111111111111,
              "#46039f"
             ],
             [
              0.2222222222222222,
              "#7201a8"
             ],
             [
              0.3333333333333333,
              "#9c179e"
             ],
             [
              0.4444444444444444,
              "#bd3786"
             ],
             [
              0.5555555555555556,
              "#d8576b"
             ],
             [
              0.6666666666666666,
              "#ed7953"
             ],
             [
              0.7777777777777778,
              "#fb9f3a"
             ],
             [
              0.8888888888888888,
              "#fdca26"
             ],
             [
              1,
              "#f0f921"
             ]
            ],
            "type": "heatmapgl"
           }
          ],
          "histogram": [
           {
            "marker": {
             "pattern": {
              "fillmode": "overlay",
              "size": 10,
              "solidity": 0.2
             }
            },
            "type": "histogram"
           }
          ],
          "histogram2d": [
           {
            "colorbar": {
             "outlinewidth": 0,
             "ticks": ""
            },
            "colorscale": [
             [
              0,
              "#0d0887"
             ],
             [
              0.1111111111111111,
              "#46039f"
             ],
             [
              0.2222222222222222,
              "#7201a8"
             ],
             [
              0.3333333333333333,
              "#9c179e"
             ],
             [
              0.4444444444444444,
              "#bd3786"
             ],
             [
              0.5555555555555556,
              "#d8576b"
             ],
             [
              0.6666666666666666,
              "#ed7953"
             ],
             [
              0.7777777777777778,
              "#fb9f3a"
             ],
             [
              0.8888888888888888,
              "#fdca26"
             ],
             [
              1,
              "#f0f921"
             ]
            ],
            "type": "histogram2d"
           }
          ],
          "histogram2dcontour": [
           {
            "colorbar": {
             "outlinewidth": 0,
             "ticks": ""
            },
            "colorscale": [
             [
              0,
              "#0d0887"
             ],
             [
              0.1111111111111111,
              "#46039f"
             ],
             [
              0.2222222222222222,
              "#7201a8"
             ],
             [
              0.3333333333333333,
              "#9c179e"
             ],
             [
              0.4444444444444444,
              "#bd3786"
             ],
             [
              0.5555555555555556,
              "#d8576b"
             ],
             [
              0.6666666666666666,
              "#ed7953"
             ],
             [
              0.7777777777777778,
              "#fb9f3a"
             ],
             [
              0.8888888888888888,
              "#fdca26"
             ],
             [
              1,
              "#f0f921"
             ]
            ],
            "type": "histogram2dcontour"
           }
          ],
          "mesh3d": [
           {
            "colorbar": {
             "outlinewidth": 0,
             "ticks": ""
            },
            "type": "mesh3d"
           }
          ],
          "parcoords": [
           {
            "line": {
             "colorbar": {
              "outlinewidth": 0,
              "ticks": ""
             }
            },
            "type": "parcoords"
           }
          ],
          "pie": [
           {
            "automargin": true,
            "type": "pie"
           }
          ],
          "scatter": [
           {
            "fillpattern": {
             "fillmode": "overlay",
             "size": 10,
             "solidity": 0.2
            },
            "type": "scatter"
           }
          ],
          "scatter3d": [
           {
            "line": {
             "colorbar": {
              "outlinewidth": 0,
              "ticks": ""
             }
            },
            "marker": {
             "colorbar": {
              "outlinewidth": 0,
              "ticks": ""
             }
            },
            "type": "scatter3d"
           }
          ],
          "scattercarpet": [
           {
            "marker": {
             "colorbar": {
              "outlinewidth": 0,
              "ticks": ""
             }
            },
            "type": "scattercarpet"
           }
          ],
          "scattergeo": [
           {
            "marker": {
             "colorbar": {
              "outlinewidth": 0,
              "ticks": ""
             }
            },
            "type": "scattergeo"
           }
          ],
          "scattergl": [
           {
            "marker": {
             "colorbar": {
              "outlinewidth": 0,
              "ticks": ""
             }
            },
            "type": "scattergl"
           }
          ],
          "scattermapbox": [
           {
            "marker": {
             "colorbar": {
              "outlinewidth": 0,
              "ticks": ""
             }
            },
            "type": "scattermapbox"
           }
          ],
          "scatterpolar": [
           {
            "marker": {
             "colorbar": {
              "outlinewidth": 0,
              "ticks": ""
             }
            },
            "type": "scatterpolar"
           }
          ],
          "scatterpolargl": [
           {
            "marker": {
             "colorbar": {
              "outlinewidth": 0,
              "ticks": ""
             }
            },
            "type": "scatterpolargl"
           }
          ],
          "scatterternary": [
           {
            "marker": {
             "colorbar": {
              "outlinewidth": 0,
              "ticks": ""
             }
            },
            "type": "scatterternary"
           }
          ],
          "surface": [
           {
            "colorbar": {
             "outlinewidth": 0,
             "ticks": ""
            },
            "colorscale": [
             [
              0,
              "#0d0887"
             ],
             [
              0.1111111111111111,
              "#46039f"
             ],
             [
              0.2222222222222222,
              "#7201a8"
             ],
             [
              0.3333333333333333,
              "#9c179e"
             ],
             [
              0.4444444444444444,
              "#bd3786"
             ],
             [
              0.5555555555555556,
              "#d8576b"
             ],
             [
              0.6666666666666666,
              "#ed7953"
             ],
             [
              0.7777777777777778,
              "#fb9f3a"
             ],
             [
              0.8888888888888888,
              "#fdca26"
             ],
             [
              1,
              "#f0f921"
             ]
            ],
            "type": "surface"
           }
          ],
          "table": [
           {
            "cells": {
             "fill": {
              "color": "#EBF0F8"
             },
             "line": {
              "color": "white"
             }
            },
            "header": {
             "fill": {
              "color": "#C8D4E3"
             },
             "line": {
              "color": "white"
             }
            },
            "type": "table"
           }
          ]
         },
         "layout": {
          "annotationdefaults": {
           "arrowcolor": "#2a3f5f",
           "arrowhead": 0,
           "arrowwidth": 1
          },
          "autotypenumbers": "strict",
          "coloraxis": {
           "colorbar": {
            "outlinewidth": 0,
            "ticks": ""
           }
          },
          "colorscale": {
           "diverging": [
            [
             0,
             "#8e0152"
            ],
            [
             0.1,
             "#c51b7d"
            ],
            [
             0.2,
             "#de77ae"
            ],
            [
             0.3,
             "#f1b6da"
            ],
            [
             0.4,
             "#fde0ef"
            ],
            [
             0.5,
             "#f7f7f7"
            ],
            [
             0.6,
             "#e6f5d0"
            ],
            [
             0.7,
             "#b8e186"
            ],
            [
             0.8,
             "#7fbc41"
            ],
            [
             0.9,
             "#4d9221"
            ],
            [
             1,
             "#276419"
            ]
           ],
           "sequential": [
            [
             0,
             "#0d0887"
            ],
            [
             0.1111111111111111,
             "#46039f"
            ],
            [
             0.2222222222222222,
             "#7201a8"
            ],
            [
             0.3333333333333333,
             "#9c179e"
            ],
            [
             0.4444444444444444,
             "#bd3786"
            ],
            [
             0.5555555555555556,
             "#d8576b"
            ],
            [
             0.6666666666666666,
             "#ed7953"
            ],
            [
             0.7777777777777778,
             "#fb9f3a"
            ],
            [
             0.8888888888888888,
             "#fdca26"
            ],
            [
             1,
             "#f0f921"
            ]
           ],
           "sequentialminus": [
            [
             0,
             "#0d0887"
            ],
            [
             0.1111111111111111,
             "#46039f"
            ],
            [
             0.2222222222222222,
             "#7201a8"
            ],
            [
             0.3333333333333333,
             "#9c179e"
            ],
            [
             0.4444444444444444,
             "#bd3786"
            ],
            [
             0.5555555555555556,
             "#d8576b"
            ],
            [
             0.6666666666666666,
             "#ed7953"
            ],
            [
             0.7777777777777778,
             "#fb9f3a"
            ],
            [
             0.8888888888888888,
             "#fdca26"
            ],
            [
             1,
             "#f0f921"
            ]
           ]
          },
          "colorway": [
           "#636efa",
           "#EF553B",
           "#00cc96",
           "#ab63fa",
           "#FFA15A",
           "#19d3f3",
           "#FF6692",
           "#B6E880",
           "#FF97FF",
           "#FECB52"
          ],
          "font": {
           "color": "#2a3f5f"
          },
          "geo": {
           "bgcolor": "white",
           "lakecolor": "white",
           "landcolor": "#E5ECF6",
           "showlakes": true,
           "showland": true,
           "subunitcolor": "white"
          },
          "hoverlabel": {
           "align": "left"
          },
          "hovermode": "closest",
          "mapbox": {
           "style": "light"
          },
          "paper_bgcolor": "white",
          "plot_bgcolor": "#E5ECF6",
          "polar": {
           "angularaxis": {
            "gridcolor": "white",
            "linecolor": "white",
            "ticks": ""
           },
           "bgcolor": "#E5ECF6",
           "radialaxis": {
            "gridcolor": "white",
            "linecolor": "white",
            "ticks": ""
           }
          },
          "scene": {
           "xaxis": {
            "backgroundcolor": "#E5ECF6",
            "gridcolor": "white",
            "gridwidth": 2,
            "linecolor": "white",
            "showbackground": true,
            "ticks": "",
            "zerolinecolor": "white"
           },
           "yaxis": {
            "backgroundcolor": "#E5ECF6",
            "gridcolor": "white",
            "gridwidth": 2,
            "linecolor": "white",
            "showbackground": true,
            "ticks": "",
            "zerolinecolor": "white"
           },
           "zaxis": {
            "backgroundcolor": "#E5ECF6",
            "gridcolor": "white",
            "gridwidth": 2,
            "linecolor": "white",
            "showbackground": true,
            "ticks": "",
            "zerolinecolor": "white"
           }
          },
          "shapedefaults": {
           "line": {
            "color": "#2a3f5f"
           }
          },
          "ternary": {
           "aaxis": {
            "gridcolor": "white",
            "linecolor": "white",
            "ticks": ""
           },
           "baxis": {
            "gridcolor": "white",
            "linecolor": "white",
            "ticks": ""
           },
           "bgcolor": "#E5ECF6",
           "caxis": {
            "gridcolor": "white",
            "linecolor": "white",
            "ticks": ""
           }
          },
          "title": {
           "x": 0.05
          },
          "xaxis": {
           "automargin": true,
           "gridcolor": "white",
           "linecolor": "white",
           "ticks": "",
           "title": {
            "standoff": 15
           },
           "zerolinecolor": "white",
           "zerolinewidth": 2
          },
          "yaxis": {
           "automargin": true,
           "gridcolor": "white",
           "linecolor": "white",
           "ticks": "",
           "title": {
            "standoff": 15
           },
           "zerolinecolor": "white",
           "zerolinewidth": 2
          }
         }
        },
        "width": 800,
        "xaxis": {
         "title": {
          "text": "log dataset size"
         }
        },
        "yaxis": {
         "title": {
          "text": "MAPE"
         }
        }
       }
      }
     },
     "metadata": {},
     "output_type": "display_data"
    }
   ],
   "source": [
    "### XGB median MAPE depending on the dataset size\n",
    "\n",
    "# set x, y and color variables\n",
    "color_columns_list=['MAPE_CausalDA', 'MAPE_Baseline']\n",
    "x_column = 'nb_observations_log'\n",
    "\n",
    "# aggregate results\n",
    "res_tot = compute_stats_for_line_plot_paper(data_size, [x_column], color_columns_list[0])\n",
    "res_col = compute_stats_for_line_plot_paper(data_size, [x_column], color_columns_list[1])\n",
    "res_tot = res_tot.merge(res_col, how=\"left\", on=[x_column]).sort_values(by=[x_column])\n",
    "\n",
    "# Figure\n",
    "fig = go.Figure()\n",
    "  \n",
    "### CausalDA results\n",
    "# abscisse\n",
    "x = res_tot[x_column].tolist()\n",
    "x_rev = x[::-1]\n",
    "# Line 1\n",
    "y1 = res_tot['MAPE_CausalDA' + '_mean'].tolist()\n",
    "y1_upper = res_tot['MAPE_CausalDA' + '_upper'].tolist()\n",
    "y1_lower = res_tot['MAPE_CausalDA' + '_lower'].tolist()\n",
    "y1_lower = y1_lower[::-1]\n",
    "# Line 2\n",
    "y2 = res_tot['MAPE_CausalDA' + '_median'].tolist()\n",
    "\n",
    "fig.add_trace(go.Scatter(\n",
    "    x=x,\n",
    "    y=y2,\n",
    "    line_color=color_list[0],\n",
    "    line_dash='dot',\n",
    "    name='CausalDA',\n",
    "))\n",
    "fig.update_traces(mode='lines')\n",
    "\n",
    "### Baseline results\n",
    "# abscisse\n",
    "x = res_tot[x_column].tolist()\n",
    "x_rev = x[::-1]\n",
    "# Line 1\n",
    "y1 = res_tot['MAPE_Baseline' + '_mean'].tolist()\n",
    "y1_upper = res_tot['MAPE_Baseline' + '_upper'].tolist()\n",
    "y1_lower = res_tot['MAPE_Baseline' + '_lower'].tolist()\n",
    "y1_lower = y1_lower[::-1]\n",
    "# Line 2\n",
    "y2 = res_tot['MAPE_Baseline' + '_median'].tolist()\n",
    "\n",
    "fig.add_trace(go.Scatter(\n",
    "    x=x,\n",
    "    y=y2,\n",
    "    line_color=color_list[1],\n",
    "    line_dash='dot',\n",
    "    name='Baseline',\n",
    "))\n",
    "fig.update_traces(mode='lines')\n",
    "\n",
    "# legend position\n",
    "fig.update_layout(legend=dict(\n",
    "    yanchor=\"bottom\",\n",
    "    y=0.01,\n",
    "    xanchor=\"left\",\n",
    "    x=0.01\n",
    "))\n",
    "\n",
    "# magin & size\n",
    "fig.update_layout(\n",
    "    margin=dict(l=20, r=10, t=10, b=10),\n",
    "    width=800,\n",
    "    height=300,\n",
    ")\n",
    "\n",
    "# axis titles\n",
    "fig.update_yaxes(title_text='MAPE')\n",
    "fig.update_xaxes(title_text='log dataset size')\n",
    "\n",
    "fig.show()"
   ]
  },
  {
   "cell_type": "code",
   "execution_count": 14,
   "metadata": {},
   "outputs": [
    {
     "name": "stderr",
     "output_type": "stream",
     "text": [
      "C:\\Users\\AudreyPOINSOT\\AppData\\Local\\Temp\\ipykernel_21960\\1025098877.py:12: FutureWarning:\n",
      "\n",
      "['mechanism', 'predicted_variable', 'predicted_variable_node_type', 'variance_train_NOT_weighted', 'variance_aug_NOT_weighted', 'variance_aug_weighted'] did not aggregate successfully. If any error is raised this will raise in a future version of pandas. Drop these columns/ops to avoid this warning.\n",
      "\n",
      "C:\\Users\\AudreyPOINSOT\\AppData\\Local\\Temp\\ipykernel_21960\\1025098877.py:12: FutureWarning:\n",
      "\n",
      "['mechanism', 'predicted_variable', 'predicted_variable_node_type', 'variance_train_NOT_weighted', 'variance_aug_NOT_weighted', 'variance_aug_weighted'] did not aggregate successfully. If any error is raised this will raise in a future version of pandas. Drop these columns/ops to avoid this warning.\n",
      "\n"
     ]
    },
    {
     "data": {
      "application/vnd.plotly.v1+json": {
       "config": {
        "plotlyServerURL": "https://plot.ly"
       },
       "data": [
        {
         "line": {
          "color": "rgb(238,44,44)",
          "dash": "dot"
         },
         "mode": "lines",
         "name": "CausalDA",
         "type": "scatter",
         "x": [
          3.4011973816621555,
          3.6888794541139363,
          4.0943445622221,
          4.382026634673881,
          4.605170185988092,
          5.703782474656201,
          6.214608098422191,
          6.551080335043404
         ],
         "y": [
          0.7973517392238185,
          0.5523063522753535,
          0.893353251396942,
          0.9269290173357392,
          0.9529900662254522,
          0.9837321143712707,
          0.9838471136298563,
          0.9876231178751056
         ]
        },
        {
         "line": {
          "color": "rgb(0,0,205)",
          "dash": "dot"
         },
         "mode": "lines",
         "name": "Baseline",
         "type": "scatter",
         "x": [
          3.4011973816621555,
          3.6888794541139363,
          4.0943445622221,
          4.382026634673881,
          4.605170185988092,
          5.703782474656201,
          6.214608098422191,
          6.551080335043404
         ],
         "y": [
          0.8768769901550766,
          0.8931277376390194,
          0.9260247883186445,
          0.9442690068915417,
          0.9625459030082371,
          0.9792267447375024,
          0.9758369375496703,
          0.9879139919361037
         ]
        }
       ],
       "layout": {
        "height": 300,
        "legend": {
         "x": 0.01,
         "xanchor": "left",
         "y": 0.99,
         "yanchor": "top"
        },
        "margin": {
         "b": 10,
         "l": 20,
         "r": 10,
         "t": 10
        },
        "template": {
         "data": {
          "bar": [
           {
            "error_x": {
             "color": "#2a3f5f"
            },
            "error_y": {
             "color": "#2a3f5f"
            },
            "marker": {
             "line": {
              "color": "#E5ECF6",
              "width": 0.5
             },
             "pattern": {
              "fillmode": "overlay",
              "size": 10,
              "solidity": 0.2
             }
            },
            "type": "bar"
           }
          ],
          "barpolar": [
           {
            "marker": {
             "line": {
              "color": "#E5ECF6",
              "width": 0.5
             },
             "pattern": {
              "fillmode": "overlay",
              "size": 10,
              "solidity": 0.2
             }
            },
            "type": "barpolar"
           }
          ],
          "carpet": [
           {
            "aaxis": {
             "endlinecolor": "#2a3f5f",
             "gridcolor": "white",
             "linecolor": "white",
             "minorgridcolor": "white",
             "startlinecolor": "#2a3f5f"
            },
            "baxis": {
             "endlinecolor": "#2a3f5f",
             "gridcolor": "white",
             "linecolor": "white",
             "minorgridcolor": "white",
             "startlinecolor": "#2a3f5f"
            },
            "type": "carpet"
           }
          ],
          "choropleth": [
           {
            "colorbar": {
             "outlinewidth": 0,
             "ticks": ""
            },
            "type": "choropleth"
           }
          ],
          "contour": [
           {
            "colorbar": {
             "outlinewidth": 0,
             "ticks": ""
            },
            "colorscale": [
             [
              0,
              "#0d0887"
             ],
             [
              0.1111111111111111,
              "#46039f"
             ],
             [
              0.2222222222222222,
              "#7201a8"
             ],
             [
              0.3333333333333333,
              "#9c179e"
             ],
             [
              0.4444444444444444,
              "#bd3786"
             ],
             [
              0.5555555555555556,
              "#d8576b"
             ],
             [
              0.6666666666666666,
              "#ed7953"
             ],
             [
              0.7777777777777778,
              "#fb9f3a"
             ],
             [
              0.8888888888888888,
              "#fdca26"
             ],
             [
              1,
              "#f0f921"
             ]
            ],
            "type": "contour"
           }
          ],
          "contourcarpet": [
           {
            "colorbar": {
             "outlinewidth": 0,
             "ticks": ""
            },
            "type": "contourcarpet"
           }
          ],
          "heatmap": [
           {
            "colorbar": {
             "outlinewidth": 0,
             "ticks": ""
            },
            "colorscale": [
             [
              0,
              "#0d0887"
             ],
             [
              0.1111111111111111,
              "#46039f"
             ],
             [
              0.2222222222222222,
              "#7201a8"
             ],
             [
              0.3333333333333333,
              "#9c179e"
             ],
             [
              0.4444444444444444,
              "#bd3786"
             ],
             [
              0.5555555555555556,
              "#d8576b"
             ],
             [
              0.6666666666666666,
              "#ed7953"
             ],
             [
              0.7777777777777778,
              "#fb9f3a"
             ],
             [
              0.8888888888888888,
              "#fdca26"
             ],
             [
              1,
              "#f0f921"
             ]
            ],
            "type": "heatmap"
           }
          ],
          "heatmapgl": [
           {
            "colorbar": {
             "outlinewidth": 0,
             "ticks": ""
            },
            "colorscale": [
             [
              0,
              "#0d0887"
             ],
             [
              0.1111111111111111,
              "#46039f"
             ],
             [
              0.2222222222222222,
              "#7201a8"
             ],
             [
              0.3333333333333333,
              "#9c179e"
             ],
             [
              0.4444444444444444,
              "#bd3786"
             ],
             [
              0.5555555555555556,
              "#d8576b"
             ],
             [
              0.6666666666666666,
              "#ed7953"
             ],
             [
              0.7777777777777778,
              "#fb9f3a"
             ],
             [
              0.8888888888888888,
              "#fdca26"
             ],
             [
              1,
              "#f0f921"
             ]
            ],
            "type": "heatmapgl"
           }
          ],
          "histogram": [
           {
            "marker": {
             "pattern": {
              "fillmode": "overlay",
              "size": 10,
              "solidity": 0.2
             }
            },
            "type": "histogram"
           }
          ],
          "histogram2d": [
           {
            "colorbar": {
             "outlinewidth": 0,
             "ticks": ""
            },
            "colorscale": [
             [
              0,
              "#0d0887"
             ],
             [
              0.1111111111111111,
              "#46039f"
             ],
             [
              0.2222222222222222,
              "#7201a8"
             ],
             [
              0.3333333333333333,
              "#9c179e"
             ],
             [
              0.4444444444444444,
              "#bd3786"
             ],
             [
              0.5555555555555556,
              "#d8576b"
             ],
             [
              0.6666666666666666,
              "#ed7953"
             ],
             [
              0.7777777777777778,
              "#fb9f3a"
             ],
             [
              0.8888888888888888,
              "#fdca26"
             ],
             [
              1,
              "#f0f921"
             ]
            ],
            "type": "histogram2d"
           }
          ],
          "histogram2dcontour": [
           {
            "colorbar": {
             "outlinewidth": 0,
             "ticks": ""
            },
            "colorscale": [
             [
              0,
              "#0d0887"
             ],
             [
              0.1111111111111111,
              "#46039f"
             ],
             [
              0.2222222222222222,
              "#7201a8"
             ],
             [
              0.3333333333333333,
              "#9c179e"
             ],
             [
              0.4444444444444444,
              "#bd3786"
             ],
             [
              0.5555555555555556,
              "#d8576b"
             ],
             [
              0.6666666666666666,
              "#ed7953"
             ],
             [
              0.7777777777777778,
              "#fb9f3a"
             ],
             [
              0.8888888888888888,
              "#fdca26"
             ],
             [
              1,
              "#f0f921"
             ]
            ],
            "type": "histogram2dcontour"
           }
          ],
          "mesh3d": [
           {
            "colorbar": {
             "outlinewidth": 0,
             "ticks": ""
            },
            "type": "mesh3d"
           }
          ],
          "parcoords": [
           {
            "line": {
             "colorbar": {
              "outlinewidth": 0,
              "ticks": ""
             }
            },
            "type": "parcoords"
           }
          ],
          "pie": [
           {
            "automargin": true,
            "type": "pie"
           }
          ],
          "scatter": [
           {
            "fillpattern": {
             "fillmode": "overlay",
             "size": 10,
             "solidity": 0.2
            },
            "type": "scatter"
           }
          ],
          "scatter3d": [
           {
            "line": {
             "colorbar": {
              "outlinewidth": 0,
              "ticks": ""
             }
            },
            "marker": {
             "colorbar": {
              "outlinewidth": 0,
              "ticks": ""
             }
            },
            "type": "scatter3d"
           }
          ],
          "scattercarpet": [
           {
            "marker": {
             "colorbar": {
              "outlinewidth": 0,
              "ticks": ""
             }
            },
            "type": "scattercarpet"
           }
          ],
          "scattergeo": [
           {
            "marker": {
             "colorbar": {
              "outlinewidth": 0,
              "ticks": ""
             }
            },
            "type": "scattergeo"
           }
          ],
          "scattergl": [
           {
            "marker": {
             "colorbar": {
              "outlinewidth": 0,
              "ticks": ""
             }
            },
            "type": "scattergl"
           }
          ],
          "scattermapbox": [
           {
            "marker": {
             "colorbar": {
              "outlinewidth": 0,
              "ticks": ""
             }
            },
            "type": "scattermapbox"
           }
          ],
          "scatterpolar": [
           {
            "marker": {
             "colorbar": {
              "outlinewidth": 0,
              "ticks": ""
             }
            },
            "type": "scatterpolar"
           }
          ],
          "scatterpolargl": [
           {
            "marker": {
             "colorbar": {
              "outlinewidth": 0,
              "ticks": ""
             }
            },
            "type": "scatterpolargl"
           }
          ],
          "scatterternary": [
           {
            "marker": {
             "colorbar": {
              "outlinewidth": 0,
              "ticks": ""
             }
            },
            "type": "scatterternary"
           }
          ],
          "surface": [
           {
            "colorbar": {
             "outlinewidth": 0,
             "ticks": ""
            },
            "colorscale": [
             [
              0,
              "#0d0887"
             ],
             [
              0.1111111111111111,
              "#46039f"
             ],
             [
              0.2222222222222222,
              "#7201a8"
             ],
             [
              0.3333333333333333,
              "#9c179e"
             ],
             [
              0.4444444444444444,
              "#bd3786"
             ],
             [
              0.5555555555555556,
              "#d8576b"
             ],
             [
              0.6666666666666666,
              "#ed7953"
             ],
             [
              0.7777777777777778,
              "#fb9f3a"
             ],
             [
              0.8888888888888888,
              "#fdca26"
             ],
             [
              1,
              "#f0f921"
             ]
            ],
            "type": "surface"
           }
          ],
          "table": [
           {
            "cells": {
             "fill": {
              "color": "#EBF0F8"
             },
             "line": {
              "color": "white"
             }
            },
            "header": {
             "fill": {
              "color": "#C8D4E3"
             },
             "line": {
              "color": "white"
             }
            },
            "type": "table"
           }
          ]
         },
         "layout": {
          "annotationdefaults": {
           "arrowcolor": "#2a3f5f",
           "arrowhead": 0,
           "arrowwidth": 1
          },
          "autotypenumbers": "strict",
          "coloraxis": {
           "colorbar": {
            "outlinewidth": 0,
            "ticks": ""
           }
          },
          "colorscale": {
           "diverging": [
            [
             0,
             "#8e0152"
            ],
            [
             0.1,
             "#c51b7d"
            ],
            [
             0.2,
             "#de77ae"
            ],
            [
             0.3,
             "#f1b6da"
            ],
            [
             0.4,
             "#fde0ef"
            ],
            [
             0.5,
             "#f7f7f7"
            ],
            [
             0.6,
             "#e6f5d0"
            ],
            [
             0.7,
             "#b8e186"
            ],
            [
             0.8,
             "#7fbc41"
            ],
            [
             0.9,
             "#4d9221"
            ],
            [
             1,
             "#276419"
            ]
           ],
           "sequential": [
            [
             0,
             "#0d0887"
            ],
            [
             0.1111111111111111,
             "#46039f"
            ],
            [
             0.2222222222222222,
             "#7201a8"
            ],
            [
             0.3333333333333333,
             "#9c179e"
            ],
            [
             0.4444444444444444,
             "#bd3786"
            ],
            [
             0.5555555555555556,
             "#d8576b"
            ],
            [
             0.6666666666666666,
             "#ed7953"
            ],
            [
             0.7777777777777778,
             "#fb9f3a"
            ],
            [
             0.8888888888888888,
             "#fdca26"
            ],
            [
             1,
             "#f0f921"
            ]
           ],
           "sequentialminus": [
            [
             0,
             "#0d0887"
            ],
            [
             0.1111111111111111,
             "#46039f"
            ],
            [
             0.2222222222222222,
             "#7201a8"
            ],
            [
             0.3333333333333333,
             "#9c179e"
            ],
            [
             0.4444444444444444,
             "#bd3786"
            ],
            [
             0.5555555555555556,
             "#d8576b"
            ],
            [
             0.6666666666666666,
             "#ed7953"
            ],
            [
             0.7777777777777778,
             "#fb9f3a"
            ],
            [
             0.8888888888888888,
             "#fdca26"
            ],
            [
             1,
             "#f0f921"
            ]
           ]
          },
          "colorway": [
           "#636efa",
           "#EF553B",
           "#00cc96",
           "#ab63fa",
           "#FFA15A",
           "#19d3f3",
           "#FF6692",
           "#B6E880",
           "#FF97FF",
           "#FECB52"
          ],
          "font": {
           "color": "#2a3f5f"
          },
          "geo": {
           "bgcolor": "white",
           "lakecolor": "white",
           "landcolor": "#E5ECF6",
           "showlakes": true,
           "showland": true,
           "subunitcolor": "white"
          },
          "hoverlabel": {
           "align": "left"
          },
          "hovermode": "closest",
          "mapbox": {
           "style": "light"
          },
          "paper_bgcolor": "white",
          "plot_bgcolor": "#E5ECF6",
          "polar": {
           "angularaxis": {
            "gridcolor": "white",
            "linecolor": "white",
            "ticks": ""
           },
           "bgcolor": "#E5ECF6",
           "radialaxis": {
            "gridcolor": "white",
            "linecolor": "white",
            "ticks": ""
           }
          },
          "scene": {
           "xaxis": {
            "backgroundcolor": "#E5ECF6",
            "gridcolor": "white",
            "gridwidth": 2,
            "linecolor": "white",
            "showbackground": true,
            "ticks": "",
            "zerolinecolor": "white"
           },
           "yaxis": {
            "backgroundcolor": "#E5ECF6",
            "gridcolor": "white",
            "gridwidth": 2,
            "linecolor": "white",
            "showbackground": true,
            "ticks": "",
            "zerolinecolor": "white"
           },
           "zaxis": {
            "backgroundcolor": "#E5ECF6",
            "gridcolor": "white",
            "gridwidth": 2,
            "linecolor": "white",
            "showbackground": true,
            "ticks": "",
            "zerolinecolor": "white"
           }
          },
          "shapedefaults": {
           "line": {
            "color": "#2a3f5f"
           }
          },
          "ternary": {
           "aaxis": {
            "gridcolor": "white",
            "linecolor": "white",
            "ticks": ""
           },
           "baxis": {
            "gridcolor": "white",
            "linecolor": "white",
            "ticks": ""
           },
           "bgcolor": "#E5ECF6",
           "caxis": {
            "gridcolor": "white",
            "linecolor": "white",
            "ticks": ""
           }
          },
          "title": {
           "x": 0.05
          },
          "xaxis": {
           "automargin": true,
           "gridcolor": "white",
           "linecolor": "white",
           "ticks": "",
           "title": {
            "standoff": 15
           },
           "zerolinecolor": "white",
           "zerolinewidth": 2
          },
          "yaxis": {
           "automargin": true,
           "gridcolor": "white",
           "linecolor": "white",
           "ticks": "",
           "title": {
            "standoff": 15
           },
           "zerolinecolor": "white",
           "zerolinewidth": 2
          }
         }
        },
        "width": 800,
        "xaxis": {
         "title": {
          "text": "log dataset size"
         }
        },
        "yaxis": {
         "title": {
          "text": "R2 score"
         }
        }
       }
      }
     },
     "metadata": {},
     "output_type": "display_data"
    }
   ],
   "source": [
    "### XGB median R2 depending on the weight_threshold\n",
    "\n",
    "# set x, y and color variables\n",
    "color_columns_list=['r2_CausalDA', 'r2_Baseline']\n",
    "x_column = 'nb_observations_log'\n",
    "\n",
    "# aggregate results\n",
    "res_tot = compute_stats_for_line_plot_paper(data_size, [x_column], color_columns_list[0])\n",
    "res_col = compute_stats_for_line_plot_paper(data_size, [x_column], color_columns_list[1])\n",
    "res_tot = res_tot.merge(res_col, how=\"left\", on=[x_column]).sort_values(by=[x_column])\n",
    "\n",
    "# Figure\n",
    "fig = go.Figure()\n",
    "  \n",
    "### CausalDA results\n",
    "# abscisse\n",
    "x = res_tot[x_column].tolist()\n",
    "x_rev = x[::-1]\n",
    "# Line 1\n",
    "y1 = res_tot['r2_CausalDA' + '_mean'].tolist()\n",
    "y1_upper = res_tot['r2_CausalDA' + '_upper'].tolist()\n",
    "y1_lower = res_tot['r2_CausalDA' + '_lower'].tolist()\n",
    "y1_lower = y1_lower[::-1]\n",
    "# Line 2\n",
    "y2 = res_tot['r2_CausalDA' + '_median'].tolist()\n",
    "\n",
    "fig.add_trace(go.Scatter(\n",
    "    x=x,\n",
    "    y=y2,\n",
    "    line_color=color_list[0],\n",
    "    line_dash='dot',\n",
    "    name='CausalDA',\n",
    "))\n",
    "fig.update_traces(mode='lines')\n",
    "\n",
    "### Baseline results\n",
    "# abscisse\n",
    "x = res_tot[x_column].tolist()\n",
    "x_rev = x[::-1]\n",
    "# Line 1\n",
    "y1 = res_tot['r2_Baseline' + '_mean'].tolist()\n",
    "y1_upper = res_tot['r2_Baseline' + '_upper'].tolist()\n",
    "y1_lower = res_tot['r2_Baseline' + '_lower'].tolist()\n",
    "y1_lower = y1_lower[::-1]\n",
    "# Line 2\n",
    "y2 = res_tot['r2_Baseline' + '_median'].tolist()\n",
    "\n",
    "fig.add_trace(go.Scatter(\n",
    "    x=x,\n",
    "    y=y2,\n",
    "    line_color=color_list[1],\n",
    "    line_dash='dot',\n",
    "    name='Baseline',\n",
    "))\n",
    "fig.update_traces(mode='lines')\n",
    "\n",
    "# legend position\n",
    "fig.update_layout(legend=dict(\n",
    "    yanchor=\"top\",\n",
    "    y=0.99,\n",
    "    xanchor=\"left\",\n",
    "    x=0.01\n",
    "))\n",
    "\n",
    "# magin & size\n",
    "fig.update_layout(\n",
    "    margin=dict(l=20, r=10, t=10, b=10),\n",
    "    width=800,\n",
    "    height=300,\n",
    ")\n",
    "\n",
    "# axis titles\n",
    "fig.update_yaxes(title_text='R2 score')\n",
    "fig.update_xaxes(title_text='log dataset size')\n",
    "\n",
    "fig.show()"
   ]
  },
  {
   "attachments": {},
   "cell_type": "markdown",
   "metadata": {},
   "source": [
    "## Problem dimension"
   ]
  },
  {
   "cell_type": "code",
   "execution_count": 15,
   "metadata": {},
   "outputs": [],
   "source": [
    "if use_paper_results:\n",
    "    folder_to_res = 'paper_results'\n",
    "else:\n",
    "    folder_to_res = 'dimension_variation'\n",
    "\n",
    "results_dimensions = pd.read_csv(folder_to_res + '/dimensions_res.csv')"
   ]
  },
  {
   "cell_type": "code",
   "execution_count": 16,
   "metadata": {},
   "outputs": [
    {
     "name": "stderr",
     "output_type": "stream",
     "text": [
      "C:\\Users\\AudreyPOINSOT\\AppData\\Local\\Temp\\ipykernel_21960\\1025098877.py:12: FutureWarning:\n",
      "\n",
      "['mechanism', 'predicted_variable', 'predicted_variable_node_type', 'variance_train_NOT_weighted', 'variance_aug_NOT_weighted', 'variance_aug_weighted'] did not aggregate successfully. If any error is raised this will raise in a future version of pandas. Drop these columns/ops to avoid this warning.\n",
      "\n",
      "C:\\Users\\AudreyPOINSOT\\AppData\\Local\\Temp\\ipykernel_21960\\1025098877.py:12: FutureWarning:\n",
      "\n",
      "['mechanism', 'predicted_variable', 'predicted_variable_node_type', 'variance_train_NOT_weighted', 'variance_aug_NOT_weighted', 'variance_aug_weighted'] did not aggregate successfully. If any error is raised this will raise in a future version of pandas. Drop these columns/ops to avoid this warning.\n",
      "\n"
     ]
    },
    {
     "data": {
      "application/vnd.plotly.v1+json": {
       "config": {
        "plotlyServerURL": "https://plot.ly"
       },
       "data": [
        {
         "fill": "toself",
         "fillcolor": "rgba(238,44,44,0.2)",
         "line": {
          "color": "rgba(255,255,255,0)"
         },
         "mode": "lines",
         "showlegend": false,
         "type": "scatter",
         "x": [
          7,
          8,
          9,
          10,
          15,
          20,
          25,
          25,
          20,
          15,
          10,
          9,
          8,
          7
         ],
         "y": [
          0.37537530677049985,
          0.3130136317588368,
          0.3747713769387929,
          0.49476726170122454,
          0.272595849624913,
          0.11188517706987111,
          0,
          0,
          -0.07017089135558541,
          -0.09859584962491302,
          0.020661309727346783,
          0.04522862306120709,
          0.07270065395544886,
          0.1937675503723572
         ]
        },
        {
         "line": {
          "color": "rgb(238,44,44)"
         },
         "mode": "lines",
         "name": "augmented",
         "type": "scatter",
         "x": [
          7,
          8,
          9,
          10,
          15,
          20,
          25
         ],
         "y": [
          0.28457142857142853,
          0.19285714285714284,
          0.21,
          0.2577142857142857,
          0.087,
          0.020857142857142855,
          0
         ]
        },
        {
         "line": {
          "color": "rgb(238,44,44)",
          "dash": "dot"
         },
         "mode": "lines",
         "showlegend": false,
         "type": "scatter",
         "x": [
          7,
          8,
          9,
          10,
          15,
          20,
          25
         ],
         "y": [
          0.29142857142857137,
          0.19857142857142857,
          0.22142857142857142,
          0.2571428571428571,
          0,
          0,
          0
         ]
        },
        {
         "fill": "toself",
         "fillcolor": "rgba(0,0,205,0.2)",
         "line": {
          "color": "rgba(255,255,255,0)"
         },
         "mode": "lines",
         "showlegend": false,
         "type": "scatter",
         "x": [
          7,
          8,
          9,
          10,
          15,
          20,
          25,
          25,
          20,
          15,
          10,
          9,
          8,
          7
         ],
         "y": [
          0,
          0.6012558900604152,
          0.759535835770772,
          0.7594075275633929,
          1.1837361989746802,
          1.1682178902359923,
          1,
          1,
          0.7317821097640076,
          0.31626380102531987,
          -0.15940752756339294,
          -0.15953583577077202,
          -0.20125589006041528,
          0
         ]
        },
        {
         "line": {
          "color": "rgb(0,0,205)"
         },
         "mode": "lines",
         "name": "filtered",
         "type": "scatter",
         "x": [
          7,
          8,
          9,
          10,
          15,
          20,
          25
         ],
         "y": [
          0,
          0.2,
          0.3,
          0.3,
          0.75,
          0.95,
          1
         ]
        },
        {
         "line": {
          "color": "rgb(0,0,205)",
          "dash": "dot"
         },
         "mode": "lines",
         "showlegend": false,
         "type": "scatter",
         "x": [
          7,
          8,
          9,
          10,
          15,
          20,
          25
         ],
         "y": [
          0,
          0,
          0,
          0,
          1,
          1,
          1
         ]
        }
       ],
       "layout": {
        "height": 300,
        "legend": {
         "x": 0.01,
         "xanchor": "left",
         "y": 0.99,
         "yanchor": "top"
        },
        "margin": {
         "b": 10,
         "l": 20,
         "r": 10,
         "t": 10
        },
        "template": {
         "data": {
          "bar": [
           {
            "error_x": {
             "color": "#2a3f5f"
            },
            "error_y": {
             "color": "#2a3f5f"
            },
            "marker": {
             "line": {
              "color": "#E5ECF6",
              "width": 0.5
             },
             "pattern": {
              "fillmode": "overlay",
              "size": 10,
              "solidity": 0.2
             }
            },
            "type": "bar"
           }
          ],
          "barpolar": [
           {
            "marker": {
             "line": {
              "color": "#E5ECF6",
              "width": 0.5
             },
             "pattern": {
              "fillmode": "overlay",
              "size": 10,
              "solidity": 0.2
             }
            },
            "type": "barpolar"
           }
          ],
          "carpet": [
           {
            "aaxis": {
             "endlinecolor": "#2a3f5f",
             "gridcolor": "white",
             "linecolor": "white",
             "minorgridcolor": "white",
             "startlinecolor": "#2a3f5f"
            },
            "baxis": {
             "endlinecolor": "#2a3f5f",
             "gridcolor": "white",
             "linecolor": "white",
             "minorgridcolor": "white",
             "startlinecolor": "#2a3f5f"
            },
            "type": "carpet"
           }
          ],
          "choropleth": [
           {
            "colorbar": {
             "outlinewidth": 0,
             "ticks": ""
            },
            "type": "choropleth"
           }
          ],
          "contour": [
           {
            "colorbar": {
             "outlinewidth": 0,
             "ticks": ""
            },
            "colorscale": [
             [
              0,
              "#0d0887"
             ],
             [
              0.1111111111111111,
              "#46039f"
             ],
             [
              0.2222222222222222,
              "#7201a8"
             ],
             [
              0.3333333333333333,
              "#9c179e"
             ],
             [
              0.4444444444444444,
              "#bd3786"
             ],
             [
              0.5555555555555556,
              "#d8576b"
             ],
             [
              0.6666666666666666,
              "#ed7953"
             ],
             [
              0.7777777777777778,
              "#fb9f3a"
             ],
             [
              0.8888888888888888,
              "#fdca26"
             ],
             [
              1,
              "#f0f921"
             ]
            ],
            "type": "contour"
           }
          ],
          "contourcarpet": [
           {
            "colorbar": {
             "outlinewidth": 0,
             "ticks": ""
            },
            "type": "contourcarpet"
           }
          ],
          "heatmap": [
           {
            "colorbar": {
             "outlinewidth": 0,
             "ticks": ""
            },
            "colorscale": [
             [
              0,
              "#0d0887"
             ],
             [
              0.1111111111111111,
              "#46039f"
             ],
             [
              0.2222222222222222,
              "#7201a8"
             ],
             [
              0.3333333333333333,
              "#9c179e"
             ],
             [
              0.4444444444444444,
              "#bd3786"
             ],
             [
              0.5555555555555556,
              "#d8576b"
             ],
             [
              0.6666666666666666,
              "#ed7953"
             ],
             [
              0.7777777777777778,
              "#fb9f3a"
             ],
             [
              0.8888888888888888,
              "#fdca26"
             ],
             [
              1,
              "#f0f921"
             ]
            ],
            "type": "heatmap"
           }
          ],
          "heatmapgl": [
           {
            "colorbar": {
             "outlinewidth": 0,
             "ticks": ""
            },
            "colorscale": [
             [
              0,
              "#0d0887"
             ],
             [
              0.1111111111111111,
              "#46039f"
             ],
             [
              0.2222222222222222,
              "#7201a8"
             ],
             [
              0.3333333333333333,
              "#9c179e"
             ],
             [
              0.4444444444444444,
              "#bd3786"
             ],
             [
              0.5555555555555556,
              "#d8576b"
             ],
             [
              0.6666666666666666,
              "#ed7953"
             ],
             [
              0.7777777777777778,
              "#fb9f3a"
             ],
             [
              0.8888888888888888,
              "#fdca26"
             ],
             [
              1,
              "#f0f921"
             ]
            ],
            "type": "heatmapgl"
           }
          ],
          "histogram": [
           {
            "marker": {
             "pattern": {
              "fillmode": "overlay",
              "size": 10,
              "solidity": 0.2
             }
            },
            "type": "histogram"
           }
          ],
          "histogram2d": [
           {
            "colorbar": {
             "outlinewidth": 0,
             "ticks": ""
            },
            "colorscale": [
             [
              0,
              "#0d0887"
             ],
             [
              0.1111111111111111,
              "#46039f"
             ],
             [
              0.2222222222222222,
              "#7201a8"
             ],
             [
              0.3333333333333333,
              "#9c179e"
             ],
             [
              0.4444444444444444,
              "#bd3786"
             ],
             [
              0.5555555555555556,
              "#d8576b"
             ],
             [
              0.6666666666666666,
              "#ed7953"
             ],
             [
              0.7777777777777778,
              "#fb9f3a"
             ],
             [
              0.8888888888888888,
              "#fdca26"
             ],
             [
              1,
              "#f0f921"
             ]
            ],
            "type": "histogram2d"
           }
          ],
          "histogram2dcontour": [
           {
            "colorbar": {
             "outlinewidth": 0,
             "ticks": ""
            },
            "colorscale": [
             [
              0,
              "#0d0887"
             ],
             [
              0.1111111111111111,
              "#46039f"
             ],
             [
              0.2222222222222222,
              "#7201a8"
             ],
             [
              0.3333333333333333,
              "#9c179e"
             ],
             [
              0.4444444444444444,
              "#bd3786"
             ],
             [
              0.5555555555555556,
              "#d8576b"
             ],
             [
              0.6666666666666666,
              "#ed7953"
             ],
             [
              0.7777777777777778,
              "#fb9f3a"
             ],
             [
              0.8888888888888888,
              "#fdca26"
             ],
             [
              1,
              "#f0f921"
             ]
            ],
            "type": "histogram2dcontour"
           }
          ],
          "mesh3d": [
           {
            "colorbar": {
             "outlinewidth": 0,
             "ticks": ""
            },
            "type": "mesh3d"
           }
          ],
          "parcoords": [
           {
            "line": {
             "colorbar": {
              "outlinewidth": 0,
              "ticks": ""
             }
            },
            "type": "parcoords"
           }
          ],
          "pie": [
           {
            "automargin": true,
            "type": "pie"
           }
          ],
          "scatter": [
           {
            "fillpattern": {
             "fillmode": "overlay",
             "size": 10,
             "solidity": 0.2
            },
            "type": "scatter"
           }
          ],
          "scatter3d": [
           {
            "line": {
             "colorbar": {
              "outlinewidth": 0,
              "ticks": ""
             }
            },
            "marker": {
             "colorbar": {
              "outlinewidth": 0,
              "ticks": ""
             }
            },
            "type": "scatter3d"
           }
          ],
          "scattercarpet": [
           {
            "marker": {
             "colorbar": {
              "outlinewidth": 0,
              "ticks": ""
             }
            },
            "type": "scattercarpet"
           }
          ],
          "scattergeo": [
           {
            "marker": {
             "colorbar": {
              "outlinewidth": 0,
              "ticks": ""
             }
            },
            "type": "scattergeo"
           }
          ],
          "scattergl": [
           {
            "marker": {
             "colorbar": {
              "outlinewidth": 0,
              "ticks": ""
             }
            },
            "type": "scattergl"
           }
          ],
          "scattermapbox": [
           {
            "marker": {
             "colorbar": {
              "outlinewidth": 0,
              "ticks": ""
             }
            },
            "type": "scattermapbox"
           }
          ],
          "scatterpolar": [
           {
            "marker": {
             "colorbar": {
              "outlinewidth": 0,
              "ticks": ""
             }
            },
            "type": "scatterpolar"
           }
          ],
          "scatterpolargl": [
           {
            "marker": {
             "colorbar": {
              "outlinewidth": 0,
              "ticks": ""
             }
            },
            "type": "scatterpolargl"
           }
          ],
          "scatterternary": [
           {
            "marker": {
             "colorbar": {
              "outlinewidth": 0,
              "ticks": ""
             }
            },
            "type": "scatterternary"
           }
          ],
          "surface": [
           {
            "colorbar": {
             "outlinewidth": 0,
             "ticks": ""
            },
            "colorscale": [
             [
              0,
              "#0d0887"
             ],
             [
              0.1111111111111111,
              "#46039f"
             ],
             [
              0.2222222222222222,
              "#7201a8"
             ],
             [
              0.3333333333333333,
              "#9c179e"
             ],
             [
              0.4444444444444444,
              "#bd3786"
             ],
             [
              0.5555555555555556,
              "#d8576b"
             ],
             [
              0.6666666666666666,
              "#ed7953"
             ],
             [
              0.7777777777777778,
              "#fb9f3a"
             ],
             [
              0.8888888888888888,
              "#fdca26"
             ],
             [
              1,
              "#f0f921"
             ]
            ],
            "type": "surface"
           }
          ],
          "table": [
           {
            "cells": {
             "fill": {
              "color": "#EBF0F8"
             },
             "line": {
              "color": "white"
             }
            },
            "header": {
             "fill": {
              "color": "#C8D4E3"
             },
             "line": {
              "color": "white"
             }
            },
            "type": "table"
           }
          ]
         },
         "layout": {
          "annotationdefaults": {
           "arrowcolor": "#2a3f5f",
           "arrowhead": 0,
           "arrowwidth": 1
          },
          "autotypenumbers": "strict",
          "coloraxis": {
           "colorbar": {
            "outlinewidth": 0,
            "ticks": ""
           }
          },
          "colorscale": {
           "diverging": [
            [
             0,
             "#8e0152"
            ],
            [
             0.1,
             "#c51b7d"
            ],
            [
             0.2,
             "#de77ae"
            ],
            [
             0.3,
             "#f1b6da"
            ],
            [
             0.4,
             "#fde0ef"
            ],
            [
             0.5,
             "#f7f7f7"
            ],
            [
             0.6,
             "#e6f5d0"
            ],
            [
             0.7,
             "#b8e186"
            ],
            [
             0.8,
             "#7fbc41"
            ],
            [
             0.9,
             "#4d9221"
            ],
            [
             1,
             "#276419"
            ]
           ],
           "sequential": [
            [
             0,
             "#0d0887"
            ],
            [
             0.1111111111111111,
             "#46039f"
            ],
            [
             0.2222222222222222,
             "#7201a8"
            ],
            [
             0.3333333333333333,
             "#9c179e"
            ],
            [
             0.4444444444444444,
             "#bd3786"
            ],
            [
             0.5555555555555556,
             "#d8576b"
            ],
            [
             0.6666666666666666,
             "#ed7953"
            ],
            [
             0.7777777777777778,
             "#fb9f3a"
            ],
            [
             0.8888888888888888,
             "#fdca26"
            ],
            [
             1,
             "#f0f921"
            ]
           ],
           "sequentialminus": [
            [
             0,
             "#0d0887"
            ],
            [
             0.1111111111111111,
             "#46039f"
            ],
            [
             0.2222222222222222,
             "#7201a8"
            ],
            [
             0.3333333333333333,
             "#9c179e"
            ],
            [
             0.4444444444444444,
             "#bd3786"
            ],
            [
             0.5555555555555556,
             "#d8576b"
            ],
            [
             0.6666666666666666,
             "#ed7953"
            ],
            [
             0.7777777777777778,
             "#fb9f3a"
            ],
            [
             0.8888888888888888,
             "#fdca26"
            ],
            [
             1,
             "#f0f921"
            ]
           ]
          },
          "colorway": [
           "#636efa",
           "#EF553B",
           "#00cc96",
           "#ab63fa",
           "#FFA15A",
           "#19d3f3",
           "#FF6692",
           "#B6E880",
           "#FF97FF",
           "#FECB52"
          ],
          "font": {
           "color": "#2a3f5f"
          },
          "geo": {
           "bgcolor": "white",
           "lakecolor": "white",
           "landcolor": "#E5ECF6",
           "showlakes": true,
           "showland": true,
           "subunitcolor": "white"
          },
          "hoverlabel": {
           "align": "left"
          },
          "hovermode": "closest",
          "mapbox": {
           "style": "light"
          },
          "paper_bgcolor": "white",
          "plot_bgcolor": "#E5ECF6",
          "polar": {
           "angularaxis": {
            "gridcolor": "white",
            "linecolor": "white",
            "ticks": ""
           },
           "bgcolor": "#E5ECF6",
           "radialaxis": {
            "gridcolor": "white",
            "linecolor": "white",
            "ticks": ""
           }
          },
          "scene": {
           "xaxis": {
            "backgroundcolor": "#E5ECF6",
            "gridcolor": "white",
            "gridwidth": 2,
            "linecolor": "white",
            "showbackground": true,
            "ticks": "",
            "zerolinecolor": "white"
           },
           "yaxis": {
            "backgroundcolor": "#E5ECF6",
            "gridcolor": "white",
            "gridwidth": 2,
            "linecolor": "white",
            "showbackground": true,
            "ticks": "",
            "zerolinecolor": "white"
           },
           "zaxis": {
            "backgroundcolor": "#E5ECF6",
            "gridcolor": "white",
            "gridwidth": 2,
            "linecolor": "white",
            "showbackground": true,
            "ticks": "",
            "zerolinecolor": "white"
           }
          },
          "shapedefaults": {
           "line": {
            "color": "#2a3f5f"
           }
          },
          "ternary": {
           "aaxis": {
            "gridcolor": "white",
            "linecolor": "white",
            "ticks": ""
           },
           "baxis": {
            "gridcolor": "white",
            "linecolor": "white",
            "ticks": ""
           },
           "bgcolor": "#E5ECF6",
           "caxis": {
            "gridcolor": "white",
            "linecolor": "white",
            "ticks": ""
           }
          },
          "title": {
           "x": 0.05
          },
          "xaxis": {
           "automargin": true,
           "gridcolor": "white",
           "linecolor": "white",
           "ticks": "",
           "title": {
            "standoff": 15
           },
           "zerolinecolor": "white",
           "zerolinewidth": 2
          },
          "yaxis": {
           "automargin": true,
           "gridcolor": "white",
           "linecolor": "white",
           "ticks": "",
           "title": {
            "standoff": 15
           },
           "zerolinecolor": "white",
           "zerolinewidth": 2
          }
         }
        },
        "width": 1600,
        "xaxis": {
         "title": {
          "text": "problem dimension"
         }
        },
        "yaxis": {
         "title": {
          "text": "fraction of the original train set"
         }
        }
       }
      }
     },
     "metadata": {},
     "output_type": "display_data"
    }
   ],
   "source": [
    "### fraction of augmented and filtered data mean, median, std depending on the number of variables\n",
    "\n",
    "# set x, y and color variables\n",
    "color_columns_list=['frac_augmented', 'frac_filtered']\n",
    "x_column = 'nb_nodes'\n",
    "\n",
    "# aggregate results\n",
    "res_tot = compute_stats_for_line_plot_paper(results_dimensions, [x_column], color_columns_list[0])\n",
    "res_col = compute_stats_for_line_plot_paper(results_dimensions, [x_column], color_columns_list[1])\n",
    "res_tot = res_tot.merge(res_col, how=\"left\", on=[x_column]).sort_values(by=[x_column])\n",
    "\n",
    "# Figure\n",
    "fig = go.Figure()\n",
    "  \n",
    "### frac_augmented results\n",
    "# abscisse\n",
    "x = res_tot[x_column].tolist()\n",
    "x_rev = x[::-1]\n",
    "# Line 1\n",
    "y1 = res_tot['frac_augmented' + '_mean'].tolist()\n",
    "y1_upper = res_tot['frac_augmented' + '_upper'].tolist()\n",
    "y1_lower = res_tot['frac_augmented' + '_lower'].tolist()\n",
    "y1_lower = y1_lower[::-1]\n",
    "# Line 2\n",
    "y2 = res_tot['frac_augmented' + '_median'].tolist()\n",
    "\n",
    "fig.add_trace(go.Scatter(\n",
    "    x=x+x_rev,\n",
    "    y=y1_upper+y1_lower,\n",
    "    fill='toself',\n",
    "    fillcolor=transparent_color_list[0],\n",
    "    line_color='rgba(255,255,255,0)', \n",
    "    showlegend=False\n",
    "))\n",
    "fig.add_trace(go.Scatter(\n",
    "    x=x,\n",
    "    y=y1,\n",
    "    line_color=color_list[0],\n",
    "    name='augmented',\n",
    "))\n",
    "fig.add_trace(go.Scatter(\n",
    "    x=x,\n",
    "    y=y2,\n",
    "    line_color=color_list[0],\n",
    "    line_dash='dot',\n",
    "    showlegend=False\n",
    "))\n",
    "fig.update_traces(mode='lines')\n",
    "\n",
    "### frac_filtered results\n",
    "# abscisse\n",
    "x = res_tot[x_column].tolist()\n",
    "x_rev = x[::-1]\n",
    "# Line 1\n",
    "y1 = res_tot['frac_filtered' + '_mean'].tolist()\n",
    "y1_upper = res_tot['frac_filtered' + '_upper'].tolist()\n",
    "y1_lower = res_tot['frac_filtered' + '_lower'].tolist()\n",
    "y1_lower = y1_lower[::-1]\n",
    "# Line 2\n",
    "y2 = res_tot['frac_filtered' + '_median'].tolist()\n",
    "\n",
    "fig.add_trace(go.Scatter(\n",
    "    x=x+x_rev,\n",
    "    y=y1_upper+y1_lower,\n",
    "    fill='toself',\n",
    "    fillcolor=transparent_color_list[1],\n",
    "    line_color='rgba(255,255,255,0)', \n",
    "    showlegend=False\n",
    "))\n",
    "fig.add_trace(go.Scatter(\n",
    "    x=x,\n",
    "    y=y1,\n",
    "    line_color=color_list[1],\n",
    "    name='filtered',\n",
    "))\n",
    "fig.add_trace(go.Scatter(\n",
    "    x=x,\n",
    "    y=y2,\n",
    "    line_color=color_list[1],\n",
    "    line_dash='dot',\n",
    "    showlegend=False\n",
    "))\n",
    "fig.update_traces(mode='lines')\n",
    "\n",
    "# legend position\n",
    "fig.update_layout(legend=dict(\n",
    "    yanchor=\"top\",\n",
    "    y=0.99,\n",
    "    xanchor=\"left\",\n",
    "    x=0.01\n",
    "))\n",
    "\n",
    "# magin & size\n",
    "fig.update_layout(\n",
    "    margin=dict(l=20, r=10, t=10, b=10),\n",
    "    width=1600,\n",
    "    height=300,\n",
    ")\n",
    "\n",
    "# axis titles\n",
    "fig.update_yaxes(title_text='fraction of the original train set')\n",
    "fig.update_xaxes(title_text='problem dimension')\n",
    "\n",
    "fig.show()"
   ]
  },
  {
   "cell_type": "code",
   "execution_count": 17,
   "metadata": {},
   "outputs": [
    {
     "name": "stderr",
     "output_type": "stream",
     "text": [
      "C:\\Users\\AudreyPOINSOT\\AppData\\Local\\Temp\\ipykernel_21960\\1025098877.py:12: FutureWarning:\n",
      "\n",
      "['mechanism', 'predicted_variable', 'predicted_variable_node_type', 'variance_train_NOT_weighted', 'variance_aug_NOT_weighted', 'variance_aug_weighted'] did not aggregate successfully. If any error is raised this will raise in a future version of pandas. Drop these columns/ops to avoid this warning.\n",
      "\n",
      "C:\\Users\\AudreyPOINSOT\\AppData\\Local\\Temp\\ipykernel_21960\\1025098877.py:12: FutureWarning:\n",
      "\n",
      "['mechanism', 'predicted_variable', 'predicted_variable_node_type', 'variance_train_NOT_weighted', 'variance_aug_NOT_weighted', 'variance_aug_weighted'] did not aggregate successfully. If any error is raised this will raise in a future version of pandas. Drop these columns/ops to avoid this warning.\n",
      "\n"
     ]
    },
    {
     "data": {
      "application/vnd.plotly.v1+json": {
       "config": {
        "plotlyServerURL": "https://plot.ly"
       },
       "data": [
        {
         "line": {
          "color": "rgb(238,44,44)",
          "dash": "dot"
         },
         "mode": "lines",
         "name": "CausalDA",
         "type": "scatter",
         "x": [
          7,
          8,
          9,
          10,
          15,
          20,
          25
         ],
         "y": [
          0.3169651134912434,
          0.306123961741095,
          0.3730074630546216,
          0.37815740082044474,
          0.4082662279509373,
          0.3538299023355447,
          null
         ]
        },
        {
         "line": {
          "color": "rgb(0,0,205)",
          "dash": "dot"
         },
         "mode": "lines",
         "name": "Baseline",
         "type": "scatter",
         "x": [
          7,
          8,
          9,
          10,
          15,
          20,
          25
         ],
         "y": [
          0.36066567142624684,
          0.3354822305656475,
          0.39636683373925163,
          0.43815595033229493,
          0.4703375691684971,
          0.5161334634789725,
          0.6516996692211559
         ]
        }
       ],
       "layout": {
        "height": 300,
        "legend": {
         "x": 0.01,
         "xanchor": "left",
         "y": 0.99,
         "yanchor": "top"
        },
        "margin": {
         "b": 10,
         "l": 20,
         "r": 10,
         "t": 10
        },
        "template": {
         "data": {
          "bar": [
           {
            "error_x": {
             "color": "#2a3f5f"
            },
            "error_y": {
             "color": "#2a3f5f"
            },
            "marker": {
             "line": {
              "color": "#E5ECF6",
              "width": 0.5
             },
             "pattern": {
              "fillmode": "overlay",
              "size": 10,
              "solidity": 0.2
             }
            },
            "type": "bar"
           }
          ],
          "barpolar": [
           {
            "marker": {
             "line": {
              "color": "#E5ECF6",
              "width": 0.5
             },
             "pattern": {
              "fillmode": "overlay",
              "size": 10,
              "solidity": 0.2
             }
            },
            "type": "barpolar"
           }
          ],
          "carpet": [
           {
            "aaxis": {
             "endlinecolor": "#2a3f5f",
             "gridcolor": "white",
             "linecolor": "white",
             "minorgridcolor": "white",
             "startlinecolor": "#2a3f5f"
            },
            "baxis": {
             "endlinecolor": "#2a3f5f",
             "gridcolor": "white",
             "linecolor": "white",
             "minorgridcolor": "white",
             "startlinecolor": "#2a3f5f"
            },
            "type": "carpet"
           }
          ],
          "choropleth": [
           {
            "colorbar": {
             "outlinewidth": 0,
             "ticks": ""
            },
            "type": "choropleth"
           }
          ],
          "contour": [
           {
            "colorbar": {
             "outlinewidth": 0,
             "ticks": ""
            },
            "colorscale": [
             [
              0,
              "#0d0887"
             ],
             [
              0.1111111111111111,
              "#46039f"
             ],
             [
              0.2222222222222222,
              "#7201a8"
             ],
             [
              0.3333333333333333,
              "#9c179e"
             ],
             [
              0.4444444444444444,
              "#bd3786"
             ],
             [
              0.5555555555555556,
              "#d8576b"
             ],
             [
              0.6666666666666666,
              "#ed7953"
             ],
             [
              0.7777777777777778,
              "#fb9f3a"
             ],
             [
              0.8888888888888888,
              "#fdca26"
             ],
             [
              1,
              "#f0f921"
             ]
            ],
            "type": "contour"
           }
          ],
          "contourcarpet": [
           {
            "colorbar": {
             "outlinewidth": 0,
             "ticks": ""
            },
            "type": "contourcarpet"
           }
          ],
          "heatmap": [
           {
            "colorbar": {
             "outlinewidth": 0,
             "ticks": ""
            },
            "colorscale": [
             [
              0,
              "#0d0887"
             ],
             [
              0.1111111111111111,
              "#46039f"
             ],
             [
              0.2222222222222222,
              "#7201a8"
             ],
             [
              0.3333333333333333,
              "#9c179e"
             ],
             [
              0.4444444444444444,
              "#bd3786"
             ],
             [
              0.5555555555555556,
              "#d8576b"
             ],
             [
              0.6666666666666666,
              "#ed7953"
             ],
             [
              0.7777777777777778,
              "#fb9f3a"
             ],
             [
              0.8888888888888888,
              "#fdca26"
             ],
             [
              1,
              "#f0f921"
             ]
            ],
            "type": "heatmap"
           }
          ],
          "heatmapgl": [
           {
            "colorbar": {
             "outlinewidth": 0,
             "ticks": ""
            },
            "colorscale": [
             [
              0,
              "#0d0887"
             ],
             [
              0.1111111111111111,
              "#46039f"
             ],
             [
              0.2222222222222222,
              "#7201a8"
             ],
             [
              0.3333333333333333,
              "#9c179e"
             ],
             [
              0.4444444444444444,
              "#bd3786"
             ],
             [
              0.5555555555555556,
              "#d8576b"
             ],
             [
              0.6666666666666666,
              "#ed7953"
             ],
             [
              0.7777777777777778,
              "#fb9f3a"
             ],
             [
              0.8888888888888888,
              "#fdca26"
             ],
             [
              1,
              "#f0f921"
             ]
            ],
            "type": "heatmapgl"
           }
          ],
          "histogram": [
           {
            "marker": {
             "pattern": {
              "fillmode": "overlay",
              "size": 10,
              "solidity": 0.2
             }
            },
            "type": "histogram"
           }
          ],
          "histogram2d": [
           {
            "colorbar": {
             "outlinewidth": 0,
             "ticks": ""
            },
            "colorscale": [
             [
              0,
              "#0d0887"
             ],
             [
              0.1111111111111111,
              "#46039f"
             ],
             [
              0.2222222222222222,
              "#7201a8"
             ],
             [
              0.3333333333333333,
              "#9c179e"
             ],
             [
              0.4444444444444444,
              "#bd3786"
             ],
             [
              0.5555555555555556,
              "#d8576b"
             ],
             [
              0.6666666666666666,
              "#ed7953"
             ],
             [
              0.7777777777777778,
              "#fb9f3a"
             ],
             [
              0.8888888888888888,
              "#fdca26"
             ],
             [
              1,
              "#f0f921"
             ]
            ],
            "type": "histogram2d"
           }
          ],
          "histogram2dcontour": [
           {
            "colorbar": {
             "outlinewidth": 0,
             "ticks": ""
            },
            "colorscale": [
             [
              0,
              "#0d0887"
             ],
             [
              0.1111111111111111,
              "#46039f"
             ],
             [
              0.2222222222222222,
              "#7201a8"
             ],
             [
              0.3333333333333333,
              "#9c179e"
             ],
             [
              0.4444444444444444,
              "#bd3786"
             ],
             [
              0.5555555555555556,
              "#d8576b"
             ],
             [
              0.6666666666666666,
              "#ed7953"
             ],
             [
              0.7777777777777778,
              "#fb9f3a"
             ],
             [
              0.8888888888888888,
              "#fdca26"
             ],
             [
              1,
              "#f0f921"
             ]
            ],
            "type": "histogram2dcontour"
           }
          ],
          "mesh3d": [
           {
            "colorbar": {
             "outlinewidth": 0,
             "ticks": ""
            },
            "type": "mesh3d"
           }
          ],
          "parcoords": [
           {
            "line": {
             "colorbar": {
              "outlinewidth": 0,
              "ticks": ""
             }
            },
            "type": "parcoords"
           }
          ],
          "pie": [
           {
            "automargin": true,
            "type": "pie"
           }
          ],
          "scatter": [
           {
            "fillpattern": {
             "fillmode": "overlay",
             "size": 10,
             "solidity": 0.2
            },
            "type": "scatter"
           }
          ],
          "scatter3d": [
           {
            "line": {
             "colorbar": {
              "outlinewidth": 0,
              "ticks": ""
             }
            },
            "marker": {
             "colorbar": {
              "outlinewidth": 0,
              "ticks": ""
             }
            },
            "type": "scatter3d"
           }
          ],
          "scattercarpet": [
           {
            "marker": {
             "colorbar": {
              "outlinewidth": 0,
              "ticks": ""
             }
            },
            "type": "scattercarpet"
           }
          ],
          "scattergeo": [
           {
            "marker": {
             "colorbar": {
              "outlinewidth": 0,
              "ticks": ""
             }
            },
            "type": "scattergeo"
           }
          ],
          "scattergl": [
           {
            "marker": {
             "colorbar": {
              "outlinewidth": 0,
              "ticks": ""
             }
            },
            "type": "scattergl"
           }
          ],
          "scattermapbox": [
           {
            "marker": {
             "colorbar": {
              "outlinewidth": 0,
              "ticks": ""
             }
            },
            "type": "scattermapbox"
           }
          ],
          "scatterpolar": [
           {
            "marker": {
             "colorbar": {
              "outlinewidth": 0,
              "ticks": ""
             }
            },
            "type": "scatterpolar"
           }
          ],
          "scatterpolargl": [
           {
            "marker": {
             "colorbar": {
              "outlinewidth": 0,
              "ticks": ""
             }
            },
            "type": "scatterpolargl"
           }
          ],
          "scatterternary": [
           {
            "marker": {
             "colorbar": {
              "outlinewidth": 0,
              "ticks": ""
             }
            },
            "type": "scatterternary"
           }
          ],
          "surface": [
           {
            "colorbar": {
             "outlinewidth": 0,
             "ticks": ""
            },
            "colorscale": [
             [
              0,
              "#0d0887"
             ],
             [
              0.1111111111111111,
              "#46039f"
             ],
             [
              0.2222222222222222,
              "#7201a8"
             ],
             [
              0.3333333333333333,
              "#9c179e"
             ],
             [
              0.4444444444444444,
              "#bd3786"
             ],
             [
              0.5555555555555556,
              "#d8576b"
             ],
             [
              0.6666666666666666,
              "#ed7953"
             ],
             [
              0.7777777777777778,
              "#fb9f3a"
             ],
             [
              0.8888888888888888,
              "#fdca26"
             ],
             [
              1,
              "#f0f921"
             ]
            ],
            "type": "surface"
           }
          ],
          "table": [
           {
            "cells": {
             "fill": {
              "color": "#EBF0F8"
             },
             "line": {
              "color": "white"
             }
            },
            "header": {
             "fill": {
              "color": "#C8D4E3"
             },
             "line": {
              "color": "white"
             }
            },
            "type": "table"
           }
          ]
         },
         "layout": {
          "annotationdefaults": {
           "arrowcolor": "#2a3f5f",
           "arrowhead": 0,
           "arrowwidth": 1
          },
          "autotypenumbers": "strict",
          "coloraxis": {
           "colorbar": {
            "outlinewidth": 0,
            "ticks": ""
           }
          },
          "colorscale": {
           "diverging": [
            [
             0,
             "#8e0152"
            ],
            [
             0.1,
             "#c51b7d"
            ],
            [
             0.2,
             "#de77ae"
            ],
            [
             0.3,
             "#f1b6da"
            ],
            [
             0.4,
             "#fde0ef"
            ],
            [
             0.5,
             "#f7f7f7"
            ],
            [
             0.6,
             "#e6f5d0"
            ],
            [
             0.7,
             "#b8e186"
            ],
            [
             0.8,
             "#7fbc41"
            ],
            [
             0.9,
             "#4d9221"
            ],
            [
             1,
             "#276419"
            ]
           ],
           "sequential": [
            [
             0,
             "#0d0887"
            ],
            [
             0.1111111111111111,
             "#46039f"
            ],
            [
             0.2222222222222222,
             "#7201a8"
            ],
            [
             0.3333333333333333,
             "#9c179e"
            ],
            [
             0.4444444444444444,
             "#bd3786"
            ],
            [
             0.5555555555555556,
             "#d8576b"
            ],
            [
             0.6666666666666666,
             "#ed7953"
            ],
            [
             0.7777777777777778,
             "#fb9f3a"
            ],
            [
             0.8888888888888888,
             "#fdca26"
            ],
            [
             1,
             "#f0f921"
            ]
           ],
           "sequentialminus": [
            [
             0,
             "#0d0887"
            ],
            [
             0.1111111111111111,
             "#46039f"
            ],
            [
             0.2222222222222222,
             "#7201a8"
            ],
            [
             0.3333333333333333,
             "#9c179e"
            ],
            [
             0.4444444444444444,
             "#bd3786"
            ],
            [
             0.5555555555555556,
             "#d8576b"
            ],
            [
             0.6666666666666666,
             "#ed7953"
            ],
            [
             0.7777777777777778,
             "#fb9f3a"
            ],
            [
             0.8888888888888888,
             "#fdca26"
            ],
            [
             1,
             "#f0f921"
            ]
           ]
          },
          "colorway": [
           "#636efa",
           "#EF553B",
           "#00cc96",
           "#ab63fa",
           "#FFA15A",
           "#19d3f3",
           "#FF6692",
           "#B6E880",
           "#FF97FF",
           "#FECB52"
          ],
          "font": {
           "color": "#2a3f5f"
          },
          "geo": {
           "bgcolor": "white",
           "lakecolor": "white",
           "landcolor": "#E5ECF6",
           "showlakes": true,
           "showland": true,
           "subunitcolor": "white"
          },
          "hoverlabel": {
           "align": "left"
          },
          "hovermode": "closest",
          "mapbox": {
           "style": "light"
          },
          "paper_bgcolor": "white",
          "plot_bgcolor": "#E5ECF6",
          "polar": {
           "angularaxis": {
            "gridcolor": "white",
            "linecolor": "white",
            "ticks": ""
           },
           "bgcolor": "#E5ECF6",
           "radialaxis": {
            "gridcolor": "white",
            "linecolor": "white",
            "ticks": ""
           }
          },
          "scene": {
           "xaxis": {
            "backgroundcolor": "#E5ECF6",
            "gridcolor": "white",
            "gridwidth": 2,
            "linecolor": "white",
            "showbackground": true,
            "ticks": "",
            "zerolinecolor": "white"
           },
           "yaxis": {
            "backgroundcolor": "#E5ECF6",
            "gridcolor": "white",
            "gridwidth": 2,
            "linecolor": "white",
            "showbackground": true,
            "ticks": "",
            "zerolinecolor": "white"
           },
           "zaxis": {
            "backgroundcolor": "#E5ECF6",
            "gridcolor": "white",
            "gridwidth": 2,
            "linecolor": "white",
            "showbackground": true,
            "ticks": "",
            "zerolinecolor": "white"
           }
          },
          "shapedefaults": {
           "line": {
            "color": "#2a3f5f"
           }
          },
          "ternary": {
           "aaxis": {
            "gridcolor": "white",
            "linecolor": "white",
            "ticks": ""
           },
           "baxis": {
            "gridcolor": "white",
            "linecolor": "white",
            "ticks": ""
           },
           "bgcolor": "#E5ECF6",
           "caxis": {
            "gridcolor": "white",
            "linecolor": "white",
            "ticks": ""
           }
          },
          "title": {
           "x": 0.05
          },
          "xaxis": {
           "automargin": true,
           "gridcolor": "white",
           "linecolor": "white",
           "ticks": "",
           "title": {
            "standoff": 15
           },
           "zerolinecolor": "white",
           "zerolinewidth": 2
          },
          "yaxis": {
           "automargin": true,
           "gridcolor": "white",
           "linecolor": "white",
           "ticks": "",
           "title": {
            "standoff": 15
           },
           "zerolinecolor": "white",
           "zerolinewidth": 2
          }
         }
        },
        "width": 800,
        "xaxis": {
         "title": {
          "text": "problem dimension"
         }
        },
        "yaxis": {
         "title": {
          "text": "MAPE"
         }
        }
       }
      }
     },
     "metadata": {},
     "output_type": "display_data"
    }
   ],
   "source": [
    "### XGB median MAPE depending on the number of variables\n",
    "\n",
    "# set x, y and color variables\n",
    "color_columns_list=['MAPE_CausalDA', 'MAPE_Baseline']\n",
    "x_column = 'nb_nodes'\n",
    "\n",
    "# aggregate results\n",
    "res_tot = compute_stats_for_line_plot_paper(results_dimensions, [x_column], color_columns_list[0])\n",
    "res_col = compute_stats_for_line_plot_paper(results_dimensions, [x_column], color_columns_list[1])\n",
    "res_tot = res_tot.merge(res_col, how=\"left\", on=[x_column]).sort_values(by=[x_column])\n",
    "\n",
    "# Figure\n",
    "fig = go.Figure()\n",
    "  \n",
    "### CausalDA results\n",
    "# abscisse\n",
    "x = res_tot[x_column].tolist()\n",
    "x_rev = x[::-1]\n",
    "# Line 1\n",
    "y1 = res_tot['MAPE_CausalDA' + '_mean'].tolist()\n",
    "y1_upper = res_tot['MAPE_CausalDA' + '_upper'].tolist()\n",
    "y1_lower = res_tot['MAPE_CausalDA' + '_lower'].tolist()\n",
    "y1_lower = y1_lower[::-1]\n",
    "# Line 2\n",
    "y2 = res_tot['MAPE_CausalDA' + '_median'].tolist()\n",
    "\n",
    "fig.add_trace(go.Scatter(\n",
    "    x=x,\n",
    "    y=y2,\n",
    "    line_color=color_list[0],\n",
    "    line_dash='dot',\n",
    "    name='CausalDA',\n",
    "))\n",
    "fig.update_traces(mode='lines')\n",
    "\n",
    "### Baseline results\n",
    "# abscisse\n",
    "x = res_tot[x_column].tolist()\n",
    "x_rev = x[::-1]\n",
    "# Line 1\n",
    "y1 = res_tot['MAPE_Baseline' + '_mean'].tolist()\n",
    "y1_upper = res_tot['MAPE_Baseline' + '_upper'].tolist()\n",
    "y1_lower = res_tot['MAPE_Baseline' + '_lower'].tolist()\n",
    "y1_lower = y1_lower[::-1]\n",
    "# Line 2\n",
    "y2 = res_tot['MAPE_Baseline' + '_median'].tolist()\n",
    "\n",
    "fig.add_trace(go.Scatter(\n",
    "    x=x,\n",
    "    y=y2,\n",
    "    line_color=color_list[1],\n",
    "    line_dash='dot',\n",
    "    name='Baseline',\n",
    "))\n",
    "fig.update_traces(mode='lines')\n",
    "\n",
    "# legend position\n",
    "fig.update_layout(legend=dict(\n",
    "    yanchor=\"top\",\n",
    "    y=0.99,\n",
    "    xanchor=\"left\",\n",
    "    x=0.01\n",
    "))\n",
    "\n",
    "# magin & size\n",
    "fig.update_layout(\n",
    "    margin=dict(l=20, r=10, t=10, b=10),\n",
    "    width=800,\n",
    "    height=300,\n",
    ")\n",
    "\n",
    "# axis titles\n",
    "fig.update_yaxes(title_text='MAPE')\n",
    "fig.update_xaxes(title_text='problem dimension')\n",
    "\n",
    "fig.show()"
   ]
  },
  {
   "cell_type": "code",
   "execution_count": 18,
   "metadata": {},
   "outputs": [
    {
     "name": "stderr",
     "output_type": "stream",
     "text": [
      "C:\\Users\\AudreyPOINSOT\\AppData\\Local\\Temp\\ipykernel_21960\\1025098877.py:12: FutureWarning:\n",
      "\n",
      "['mechanism', 'predicted_variable', 'predicted_variable_node_type', 'variance_train_NOT_weighted', 'variance_aug_NOT_weighted', 'variance_aug_weighted'] did not aggregate successfully. If any error is raised this will raise in a future version of pandas. Drop these columns/ops to avoid this warning.\n",
      "\n",
      "C:\\Users\\AudreyPOINSOT\\AppData\\Local\\Temp\\ipykernel_21960\\1025098877.py:12: FutureWarning:\n",
      "\n",
      "['mechanism', 'predicted_variable', 'predicted_variable_node_type', 'variance_train_NOT_weighted', 'variance_aug_NOT_weighted', 'variance_aug_weighted'] did not aggregate successfully. If any error is raised this will raise in a future version of pandas. Drop these columns/ops to avoid this warning.\n",
      "\n"
     ]
    },
    {
     "data": {
      "application/vnd.plotly.v1+json": {
       "config": {
        "plotlyServerURL": "https://plot.ly"
       },
       "data": [
        {
         "line": {
          "color": "rgb(238,44,44)",
          "dash": "dot"
         },
         "mode": "lines",
         "name": "CausalDA",
         "type": "scatter",
         "x": [
          7,
          8,
          9,
          10,
          15,
          20,
          25
         ],
         "y": [
          0.9878218478955679,
          0.9860706933099788,
          0.9874248367439897,
          0.982798215439268,
          0.9802913213156078,
          0.9803836635935264,
          null
         ]
        },
        {
         "line": {
          "color": "rgb(0,0,205)",
          "dash": "dot"
         },
         "mode": "lines",
         "name": "Baseline",
         "type": "scatter",
         "x": [
          7,
          8,
          9,
          10,
          15,
          20,
          25
         ],
         "y": [
          0.98720092658271,
          0.9849182247250674,
          0.9808840025670381,
          0.9802222374620015,
          0.9726474110958823,
          0.9737226264786178,
          0.9602054835752021
         ]
        }
       ],
       "layout": {
        "height": 300,
        "legend": {
         "x": 0.01,
         "xanchor": "left",
         "y": 0.01,
         "yanchor": "bottom"
        },
        "margin": {
         "b": 10,
         "l": 20,
         "r": 10,
         "t": 10
        },
        "template": {
         "data": {
          "bar": [
           {
            "error_x": {
             "color": "#2a3f5f"
            },
            "error_y": {
             "color": "#2a3f5f"
            },
            "marker": {
             "line": {
              "color": "#E5ECF6",
              "width": 0.5
             },
             "pattern": {
              "fillmode": "overlay",
              "size": 10,
              "solidity": 0.2
             }
            },
            "type": "bar"
           }
          ],
          "barpolar": [
           {
            "marker": {
             "line": {
              "color": "#E5ECF6",
              "width": 0.5
             },
             "pattern": {
              "fillmode": "overlay",
              "size": 10,
              "solidity": 0.2
             }
            },
            "type": "barpolar"
           }
          ],
          "carpet": [
           {
            "aaxis": {
             "endlinecolor": "#2a3f5f",
             "gridcolor": "white",
             "linecolor": "white",
             "minorgridcolor": "white",
             "startlinecolor": "#2a3f5f"
            },
            "baxis": {
             "endlinecolor": "#2a3f5f",
             "gridcolor": "white",
             "linecolor": "white",
             "minorgridcolor": "white",
             "startlinecolor": "#2a3f5f"
            },
            "type": "carpet"
           }
          ],
          "choropleth": [
           {
            "colorbar": {
             "outlinewidth": 0,
             "ticks": ""
            },
            "type": "choropleth"
           }
          ],
          "contour": [
           {
            "colorbar": {
             "outlinewidth": 0,
             "ticks": ""
            },
            "colorscale": [
             [
              0,
              "#0d0887"
             ],
             [
              0.1111111111111111,
              "#46039f"
             ],
             [
              0.2222222222222222,
              "#7201a8"
             ],
             [
              0.3333333333333333,
              "#9c179e"
             ],
             [
              0.4444444444444444,
              "#bd3786"
             ],
             [
              0.5555555555555556,
              "#d8576b"
             ],
             [
              0.6666666666666666,
              "#ed7953"
             ],
             [
              0.7777777777777778,
              "#fb9f3a"
             ],
             [
              0.8888888888888888,
              "#fdca26"
             ],
             [
              1,
              "#f0f921"
             ]
            ],
            "type": "contour"
           }
          ],
          "contourcarpet": [
           {
            "colorbar": {
             "outlinewidth": 0,
             "ticks": ""
            },
            "type": "contourcarpet"
           }
          ],
          "heatmap": [
           {
            "colorbar": {
             "outlinewidth": 0,
             "ticks": ""
            },
            "colorscale": [
             [
              0,
              "#0d0887"
             ],
             [
              0.1111111111111111,
              "#46039f"
             ],
             [
              0.2222222222222222,
              "#7201a8"
             ],
             [
              0.3333333333333333,
              "#9c179e"
             ],
             [
              0.4444444444444444,
              "#bd3786"
             ],
             [
              0.5555555555555556,
              "#d8576b"
             ],
             [
              0.6666666666666666,
              "#ed7953"
             ],
             [
              0.7777777777777778,
              "#fb9f3a"
             ],
             [
              0.8888888888888888,
              "#fdca26"
             ],
             [
              1,
              "#f0f921"
             ]
            ],
            "type": "heatmap"
           }
          ],
          "heatmapgl": [
           {
            "colorbar": {
             "outlinewidth": 0,
             "ticks": ""
            },
            "colorscale": [
             [
              0,
              "#0d0887"
             ],
             [
              0.1111111111111111,
              "#46039f"
             ],
             [
              0.2222222222222222,
              "#7201a8"
             ],
             [
              0.3333333333333333,
              "#9c179e"
             ],
             [
              0.4444444444444444,
              "#bd3786"
             ],
             [
              0.5555555555555556,
              "#d8576b"
             ],
             [
              0.6666666666666666,
              "#ed7953"
             ],
             [
              0.7777777777777778,
              "#fb9f3a"
             ],
             [
              0.8888888888888888,
              "#fdca26"
             ],
             [
              1,
              "#f0f921"
             ]
            ],
            "type": "heatmapgl"
           }
          ],
          "histogram": [
           {
            "marker": {
             "pattern": {
              "fillmode": "overlay",
              "size": 10,
              "solidity": 0.2
             }
            },
            "type": "histogram"
           }
          ],
          "histogram2d": [
           {
            "colorbar": {
             "outlinewidth": 0,
             "ticks": ""
            },
            "colorscale": [
             [
              0,
              "#0d0887"
             ],
             [
              0.1111111111111111,
              "#46039f"
             ],
             [
              0.2222222222222222,
              "#7201a8"
             ],
             [
              0.3333333333333333,
              "#9c179e"
             ],
             [
              0.4444444444444444,
              "#bd3786"
             ],
             [
              0.5555555555555556,
              "#d8576b"
             ],
             [
              0.6666666666666666,
              "#ed7953"
             ],
             [
              0.7777777777777778,
              "#fb9f3a"
             ],
             [
              0.8888888888888888,
              "#fdca26"
             ],
             [
              1,
              "#f0f921"
             ]
            ],
            "type": "histogram2d"
           }
          ],
          "histogram2dcontour": [
           {
            "colorbar": {
             "outlinewidth": 0,
             "ticks": ""
            },
            "colorscale": [
             [
              0,
              "#0d0887"
             ],
             [
              0.1111111111111111,
              "#46039f"
             ],
             [
              0.2222222222222222,
              "#7201a8"
             ],
             [
              0.3333333333333333,
              "#9c179e"
             ],
             [
              0.4444444444444444,
              "#bd3786"
             ],
             [
              0.5555555555555556,
              "#d8576b"
             ],
             [
              0.6666666666666666,
              "#ed7953"
             ],
             [
              0.7777777777777778,
              "#fb9f3a"
             ],
             [
              0.8888888888888888,
              "#fdca26"
             ],
             [
              1,
              "#f0f921"
             ]
            ],
            "type": "histogram2dcontour"
           }
          ],
          "mesh3d": [
           {
            "colorbar": {
             "outlinewidth": 0,
             "ticks": ""
            },
            "type": "mesh3d"
           }
          ],
          "parcoords": [
           {
            "line": {
             "colorbar": {
              "outlinewidth": 0,
              "ticks": ""
             }
            },
            "type": "parcoords"
           }
          ],
          "pie": [
           {
            "automargin": true,
            "type": "pie"
           }
          ],
          "scatter": [
           {
            "fillpattern": {
             "fillmode": "overlay",
             "size": 10,
             "solidity": 0.2
            },
            "type": "scatter"
           }
          ],
          "scatter3d": [
           {
            "line": {
             "colorbar": {
              "outlinewidth": 0,
              "ticks": ""
             }
            },
            "marker": {
             "colorbar": {
              "outlinewidth": 0,
              "ticks": ""
             }
            },
            "type": "scatter3d"
           }
          ],
          "scattercarpet": [
           {
            "marker": {
             "colorbar": {
              "outlinewidth": 0,
              "ticks": ""
             }
            },
            "type": "scattercarpet"
           }
          ],
          "scattergeo": [
           {
            "marker": {
             "colorbar": {
              "outlinewidth": 0,
              "ticks": ""
             }
            },
            "type": "scattergeo"
           }
          ],
          "scattergl": [
           {
            "marker": {
             "colorbar": {
              "outlinewidth": 0,
              "ticks": ""
             }
            },
            "type": "scattergl"
           }
          ],
          "scattermapbox": [
           {
            "marker": {
             "colorbar": {
              "outlinewidth": 0,
              "ticks": ""
             }
            },
            "type": "scattermapbox"
           }
          ],
          "scatterpolar": [
           {
            "marker": {
             "colorbar": {
              "outlinewidth": 0,
              "ticks": ""
             }
            },
            "type": "scatterpolar"
           }
          ],
          "scatterpolargl": [
           {
            "marker": {
             "colorbar": {
              "outlinewidth": 0,
              "ticks": ""
             }
            },
            "type": "scatterpolargl"
           }
          ],
          "scatterternary": [
           {
            "marker": {
             "colorbar": {
              "outlinewidth": 0,
              "ticks": ""
             }
            },
            "type": "scatterternary"
           }
          ],
          "surface": [
           {
            "colorbar": {
             "outlinewidth": 0,
             "ticks": ""
            },
            "colorscale": [
             [
              0,
              "#0d0887"
             ],
             [
              0.1111111111111111,
              "#46039f"
             ],
             [
              0.2222222222222222,
              "#7201a8"
             ],
             [
              0.3333333333333333,
              "#9c179e"
             ],
             [
              0.4444444444444444,
              "#bd3786"
             ],
             [
              0.5555555555555556,
              "#d8576b"
             ],
             [
              0.6666666666666666,
              "#ed7953"
             ],
             [
              0.7777777777777778,
              "#fb9f3a"
             ],
             [
              0.8888888888888888,
              "#fdca26"
             ],
             [
              1,
              "#f0f921"
             ]
            ],
            "type": "surface"
           }
          ],
          "table": [
           {
            "cells": {
             "fill": {
              "color": "#EBF0F8"
             },
             "line": {
              "color": "white"
             }
            },
            "header": {
             "fill": {
              "color": "#C8D4E3"
             },
             "line": {
              "color": "white"
             }
            },
            "type": "table"
           }
          ]
         },
         "layout": {
          "annotationdefaults": {
           "arrowcolor": "#2a3f5f",
           "arrowhead": 0,
           "arrowwidth": 1
          },
          "autotypenumbers": "strict",
          "coloraxis": {
           "colorbar": {
            "outlinewidth": 0,
            "ticks": ""
           }
          },
          "colorscale": {
           "diverging": [
            [
             0,
             "#8e0152"
            ],
            [
             0.1,
             "#c51b7d"
            ],
            [
             0.2,
             "#de77ae"
            ],
            [
             0.3,
             "#f1b6da"
            ],
            [
             0.4,
             "#fde0ef"
            ],
            [
             0.5,
             "#f7f7f7"
            ],
            [
             0.6,
             "#e6f5d0"
            ],
            [
             0.7,
             "#b8e186"
            ],
            [
             0.8,
             "#7fbc41"
            ],
            [
             0.9,
             "#4d9221"
            ],
            [
             1,
             "#276419"
            ]
           ],
           "sequential": [
            [
             0,
             "#0d0887"
            ],
            [
             0.1111111111111111,
             "#46039f"
            ],
            [
             0.2222222222222222,
             "#7201a8"
            ],
            [
             0.3333333333333333,
             "#9c179e"
            ],
            [
             0.4444444444444444,
             "#bd3786"
            ],
            [
             0.5555555555555556,
             "#d8576b"
            ],
            [
             0.6666666666666666,
             "#ed7953"
            ],
            [
             0.7777777777777778,
             "#fb9f3a"
            ],
            [
             0.8888888888888888,
             "#fdca26"
            ],
            [
             1,
             "#f0f921"
            ]
           ],
           "sequentialminus": [
            [
             0,
             "#0d0887"
            ],
            [
             0.1111111111111111,
             "#46039f"
            ],
            [
             0.2222222222222222,
             "#7201a8"
            ],
            [
             0.3333333333333333,
             "#9c179e"
            ],
            [
             0.4444444444444444,
             "#bd3786"
            ],
            [
             0.5555555555555556,
             "#d8576b"
            ],
            [
             0.6666666666666666,
             "#ed7953"
            ],
            [
             0.7777777777777778,
             "#fb9f3a"
            ],
            [
             0.8888888888888888,
             "#fdca26"
            ],
            [
             1,
             "#f0f921"
            ]
           ]
          },
          "colorway": [
           "#636efa",
           "#EF553B",
           "#00cc96",
           "#ab63fa",
           "#FFA15A",
           "#19d3f3",
           "#FF6692",
           "#B6E880",
           "#FF97FF",
           "#FECB52"
          ],
          "font": {
           "color": "#2a3f5f"
          },
          "geo": {
           "bgcolor": "white",
           "lakecolor": "white",
           "landcolor": "#E5ECF6",
           "showlakes": true,
           "showland": true,
           "subunitcolor": "white"
          },
          "hoverlabel": {
           "align": "left"
          },
          "hovermode": "closest",
          "mapbox": {
           "style": "light"
          },
          "paper_bgcolor": "white",
          "plot_bgcolor": "#E5ECF6",
          "polar": {
           "angularaxis": {
            "gridcolor": "white",
            "linecolor": "white",
            "ticks": ""
           },
           "bgcolor": "#E5ECF6",
           "radialaxis": {
            "gridcolor": "white",
            "linecolor": "white",
            "ticks": ""
           }
          },
          "scene": {
           "xaxis": {
            "backgroundcolor": "#E5ECF6",
            "gridcolor": "white",
            "gridwidth": 2,
            "linecolor": "white",
            "showbackground": true,
            "ticks": "",
            "zerolinecolor": "white"
           },
           "yaxis": {
            "backgroundcolor": "#E5ECF6",
            "gridcolor": "white",
            "gridwidth": 2,
            "linecolor": "white",
            "showbackground": true,
            "ticks": "",
            "zerolinecolor": "white"
           },
           "zaxis": {
            "backgroundcolor": "#E5ECF6",
            "gridcolor": "white",
            "gridwidth": 2,
            "linecolor": "white",
            "showbackground": true,
            "ticks": "",
            "zerolinecolor": "white"
           }
          },
          "shapedefaults": {
           "line": {
            "color": "#2a3f5f"
           }
          },
          "ternary": {
           "aaxis": {
            "gridcolor": "white",
            "linecolor": "white",
            "ticks": ""
           },
           "baxis": {
            "gridcolor": "white",
            "linecolor": "white",
            "ticks": ""
           },
           "bgcolor": "#E5ECF6",
           "caxis": {
            "gridcolor": "white",
            "linecolor": "white",
            "ticks": ""
           }
          },
          "title": {
           "x": 0.05
          },
          "xaxis": {
           "automargin": true,
           "gridcolor": "white",
           "linecolor": "white",
           "ticks": "",
           "title": {
            "standoff": 15
           },
           "zerolinecolor": "white",
           "zerolinewidth": 2
          },
          "yaxis": {
           "automargin": true,
           "gridcolor": "white",
           "linecolor": "white",
           "ticks": "",
           "title": {
            "standoff": 15
           },
           "zerolinecolor": "white",
           "zerolinewidth": 2
          }
         }
        },
        "width": 800,
        "xaxis": {
         "title": {
          "text": "problem dimension"
         }
        },
        "yaxis": {
         "title": {
          "text": "R2 score"
         }
        }
       }
      }
     },
     "metadata": {},
     "output_type": "display_data"
    }
   ],
   "source": [
    "### XGB median R2 depending on the number of variables\n",
    "\n",
    "# set x, y and color variables\n",
    "color_columns_list=['r2_CausalDA', 'r2_Baseline']\n",
    "x_column = 'nb_nodes'\n",
    "\n",
    "# aggregate results\n",
    "res_tot = compute_stats_for_line_plot_paper(results_dimensions, [x_column], color_columns_list[0])\n",
    "res_col = compute_stats_for_line_plot_paper(results_dimensions, [x_column], color_columns_list[1])\n",
    "res_tot = res_tot.merge(res_col, how=\"left\", on=[x_column]).sort_values(by=[x_column])\n",
    "\n",
    "# Figure\n",
    "fig = go.Figure()\n",
    "  \n",
    "### CausalDA results\n",
    "# abscisse\n",
    "x = res_tot[x_column].tolist()\n",
    "x_rev = x[::-1]\n",
    "# Line 1\n",
    "y1 = res_tot['r2_CausalDA' + '_mean'].tolist()\n",
    "y1_upper = res_tot['r2_CausalDA' + '_upper'].tolist()\n",
    "y1_lower = res_tot['r2_CausalDA' + '_lower'].tolist()\n",
    "y1_lower = y1_lower[::-1]\n",
    "# Line 2\n",
    "y2 = res_tot['r2_CausalDA' + '_median'].tolist()\n",
    "\n",
    "fig.add_trace(go.Scatter(\n",
    "    x=x,\n",
    "    y=y2,\n",
    "    line_color=color_list[0],\n",
    "    line_dash='dot',\n",
    "    name='CausalDA',\n",
    "))\n",
    "fig.update_traces(mode='lines')\n",
    "\n",
    "### Baseline results\n",
    "# abscisse\n",
    "x = res_tot[x_column].tolist()\n",
    "x_rev = x[::-1]\n",
    "# Line 1\n",
    "y1 = res_tot['r2_Baseline' + '_mean'].tolist()\n",
    "y1_upper = res_tot['r2_Baseline' + '_upper'].tolist()\n",
    "y1_lower = res_tot['r2_Baseline' + '_lower'].tolist()\n",
    "y1_lower = y1_lower[::-1]\n",
    "# Line 2\n",
    "y2 = res_tot['r2_Baseline' + '_median'].tolist()\n",
    "\n",
    "fig.add_trace(go.Scatter(\n",
    "    x=x,\n",
    "    y=y2,\n",
    "    line_color=color_list[1],\n",
    "    line_dash='dot',\n",
    "    name='Baseline',\n",
    "))\n",
    "fig.update_traces(mode='lines')\n",
    "\n",
    "# legend position\n",
    "fig.update_layout(legend=dict(\n",
    "    yanchor=\"bottom\",\n",
    "    y=0.01,\n",
    "    xanchor=\"left\",\n",
    "    x=0.01\n",
    "))\n",
    "\n",
    "# magin & size\n",
    "fig.update_layout(\n",
    "    margin=dict(l=20, r=10, t=10, b=10),\n",
    "    width=800,\n",
    "    height=300,\n",
    ")\n",
    "\n",
    "# axis titles\n",
    "fig.update_yaxes(title_text='R2 score')\n",
    "fig.update_xaxes(title_text='problem dimension')\n",
    "\n",
    "fig.show()"
   ]
  },
  {
   "attachments": {},
   "cell_type": "markdown",
   "metadata": {},
   "source": [
    "## Mecanisms"
   ]
  },
  {
   "cell_type": "code",
   "execution_count": 19,
   "metadata": {},
   "outputs": [],
   "source": [
    "if use_paper_results:\n",
    "    folder_to_res = 'paper_results'\n",
    "else:\n",
    "    folder_to_res = 'mechanisms_variation'\n",
    "\n",
    "results_mechanisms = pd.read_csv(folder_to_res + '/mechanisms_res.csv')"
   ]
  },
  {
   "cell_type": "code",
   "execution_count": 20,
   "metadata": {},
   "outputs": [
    {
     "name": "stderr",
     "output_type": "stream",
     "text": [
      "C:\\Users\\AudreyPOINSOT\\AppData\\Local\\Temp\\ipykernel_21960\\1025098877.py:12: FutureWarning:\n",
      "\n",
      "['predicted_variable', 'predicted_variable_node_type', 'variance_train_NOT_weighted', 'variance_aug_NOT_weighted', 'variance_aug_weighted'] did not aggregate successfully. If any error is raised this will raise in a future version of pandas. Drop these columns/ops to avoid this warning.\n",
      "\n",
      "C:\\Users\\AudreyPOINSOT\\AppData\\Local\\Temp\\ipykernel_21960\\1025098877.py:12: FutureWarning:\n",
      "\n",
      "['predicted_variable', 'predicted_variable_node_type', 'variance_train_NOT_weighted', 'variance_aug_NOT_weighted', 'variance_aug_weighted'] did not aggregate successfully. If any error is raised this will raise in a future version of pandas. Drop these columns/ops to avoid this warning.\n",
      "\n"
     ]
    },
    {
     "data": {
      "application/vnd.plotly.v1+json": {
       "config": {
        "plotlyServerURL": "https://plot.ly"
       },
       "data": [
        {
         "line": {
          "color": "rgb(238,44,44)",
          "dash": "dot"
         },
         "mode": "lines",
         "name": "CausalDA",
         "type": "scatter",
         "x": [
          "gp_add",
          "gp_mix",
          "linear",
          "nn",
          "polynomial",
          "sigmoid_mix"
         ],
         "y": [
          0.9347289552966129,
          0.8667878719645161,
          0.977325504805034,
          0.9754476453196292,
          0.8171728978573867,
          0.9863612853146424
         ]
        },
        {
         "line": {
          "color": "rgb(0,0,205)",
          "dash": "dot"
         },
         "mode": "lines",
         "name": "Baseline",
         "type": "scatter",
         "x": [
          "gp_add",
          "gp_mix",
          "linear",
          "nn",
          "polynomial",
          "sigmoid_mix"
         ],
         "y": [
          0.928657550704638,
          0.8401328459004715,
          0.9700159520055209,
          0.9772439485310571,
          0.8257662310219567,
          0.9781458972503532
         ]
        }
       ],
       "layout": {
        "height": 300,
        "legend": {
         "x": 0.01,
         "xanchor": "left",
         "y": 0.01,
         "yanchor": "bottom"
        },
        "margin": {
         "b": 10,
         "l": 20,
         "r": 10,
         "t": 10
        },
        "template": {
         "data": {
          "bar": [
           {
            "error_x": {
             "color": "#2a3f5f"
            },
            "error_y": {
             "color": "#2a3f5f"
            },
            "marker": {
             "line": {
              "color": "#E5ECF6",
              "width": 0.5
             },
             "pattern": {
              "fillmode": "overlay",
              "size": 10,
              "solidity": 0.2
             }
            },
            "type": "bar"
           }
          ],
          "barpolar": [
           {
            "marker": {
             "line": {
              "color": "#E5ECF6",
              "width": 0.5
             },
             "pattern": {
              "fillmode": "overlay",
              "size": 10,
              "solidity": 0.2
             }
            },
            "type": "barpolar"
           }
          ],
          "carpet": [
           {
            "aaxis": {
             "endlinecolor": "#2a3f5f",
             "gridcolor": "white",
             "linecolor": "white",
             "minorgridcolor": "white",
             "startlinecolor": "#2a3f5f"
            },
            "baxis": {
             "endlinecolor": "#2a3f5f",
             "gridcolor": "white",
             "linecolor": "white",
             "minorgridcolor": "white",
             "startlinecolor": "#2a3f5f"
            },
            "type": "carpet"
           }
          ],
          "choropleth": [
           {
            "colorbar": {
             "outlinewidth": 0,
             "ticks": ""
            },
            "type": "choropleth"
           }
          ],
          "contour": [
           {
            "colorbar": {
             "outlinewidth": 0,
             "ticks": ""
            },
            "colorscale": [
             [
              0,
              "#0d0887"
             ],
             [
              0.1111111111111111,
              "#46039f"
             ],
             [
              0.2222222222222222,
              "#7201a8"
             ],
             [
              0.3333333333333333,
              "#9c179e"
             ],
             [
              0.4444444444444444,
              "#bd3786"
             ],
             [
              0.5555555555555556,
              "#d8576b"
             ],
             [
              0.6666666666666666,
              "#ed7953"
             ],
             [
              0.7777777777777778,
              "#fb9f3a"
             ],
             [
              0.8888888888888888,
              "#fdca26"
             ],
             [
              1,
              "#f0f921"
             ]
            ],
            "type": "contour"
           }
          ],
          "contourcarpet": [
           {
            "colorbar": {
             "outlinewidth": 0,
             "ticks": ""
            },
            "type": "contourcarpet"
           }
          ],
          "heatmap": [
           {
            "colorbar": {
             "outlinewidth": 0,
             "ticks": ""
            },
            "colorscale": [
             [
              0,
              "#0d0887"
             ],
             [
              0.1111111111111111,
              "#46039f"
             ],
             [
              0.2222222222222222,
              "#7201a8"
             ],
             [
              0.3333333333333333,
              "#9c179e"
             ],
             [
              0.4444444444444444,
              "#bd3786"
             ],
             [
              0.5555555555555556,
              "#d8576b"
             ],
             [
              0.6666666666666666,
              "#ed7953"
             ],
             [
              0.7777777777777778,
              "#fb9f3a"
             ],
             [
              0.8888888888888888,
              "#fdca26"
             ],
             [
              1,
              "#f0f921"
             ]
            ],
            "type": "heatmap"
           }
          ],
          "heatmapgl": [
           {
            "colorbar": {
             "outlinewidth": 0,
             "ticks": ""
            },
            "colorscale": [
             [
              0,
              "#0d0887"
             ],
             [
              0.1111111111111111,
              "#46039f"
             ],
             [
              0.2222222222222222,
              "#7201a8"
             ],
             [
              0.3333333333333333,
              "#9c179e"
             ],
             [
              0.4444444444444444,
              "#bd3786"
             ],
             [
              0.5555555555555556,
              "#d8576b"
             ],
             [
              0.6666666666666666,
              "#ed7953"
             ],
             [
              0.7777777777777778,
              "#fb9f3a"
             ],
             [
              0.8888888888888888,
              "#fdca26"
             ],
             [
              1,
              "#f0f921"
             ]
            ],
            "type": "heatmapgl"
           }
          ],
          "histogram": [
           {
            "marker": {
             "pattern": {
              "fillmode": "overlay",
              "size": 10,
              "solidity": 0.2
             }
            },
            "type": "histogram"
           }
          ],
          "histogram2d": [
           {
            "colorbar": {
             "outlinewidth": 0,
             "ticks": ""
            },
            "colorscale": [
             [
              0,
              "#0d0887"
             ],
             [
              0.1111111111111111,
              "#46039f"
             ],
             [
              0.2222222222222222,
              "#7201a8"
             ],
             [
              0.3333333333333333,
              "#9c179e"
             ],
             [
              0.4444444444444444,
              "#bd3786"
             ],
             [
              0.5555555555555556,
              "#d8576b"
             ],
             [
              0.6666666666666666,
              "#ed7953"
             ],
             [
              0.7777777777777778,
              "#fb9f3a"
             ],
             [
              0.8888888888888888,
              "#fdca26"
             ],
             [
              1,
              "#f0f921"
             ]
            ],
            "type": "histogram2d"
           }
          ],
          "histogram2dcontour": [
           {
            "colorbar": {
             "outlinewidth": 0,
             "ticks": ""
            },
            "colorscale": [
             [
              0,
              "#0d0887"
             ],
             [
              0.1111111111111111,
              "#46039f"
             ],
             [
              0.2222222222222222,
              "#7201a8"
             ],
             [
              0.3333333333333333,
              "#9c179e"
             ],
             [
              0.4444444444444444,
              "#bd3786"
             ],
             [
              0.5555555555555556,
              "#d8576b"
             ],
             [
              0.6666666666666666,
              "#ed7953"
             ],
             [
              0.7777777777777778,
              "#fb9f3a"
             ],
             [
              0.8888888888888888,
              "#fdca26"
             ],
             [
              1,
              "#f0f921"
             ]
            ],
            "type": "histogram2dcontour"
           }
          ],
          "mesh3d": [
           {
            "colorbar": {
             "outlinewidth": 0,
             "ticks": ""
            },
            "type": "mesh3d"
           }
          ],
          "parcoords": [
           {
            "line": {
             "colorbar": {
              "outlinewidth": 0,
              "ticks": ""
             }
            },
            "type": "parcoords"
           }
          ],
          "pie": [
           {
            "automargin": true,
            "type": "pie"
           }
          ],
          "scatter": [
           {
            "fillpattern": {
             "fillmode": "overlay",
             "size": 10,
             "solidity": 0.2
            },
            "type": "scatter"
           }
          ],
          "scatter3d": [
           {
            "line": {
             "colorbar": {
              "outlinewidth": 0,
              "ticks": ""
             }
            },
            "marker": {
             "colorbar": {
              "outlinewidth": 0,
              "ticks": ""
             }
            },
            "type": "scatter3d"
           }
          ],
          "scattercarpet": [
           {
            "marker": {
             "colorbar": {
              "outlinewidth": 0,
              "ticks": ""
             }
            },
            "type": "scattercarpet"
           }
          ],
          "scattergeo": [
           {
            "marker": {
             "colorbar": {
              "outlinewidth": 0,
              "ticks": ""
             }
            },
            "type": "scattergeo"
           }
          ],
          "scattergl": [
           {
            "marker": {
             "colorbar": {
              "outlinewidth": 0,
              "ticks": ""
             }
            },
            "type": "scattergl"
           }
          ],
          "scattermapbox": [
           {
            "marker": {
             "colorbar": {
              "outlinewidth": 0,
              "ticks": ""
             }
            },
            "type": "scattermapbox"
           }
          ],
          "scatterpolar": [
           {
            "marker": {
             "colorbar": {
              "outlinewidth": 0,
              "ticks": ""
             }
            },
            "type": "scatterpolar"
           }
          ],
          "scatterpolargl": [
           {
            "marker": {
             "colorbar": {
              "outlinewidth": 0,
              "ticks": ""
             }
            },
            "type": "scatterpolargl"
           }
          ],
          "scatterternary": [
           {
            "marker": {
             "colorbar": {
              "outlinewidth": 0,
              "ticks": ""
             }
            },
            "type": "scatterternary"
           }
          ],
          "surface": [
           {
            "colorbar": {
             "outlinewidth": 0,
             "ticks": ""
            },
            "colorscale": [
             [
              0,
              "#0d0887"
             ],
             [
              0.1111111111111111,
              "#46039f"
             ],
             [
              0.2222222222222222,
              "#7201a8"
             ],
             [
              0.3333333333333333,
              "#9c179e"
             ],
             [
              0.4444444444444444,
              "#bd3786"
             ],
             [
              0.5555555555555556,
              "#d8576b"
             ],
             [
              0.6666666666666666,
              "#ed7953"
             ],
             [
              0.7777777777777778,
              "#fb9f3a"
             ],
             [
              0.8888888888888888,
              "#fdca26"
             ],
             [
              1,
              "#f0f921"
             ]
            ],
            "type": "surface"
           }
          ],
          "table": [
           {
            "cells": {
             "fill": {
              "color": "#EBF0F8"
             },
             "line": {
              "color": "white"
             }
            },
            "header": {
             "fill": {
              "color": "#C8D4E3"
             },
             "line": {
              "color": "white"
             }
            },
            "type": "table"
           }
          ]
         },
         "layout": {
          "annotationdefaults": {
           "arrowcolor": "#2a3f5f",
           "arrowhead": 0,
           "arrowwidth": 1
          },
          "autotypenumbers": "strict",
          "coloraxis": {
           "colorbar": {
            "outlinewidth": 0,
            "ticks": ""
           }
          },
          "colorscale": {
           "diverging": [
            [
             0,
             "#8e0152"
            ],
            [
             0.1,
             "#c51b7d"
            ],
            [
             0.2,
             "#de77ae"
            ],
            [
             0.3,
             "#f1b6da"
            ],
            [
             0.4,
             "#fde0ef"
            ],
            [
             0.5,
             "#f7f7f7"
            ],
            [
             0.6,
             "#e6f5d0"
            ],
            [
             0.7,
             "#b8e186"
            ],
            [
             0.8,
             "#7fbc41"
            ],
            [
             0.9,
             "#4d9221"
            ],
            [
             1,
             "#276419"
            ]
           ],
           "sequential": [
            [
             0,
             "#0d0887"
            ],
            [
             0.1111111111111111,
             "#46039f"
            ],
            [
             0.2222222222222222,
             "#7201a8"
            ],
            [
             0.3333333333333333,
             "#9c179e"
            ],
            [
             0.4444444444444444,
             "#bd3786"
            ],
            [
             0.5555555555555556,
             "#d8576b"
            ],
            [
             0.6666666666666666,
             "#ed7953"
            ],
            [
             0.7777777777777778,
             "#fb9f3a"
            ],
            [
             0.8888888888888888,
             "#fdca26"
            ],
            [
             1,
             "#f0f921"
            ]
           ],
           "sequentialminus": [
            [
             0,
             "#0d0887"
            ],
            [
             0.1111111111111111,
             "#46039f"
            ],
            [
             0.2222222222222222,
             "#7201a8"
            ],
            [
             0.3333333333333333,
             "#9c179e"
            ],
            [
             0.4444444444444444,
             "#bd3786"
            ],
            [
             0.5555555555555556,
             "#d8576b"
            ],
            [
             0.6666666666666666,
             "#ed7953"
            ],
            [
             0.7777777777777778,
             "#fb9f3a"
            ],
            [
             0.8888888888888888,
             "#fdca26"
            ],
            [
             1,
             "#f0f921"
            ]
           ]
          },
          "colorway": [
           "#636efa",
           "#EF553B",
           "#00cc96",
           "#ab63fa",
           "#FFA15A",
           "#19d3f3",
           "#FF6692",
           "#B6E880",
           "#FF97FF",
           "#FECB52"
          ],
          "font": {
           "color": "#2a3f5f"
          },
          "geo": {
           "bgcolor": "white",
           "lakecolor": "white",
           "landcolor": "#E5ECF6",
           "showlakes": true,
           "showland": true,
           "subunitcolor": "white"
          },
          "hoverlabel": {
           "align": "left"
          },
          "hovermode": "closest",
          "mapbox": {
           "style": "light"
          },
          "paper_bgcolor": "white",
          "plot_bgcolor": "#E5ECF6",
          "polar": {
           "angularaxis": {
            "gridcolor": "white",
            "linecolor": "white",
            "ticks": ""
           },
           "bgcolor": "#E5ECF6",
           "radialaxis": {
            "gridcolor": "white",
            "linecolor": "white",
            "ticks": ""
           }
          },
          "scene": {
           "xaxis": {
            "backgroundcolor": "#E5ECF6",
            "gridcolor": "white",
            "gridwidth": 2,
            "linecolor": "white",
            "showbackground": true,
            "ticks": "",
            "zerolinecolor": "white"
           },
           "yaxis": {
            "backgroundcolor": "#E5ECF6",
            "gridcolor": "white",
            "gridwidth": 2,
            "linecolor": "white",
            "showbackground": true,
            "ticks": "",
            "zerolinecolor": "white"
           },
           "zaxis": {
            "backgroundcolor": "#E5ECF6",
            "gridcolor": "white",
            "gridwidth": 2,
            "linecolor": "white",
            "showbackground": true,
            "ticks": "",
            "zerolinecolor": "white"
           }
          },
          "shapedefaults": {
           "line": {
            "color": "#2a3f5f"
           }
          },
          "ternary": {
           "aaxis": {
            "gridcolor": "white",
            "linecolor": "white",
            "ticks": ""
           },
           "baxis": {
            "gridcolor": "white",
            "linecolor": "white",
            "ticks": ""
           },
           "bgcolor": "#E5ECF6",
           "caxis": {
            "gridcolor": "white",
            "linecolor": "white",
            "ticks": ""
           }
          },
          "title": {
           "x": 0.05
          },
          "xaxis": {
           "automargin": true,
           "gridcolor": "white",
           "linecolor": "white",
           "ticks": "",
           "title": {
            "standoff": 15
           },
           "zerolinecolor": "white",
           "zerolinewidth": 2
          },
          "yaxis": {
           "automargin": true,
           "gridcolor": "white",
           "linecolor": "white",
           "ticks": "",
           "title": {
            "standoff": 15
           },
           "zerolinecolor": "white",
           "zerolinewidth": 2
          }
         }
        },
        "width": 800,
        "xaxis": {
         "title": {
          "text": "mecanism family"
         }
        },
        "yaxis": {
         "title": {
          "text": "R2 score"
         }
        }
       }
      }
     },
     "metadata": {},
     "output_type": "display_data"
    }
   ],
   "source": [
    "### XGB median R2 depending on the mechanisms\n",
    "\n",
    "# set x, y and color variables\n",
    "color_columns_list=['r2_CausalDA', 'r2_Baseline']\n",
    "x_column = 'mechanism'\n",
    "\n",
    "# aggregate results\n",
    "res_tot = compute_stats_for_line_plot_paper(results_mechanisms, [x_column], color_columns_list[0])\n",
    "res_col = compute_stats_for_line_plot_paper(results_mechanisms, [x_column], color_columns_list[1])\n",
    "res_tot = res_tot.merge(res_col, how=\"left\", on=[x_column]).sort_values(by=[x_column])\n",
    "\n",
    "# Figure\n",
    "fig = go.Figure()\n",
    "  \n",
    "### CausalDA results\n",
    "# abscisse\n",
    "x = res_tot[x_column].tolist()\n",
    "x_rev = x[::-1]\n",
    "# Line 1\n",
    "y1 = res_tot['r2_CausalDA' + '_mean'].tolist()\n",
    "y1_upper = res_tot['r2_CausalDA' + '_upper'].tolist()\n",
    "y1_lower = res_tot['r2_CausalDA' + '_lower'].tolist()\n",
    "y1_lower = y1_lower[::-1]\n",
    "# Line 2\n",
    "y2 = res_tot['r2_CausalDA' + '_median'].tolist()\n",
    "\n",
    "\n",
    "fig.add_trace(go.Scatter(\n",
    "    x=x,\n",
    "    y=y2,\n",
    "    line_color=color_list[0],\n",
    "    line_dash='dot',\n",
    "    name='CausalDA'\n",
    "))\n",
    "fig.update_traces(mode='lines')\n",
    "\n",
    "### Baseline results\n",
    "# abscisse\n",
    "x = res_tot[x_column].tolist()\n",
    "x_rev = x[::-1]\n",
    "# Line 1\n",
    "y1 = res_tot['r2_Baseline' + '_mean'].tolist()\n",
    "y1_upper = res_tot['r2_Baseline' + '_upper'].tolist()\n",
    "y1_lower = res_tot['r2_Baseline' + '_lower'].tolist()\n",
    "y1_lower = y1_lower[::-1]\n",
    "# Line 2\n",
    "y2 = res_tot['r2_Baseline' + '_median'].tolist()\n",
    "\n",
    "fig.add_trace(go.Scatter(\n",
    "    x=x,\n",
    "    y=y2,\n",
    "    line_color=color_list[1],\n",
    "    line_dash='dot',\n",
    "    name='Baseline'\n",
    "))\n",
    "fig.update_traces(mode='lines')\n",
    "\n",
    "# legend position\n",
    "fig.update_layout(legend=dict(\n",
    "    yanchor=\"bottom\",\n",
    "    y=0.01,\n",
    "    xanchor=\"left\",\n",
    "    x=0.01\n",
    "))\n",
    "\n",
    "# magin & size\n",
    "fig.update_layout(\n",
    "    margin=dict(l=20, r=10, t=10, b=10),\n",
    "    width=800,\n",
    "    height=300,\n",
    ")\n",
    "\n",
    "# axis titles\n",
    "fig.update_yaxes(title_text='R2 score')\n",
    "fig.update_xaxes(title_text='mecanism family')\n",
    "\n",
    "fig.show()"
   ]
  },
  {
   "cell_type": "code",
   "execution_count": 21,
   "metadata": {},
   "outputs": [
    {
     "data": {
      "application/vnd.plotly.v1+json": {
       "config": {
        "plotlyServerURL": "https://plot.ly"
       },
       "data": [
        {
         "alignmentgroup": "True",
         "hovertemplate": "mechanism=%{x}<br>KL-divergence=%{y}<extra></extra>",
         "legendgroup": "",
         "marker": {
          "color": "#636efa"
         },
         "name": "",
         "notched": false,
         "offsetgroup": "",
         "orientation": "v",
         "quartilemethod": "inclusive",
         "showlegend": false,
         "type": "box",
         "x": [
          "gp_add",
          "gp_add",
          "gp_add",
          "gp_add",
          "gp_add",
          "gp_add",
          "gp_add",
          "gp_add",
          "gp_add",
          "gp_add",
          "gp_add",
          "gp_add",
          "gp_add",
          "gp_add",
          "gp_add",
          "gp_add",
          "gp_add",
          "gp_add",
          "gp_add",
          "gp_add",
          "gp_add",
          "gp_add",
          "gp_add",
          "gp_add",
          "gp_add",
          "gp_add",
          "gp_add",
          "gp_add",
          "gp_add",
          "gp_add",
          "gp_add",
          "gp_add",
          "gp_add",
          "gp_add",
          "gp_add",
          "gp_add",
          "gp_add",
          "gp_add",
          "gp_add",
          "gp_add",
          "gp_add",
          "gp_add",
          "gp_add",
          "gp_add",
          "gp_add",
          "gp_add",
          "gp_add",
          "gp_add",
          "gp_add",
          "gp_add",
          "gp_add",
          "gp_add",
          "gp_add",
          "gp_add",
          "gp_add",
          "gp_add",
          "gp_add",
          "gp_add",
          "gp_add",
          "gp_add",
          "gp_add",
          "gp_add",
          "gp_add",
          "gp_add",
          "gp_add",
          "gp_add",
          "gp_add",
          "gp_add",
          "gp_add",
          "gp_add",
          "gp_add",
          "gp_add",
          "gp_add",
          "gp_add",
          "gp_add",
          "gp_add",
          "gp_add",
          "gp_add",
          "gp_add",
          "gp_add",
          "gp_add",
          "gp_add",
          "gp_add",
          "gp_add",
          "gp_add",
          "gp_add",
          "gp_add",
          "gp_add",
          "gp_add",
          "gp_add",
          "gp_add",
          "gp_add",
          "gp_add",
          "gp_add",
          "gp_add",
          "gp_add",
          "gp_add",
          "gp_add",
          "gp_add",
          "gp_add",
          "gp_add",
          "gp_add",
          "gp_add",
          "gp_add",
          "gp_add",
          "gp_add",
          "gp_add",
          "gp_add",
          "gp_add",
          "gp_add",
          "gp_add",
          "gp_add",
          "gp_add",
          "gp_add",
          "gp_add",
          "gp_add",
          "gp_add",
          "gp_add",
          "gp_add",
          "gp_add",
          "gp_add",
          "gp_add",
          "gp_add",
          "gp_add",
          "gp_add",
          "gp_add",
          "gp_add",
          "gp_add",
          "gp_add",
          "gp_add",
          "gp_add",
          "gp_add",
          "gp_add",
          "gp_add",
          "gp_add",
          "gp_add",
          "gp_add",
          "gp_add",
          "gp_add",
          "gp_add",
          "gp_add",
          "gp_add",
          "gp_add",
          "gp_add",
          "gp_add",
          "gp_add",
          "gp_add",
          "gp_add",
          "gp_add",
          "gp_add",
          "gp_add",
          "gp_add",
          "gp_add",
          "gp_add",
          "gp_add",
          "gp_add",
          "gp_add",
          "gp_add",
          "gp_add",
          "gp_add",
          "gp_add",
          "gp_add",
          "gp_add",
          "gp_add",
          "gp_add",
          "gp_add",
          "gp_add",
          "gp_add",
          "gp_add",
          "gp_add",
          "gp_add",
          "gp_add",
          "gp_add",
          "gp_add",
          "gp_add",
          "gp_add",
          "gp_add",
          "gp_add",
          "gp_add",
          "gp_add",
          "gp_add",
          "gp_add",
          "gp_add",
          "gp_add",
          "gp_add",
          "gp_add",
          "gp_add",
          "gp_add",
          "gp_add",
          "gp_add",
          "gp_add",
          "gp_add",
          "gp_add",
          "gp_add",
          "gp_add",
          "gp_add",
          "gp_add",
          "gp_add",
          "gp_add",
          "gp_add",
          "gp_mix",
          "gp_mix",
          "gp_mix",
          "gp_mix",
          "gp_mix",
          "gp_mix",
          "gp_mix",
          "gp_mix",
          "gp_mix",
          "gp_mix",
          "gp_mix",
          "gp_mix",
          "gp_mix",
          "gp_mix",
          "gp_mix",
          "gp_mix",
          "gp_mix",
          "gp_mix",
          "gp_mix",
          "gp_mix",
          "gp_mix",
          "gp_mix",
          "gp_mix",
          "gp_mix",
          "gp_mix",
          "gp_mix",
          "gp_mix",
          "gp_mix",
          "gp_mix",
          "gp_mix",
          "gp_mix",
          "gp_mix",
          "gp_mix",
          "gp_mix",
          "gp_mix",
          "gp_mix",
          "gp_mix",
          "gp_mix",
          "gp_mix",
          "gp_mix",
          "gp_mix",
          "gp_mix",
          "gp_mix",
          "gp_mix",
          "gp_mix",
          "gp_mix",
          "gp_mix",
          "gp_mix",
          "gp_mix",
          "gp_mix",
          "gp_mix",
          "gp_mix",
          "gp_mix",
          "gp_mix",
          "gp_mix",
          "gp_mix",
          "gp_mix",
          "gp_mix",
          "gp_mix",
          "gp_mix",
          "gp_mix",
          "gp_mix",
          "gp_mix",
          "gp_mix",
          "gp_mix",
          "gp_mix",
          "gp_mix",
          "gp_mix",
          "gp_mix",
          "gp_mix",
          "gp_mix",
          "gp_mix",
          "gp_mix",
          "gp_mix",
          "gp_mix",
          "gp_mix",
          "gp_mix",
          "gp_mix",
          "gp_mix",
          "gp_mix",
          "gp_mix",
          "gp_mix",
          "gp_mix",
          "gp_mix",
          "gp_mix",
          "gp_mix",
          "gp_mix",
          "gp_mix",
          "gp_mix",
          "gp_mix",
          "gp_mix",
          "gp_mix",
          "gp_mix",
          "gp_mix",
          "gp_mix",
          "gp_mix",
          "gp_mix",
          "gp_mix",
          "gp_mix",
          "gp_mix",
          "gp_mix",
          "gp_mix",
          "gp_mix",
          "gp_mix",
          "gp_mix",
          "gp_mix",
          "gp_mix",
          "gp_mix",
          "gp_mix",
          "gp_mix",
          "gp_mix",
          "gp_mix",
          "gp_mix",
          "gp_mix",
          "gp_mix",
          "gp_mix",
          "gp_mix",
          "gp_mix",
          "gp_mix",
          "gp_mix",
          "gp_mix",
          "gp_mix",
          "gp_mix",
          "gp_mix",
          "gp_mix",
          "gp_mix",
          "gp_mix",
          "gp_mix",
          "gp_mix",
          "gp_mix",
          "gp_mix",
          "gp_mix",
          "gp_mix",
          "gp_mix",
          "gp_mix",
          "gp_mix",
          "gp_mix",
          "gp_mix",
          "gp_mix",
          "gp_mix",
          "gp_mix",
          "gp_mix",
          "gp_mix",
          "gp_mix",
          "gp_mix",
          "gp_mix",
          "gp_mix",
          "gp_mix",
          "gp_mix",
          "gp_mix",
          "gp_mix",
          "gp_mix",
          "gp_mix",
          "gp_mix",
          "gp_mix",
          "gp_mix",
          "gp_mix",
          "gp_mix",
          "gp_mix",
          "gp_mix",
          "gp_mix",
          "gp_mix",
          "gp_mix",
          "gp_mix",
          "gp_mix",
          "gp_mix",
          "gp_mix",
          "gp_mix",
          "gp_mix",
          "gp_mix",
          "gp_mix",
          "gp_mix",
          "gp_mix",
          "gp_mix",
          "gp_mix",
          "gp_mix",
          "gp_mix",
          "gp_mix",
          "gp_mix",
          "gp_mix",
          "gp_mix",
          "gp_mix",
          "gp_mix",
          "gp_mix",
          "gp_mix",
          "gp_mix",
          "gp_mix",
          "gp_mix",
          "gp_mix",
          "gp_mix",
          "gp_mix",
          "gp_mix",
          "gp_mix",
          "gp_mix",
          "gp_mix",
          "gp_mix",
          "gp_mix",
          "gp_mix",
          "gp_mix",
          "gp_mix",
          "linear",
          "linear",
          "linear",
          "linear",
          "linear",
          "linear",
          "linear",
          "linear",
          "linear",
          "linear",
          "linear",
          "linear",
          "linear",
          "linear",
          "linear",
          "linear",
          "linear",
          "linear",
          "linear",
          "linear",
          "linear",
          "linear",
          "linear",
          "linear",
          "linear",
          "linear",
          "linear",
          "linear",
          "linear",
          "linear",
          "linear",
          "linear",
          "linear",
          "linear",
          "linear",
          "linear",
          "linear",
          "linear",
          "linear",
          "linear",
          "linear",
          "linear",
          "linear",
          "linear",
          "linear",
          "linear",
          "linear",
          "linear",
          "linear",
          "linear",
          "linear",
          "linear",
          "linear",
          "linear",
          "linear",
          "linear",
          "linear",
          "linear",
          "linear",
          "linear",
          "linear",
          "linear",
          "linear",
          "linear",
          "linear",
          "linear",
          "linear",
          "linear",
          "linear",
          "linear",
          "linear",
          "linear",
          "linear",
          "linear",
          "linear",
          "linear",
          "linear",
          "linear",
          "linear",
          "linear",
          "linear",
          "linear",
          "linear",
          "linear",
          "linear",
          "linear",
          "linear",
          "linear",
          "linear",
          "linear",
          "linear",
          "linear",
          "linear",
          "linear",
          "linear",
          "linear",
          "linear",
          "linear",
          "linear",
          "linear",
          "linear",
          "linear",
          "linear",
          "linear",
          "linear",
          "linear",
          "linear",
          "linear",
          "linear",
          "linear",
          "linear",
          "linear",
          "linear",
          "linear",
          "linear",
          "linear",
          "linear",
          "linear",
          "linear",
          "linear",
          "linear",
          "linear",
          "linear",
          "linear",
          "linear",
          "linear",
          "linear",
          "linear",
          "linear",
          "linear",
          "linear",
          "linear",
          "linear",
          "linear",
          "linear",
          "linear",
          "linear",
          "linear",
          "linear",
          "linear",
          "linear",
          "linear",
          "linear",
          "linear",
          "linear",
          "linear",
          "linear",
          "linear",
          "linear",
          "linear",
          "linear",
          "linear",
          "linear",
          "linear",
          "linear",
          "linear",
          "linear",
          "linear",
          "linear",
          "linear",
          "linear",
          "linear",
          "linear",
          "linear",
          "linear",
          "linear",
          "linear",
          "linear",
          "linear",
          "linear",
          "linear",
          "linear",
          "linear",
          "linear",
          "linear",
          "linear",
          "linear",
          "linear",
          "linear",
          "linear",
          "linear",
          "linear",
          "linear",
          "linear",
          "linear",
          "linear",
          "linear",
          "linear",
          "linear",
          "linear",
          "linear",
          "linear",
          "linear",
          "linear",
          "linear",
          "linear",
          "linear",
          "linear",
          "linear",
          "linear",
          "nn",
          "nn",
          "nn",
          "nn",
          "nn",
          "nn",
          "nn",
          "nn",
          "nn",
          "nn",
          "nn",
          "nn",
          "nn",
          "nn",
          "nn",
          "nn",
          "nn",
          "nn",
          "nn",
          "nn",
          "nn",
          "nn",
          "nn",
          "nn",
          "nn",
          "nn",
          "nn",
          "nn",
          "nn",
          "nn",
          "nn",
          "nn",
          "nn",
          "nn",
          "nn",
          "nn",
          "nn",
          "nn",
          "nn",
          "nn",
          "nn",
          "nn",
          "nn",
          "nn",
          "nn",
          "nn",
          "nn",
          "nn",
          "nn",
          "nn",
          "nn",
          "nn",
          "nn",
          "nn",
          "nn",
          "nn",
          "nn",
          "nn",
          "nn",
          "nn",
          "nn",
          "nn",
          "nn",
          "nn",
          "nn",
          "nn",
          "nn",
          "nn",
          "nn",
          "nn",
          "nn",
          "nn",
          "nn",
          "nn",
          "nn",
          "nn",
          "nn",
          "nn",
          "nn",
          "nn",
          "nn",
          "nn",
          "nn",
          "nn",
          "nn",
          "nn",
          "nn",
          "nn",
          "nn",
          "nn",
          "nn",
          "nn",
          "nn",
          "nn",
          "nn",
          "nn",
          "nn",
          "nn",
          "nn",
          "nn",
          "nn",
          "nn",
          "nn",
          "nn",
          "nn",
          "nn",
          "nn",
          "nn",
          "nn",
          "nn",
          "nn",
          "nn",
          "nn",
          "nn",
          "nn",
          "nn",
          "nn",
          "nn",
          "nn",
          "nn",
          "nn",
          "nn",
          "nn",
          "nn",
          "nn",
          "nn",
          "nn",
          "nn",
          "nn",
          "nn",
          "nn",
          "nn",
          "nn",
          "nn",
          "nn",
          "nn",
          "nn",
          "nn",
          "nn",
          "nn",
          "nn",
          "nn",
          "nn",
          "nn",
          "nn",
          "nn",
          "nn",
          "nn",
          "nn",
          "nn",
          "nn",
          "nn",
          "nn",
          "nn",
          "nn",
          "nn",
          "nn",
          "nn",
          "nn",
          "nn",
          "nn",
          "nn",
          "nn",
          "nn",
          "nn",
          "nn",
          "nn",
          "nn",
          "nn",
          "nn",
          "nn",
          "nn",
          "nn",
          "nn",
          "nn",
          "nn",
          "nn",
          "nn",
          "nn",
          "nn",
          "nn",
          "nn",
          "nn",
          "nn",
          "nn",
          "nn",
          "nn",
          "nn",
          "nn",
          "nn",
          "nn",
          "nn",
          "nn",
          "nn",
          "nn",
          "nn",
          "nn",
          "nn",
          "nn",
          "nn",
          "polynomial",
          "polynomial",
          "polynomial",
          "polynomial",
          "polynomial",
          "polynomial",
          "polynomial",
          "polynomial",
          "polynomial",
          "polynomial",
          "polynomial",
          "polynomial",
          "polynomial",
          "polynomial",
          "polynomial",
          "polynomial",
          "polynomial",
          "polynomial",
          "polynomial",
          "polynomial",
          "polynomial",
          "polynomial",
          "polynomial",
          "polynomial",
          "polynomial",
          "polynomial",
          "polynomial",
          "polynomial",
          "polynomial",
          "polynomial",
          "polynomial",
          "polynomial",
          "polynomial",
          "polynomial",
          "polynomial",
          "polynomial",
          "polynomial",
          "polynomial",
          "polynomial",
          "polynomial",
          "polynomial",
          "polynomial",
          "polynomial",
          "polynomial",
          "polynomial",
          "polynomial",
          "polynomial",
          "polynomial",
          "polynomial",
          "polynomial",
          "polynomial",
          "polynomial",
          "polynomial",
          "polynomial",
          "polynomial",
          "polynomial",
          "polynomial",
          "polynomial",
          "polynomial",
          "polynomial",
          "polynomial",
          "polynomial",
          "polynomial",
          "polynomial",
          "polynomial",
          "polynomial",
          "polynomial",
          "polynomial",
          "polynomial",
          "polynomial",
          "polynomial",
          "polynomial",
          "polynomial",
          "polynomial",
          "polynomial",
          "polynomial",
          "polynomial",
          "polynomial",
          "polynomial",
          "polynomial",
          "polynomial",
          "polynomial",
          "polynomial",
          "polynomial",
          "polynomial",
          "polynomial",
          "polynomial",
          "polynomial",
          "polynomial",
          "polynomial",
          "polynomial",
          "polynomial",
          "polynomial",
          "polynomial",
          "polynomial",
          "polynomial",
          "polynomial",
          "polynomial",
          "polynomial",
          "polynomial",
          "polynomial",
          "polynomial",
          "polynomial",
          "polynomial",
          "polynomial",
          "polynomial",
          "polynomial",
          "polynomial",
          "polynomial",
          "polynomial",
          "polynomial",
          "polynomial",
          "polynomial",
          "polynomial",
          "polynomial",
          "polynomial",
          "polynomial",
          "polynomial",
          "polynomial",
          "polynomial",
          "polynomial",
          "polynomial",
          "polynomial",
          "polynomial",
          "polynomial",
          "polynomial",
          "polynomial",
          "polynomial",
          "polynomial",
          "polynomial",
          "polynomial",
          "polynomial",
          "polynomial",
          "polynomial",
          "polynomial",
          "polynomial",
          "polynomial",
          "polynomial",
          "polynomial",
          "polynomial",
          "polynomial",
          "polynomial",
          "polynomial",
          "polynomial",
          "polynomial",
          "polynomial",
          "polynomial",
          "polynomial",
          "polynomial",
          "polynomial",
          "polynomial",
          "polynomial",
          "polynomial",
          "polynomial",
          "polynomial",
          "polynomial",
          "polynomial",
          "polynomial",
          "polynomial",
          "polynomial",
          "polynomial",
          "polynomial",
          "polynomial",
          "polynomial",
          "polynomial",
          "polynomial",
          "polynomial",
          "polynomial",
          "polynomial",
          "polynomial",
          "polynomial",
          "polynomial",
          "polynomial",
          "polynomial",
          "polynomial",
          "polynomial",
          "polynomial",
          "polynomial",
          "polynomial",
          "polynomial",
          "polynomial",
          "polynomial",
          "polynomial",
          "polynomial",
          "polynomial",
          "polynomial",
          "polynomial",
          "polynomial",
          "polynomial",
          "polynomial",
          "polynomial",
          "polynomial",
          "polynomial",
          "polynomial",
          "polynomial",
          "polynomial",
          "polynomial",
          "polynomial",
          "polynomial",
          "polynomial",
          "sigmoid_mix",
          "sigmoid_mix",
          "sigmoid_mix",
          "sigmoid_mix",
          "sigmoid_mix",
          "sigmoid_mix",
          "sigmoid_mix",
          "sigmoid_mix",
          "sigmoid_mix",
          "sigmoid_mix",
          "sigmoid_mix",
          "sigmoid_mix",
          "sigmoid_mix",
          "sigmoid_mix",
          "sigmoid_mix",
          "sigmoid_mix",
          "sigmoid_mix",
          "sigmoid_mix",
          "sigmoid_mix",
          "sigmoid_mix",
          "sigmoid_mix",
          "sigmoid_mix",
          "sigmoid_mix",
          "sigmoid_mix",
          "sigmoid_mix",
          "sigmoid_mix",
          "sigmoid_mix",
          "sigmoid_mix",
          "sigmoid_mix",
          "sigmoid_mix",
          "sigmoid_mix",
          "sigmoid_mix",
          "sigmoid_mix",
          "sigmoid_mix",
          "sigmoid_mix",
          "sigmoid_mix",
          "sigmoid_mix",
          "sigmoid_mix",
          "sigmoid_mix",
          "sigmoid_mix",
          "sigmoid_mix",
          "sigmoid_mix",
          "sigmoid_mix",
          "sigmoid_mix",
          "sigmoid_mix",
          "sigmoid_mix",
          "sigmoid_mix",
          "sigmoid_mix",
          "sigmoid_mix",
          "sigmoid_mix",
          "sigmoid_mix",
          "sigmoid_mix",
          "sigmoid_mix",
          "sigmoid_mix",
          "sigmoid_mix",
          "sigmoid_mix",
          "sigmoid_mix",
          "sigmoid_mix",
          "sigmoid_mix",
          "sigmoid_mix",
          "sigmoid_mix",
          "sigmoid_mix",
          "sigmoid_mix",
          "sigmoid_mix",
          "sigmoid_mix",
          "sigmoid_mix",
          "sigmoid_mix",
          "sigmoid_mix",
          "sigmoid_mix",
          "sigmoid_mix",
          "sigmoid_mix",
          "sigmoid_mix",
          "sigmoid_mix",
          "sigmoid_mix",
          "sigmoid_mix",
          "sigmoid_mix",
          "sigmoid_mix",
          "sigmoid_mix",
          "sigmoid_mix",
          "sigmoid_mix",
          "sigmoid_mix",
          "sigmoid_mix",
          "sigmoid_mix",
          "sigmoid_mix",
          "sigmoid_mix",
          "sigmoid_mix",
          "sigmoid_mix",
          "sigmoid_mix",
          "sigmoid_mix",
          "sigmoid_mix",
          "sigmoid_mix",
          "sigmoid_mix",
          "sigmoid_mix",
          "sigmoid_mix",
          "sigmoid_mix",
          "sigmoid_mix",
          "sigmoid_mix",
          "sigmoid_mix",
          "sigmoid_mix",
          "sigmoid_mix",
          "sigmoid_mix",
          "sigmoid_mix",
          "sigmoid_mix",
          "sigmoid_mix",
          "sigmoid_mix",
          "sigmoid_mix",
          "sigmoid_mix",
          "sigmoid_mix",
          "sigmoid_mix",
          "sigmoid_mix",
          "sigmoid_mix",
          "sigmoid_mix",
          "sigmoid_mix",
          "sigmoid_mix",
          "sigmoid_mix",
          "sigmoid_mix",
          "sigmoid_mix",
          "sigmoid_mix",
          "sigmoid_mix",
          "sigmoid_mix",
          "sigmoid_mix",
          "sigmoid_mix",
          "sigmoid_mix",
          "sigmoid_mix",
          "sigmoid_mix",
          "sigmoid_mix",
          "sigmoid_mix",
          "sigmoid_mix",
          "sigmoid_mix",
          "sigmoid_mix",
          "sigmoid_mix",
          "sigmoid_mix",
          "sigmoid_mix",
          "sigmoid_mix",
          "sigmoid_mix",
          "sigmoid_mix",
          "sigmoid_mix",
          "sigmoid_mix",
          "sigmoid_mix",
          "sigmoid_mix",
          "sigmoid_mix",
          "sigmoid_mix",
          "sigmoid_mix",
          "sigmoid_mix",
          "sigmoid_mix",
          "sigmoid_mix",
          "sigmoid_mix",
          "sigmoid_mix",
          "sigmoid_mix",
          "sigmoid_mix",
          "sigmoid_mix",
          "sigmoid_mix",
          "sigmoid_mix",
          "sigmoid_mix",
          "sigmoid_mix",
          "sigmoid_mix",
          "sigmoid_mix",
          "sigmoid_mix",
          "sigmoid_mix",
          "sigmoid_mix",
          "sigmoid_mix",
          "sigmoid_mix",
          "sigmoid_mix",
          "sigmoid_mix",
          "sigmoid_mix",
          "sigmoid_mix",
          "sigmoid_mix",
          "sigmoid_mix",
          "sigmoid_mix",
          "sigmoid_mix",
          "sigmoid_mix",
          "sigmoid_mix",
          "sigmoid_mix",
          "sigmoid_mix",
          "sigmoid_mix",
          "sigmoid_mix",
          "sigmoid_mix",
          "sigmoid_mix",
          "sigmoid_mix",
          "sigmoid_mix",
          "sigmoid_mix",
          "sigmoid_mix",
          "sigmoid_mix",
          "sigmoid_mix",
          "sigmoid_mix",
          "sigmoid_mix",
          "sigmoid_mix",
          "sigmoid_mix",
          "sigmoid_mix",
          "sigmoid_mix",
          "sigmoid_mix",
          "sigmoid_mix",
          "sigmoid_mix",
          "sigmoid_mix",
          "sigmoid_mix",
          "sigmoid_mix",
          "sigmoid_mix",
          "sigmoid_mix",
          "sigmoid_mix",
          "sigmoid_mix"
         ],
         "x0": " ",
         "xaxis": "x",
         "y": [
          6.828823449868351e-7,
          null,
          null,
          null,
          null,
          null,
          null,
          null,
          null,
          null,
          null,
          6.428967133027648e-7,
          6.428967133027648e-7,
          6.428967133027648e-7,
          6.428967133027648e-7,
          6.428967133027648e-7,
          6.428967133027648e-7,
          6.428967133027648e-7,
          6.428967133027648e-7,
          6.428967133027648e-7,
          6.428967133027648e-7,
          0.0001612976113553,
          0.000016781238759821403,
          0.0001612976113553,
          0.000016781238759821403,
          0.000016781238759821403,
          null,
          null,
          null,
          null,
          null,
          null,
          null,
          null,
          null,
          null,
          null,
          null,
          null,
          null,
          null,
          0.000016781238759821403,
          0.000016781238759821403,
          0.000016781238759821403,
          0.000016781238759821403,
          0.000016781238759821403,
          0.000016781238759821403,
          0.000016781238759821403,
          0.0001612976113553,
          0.0001612976113553,
          0.0001612976113553,
          0.0000203921600584192,
          0.0000203921600584192,
          0.0000203921600584192,
          0.0000203921600584192,
          0.0000203921600584192,
          0.0000203921600584192,
          0.0000203921600584192,
          0.0000203921600584192,
          0.0000203921600584192,
          null,
          null,
          null,
          null,
          null,
          null,
          null,
          null,
          null,
          null,
          6.828823449868351e-7,
          6.828823449868351e-7,
          0.0000203921600584192,
          null,
          null,
          null,
          0.0001612976113553,
          0.0001612976113553,
          0.0001612976113553,
          0.0001612976113553,
          0.0001612976113553,
          null,
          null,
          null,
          null,
          null,
          null,
          null,
          null,
          null,
          null,
          null,
          null,
          null,
          null,
          null,
          null,
          null,
          null,
          null,
          6.828823449868351e-7,
          null,
          null,
          0.00002274211215703063,
          0.00002274211215703063,
          0.00002274211215703063,
          0.00002274211215703063,
          0.00002274211215703063,
          0.00002274211215703063,
          0.00002274211215703063,
          0.00002274211215703063,
          0.00002274211215703063,
          0.00002274211215703063,
          null,
          null,
          null,
          null,
          null,
          null,
          null,
          null,
          null,
          null,
          7.397917882677797e-7,
          0.00005038440792960242,
          7.397917882677797e-7,
          7.397917882677797e-7,
          6.828823449868351e-7,
          6.828823449868351e-7,
          6.828823449868351e-7,
          6.828823449868351e-7,
          6.828823449868351e-7,
          6.828823449868351e-7,
          0.00002581122803382472,
          0.00002581122803382472,
          0.00002581122803382472,
          0.00002581122803382472,
          0.00002581122803382472,
          0.00002581122803382472,
          0.00002581122803382472,
          0.00002581122803382472,
          0.00002581122803382472,
          0.00002581122803382472,
          7.397917882677797e-7,
          7.397917882677797e-7,
          7.397917882677797e-7,
          7.397917882677797e-7,
          7.397917882677797e-7,
          7.397917882677797e-7,
          0.00005038440792960242,
          7.397917882677797e-7,
          0.00005038440792960242,
          null,
          null,
          null,
          null,
          null,
          null,
          null,
          null,
          null,
          null,
          null,
          null,
          null,
          null,
          null,
          null,
          null,
          null,
          null,
          null,
          0.00005038440792960242,
          0.00006740455350879475,
          0.00006740455350879475,
          null,
          0.00006740455350879475,
          0.00006740455350879475,
          0.00005038440792960242,
          0.00005038440792960242,
          0.00005038440792960242,
          0.00005038440792960242,
          0.00005038440792960242,
          0.00007384993549892807,
          0.00007384993549892807,
          0.00007384993549892807,
          0.00007384993549892807,
          0.00007384993549892807,
          0.00005038440792960242,
          0.00007384993549892807,
          0.00007384993549892807,
          0.00007384993549892807,
          0.00007384993549892807,
          0.00006740455350879475,
          0.00006740455350879475,
          0.00006740455350879475,
          0.00006740455350879475,
          0.00006740455350879475,
          0.00006740455350879475,
          0.00007384993549892807,
          0.000017690670902927745,
          0.000017690670902927745,
          0.000017690670902927745,
          null,
          0.000017690670902927745,
          0.000017690670902927745,
          null,
          0.000017690670902927745,
          0.000017690670902927745,
          null,
          0.000017690670902927745,
          0.000017690670902927745,
          null,
          null,
          null,
          null,
          null,
          null,
          null,
          null,
          0.000017690670902927745,
          null,
          0.00003693592879166871,
          null,
          null,
          null,
          null,
          null,
          null,
          null,
          null,
          null,
          0.00003693592879166871,
          0.00003693592879166871,
          0.00003693592879166871,
          0.00003693592879166871,
          0.00003693592879166871,
          0.00003693592879166871,
          0.00003693592879166871,
          0.00003693592879166871,
          0.00003693592879166871,
          null,
          null,
          null,
          null,
          null,
          null,
          0.00008066286958988082,
          null,
          null,
          null,
          null,
          0.0000793564397896513,
          0.0000793564397896513,
          0.0000793564397896513,
          0.0000793564397896513,
          0.0000793564397896513,
          0.0000793564397896513,
          0.0000793564397896513,
          0.0000793564397896513,
          0.0000793564397896513,
          0.0000793564397896513,
          0.00008066286958988082,
          0.00008066286958988082,
          0.00008066286958988082,
          0.00008066286958988082,
          0.00008066286958988082,
          0.00008066286958988082,
          0.00008066286958988082,
          null,
          null,
          null,
          null,
          null,
          null,
          null,
          null,
          null,
          null,
          null,
          null,
          null,
          null,
          null,
          null,
          null,
          null,
          null,
          null,
          null,
          null,
          null,
          null,
          null,
          null,
          null,
          null,
          null,
          null,
          0.00006005472891230351,
          null,
          null,
          null,
          null,
          null,
          0.000004068572485800751,
          0.000004068572485800751,
          0.000004068572485800751,
          0.000004068572485800751,
          0.000004068572485800751,
          0.000004068572485800751,
          0.000004068572485800751,
          0.000004068572485800751,
          0.000004068572485800751,
          0.000004068572485800751,
          null,
          null,
          null,
          null,
          null,
          null,
          null,
          null,
          null,
          null,
          0.00008066286958988082,
          0.0000013028665106283175,
          0.0000013028665106283175,
          0.0000013028665106283175,
          0.0000013028665106283175,
          0.0000013028665106283175,
          0.0000013028665106283175,
          0.0000013028665106283175,
          0.0000013028665106283175,
          0.0000013028665106283175,
          null,
          null,
          null,
          null,
          null,
          null,
          null,
          null,
          null,
          null,
          null,
          null,
          null,
          null,
          null,
          0.00004973201966236644,
          0.00004973201966236644,
          0.00004973201966236644,
          0.00002455552951590185,
          0.00002455552951590185,
          0.00002455552951590185,
          0.00002455552951590185,
          0.00002455552951590185,
          0.00002455552951590185,
          0.00002455552951590185,
          0.00002455552951590185,
          0.00002455552951590185,
          0.00002455552951590185,
          0.00006005472891230351,
          0.00006005472891230351,
          0.00006005472891230351,
          0.00006005472891230351,
          0.00006005472891230351,
          0.00006005472891230351,
          0.00006005472891230351,
          0.00006005472891230351,
          0.00004973201966236644,
          0.00004973201966236644,
          0.00004973201966236644,
          0.00004973201966236644,
          null,
          null,
          null,
          null,
          null,
          null,
          null,
          null,
          null,
          null,
          0.00006005472891230351,
          null,
          null,
          null,
          null,
          null,
          null,
          null,
          null,
          0.00004973201966236644,
          0.00004973201966236644,
          0.00004973201966236644,
          null,
          0.0000013028665106283175,
          0.00008066286958988082,
          0.000003318564028474504,
          null,
          null,
          null,
          null,
          0.000015749091538231894,
          0.000015749091538231894,
          0.000015749091538231894,
          0.000015749091538231894,
          0.000015749091538231894,
          null,
          0.000015749091538231894,
          0.000015749091538231894,
          0.000015749091538231894,
          0.000015749091538231894,
          null,
          null,
          null,
          null,
          null,
          null,
          0.000015749091538231894,
          null,
          null,
          null,
          null,
          null,
          null,
          null,
          null,
          null,
          null,
          null,
          null,
          null,
          null,
          null,
          null,
          null,
          null,
          null,
          null,
          null,
          null,
          null,
          null,
          null,
          null,
          null,
          null,
          0.00002286378911805172,
          0.00002286378911805172,
          0.00002286378911805172,
          0.00002286378911805172,
          0.00002286378911805172,
          0.0000033903149654850555,
          0.0000033903149654850555,
          0.0000033903149654850555,
          0.0000033903149654850555,
          0.0000033903149654850555,
          0.0000033903149654850555,
          0.0000033903149654850555,
          0.0000033903149654850555,
          0.0000033903149654850555,
          0.0000033903149654850555,
          0.000003318564028474504,
          0.000003318564028474504,
          0.000003318564028474504,
          0.000003318564028474504,
          0.000003318564028474504,
          0.000003318564028474504,
          0.00002286378911805172,
          null,
          0.00002286378911805172,
          0.00002286378911805172,
          null,
          null,
          null,
          null,
          null,
          null,
          null,
          null,
          null,
          null,
          null,
          null,
          null,
          null,
          null,
          null,
          null,
          null,
          null,
          null,
          0.00002286378911805172,
          0.00002286378911805172,
          0.00000569174166977705,
          0.00000569174166977705,
          0.00000569174166977705,
          0.0000010534514425291093,
          0.0000010534514425291093,
          0.0000010534514425291093,
          0.0000010534514425291093,
          0.0000021765847750976764,
          0.0000021765847750976764,
          0.0000021765847750976764,
          0.0000021765847750976764,
          0.0000021765847750976764,
          0.0000021765847750976764,
          0.0000021765847750976764,
          0.0000021765847750976764,
          0.0000021765847750976764,
          0.0000021765847750976764,
          0.000006575674119376501,
          0.000006575674119376501,
          0.000006575674119376501,
          0.000006575674119376501,
          0.000006575674119376501,
          0.000006575674119376501,
          0.000006575674119376501,
          0.0000010534514425291093,
          0.000006575674119376501,
          0.0000010534514425291093,
          0.0000010534514425291093,
          null,
          null,
          null,
          null,
          null,
          null,
          null,
          null,
          null,
          0.000009208923275006957,
          0.000009208923275006957,
          0.000009208923275006957,
          0.000009208923275006957,
          0.000009208923275006957,
          0.000009208923275006957,
          0.000009208923275006957,
          0.000009208923275006957,
          0.000009208923275006957,
          0.000009208923275006957,
          0.0000010534514425291093,
          0.0000010534514425291093,
          0.0000010534514425291093,
          0.000003318564028474504,
          0.000006575674119376501,
          0.000010250823494536632,
          null,
          null,
          null,
          null,
          0.000019110643322051804,
          0.000019110643322051804,
          0.000019110643322051804,
          0.000019110643322051804,
          0.000019110643322051804,
          0.000019110643322051804,
          0.000019110643322051804,
          0.000019110643322051804,
          0.000019110643322051804,
          0.000019110643322051804,
          0.00000569174166977705,
          0.00000569174166977705,
          0.00000569174166977705,
          0.00000569174166977705,
          0.00000569174166977705,
          0.00000569174166977705,
          0.00000569174166977705,
          null,
          0.000006575674119376501,
          null,
          null,
          0.000010250823494536632,
          0.000010250823494536632,
          0.000010250823494536632,
          0.000010250823494536632,
          0.000010250823494536632,
          0.000010250823494536632,
          0.000010250823494536632,
          0.000010250823494536632,
          0.000010250823494536632,
          0.0000026181055485662515,
          0.0000026181055485662515,
          0.0000026181055485662515,
          0.0000026181055485662515,
          0.0000026181055485662515,
          0.0000026181055485662515,
          0.0000026181055485662515,
          0.0000026181055485662515,
          0.0000026181055485662515,
          0.0000026181055485662515,
          null,
          null,
          null,
          0.000003318564028474504,
          null,
          0.000003318564028474504,
          null,
          null,
          null,
          9.631424075469778e-7,
          9.631424075469778e-7,
          9.631424075469778e-7,
          9.631424075469778e-7,
          9.631424075469778e-7,
          9.631424075469778e-7,
          9.631424075469778e-7,
          9.631424075469778e-7,
          9.631424075469778e-7,
          9.631424075469778e-7,
          0.000013412466231225744,
          0.000013412466231225744,
          0.000013412466231225744,
          0.000013412466231225744,
          0.000013412466231225744,
          0.000013412466231225744,
          0.000013412466231225744,
          0.000013412466231225744,
          null,
          0.000013412466231225744,
          null,
          null,
          0.00001931691896109891,
          0.00001931691896109891,
          0.00001931691896109891,
          0.00001931691896109891,
          0.00001931691896109891,
          0.00001931691896109891,
          0.00001931691896109891,
          0.00001931691896109891,
          null,
          null,
          null,
          null,
          null,
          null,
          null,
          null,
          null,
          null,
          null,
          null,
          null,
          null,
          0.00001931691896109891,
          0.000013412466231225744,
          null,
          null,
          null,
          null,
          0.00004246595436984584,
          0.00004246595436984584,
          0.00004246595436984584,
          0.00004246595436984584,
          0.00004246595436984584,
          0.00004246595436984584,
          0.00004246595436984584,
          0.00004246595436984584,
          0.00004246595436984584,
          0.00004246595436984584,
          0.00010972147699,
          0.00010972147699,
          0.00010972147699,
          0.00010972147699,
          0.00010972147699,
          0.00010972147699,
          0.00010972147699,
          0.00010972147699,
          null,
          null,
          null,
          null,
          null,
          null,
          null,
          null,
          null,
          null,
          null,
          null,
          null,
          null,
          null,
          null,
          null,
          null,
          null,
          null,
          null,
          null,
          null,
          null,
          null,
          null,
          0.00010972147699,
          0.00001931691896109891,
          null,
          0.000002432586052466328,
          0.000002432586052466328,
          0.000002432586052466328,
          0.00001712701195941813,
          0.00001712701195941813,
          0.00001712701195941813,
          0.00001712701195941813,
          0.00001712701195941813,
          0.00001712701195941813,
          0.00001712701195941813,
          0.00001712701195941813,
          0.00001712701195941813,
          0.00001712701195941813,
          0.00002047220589249397,
          0.00002047220589249397,
          0.00002047220589249397,
          0.00002047220589249397,
          0.00002047220589249397,
          0.00002047220589249397,
          0.00002047220589249397,
          0.00002047220589249397,
          0.000002432586052466328,
          0.00002047220589249397,
          0.000002432586052466328,
          0.000002432586052466328,
          0.00001987835637433413,
          0.00001987835637433413,
          0.00001987835637433413,
          0.00001987835637433413,
          0.00001987835637433413,
          0.00001987835637433413,
          0.00001987835637433413,
          0.00001987835637433413,
          0.0002114505620408,
          0.0002114505620408,
          0.0002114505620408,
          0.0002114505620408,
          0.0002114505620408,
          0.0002114505620408,
          0.0002114505620408,
          0.0002114505620408,
          0.0002114505620408,
          0.0002114505620408,
          0.000002432586052466328,
          0.000002432586052466328,
          0.000002432586052466328,
          0.000002432586052466328,
          null,
          0.00002047220589249397,
          null,
          null,
          null,
          null,
          null,
          null,
          null,
          null,
          null,
          null,
          null,
          null,
          null,
          null,
          null,
          null,
          null,
          null,
          null,
          null,
          null,
          null,
          null,
          null,
          null,
          null,
          null,
          null,
          null,
          null,
          null,
          null,
          null,
          null,
          0.0000011282229579668676,
          0.0000011282229579668676,
          0.0000011282229579668676,
          0.0000011282229579668676,
          0.0000011282229579668676,
          0.0000011282229579668676,
          0.0000011282229579668676,
          0.0000011282229579668676,
          0.0000011282229579668676,
          0.0000011282229579668676,
          null,
          null,
          null,
          null,
          0.00010972147699,
          0.00001987835637433413,
          0.00001987835637433413,
          0.00007195812325574025,
          0.00007195812325574025,
          0.00007195812325574025,
          0.00007195812325574025,
          0.0000012542345282046894,
          0.0000012542345282046894,
          0.0000012542345282046894,
          0.0000012542345282046894,
          0.0000012542345282046894,
          0.0000012542345282046894,
          0.0000012542345282046894,
          0.0000012542345282046894,
          0.0000012542345282046894,
          0.0000012542345282046894,
          null,
          null,
          null,
          null,
          null,
          null,
          null,
          0.00007195812325574025,
          null,
          0.00007195812325574025,
          0.00007195812325574025,
          0.0001088835758813,
          0.0001088835758813,
          0.0001088835758813,
          0.0001088835758813,
          0.0001088835758813,
          0.0001088835758813,
          0.0001088835758813,
          0.0001088835758813,
          0.0001088835758813,
          null,
          null,
          null,
          null,
          null,
          null,
          null,
          null,
          null,
          null,
          0.00007195812325574025,
          0.00007195812325574025,
          0.00007195812325574025,
          null,
          null,
          0.0001999207551013,
          0.00004647922877361717,
          0.00004647922877361717,
          0.00004647922877361717,
          0.000004994587196617976,
          0.000004994587196617976,
          0.000004994587196617976,
          0.000004994587196617976,
          0.000004994587196617976,
          0.000004994587196617976,
          0.000004994587196617976,
          0.000004994587196617976,
          0.000004994587196617976,
          0.000004994587196617976,
          0.0001630664684974,
          0.0001630664684974,
          0.0001630664684974,
          0.0001630664684974,
          0.0001630664684974,
          0.0001630664684974,
          0.0001630664684974,
          0.0001630664684974,
          0.00004647922877361717,
          0.00004647922877361717,
          0.00004647922877361717,
          0.00004647922877361717,
          0.0001999207551013,
          0.0001999207551013,
          0.0001999207551013,
          0.0001999207551013,
          0.0001999207551013,
          0.0001999207551013,
          0.0001999207551013,
          0.0001999207551013,
          0.0001999207551013,
          null,
          0.0001088835758813,
          null,
          null,
          null,
          null,
          null,
          null,
          null,
          null,
          0.00004647922877361717,
          0.00004647922877361717,
          0.00004647922877361717,
          null,
          0.0001630664684974,
          0.0001630664684974,
          null,
          null,
          null,
          null,
          null,
          null,
          null,
          null,
          null,
          null,
          null,
          null,
          null,
          null,
          null,
          null,
          null,
          null,
          null,
          null,
          null,
          null,
          null,
          null,
          null,
          null,
          null,
          null,
          null,
          null,
          null,
          null,
          null,
          null,
          null,
          null,
          null,
          null,
          null,
          null,
          null,
          null,
          null,
          null,
          null,
          null,
          null,
          null,
          null,
          null,
          null,
          0.000003230594818911226,
          0.000003230594818911226,
          0.000003230594818911226,
          0.000003230594818911226,
          null,
          null,
          null,
          null,
          null,
          null,
          null,
          null,
          null,
          null,
          null,
          null,
          null,
          null,
          null,
          null,
          null,
          0.000003230594818911226,
          0.000003230594818911226,
          0.000003230594818911226,
          0.000003230594818911226,
          0.0001300216256012,
          0.0001300216256012,
          0.0001300216256012,
          0.0001300216256012,
          0.0001300216256012,
          0.0001300216256012,
          0.0001300216256012,
          0.0001300216256012,
          0.0001300216256012,
          0.0001300216256012,
          null,
          null,
          null,
          null,
          null,
          null,
          null,
          null,
          null,
          null,
          0.000003230594818911226,
          0.000003230594818911226,
          null,
          null,
          0.0000013981204497959562,
          0.00001666837409926203,
          null,
          null,
          null,
          null,
          null,
          null,
          null,
          null,
          null,
          null,
          null,
          null,
          null,
          0.000003324985381799476,
          0.000003324985381799476,
          0.000003324985381799476,
          0.000003324985381799476,
          0.000003324985381799476,
          0.000003324985381799476,
          0.000003324985381799476,
          0.000003324985381799476,
          null,
          0.000003324985381799476,
          null,
          null,
          0.000007481825900928475,
          0.000007481825900928475,
          0.000007481825900928475,
          0.000007481825900928475,
          0.000007481825900928475,
          0.000007481825900928475,
          0.000007481825900928475,
          0.000007481825900928475,
          0.00005446490697195973,
          0.00005446490697195973,
          0.00005446490697195973,
          0.00005446490697195973,
          0.00005446490697195973,
          0.00005446490697195973,
          0.00005446490697195973,
          0.00005446490697195973,
          0.00005446490697195973,
          0.00005446490697195973,
          null,
          null,
          null,
          null,
          0.000007481825900928475,
          0.000003324985381799476,
          null,
          0.000021130358183473207,
          0.000021130358183473207,
          0.000021130358183473207,
          null,
          null,
          null,
          null,
          null,
          null,
          null,
          null,
          null,
          null,
          0.0000013981204497959562,
          0.0000013981204497959562,
          0.0000013981204497959562,
          0.0000013981204497959562,
          0.0000013981204497959562,
          0.0000013981204497959562,
          0.0000013981204497959562,
          0.0000013981204497959562,
          0.000021130358183473207,
          null,
          0.000021130358183473207,
          0.000021130358183473207,
          null,
          null,
          null,
          null,
          null,
          null,
          null,
          null,
          null,
          null,
          null,
          null,
          null,
          null,
          null,
          null,
          null,
          null,
          0.000021130358183473207,
          0.000021130358183473207,
          0.000021130358183473207,
          0.000021130358183473207,
          0.00001666837409926203,
          0.000007481825900928475,
          0.00007568977238595866,
          0.00003875584343622058,
          0.00003875584343622058,
          0.00003875584343622058,
          null,
          null,
          null,
          null,
          null,
          null,
          null,
          null,
          null,
          null,
          null,
          null,
          null,
          null,
          null,
          null,
          null,
          null,
          0.00003875584343622058,
          null,
          0.00003875584343622058,
          0.00003875584343622058,
          0.00001666837409926203,
          0.00001666837409926203,
          0.00001666837409926203,
          0.00001666837409926203,
          0.00001666837409926203,
          0.00001666837409926203,
          0.00001666837409926203,
          0.00001666837409926203,
          0.00002764855826038569,
          0.00002764855826038569,
          0.00002764855826038569,
          0.00002764855826038569,
          0.00002764855826038569,
          0.00002764855826038569,
          0.00002764855826038569,
          0.00002764855826038569,
          0.00002764855826038569,
          0.00002764855826038569,
          0.00003875584343622058,
          0.00003875584343622058,
          0.00003875584343622058,
          0.00003875584343622058,
          0.00007568977238595866,
          null,
          0.000007543287459953816,
          null,
          null,
          null,
          null,
          null,
          null,
          null,
          null,
          null,
          null,
          null,
          null,
          null,
          0.00007568977238595866,
          0.00007568977238595866,
          0.00007568977238595866,
          0.00007568977238595866,
          0.00007568977238595866,
          0.00007568977238595866,
          0.00007568977238595866,
          0.00007568977238595866,
          null,
          0.000007543287459953816,
          null,
          null,
          0.000007543287459953816,
          0.000007543287459953816,
          0.000007543287459953816,
          0.000007543287459953816,
          0.000007543287459953816,
          0.000007543287459953816,
          0.000007543287459953816,
          0.000007543287459953816,
          null,
          null,
          null,
          null,
          null,
          null,
          null,
          null,
          null,
          null,
          null,
          null,
          null,
          null,
          0.0000013981204497959562
         ],
         "y0": " ",
         "yaxis": "y"
        }
       ],
       "layout": {
        "boxmode": "group",
        "height": 300,
        "legend": {
         "tracegroupgap": 0,
         "x": 0.01,
         "xanchor": "left",
         "y": 0.6,
         "yanchor": "top"
        },
        "margin": {
         "b": 10,
         "l": 20,
         "r": 10,
         "t": 10
        },
        "template": {
         "data": {
          "bar": [
           {
            "error_x": {
             "color": "#2a3f5f"
            },
            "error_y": {
             "color": "#2a3f5f"
            },
            "marker": {
             "line": {
              "color": "#E5ECF6",
              "width": 0.5
             },
             "pattern": {
              "fillmode": "overlay",
              "size": 10,
              "solidity": 0.2
             }
            },
            "type": "bar"
           }
          ],
          "barpolar": [
           {
            "marker": {
             "line": {
              "color": "#E5ECF6",
              "width": 0.5
             },
             "pattern": {
              "fillmode": "overlay",
              "size": 10,
              "solidity": 0.2
             }
            },
            "type": "barpolar"
           }
          ],
          "carpet": [
           {
            "aaxis": {
             "endlinecolor": "#2a3f5f",
             "gridcolor": "white",
             "linecolor": "white",
             "minorgridcolor": "white",
             "startlinecolor": "#2a3f5f"
            },
            "baxis": {
             "endlinecolor": "#2a3f5f",
             "gridcolor": "white",
             "linecolor": "white",
             "minorgridcolor": "white",
             "startlinecolor": "#2a3f5f"
            },
            "type": "carpet"
           }
          ],
          "choropleth": [
           {
            "colorbar": {
             "outlinewidth": 0,
             "ticks": ""
            },
            "type": "choropleth"
           }
          ],
          "contour": [
           {
            "colorbar": {
             "outlinewidth": 0,
             "ticks": ""
            },
            "colorscale": [
             [
              0,
              "#0d0887"
             ],
             [
              0.1111111111111111,
              "#46039f"
             ],
             [
              0.2222222222222222,
              "#7201a8"
             ],
             [
              0.3333333333333333,
              "#9c179e"
             ],
             [
              0.4444444444444444,
              "#bd3786"
             ],
             [
              0.5555555555555556,
              "#d8576b"
             ],
             [
              0.6666666666666666,
              "#ed7953"
             ],
             [
              0.7777777777777778,
              "#fb9f3a"
             ],
             [
              0.8888888888888888,
              "#fdca26"
             ],
             [
              1,
              "#f0f921"
             ]
            ],
            "type": "contour"
           }
          ],
          "contourcarpet": [
           {
            "colorbar": {
             "outlinewidth": 0,
             "ticks": ""
            },
            "type": "contourcarpet"
           }
          ],
          "heatmap": [
           {
            "colorbar": {
             "outlinewidth": 0,
             "ticks": ""
            },
            "colorscale": [
             [
              0,
              "#0d0887"
             ],
             [
              0.1111111111111111,
              "#46039f"
             ],
             [
              0.2222222222222222,
              "#7201a8"
             ],
             [
              0.3333333333333333,
              "#9c179e"
             ],
             [
              0.4444444444444444,
              "#bd3786"
             ],
             [
              0.5555555555555556,
              "#d8576b"
             ],
             [
              0.6666666666666666,
              "#ed7953"
             ],
             [
              0.7777777777777778,
              "#fb9f3a"
             ],
             [
              0.8888888888888888,
              "#fdca26"
             ],
             [
              1,
              "#f0f921"
             ]
            ],
            "type": "heatmap"
           }
          ],
          "heatmapgl": [
           {
            "colorbar": {
             "outlinewidth": 0,
             "ticks": ""
            },
            "colorscale": [
             [
              0,
              "#0d0887"
             ],
             [
              0.1111111111111111,
              "#46039f"
             ],
             [
              0.2222222222222222,
              "#7201a8"
             ],
             [
              0.3333333333333333,
              "#9c179e"
             ],
             [
              0.4444444444444444,
              "#bd3786"
             ],
             [
              0.5555555555555556,
              "#d8576b"
             ],
             [
              0.6666666666666666,
              "#ed7953"
             ],
             [
              0.7777777777777778,
              "#fb9f3a"
             ],
             [
              0.8888888888888888,
              "#fdca26"
             ],
             [
              1,
              "#f0f921"
             ]
            ],
            "type": "heatmapgl"
           }
          ],
          "histogram": [
           {
            "marker": {
             "pattern": {
              "fillmode": "overlay",
              "size": 10,
              "solidity": 0.2
             }
            },
            "type": "histogram"
           }
          ],
          "histogram2d": [
           {
            "colorbar": {
             "outlinewidth": 0,
             "ticks": ""
            },
            "colorscale": [
             [
              0,
              "#0d0887"
             ],
             [
              0.1111111111111111,
              "#46039f"
             ],
             [
              0.2222222222222222,
              "#7201a8"
             ],
             [
              0.3333333333333333,
              "#9c179e"
             ],
             [
              0.4444444444444444,
              "#bd3786"
             ],
             [
              0.5555555555555556,
              "#d8576b"
             ],
             [
              0.6666666666666666,
              "#ed7953"
             ],
             [
              0.7777777777777778,
              "#fb9f3a"
             ],
             [
              0.8888888888888888,
              "#fdca26"
             ],
             [
              1,
              "#f0f921"
             ]
            ],
            "type": "histogram2d"
           }
          ],
          "histogram2dcontour": [
           {
            "colorbar": {
             "outlinewidth": 0,
             "ticks": ""
            },
            "colorscale": [
             [
              0,
              "#0d0887"
             ],
             [
              0.1111111111111111,
              "#46039f"
             ],
             [
              0.2222222222222222,
              "#7201a8"
             ],
             [
              0.3333333333333333,
              "#9c179e"
             ],
             [
              0.4444444444444444,
              "#bd3786"
             ],
             [
              0.5555555555555556,
              "#d8576b"
             ],
             [
              0.6666666666666666,
              "#ed7953"
             ],
             [
              0.7777777777777778,
              "#fb9f3a"
             ],
             [
              0.8888888888888888,
              "#fdca26"
             ],
             [
              1,
              "#f0f921"
             ]
            ],
            "type": "histogram2dcontour"
           }
          ],
          "mesh3d": [
           {
            "colorbar": {
             "outlinewidth": 0,
             "ticks": ""
            },
            "type": "mesh3d"
           }
          ],
          "parcoords": [
           {
            "line": {
             "colorbar": {
              "outlinewidth": 0,
              "ticks": ""
             }
            },
            "type": "parcoords"
           }
          ],
          "pie": [
           {
            "automargin": true,
            "type": "pie"
           }
          ],
          "scatter": [
           {
            "fillpattern": {
             "fillmode": "overlay",
             "size": 10,
             "solidity": 0.2
            },
            "type": "scatter"
           }
          ],
          "scatter3d": [
           {
            "line": {
             "colorbar": {
              "outlinewidth": 0,
              "ticks": ""
             }
            },
            "marker": {
             "colorbar": {
              "outlinewidth": 0,
              "ticks": ""
             }
            },
            "type": "scatter3d"
           }
          ],
          "scattercarpet": [
           {
            "marker": {
             "colorbar": {
              "outlinewidth": 0,
              "ticks": ""
             }
            },
            "type": "scattercarpet"
           }
          ],
          "scattergeo": [
           {
            "marker": {
             "colorbar": {
              "outlinewidth": 0,
              "ticks": ""
             }
            },
            "type": "scattergeo"
           }
          ],
          "scattergl": [
           {
            "marker": {
             "colorbar": {
              "outlinewidth": 0,
              "ticks": ""
             }
            },
            "type": "scattergl"
           }
          ],
          "scattermapbox": [
           {
            "marker": {
             "colorbar": {
              "outlinewidth": 0,
              "ticks": ""
             }
            },
            "type": "scattermapbox"
           }
          ],
          "scatterpolar": [
           {
            "marker": {
             "colorbar": {
              "outlinewidth": 0,
              "ticks": ""
             }
            },
            "type": "scatterpolar"
           }
          ],
          "scatterpolargl": [
           {
            "marker": {
             "colorbar": {
              "outlinewidth": 0,
              "ticks": ""
             }
            },
            "type": "scatterpolargl"
           }
          ],
          "scatterternary": [
           {
            "marker": {
             "colorbar": {
              "outlinewidth": 0,
              "ticks": ""
             }
            },
            "type": "scatterternary"
           }
          ],
          "surface": [
           {
            "colorbar": {
             "outlinewidth": 0,
             "ticks": ""
            },
            "colorscale": [
             [
              0,
              "#0d0887"
             ],
             [
              0.1111111111111111,
              "#46039f"
             ],
             [
              0.2222222222222222,
              "#7201a8"
             ],
             [
              0.3333333333333333,
              "#9c179e"
             ],
             [
              0.4444444444444444,
              "#bd3786"
             ],
             [
              0.5555555555555556,
              "#d8576b"
             ],
             [
              0.6666666666666666,
              "#ed7953"
             ],
             [
              0.7777777777777778,
              "#fb9f3a"
             ],
             [
              0.8888888888888888,
              "#fdca26"
             ],
             [
              1,
              "#f0f921"
             ]
            ],
            "type": "surface"
           }
          ],
          "table": [
           {
            "cells": {
             "fill": {
              "color": "#EBF0F8"
             },
             "line": {
              "color": "white"
             }
            },
            "header": {
             "fill": {
              "color": "#C8D4E3"
             },
             "line": {
              "color": "white"
             }
            },
            "type": "table"
           }
          ]
         },
         "layout": {
          "annotationdefaults": {
           "arrowcolor": "#2a3f5f",
           "arrowhead": 0,
           "arrowwidth": 1
          },
          "autotypenumbers": "strict",
          "coloraxis": {
           "colorbar": {
            "outlinewidth": 0,
            "ticks": ""
           }
          },
          "colorscale": {
           "diverging": [
            [
             0,
             "#8e0152"
            ],
            [
             0.1,
             "#c51b7d"
            ],
            [
             0.2,
             "#de77ae"
            ],
            [
             0.3,
             "#f1b6da"
            ],
            [
             0.4,
             "#fde0ef"
            ],
            [
             0.5,
             "#f7f7f7"
            ],
            [
             0.6,
             "#e6f5d0"
            ],
            [
             0.7,
             "#b8e186"
            ],
            [
             0.8,
             "#7fbc41"
            ],
            [
             0.9,
             "#4d9221"
            ],
            [
             1,
             "#276419"
            ]
           ],
           "sequential": [
            [
             0,
             "#0d0887"
            ],
            [
             0.1111111111111111,
             "#46039f"
            ],
            [
             0.2222222222222222,
             "#7201a8"
            ],
            [
             0.3333333333333333,
             "#9c179e"
            ],
            [
             0.4444444444444444,
             "#bd3786"
            ],
            [
             0.5555555555555556,
             "#d8576b"
            ],
            [
             0.6666666666666666,
             "#ed7953"
            ],
            [
             0.7777777777777778,
             "#fb9f3a"
            ],
            [
             0.8888888888888888,
             "#fdca26"
            ],
            [
             1,
             "#f0f921"
            ]
           ],
           "sequentialminus": [
            [
             0,
             "#0d0887"
            ],
            [
             0.1111111111111111,
             "#46039f"
            ],
            [
             0.2222222222222222,
             "#7201a8"
            ],
            [
             0.3333333333333333,
             "#9c179e"
            ],
            [
             0.4444444444444444,
             "#bd3786"
            ],
            [
             0.5555555555555556,
             "#d8576b"
            ],
            [
             0.6666666666666666,
             "#ed7953"
            ],
            [
             0.7777777777777778,
             "#fb9f3a"
            ],
            [
             0.8888888888888888,
             "#fdca26"
            ],
            [
             1,
             "#f0f921"
            ]
           ]
          },
          "colorway": [
           "#636efa",
           "#EF553B",
           "#00cc96",
           "#ab63fa",
           "#FFA15A",
           "#19d3f3",
           "#FF6692",
           "#B6E880",
           "#FF97FF",
           "#FECB52"
          ],
          "font": {
           "color": "#2a3f5f"
          },
          "geo": {
           "bgcolor": "white",
           "lakecolor": "white",
           "landcolor": "#E5ECF6",
           "showlakes": true,
           "showland": true,
           "subunitcolor": "white"
          },
          "hoverlabel": {
           "align": "left"
          },
          "hovermode": "closest",
          "mapbox": {
           "style": "light"
          },
          "paper_bgcolor": "white",
          "plot_bgcolor": "#E5ECF6",
          "polar": {
           "angularaxis": {
            "gridcolor": "white",
            "linecolor": "white",
            "ticks": ""
           },
           "bgcolor": "#E5ECF6",
           "radialaxis": {
            "gridcolor": "white",
            "linecolor": "white",
            "ticks": ""
           }
          },
          "scene": {
           "xaxis": {
            "backgroundcolor": "#E5ECF6",
            "gridcolor": "white",
            "gridwidth": 2,
            "linecolor": "white",
            "showbackground": true,
            "ticks": "",
            "zerolinecolor": "white"
           },
           "yaxis": {
            "backgroundcolor": "#E5ECF6",
            "gridcolor": "white",
            "gridwidth": 2,
            "linecolor": "white",
            "showbackground": true,
            "ticks": "",
            "zerolinecolor": "white"
           },
           "zaxis": {
            "backgroundcolor": "#E5ECF6",
            "gridcolor": "white",
            "gridwidth": 2,
            "linecolor": "white",
            "showbackground": true,
            "ticks": "",
            "zerolinecolor": "white"
           }
          },
          "shapedefaults": {
           "line": {
            "color": "#2a3f5f"
           }
          },
          "ternary": {
           "aaxis": {
            "gridcolor": "white",
            "linecolor": "white",
            "ticks": ""
           },
           "baxis": {
            "gridcolor": "white",
            "linecolor": "white",
            "ticks": ""
           },
           "bgcolor": "#E5ECF6",
           "caxis": {
            "gridcolor": "white",
            "linecolor": "white",
            "ticks": ""
           }
          },
          "title": {
           "x": 0.05
          },
          "xaxis": {
           "automargin": true,
           "gridcolor": "white",
           "linecolor": "white",
           "ticks": "",
           "title": {
            "standoff": 15
           },
           "zerolinecolor": "white",
           "zerolinewidth": 2
          },
          "yaxis": {
           "automargin": true,
           "gridcolor": "white",
           "linecolor": "white",
           "ticks": "",
           "title": {
            "standoff": 15
           },
           "zerolinecolor": "white",
           "zerolinewidth": 2
          }
         }
        },
        "width": 800,
        "xaxis": {
         "anchor": "y",
         "domain": [
          0,
          1
         ],
         "title": {
          "text": "mechanism"
         }
        },
        "yaxis": {
         "anchor": "x",
         "domain": [
          0,
          1
         ],
         "title": {
          "text": "KL-divergence"
         }
        }
       }
      }
     },
     "metadata": {},
     "output_type": "display_data"
    }
   ],
   "source": [
    "### box plot KL-divergence between original set and augmented set mean, median, std depending on the mechanisms\n",
    "\n",
    "# rename columns and set x, y and color variables\n",
    "y_column = 'KL-divergence'\n",
    "x_column = 'mechanism'\n",
    "results_mechanisms_plot = results_mechanisms.rename(columns={\"KL_div_train_vs_aug_weighted\": \"KL-divergence\"}).sort_values(by=[x_column])\n",
    "\n",
    "# box plot\n",
    "fig = px.box(results_mechanisms_plot, \n",
    "             x=x_column, y=y_column,\n",
    "             width=800, height=300\n",
    "            )\n",
    "fig.update_traces(quartilemethod=\"inclusive\") # or \"exclusive\", or \"linear\" by default\n",
    "\n",
    "# legend position\n",
    "fig.update_layout(legend=dict(\n",
    "    yanchor=\"top\",\n",
    "    y=0.60,\n",
    "    xanchor=\"left\",\n",
    "    x=0.01\n",
    "))\n",
    "\n",
    "# magin size\n",
    "fig.update_layout(\n",
    "    margin=dict(l=20, r=10, t=10, b=10)\n",
    ")\n",
    "\n",
    "fig.show()"
   ]
  },
  {
   "cell_type": "code",
   "execution_count": 22,
   "metadata": {},
   "outputs": [
    {
     "data": {
      "application/vnd.plotly.v1+json": {
       "config": {
        "plotlyServerURL": "https://plot.ly"
       },
       "data": [
        {
         "alignmentgroup": "True",
         "hovertemplate": "mechanism=%{x}<br>Mean relative difference in variance=%{y}<extra></extra>",
         "legendgroup": "",
         "marker": {
          "color": "#636efa"
         },
         "name": "",
         "notched": false,
         "offsetgroup": "",
         "orientation": "v",
         "quartilemethod": "inclusive",
         "showlegend": false,
         "type": "box",
         "x": [
          "gp_add",
          "gp_add",
          "gp_add",
          "gp_add",
          "gp_add",
          "gp_add",
          "gp_add",
          "gp_add",
          "gp_add",
          "gp_add",
          "gp_add",
          "gp_add",
          "gp_add",
          "gp_add",
          "gp_add",
          "gp_add",
          "gp_add",
          "gp_add",
          "gp_add",
          "gp_add",
          "gp_add",
          "gp_add",
          "gp_add",
          "gp_add",
          "gp_add",
          "gp_add",
          "gp_add",
          "gp_add",
          "gp_add",
          "gp_add",
          "gp_add",
          "gp_add",
          "gp_add",
          "gp_add",
          "gp_add",
          "gp_add",
          "gp_add",
          "gp_add",
          "gp_add",
          "gp_add",
          "gp_add",
          "gp_add",
          "gp_add",
          "gp_add",
          "gp_add",
          "gp_add",
          "gp_add",
          "gp_add",
          "gp_add",
          "gp_add",
          "gp_add",
          "gp_add",
          "gp_add",
          "gp_add",
          "gp_add",
          "gp_add",
          "gp_add",
          "gp_add",
          "gp_add",
          "gp_add",
          "gp_add",
          "gp_add",
          "gp_add",
          "gp_add",
          "gp_add",
          "gp_add",
          "gp_add",
          "gp_add",
          "gp_add",
          "gp_add",
          "gp_add",
          "gp_add",
          "gp_add",
          "gp_add",
          "gp_add",
          "gp_add",
          "gp_add",
          "gp_add",
          "gp_add",
          "gp_add",
          "gp_add",
          "gp_add",
          "gp_add",
          "gp_add",
          "gp_add",
          "gp_add",
          "gp_add",
          "gp_add",
          "gp_add",
          "gp_add",
          "gp_add",
          "gp_add",
          "gp_add",
          "gp_add",
          "gp_add",
          "gp_add",
          "gp_add",
          "gp_add",
          "gp_add",
          "gp_add",
          "gp_add",
          "gp_add",
          "gp_add",
          "gp_add",
          "gp_add",
          "gp_add",
          "gp_add",
          "gp_add",
          "gp_add",
          "gp_add",
          "gp_add",
          "gp_add",
          "gp_add",
          "gp_add",
          "gp_add",
          "gp_add",
          "gp_add",
          "gp_add",
          "gp_add",
          "gp_add",
          "gp_add",
          "gp_add",
          "gp_add",
          "gp_add",
          "gp_add",
          "gp_add",
          "gp_add",
          "gp_add",
          "gp_add",
          "gp_add",
          "gp_add",
          "gp_add",
          "gp_add",
          "gp_add",
          "gp_add",
          "gp_add",
          "gp_add",
          "gp_add",
          "gp_add",
          "gp_add",
          "gp_add",
          "gp_add",
          "gp_add",
          "gp_add",
          "gp_add",
          "gp_add",
          "gp_add",
          "gp_add",
          "gp_add",
          "gp_add",
          "gp_add",
          "gp_add",
          "gp_add",
          "gp_add",
          "gp_add",
          "gp_add",
          "gp_add",
          "gp_add",
          "gp_add",
          "gp_add",
          "gp_add",
          "gp_add",
          "gp_add",
          "gp_add",
          "gp_add",
          "gp_add",
          "gp_add",
          "gp_add",
          "gp_add",
          "gp_add",
          "gp_add",
          "gp_add",
          "gp_add",
          "gp_add",
          "gp_add",
          "gp_add",
          "gp_add",
          "gp_add",
          "gp_add",
          "gp_add",
          "gp_add",
          "gp_add",
          "gp_add",
          "gp_add",
          "gp_add",
          "gp_add",
          "gp_add",
          "gp_add",
          "gp_add",
          "gp_add",
          "gp_add",
          "gp_add",
          "gp_add",
          "gp_add",
          "gp_add",
          "gp_add",
          "gp_add",
          "gp_add",
          "gp_add",
          "gp_add",
          "gp_mix",
          "gp_mix",
          "gp_mix",
          "gp_mix",
          "gp_mix",
          "gp_mix",
          "gp_mix",
          "gp_mix",
          "gp_mix",
          "gp_mix",
          "gp_mix",
          "gp_mix",
          "gp_mix",
          "gp_mix",
          "gp_mix",
          "gp_mix",
          "gp_mix",
          "gp_mix",
          "gp_mix",
          "gp_mix",
          "gp_mix",
          "gp_mix",
          "gp_mix",
          "gp_mix",
          "gp_mix",
          "gp_mix",
          "gp_mix",
          "gp_mix",
          "gp_mix",
          "gp_mix",
          "gp_mix",
          "gp_mix",
          "gp_mix",
          "gp_mix",
          "gp_mix",
          "gp_mix",
          "gp_mix",
          "gp_mix",
          "gp_mix",
          "gp_mix",
          "gp_mix",
          "gp_mix",
          "gp_mix",
          "gp_mix",
          "gp_mix",
          "gp_mix",
          "gp_mix",
          "gp_mix",
          "gp_mix",
          "gp_mix",
          "gp_mix",
          "gp_mix",
          "gp_mix",
          "gp_mix",
          "gp_mix",
          "gp_mix",
          "gp_mix",
          "gp_mix",
          "gp_mix",
          "gp_mix",
          "gp_mix",
          "gp_mix",
          "gp_mix",
          "gp_mix",
          "gp_mix",
          "gp_mix",
          "gp_mix",
          "gp_mix",
          "gp_mix",
          "gp_mix",
          "gp_mix",
          "gp_mix",
          "gp_mix",
          "gp_mix",
          "gp_mix",
          "gp_mix",
          "gp_mix",
          "gp_mix",
          "gp_mix",
          "gp_mix",
          "gp_mix",
          "gp_mix",
          "gp_mix",
          "gp_mix",
          "gp_mix",
          "gp_mix",
          "gp_mix",
          "gp_mix",
          "gp_mix",
          "gp_mix",
          "gp_mix",
          "gp_mix",
          "gp_mix",
          "gp_mix",
          "gp_mix",
          "gp_mix",
          "gp_mix",
          "gp_mix",
          "gp_mix",
          "gp_mix",
          "gp_mix",
          "gp_mix",
          "gp_mix",
          "gp_mix",
          "gp_mix",
          "gp_mix",
          "gp_mix",
          "gp_mix",
          "gp_mix",
          "gp_mix",
          "gp_mix",
          "gp_mix",
          "gp_mix",
          "gp_mix",
          "gp_mix",
          "gp_mix",
          "gp_mix",
          "gp_mix",
          "gp_mix",
          "gp_mix",
          "gp_mix",
          "gp_mix",
          "gp_mix",
          "gp_mix",
          "gp_mix",
          "gp_mix",
          "gp_mix",
          "gp_mix",
          "gp_mix",
          "gp_mix",
          "gp_mix",
          "gp_mix",
          "gp_mix",
          "gp_mix",
          "gp_mix",
          "gp_mix",
          "gp_mix",
          "gp_mix",
          "gp_mix",
          "gp_mix",
          "gp_mix",
          "gp_mix",
          "gp_mix",
          "gp_mix",
          "gp_mix",
          "gp_mix",
          "gp_mix",
          "gp_mix",
          "gp_mix",
          "gp_mix",
          "gp_mix",
          "gp_mix",
          "gp_mix",
          "gp_mix",
          "gp_mix",
          "gp_mix",
          "gp_mix",
          "gp_mix",
          "gp_mix",
          "gp_mix",
          "gp_mix",
          "gp_mix",
          "gp_mix",
          "gp_mix",
          "gp_mix",
          "gp_mix",
          "gp_mix",
          "gp_mix",
          "gp_mix",
          "gp_mix",
          "gp_mix",
          "gp_mix",
          "gp_mix",
          "gp_mix",
          "gp_mix",
          "gp_mix",
          "gp_mix",
          "gp_mix",
          "gp_mix",
          "gp_mix",
          "gp_mix",
          "gp_mix",
          "gp_mix",
          "gp_mix",
          "gp_mix",
          "gp_mix",
          "gp_mix",
          "gp_mix",
          "gp_mix",
          "gp_mix",
          "gp_mix",
          "gp_mix",
          "gp_mix",
          "gp_mix",
          "gp_mix",
          "gp_mix",
          "gp_mix",
          "gp_mix",
          "gp_mix",
          "gp_mix",
          "linear",
          "linear",
          "linear",
          "linear",
          "linear",
          "linear",
          "linear",
          "linear",
          "linear",
          "linear",
          "linear",
          "linear",
          "linear",
          "linear",
          "linear",
          "linear",
          "linear",
          "linear",
          "linear",
          "linear",
          "linear",
          "linear",
          "linear",
          "linear",
          "linear",
          "linear",
          "linear",
          "linear",
          "linear",
          "linear",
          "linear",
          "linear",
          "linear",
          "linear",
          "linear",
          "linear",
          "linear",
          "linear",
          "linear",
          "linear",
          "linear",
          "linear",
          "linear",
          "linear",
          "linear",
          "linear",
          "linear",
          "linear",
          "linear",
          "linear",
          "linear",
          "linear",
          "linear",
          "linear",
          "linear",
          "linear",
          "linear",
          "linear",
          "linear",
          "linear",
          "linear",
          "linear",
          "linear",
          "linear",
          "linear",
          "linear",
          "linear",
          "linear",
          "linear",
          "linear",
          "linear",
          "linear",
          "linear",
          "linear",
          "linear",
          "linear",
          "linear",
          "linear",
          "linear",
          "linear",
          "linear",
          "linear",
          "linear",
          "linear",
          "linear",
          "linear",
          "linear",
          "linear",
          "linear",
          "linear",
          "linear",
          "linear",
          "linear",
          "linear",
          "linear",
          "linear",
          "linear",
          "linear",
          "linear",
          "linear",
          "linear",
          "linear",
          "linear",
          "linear",
          "linear",
          "linear",
          "linear",
          "linear",
          "linear",
          "linear",
          "linear",
          "linear",
          "linear",
          "linear",
          "linear",
          "linear",
          "linear",
          "linear",
          "linear",
          "linear",
          "linear",
          "linear",
          "linear",
          "linear",
          "linear",
          "linear",
          "linear",
          "linear",
          "linear",
          "linear",
          "linear",
          "linear",
          "linear",
          "linear",
          "linear",
          "linear",
          "linear",
          "linear",
          "linear",
          "linear",
          "linear",
          "linear",
          "linear",
          "linear",
          "linear",
          "linear",
          "linear",
          "linear",
          "linear",
          "linear",
          "linear",
          "linear",
          "linear",
          "linear",
          "linear",
          "linear",
          "linear",
          "linear",
          "linear",
          "linear",
          "linear",
          "linear",
          "linear",
          "linear",
          "linear",
          "linear",
          "linear",
          "linear",
          "linear",
          "linear",
          "linear",
          "linear",
          "linear",
          "linear",
          "linear",
          "linear",
          "linear",
          "linear",
          "linear",
          "linear",
          "linear",
          "linear",
          "linear",
          "linear",
          "linear",
          "linear",
          "linear",
          "linear",
          "linear",
          "linear",
          "linear",
          "linear",
          "linear",
          "linear",
          "linear",
          "linear",
          "linear",
          "linear",
          "linear",
          "linear",
          "nn",
          "nn",
          "nn",
          "nn",
          "nn",
          "nn",
          "nn",
          "nn",
          "nn",
          "nn",
          "nn",
          "nn",
          "nn",
          "nn",
          "nn",
          "nn",
          "nn",
          "nn",
          "nn",
          "nn",
          "nn",
          "nn",
          "nn",
          "nn",
          "nn",
          "nn",
          "nn",
          "nn",
          "nn",
          "nn",
          "nn",
          "nn",
          "nn",
          "nn",
          "nn",
          "nn",
          "nn",
          "nn",
          "nn",
          "nn",
          "nn",
          "nn",
          "nn",
          "nn",
          "nn",
          "nn",
          "nn",
          "nn",
          "nn",
          "nn",
          "nn",
          "nn",
          "nn",
          "nn",
          "nn",
          "nn",
          "nn",
          "nn",
          "nn",
          "nn",
          "nn",
          "nn",
          "nn",
          "nn",
          "nn",
          "nn",
          "nn",
          "nn",
          "nn",
          "nn",
          "nn",
          "nn",
          "nn",
          "nn",
          "nn",
          "nn",
          "nn",
          "nn",
          "nn",
          "nn",
          "nn",
          "nn",
          "nn",
          "nn",
          "nn",
          "nn",
          "nn",
          "nn",
          "nn",
          "nn",
          "nn",
          "nn",
          "nn",
          "nn",
          "nn",
          "nn",
          "nn",
          "nn",
          "nn",
          "nn",
          "nn",
          "nn",
          "nn",
          "nn",
          "nn",
          "nn",
          "nn",
          "nn",
          "nn",
          "nn",
          "nn",
          "nn",
          "nn",
          "nn",
          "nn",
          "nn",
          "nn",
          "nn",
          "nn",
          "nn",
          "nn",
          "nn",
          "nn",
          "nn",
          "nn",
          "nn",
          "nn",
          "nn",
          "nn",
          "nn",
          "nn",
          "nn",
          "nn",
          "nn",
          "nn",
          "nn",
          "nn",
          "nn",
          "nn",
          "nn",
          "nn",
          "nn",
          "nn",
          "nn",
          "nn",
          "nn",
          "nn",
          "nn",
          "nn",
          "nn",
          "nn",
          "nn",
          "nn",
          "nn",
          "nn",
          "nn",
          "nn",
          "nn",
          "nn",
          "nn",
          "nn",
          "nn",
          "nn",
          "nn",
          "nn",
          "nn",
          "nn",
          "nn",
          "nn",
          "nn",
          "nn",
          "nn",
          "nn",
          "nn",
          "nn",
          "nn",
          "nn",
          "nn",
          "nn",
          "nn",
          "nn",
          "nn",
          "nn",
          "nn",
          "nn",
          "nn",
          "nn",
          "nn",
          "nn",
          "nn",
          "nn",
          "nn",
          "nn",
          "nn",
          "nn",
          "nn",
          "nn",
          "nn",
          "nn",
          "nn",
          "polynomial",
          "polynomial",
          "polynomial",
          "polynomial",
          "polynomial",
          "polynomial",
          "polynomial",
          "polynomial",
          "polynomial",
          "polynomial",
          "polynomial",
          "polynomial",
          "polynomial",
          "polynomial",
          "polynomial",
          "polynomial",
          "polynomial",
          "polynomial",
          "polynomial",
          "polynomial",
          "polynomial",
          "polynomial",
          "polynomial",
          "polynomial",
          "polynomial",
          "polynomial",
          "polynomial",
          "polynomial",
          "polynomial",
          "polynomial",
          "polynomial",
          "polynomial",
          "polynomial",
          "polynomial",
          "polynomial",
          "polynomial",
          "polynomial",
          "polynomial",
          "polynomial",
          "polynomial",
          "polynomial",
          "polynomial",
          "polynomial",
          "polynomial",
          "polynomial",
          "polynomial",
          "polynomial",
          "polynomial",
          "polynomial",
          "polynomial",
          "polynomial",
          "polynomial",
          "polynomial",
          "polynomial",
          "polynomial",
          "polynomial",
          "polynomial",
          "polynomial",
          "polynomial",
          "polynomial",
          "polynomial",
          "polynomial",
          "polynomial",
          "polynomial",
          "polynomial",
          "polynomial",
          "polynomial",
          "polynomial",
          "polynomial",
          "polynomial",
          "polynomial",
          "polynomial",
          "polynomial",
          "polynomial",
          "polynomial",
          "polynomial",
          "polynomial",
          "polynomial",
          "polynomial",
          "polynomial",
          "polynomial",
          "polynomial",
          "polynomial",
          "polynomial",
          "polynomial",
          "polynomial",
          "polynomial",
          "polynomial",
          "polynomial",
          "polynomial",
          "polynomial",
          "polynomial",
          "polynomial",
          "polynomial",
          "polynomial",
          "polynomial",
          "polynomial",
          "polynomial",
          "polynomial",
          "polynomial",
          "polynomial",
          "polynomial",
          "polynomial",
          "polynomial",
          "polynomial",
          "polynomial",
          "polynomial",
          "polynomial",
          "polynomial",
          "polynomial",
          "polynomial",
          "polynomial",
          "polynomial",
          "polynomial",
          "polynomial",
          "polynomial",
          "polynomial",
          "polynomial",
          "polynomial",
          "polynomial",
          "polynomial",
          "polynomial",
          "polynomial",
          "polynomial",
          "polynomial",
          "polynomial",
          "polynomial",
          "polynomial",
          "polynomial",
          "polynomial",
          "polynomial",
          "polynomial",
          "polynomial",
          "polynomial",
          "polynomial",
          "polynomial",
          "polynomial",
          "polynomial",
          "polynomial",
          "polynomial",
          "polynomial",
          "polynomial",
          "polynomial",
          "polynomial",
          "polynomial",
          "polynomial",
          "polynomial",
          "polynomial",
          "polynomial",
          "polynomial",
          "polynomial",
          "polynomial",
          "polynomial",
          "polynomial",
          "polynomial",
          "polynomial",
          "polynomial",
          "polynomial",
          "polynomial",
          "polynomial",
          "polynomial",
          "polynomial",
          "polynomial",
          "polynomial",
          "polynomial",
          "polynomial",
          "polynomial",
          "polynomial",
          "polynomial",
          "polynomial",
          "polynomial",
          "polynomial",
          "polynomial",
          "polynomial",
          "polynomial",
          "polynomial",
          "polynomial",
          "polynomial",
          "polynomial",
          "polynomial",
          "polynomial",
          "polynomial",
          "polynomial",
          "polynomial",
          "polynomial",
          "polynomial",
          "polynomial",
          "polynomial",
          "polynomial",
          "polynomial",
          "polynomial",
          "polynomial",
          "polynomial",
          "polynomial",
          "polynomial",
          "polynomial",
          "polynomial",
          "polynomial",
          "polynomial",
          "polynomial",
          "sigmoid_mix",
          "sigmoid_mix",
          "sigmoid_mix",
          "sigmoid_mix",
          "sigmoid_mix",
          "sigmoid_mix",
          "sigmoid_mix",
          "sigmoid_mix",
          "sigmoid_mix",
          "sigmoid_mix",
          "sigmoid_mix",
          "sigmoid_mix",
          "sigmoid_mix",
          "sigmoid_mix",
          "sigmoid_mix",
          "sigmoid_mix",
          "sigmoid_mix",
          "sigmoid_mix",
          "sigmoid_mix",
          "sigmoid_mix",
          "sigmoid_mix",
          "sigmoid_mix",
          "sigmoid_mix",
          "sigmoid_mix",
          "sigmoid_mix",
          "sigmoid_mix",
          "sigmoid_mix",
          "sigmoid_mix",
          "sigmoid_mix",
          "sigmoid_mix",
          "sigmoid_mix",
          "sigmoid_mix",
          "sigmoid_mix",
          "sigmoid_mix",
          "sigmoid_mix",
          "sigmoid_mix",
          "sigmoid_mix",
          "sigmoid_mix",
          "sigmoid_mix",
          "sigmoid_mix",
          "sigmoid_mix",
          "sigmoid_mix",
          "sigmoid_mix",
          "sigmoid_mix",
          "sigmoid_mix",
          "sigmoid_mix",
          "sigmoid_mix",
          "sigmoid_mix",
          "sigmoid_mix",
          "sigmoid_mix",
          "sigmoid_mix",
          "sigmoid_mix",
          "sigmoid_mix",
          "sigmoid_mix",
          "sigmoid_mix",
          "sigmoid_mix",
          "sigmoid_mix",
          "sigmoid_mix",
          "sigmoid_mix",
          "sigmoid_mix",
          "sigmoid_mix",
          "sigmoid_mix",
          "sigmoid_mix",
          "sigmoid_mix",
          "sigmoid_mix",
          "sigmoid_mix",
          "sigmoid_mix",
          "sigmoid_mix",
          "sigmoid_mix",
          "sigmoid_mix",
          "sigmoid_mix",
          "sigmoid_mix",
          "sigmoid_mix",
          "sigmoid_mix",
          "sigmoid_mix",
          "sigmoid_mix",
          "sigmoid_mix",
          "sigmoid_mix",
          "sigmoid_mix",
          "sigmoid_mix",
          "sigmoid_mix",
          "sigmoid_mix",
          "sigmoid_mix",
          "sigmoid_mix",
          "sigmoid_mix",
          "sigmoid_mix",
          "sigmoid_mix",
          "sigmoid_mix",
          "sigmoid_mix",
          "sigmoid_mix",
          "sigmoid_mix",
          "sigmoid_mix",
          "sigmoid_mix",
          "sigmoid_mix",
          "sigmoid_mix",
          "sigmoid_mix",
          "sigmoid_mix",
          "sigmoid_mix",
          "sigmoid_mix",
          "sigmoid_mix",
          "sigmoid_mix",
          "sigmoid_mix",
          "sigmoid_mix",
          "sigmoid_mix",
          "sigmoid_mix",
          "sigmoid_mix",
          "sigmoid_mix",
          "sigmoid_mix",
          "sigmoid_mix",
          "sigmoid_mix",
          "sigmoid_mix",
          "sigmoid_mix",
          "sigmoid_mix",
          "sigmoid_mix",
          "sigmoid_mix",
          "sigmoid_mix",
          "sigmoid_mix",
          "sigmoid_mix",
          "sigmoid_mix",
          "sigmoid_mix",
          "sigmoid_mix",
          "sigmoid_mix",
          "sigmoid_mix",
          "sigmoid_mix",
          "sigmoid_mix",
          "sigmoid_mix",
          "sigmoid_mix",
          "sigmoid_mix",
          "sigmoid_mix",
          "sigmoid_mix",
          "sigmoid_mix",
          "sigmoid_mix",
          "sigmoid_mix",
          "sigmoid_mix",
          "sigmoid_mix",
          "sigmoid_mix",
          "sigmoid_mix",
          "sigmoid_mix",
          "sigmoid_mix",
          "sigmoid_mix",
          "sigmoid_mix",
          "sigmoid_mix",
          "sigmoid_mix",
          "sigmoid_mix",
          "sigmoid_mix",
          "sigmoid_mix",
          "sigmoid_mix",
          "sigmoid_mix",
          "sigmoid_mix",
          "sigmoid_mix",
          "sigmoid_mix",
          "sigmoid_mix",
          "sigmoid_mix",
          "sigmoid_mix",
          "sigmoid_mix",
          "sigmoid_mix",
          "sigmoid_mix",
          "sigmoid_mix",
          "sigmoid_mix",
          "sigmoid_mix",
          "sigmoid_mix",
          "sigmoid_mix",
          "sigmoid_mix",
          "sigmoid_mix",
          "sigmoid_mix",
          "sigmoid_mix",
          "sigmoid_mix",
          "sigmoid_mix",
          "sigmoid_mix",
          "sigmoid_mix",
          "sigmoid_mix",
          "sigmoid_mix",
          "sigmoid_mix",
          "sigmoid_mix",
          "sigmoid_mix",
          "sigmoid_mix",
          "sigmoid_mix",
          "sigmoid_mix",
          "sigmoid_mix",
          "sigmoid_mix",
          "sigmoid_mix",
          "sigmoid_mix",
          "sigmoid_mix",
          "sigmoid_mix",
          "sigmoid_mix",
          "sigmoid_mix",
          "sigmoid_mix",
          "sigmoid_mix",
          "sigmoid_mix",
          "sigmoid_mix",
          "sigmoid_mix",
          "sigmoid_mix",
          "sigmoid_mix",
          "sigmoid_mix",
          "sigmoid_mix",
          "sigmoid_mix",
          "sigmoid_mix",
          "sigmoid_mix",
          "sigmoid_mix",
          "sigmoid_mix"
         ],
         "x0": " ",
         "xaxis": "x",
         "y": [
          -0.00014657790722844604,
          null,
          null,
          null,
          null,
          null,
          null,
          null,
          null,
          null,
          null,
          0.0002350793968870125,
          0.0002350793968870125,
          0.0002350793968870125,
          0.0002350793968870125,
          0.0002350793968870125,
          0.0002350793968870125,
          0.0002350793968870125,
          0.0002350793968870125,
          0.0002350793968870125,
          0.0002350793968870125,
          0.00022304107139103392,
          0.021076357191501107,
          0.00022304107139103392,
          0.021076357191501107,
          0.021076357191501107,
          null,
          null,
          null,
          null,
          null,
          null,
          null,
          null,
          null,
          null,
          null,
          null,
          null,
          null,
          null,
          0.021076357191501107,
          0.021076357191501107,
          0.021076357191501107,
          0.021076357191501107,
          0.021076357191501107,
          0.021076357191501107,
          0.021076357191501107,
          0.00022304107139103392,
          0.00022304107139103392,
          0.00022304107139103392,
          0.007733751325071375,
          0.007733751325071375,
          0.007733751325071375,
          0.007733751325071375,
          0.007733751325071375,
          0.007733751325071375,
          0.007733751325071375,
          0.007733751325071375,
          0.007733751325071375,
          null,
          null,
          null,
          null,
          null,
          null,
          null,
          null,
          null,
          null,
          -0.00014657790722844604,
          -0.00014657790722844604,
          0.007733751325071375,
          null,
          null,
          null,
          0.00022304107139103392,
          0.00022304107139103392,
          0.00022304107139103392,
          0.00022304107139103392,
          0.00022304107139103392,
          null,
          null,
          null,
          null,
          null,
          null,
          null,
          null,
          null,
          null,
          null,
          null,
          null,
          null,
          null,
          null,
          null,
          null,
          null,
          -0.00014657790722844604,
          null,
          null,
          0.0048700908518451574,
          0.0048700908518451574,
          0.0048700908518451574,
          0.0048700908518451574,
          0.0048700908518451574,
          0.0048700908518451574,
          0.0048700908518451574,
          0.0048700908518451574,
          0.0048700908518451574,
          0.0048700908518451574,
          null,
          null,
          null,
          null,
          null,
          null,
          null,
          null,
          null,
          null,
          0.00004174702068887644,
          0.007706316646670113,
          0.00004174702068887644,
          0.00004174702068887644,
          -0.00014657790722844604,
          -0.00014657790722844604,
          -0.00014657790722844604,
          -0.00014657790722844604,
          -0.00014657790722844604,
          -0.00014657790722844604,
          0.015969319135006443,
          0.015969319135006443,
          0.015969319135006443,
          0.015969319135006443,
          0.015969319135006443,
          0.015969319135006443,
          0.015969319135006443,
          0.015969319135006443,
          0.015969319135006443,
          0.015969319135006443,
          0.00004174702068887644,
          0.00004174702068887644,
          0.00004174702068887644,
          0.00004174702068887644,
          0.00004174702068887644,
          0.00004174702068887644,
          0.007706316646670113,
          0.00004174702068887644,
          0.007706316646670113,
          null,
          null,
          null,
          null,
          null,
          null,
          null,
          null,
          null,
          null,
          null,
          null,
          null,
          null,
          null,
          null,
          null,
          null,
          null,
          null,
          0.007706316646670113,
          0.013044864767973886,
          0.013044864767973886,
          null,
          0.013044864767973886,
          0.013044864767973886,
          0.007706316646670113,
          0.007706316646670113,
          0.007706316646670113,
          0.007706316646670113,
          0.007706316646670113,
          0.0018127733960126707,
          0.0018127733960126707,
          0.0018127733960126707,
          0.0018127733960126707,
          0.0018127733960126707,
          0.007706316646670113,
          0.0018127733960126707,
          0.0018127733960126707,
          0.0018127733960126707,
          0.0018127733960126707,
          0.013044864767973886,
          0.013044864767973886,
          0.013044864767973886,
          0.013044864767973886,
          0.013044864767973886,
          0.013044864767973886,
          0.0018127733960126707,
          0.0023305782616576177,
          0.0023305782616576177,
          0.0023305782616576177,
          null,
          0.0023305782616576177,
          0.0023305782616576177,
          null,
          0.0023305782616576177,
          0.0023305782616576177,
          null,
          0.0023305782616576177,
          0.0023305782616576177,
          null,
          null,
          null,
          null,
          null,
          null,
          null,
          null,
          0.0023305782616576177,
          null,
          0.00391439354272991,
          null,
          null,
          null,
          null,
          null,
          null,
          null,
          null,
          null,
          0.00391439354272991,
          0.00391439354272991,
          0.00391439354272991,
          0.00391439354272991,
          0.00391439354272991,
          0.00391439354272991,
          0.00391439354272991,
          0.00391439354272991,
          0.00391439354272991,
          null,
          null,
          null,
          null,
          null,
          null,
          0.011439130677274525,
          null,
          null,
          null,
          null,
          0.06279483110055203,
          0.06279483110055203,
          0.06279483110055203,
          0.06279483110055203,
          0.06279483110055203,
          0.06279483110055203,
          0.06279483110055203,
          0.06279483110055203,
          0.06279483110055203,
          0.06279483110055203,
          0.011439130677274525,
          0.011439130677274525,
          0.011439130677274525,
          0.011439130677274525,
          0.011439130677274525,
          0.011439130677274525,
          0.011439130677274525,
          null,
          null,
          null,
          null,
          null,
          null,
          null,
          null,
          null,
          null,
          null,
          null,
          null,
          null,
          null,
          null,
          null,
          null,
          null,
          null,
          null,
          null,
          null,
          null,
          null,
          null,
          null,
          null,
          null,
          null,
          -0.005441941381388278,
          null,
          null,
          null,
          null,
          null,
          0.0018320799339111224,
          0.0018320799339111224,
          0.0018320799339111224,
          0.0018320799339111224,
          0.0018320799339111224,
          0.0018320799339111224,
          0.0018320799339111224,
          0.0018320799339111224,
          0.0018320799339111224,
          0.0018320799339111224,
          null,
          null,
          null,
          null,
          null,
          null,
          null,
          null,
          null,
          null,
          0.011439130677274525,
          -0.00013989218031530636,
          -0.00013989218031530636,
          -0.00013989218031530636,
          -0.00013989218031530636,
          -0.00013989218031530636,
          -0.00013989218031530636,
          -0.00013989218031530636,
          -0.00013989218031530636,
          -0.00013989218031530636,
          null,
          null,
          null,
          null,
          null,
          null,
          null,
          null,
          null,
          null,
          null,
          null,
          null,
          null,
          null,
          0.0021276844600153283,
          0.0021276844600153283,
          0.0021276844600153283,
          0.004106005486842512,
          0.004106005486842512,
          0.004106005486842512,
          0.004106005486842512,
          0.004106005486842512,
          0.004106005486842512,
          0.004106005486842512,
          0.004106005486842512,
          0.004106005486842512,
          0.004106005486842512,
          -0.005441941381388278,
          -0.005441941381388278,
          -0.005441941381388278,
          -0.005441941381388278,
          -0.005441941381388278,
          -0.005441941381388278,
          -0.005441941381388278,
          -0.005441941381388278,
          0.0021276844600153283,
          0.0021276844600153283,
          0.0021276844600153283,
          0.0021276844600153283,
          null,
          null,
          null,
          null,
          null,
          null,
          null,
          null,
          null,
          null,
          -0.005441941381388278,
          null,
          null,
          null,
          null,
          null,
          null,
          null,
          null,
          0.0021276844600153283,
          0.0021276844600153283,
          0.0021276844600153283,
          null,
          -0.00013989218031530636,
          0.011439130677274525,
          0.000039277175751357475,
          null,
          null,
          null,
          null,
          0.00738803149468901,
          0.00738803149468901,
          0.00738803149468901,
          0.00738803149468901,
          0.00738803149468901,
          null,
          0.00738803149468901,
          0.00738803149468901,
          0.00738803149468901,
          0.00738803149468901,
          null,
          null,
          null,
          null,
          null,
          null,
          0.00738803149468901,
          null,
          null,
          null,
          null,
          null,
          null,
          null,
          null,
          null,
          null,
          null,
          null,
          null,
          null,
          null,
          null,
          null,
          null,
          null,
          null,
          null,
          null,
          null,
          null,
          null,
          null,
          null,
          null,
          0.03218499275724137,
          0.03218499275724137,
          0.03218499275724137,
          0.03218499275724137,
          0.03218499275724137,
          -0.00039407057838484783,
          -0.00039407057838484783,
          -0.00039407057838484783,
          -0.00039407057838484783,
          -0.00039407057838484783,
          -0.00039407057838484783,
          -0.00039407057838484783,
          -0.00039407057838484783,
          -0.00039407057838484783,
          -0.00039407057838484783,
          0.000039277175751357475,
          0.000039277175751357475,
          0.000039277175751357475,
          0.000039277175751357475,
          0.000039277175751357475,
          0.000039277175751357475,
          0.03218499275724137,
          null,
          0.03218499275724137,
          0.03218499275724137,
          null,
          null,
          null,
          null,
          null,
          null,
          null,
          null,
          null,
          null,
          null,
          null,
          null,
          null,
          null,
          null,
          null,
          null,
          null,
          null,
          0.03218499275724137,
          0.03218499275724137,
          0.027773917471550436,
          0.027773917471550436,
          0.027773917471550436,
          -0.000050182361178639976,
          -0.000050182361178639976,
          -0.000050182361178639976,
          -0.000050182361178639976,
          -0.000041382355744863666,
          -0.000041382355744863666,
          -0.000041382355744863666,
          -0.000041382355744863666,
          -0.000041382355744863666,
          -0.000041382355744863666,
          -0.000041382355744863666,
          -0.000041382355744863666,
          -0.000041382355744863666,
          -0.000041382355744863666,
          0.009480258928176593,
          0.009480258928176593,
          0.009480258928176593,
          0.009480258928176593,
          0.009480258928176593,
          0.009480258928176593,
          0.009480258928176593,
          -0.000050182361178639976,
          0.009480258928176593,
          -0.000050182361178639976,
          -0.000050182361178639976,
          null,
          null,
          null,
          null,
          null,
          null,
          null,
          null,
          null,
          0.01851324823654462,
          0.01851324823654462,
          0.01851324823654462,
          0.01851324823654462,
          0.01851324823654462,
          0.01851324823654462,
          0.01851324823654462,
          0.01851324823654462,
          0.01851324823654462,
          0.01851324823654462,
          -0.000050182361178639976,
          -0.000050182361178639976,
          -0.000050182361178639976,
          0.000039277175751357475,
          0.009480258928176593,
          0.00039906671120391174,
          null,
          null,
          null,
          null,
          0.00395291394964221,
          0.00395291394964221,
          0.00395291394964221,
          0.00395291394964221,
          0.00395291394964221,
          0.00395291394964221,
          0.00395291394964221,
          0.00395291394964221,
          0.00395291394964221,
          0.00395291394964221,
          0.027773917471550436,
          0.027773917471550436,
          0.027773917471550436,
          0.027773917471550436,
          0.027773917471550436,
          0.027773917471550436,
          0.027773917471550436,
          null,
          0.009480258928176593,
          null,
          null,
          0.00039906671120391174,
          0.00039906671120391174,
          0.00039906671120391174,
          0.00039906671120391174,
          0.00039906671120391174,
          0.00039906671120391174,
          0.00039906671120391174,
          0.00039906671120391174,
          0.00039906671120391174,
          0.008653800773609183,
          0.008653800773609183,
          0.008653800773609183,
          0.008653800773609183,
          0.008653800773609183,
          0.008653800773609183,
          0.008653800773609183,
          0.008653800773609183,
          0.008653800773609183,
          0.008653800773609183,
          null,
          null,
          null,
          0.000039277175751357475,
          null,
          0.000039277175751357475,
          null,
          null,
          null,
          0.00015591128161252532,
          0.00015591128161252532,
          0.00015591128161252532,
          0.00015591128161252532,
          0.00015591128161252532,
          0.00015591128161252532,
          0.00015591128161252532,
          0.00015591128161252532,
          0.00015591128161252532,
          0.00015591128161252532,
          0.0026590897574973672,
          0.0026590897574973672,
          0.0026590897574973672,
          0.0026590897574973672,
          0.0026590897574973672,
          0.0026590897574973672,
          0.0026590897574973672,
          0.0026590897574973672,
          null,
          0.0026590897574973672,
          null,
          null,
          0.012521615029946217,
          0.012521615029946217,
          0.012521615029946217,
          0.012521615029946217,
          0.012521615029946217,
          0.012521615029946217,
          0.012521615029946217,
          0.012521615029946217,
          null,
          null,
          null,
          null,
          null,
          null,
          null,
          null,
          null,
          null,
          null,
          null,
          null,
          null,
          0.012521615029946217,
          0.0026590897574973672,
          null,
          null,
          null,
          null,
          0.010668670606622788,
          0.010668670606622788,
          0.010668670606622788,
          0.010668670606622788,
          0.010668670606622788,
          0.010668670606622788,
          0.010668670606622788,
          0.010668670606622788,
          0.010668670606622788,
          0.010668670606622788,
          0.05317386148537863,
          0.05317386148537863,
          0.05317386148537863,
          0.05317386148537863,
          0.05317386148537863,
          0.05317386148537863,
          0.05317386148537863,
          0.05317386148537863,
          null,
          null,
          null,
          null,
          null,
          null,
          null,
          null,
          null,
          null,
          null,
          null,
          null,
          null,
          null,
          null,
          null,
          null,
          null,
          null,
          null,
          null,
          null,
          null,
          null,
          null,
          0.05317386148537863,
          0.012521615029946217,
          null,
          0.00010550482447121562,
          0.00010550482447121562,
          0.00010550482447121562,
          0.038789386034242056,
          0.038789386034242056,
          0.038789386034242056,
          0.038789386034242056,
          0.038789386034242056,
          0.038789386034242056,
          0.038789386034242056,
          0.038789386034242056,
          0.038789386034242056,
          0.038789386034242056,
          0.024391008213288396,
          0.024391008213288396,
          0.024391008213288396,
          0.024391008213288396,
          0.024391008213288396,
          0.024391008213288396,
          0.024391008213288396,
          0.024391008213288396,
          0.00010550482447121562,
          0.024391008213288396,
          0.00010550482447121562,
          0.00010550482447121562,
          -0.009349741537660237,
          -0.009349741537660237,
          -0.009349741537660237,
          -0.009349741537660237,
          -0.009349741537660237,
          -0.009349741537660237,
          -0.009349741537660237,
          -0.009349741537660237,
          0.03289589481468071,
          0.03289589481468071,
          0.03289589481468071,
          0.03289589481468071,
          0.03289589481468071,
          0.03289589481468071,
          0.03289589481468071,
          0.03289589481468071,
          0.03289589481468071,
          0.03289589481468071,
          0.00010550482447121562,
          0.00010550482447121562,
          0.00010550482447121562,
          0.00010550482447121562,
          null,
          0.024391008213288396,
          null,
          null,
          null,
          null,
          null,
          null,
          null,
          null,
          null,
          null,
          null,
          null,
          null,
          null,
          null,
          null,
          null,
          null,
          null,
          null,
          null,
          null,
          null,
          null,
          null,
          null,
          null,
          null,
          null,
          null,
          null,
          null,
          null,
          null,
          0.00015731681606208527,
          0.00015731681606208527,
          0.00015731681606208527,
          0.00015731681606208527,
          0.00015731681606208527,
          0.00015731681606208527,
          0.00015731681606208527,
          0.00015731681606208527,
          0.00015731681606208527,
          0.00015731681606208527,
          null,
          null,
          null,
          null,
          0.05317386148537863,
          -0.009349741537660237,
          -0.009349741537660237,
          0.010543311288928742,
          0.010543311288928742,
          0.010543311288928742,
          0.010543311288928742,
          0.0005186977913866118,
          0.0005186977913866118,
          0.0005186977913866118,
          0.0005186977913866118,
          0.0005186977913866118,
          0.0005186977913866118,
          0.0005186977913866118,
          0.0005186977913866118,
          0.0005186977913866118,
          0.0005186977913866118,
          null,
          null,
          null,
          null,
          null,
          null,
          null,
          0.010543311288928742,
          null,
          0.010543311288928742,
          0.010543311288928742,
          -0.004595428770593447,
          -0.004595428770593447,
          -0.004595428770593447,
          -0.004595428770593447,
          -0.004595428770593447,
          -0.004595428770593447,
          -0.004595428770593447,
          -0.004595428770593447,
          -0.004595428770593447,
          null,
          null,
          null,
          null,
          null,
          null,
          null,
          null,
          null,
          null,
          0.010543311288928742,
          0.010543311288928742,
          0.010543311288928742,
          null,
          null,
          0.007044909359547052,
          0.004823922520241721,
          0.004823922520241721,
          0.004823922520241721,
          -0.0004932880013789494,
          -0.0004932880013789494,
          -0.0004932880013789494,
          -0.0004932880013789494,
          -0.0004932880013789494,
          -0.0004932880013789494,
          -0.0004932880013789494,
          -0.0004932880013789494,
          -0.0004932880013789494,
          -0.0004932880013789494,
          0.007226614531334712,
          0.007226614531334712,
          0.007226614531334712,
          0.007226614531334712,
          0.007226614531334712,
          0.007226614531334712,
          0.007226614531334712,
          0.007226614531334712,
          0.004823922520241721,
          0.004823922520241721,
          0.004823922520241721,
          0.004823922520241721,
          0.007044909359547052,
          0.007044909359547052,
          0.007044909359547052,
          0.007044909359547052,
          0.007044909359547052,
          0.007044909359547052,
          0.007044909359547052,
          0.007044909359547052,
          0.007044909359547052,
          null,
          -0.004595428770593447,
          null,
          null,
          null,
          null,
          null,
          null,
          null,
          null,
          0.004823922520241721,
          0.004823922520241721,
          0.004823922520241721,
          null,
          0.007226614531334712,
          0.007226614531334712,
          null,
          null,
          null,
          null,
          null,
          null,
          null,
          null,
          null,
          null,
          null,
          null,
          null,
          null,
          null,
          null,
          null,
          null,
          null,
          null,
          null,
          null,
          null,
          null,
          null,
          null,
          null,
          null,
          null,
          null,
          null,
          null,
          null,
          null,
          null,
          null,
          null,
          null,
          null,
          null,
          null,
          null,
          null,
          null,
          null,
          null,
          null,
          null,
          null,
          null,
          null,
          -0.00013594589593812474,
          -0.00013594589593812474,
          -0.00013594589593812474,
          -0.00013594589593812474,
          null,
          null,
          null,
          null,
          null,
          null,
          null,
          null,
          null,
          null,
          null,
          null,
          null,
          null,
          null,
          null,
          null,
          -0.00013594589593812474,
          -0.00013594589593812474,
          -0.00013594589593812474,
          -0.00013594589593812474,
          0.03490034254116048,
          0.03490034254116048,
          0.03490034254116048,
          0.03490034254116048,
          0.03490034254116048,
          0.03490034254116048,
          0.03490034254116048,
          0.03490034254116048,
          0.03490034254116048,
          0.03490034254116048,
          null,
          null,
          null,
          null,
          null,
          null,
          null,
          null,
          null,
          null,
          -0.00013594589593812474,
          -0.00013594589593812474,
          null,
          null,
          0.00002671622394948195,
          0.004497231230935934,
          null,
          null,
          null,
          null,
          null,
          null,
          null,
          null,
          null,
          null,
          null,
          null,
          null,
          -0.00016701392182530953,
          -0.00016701392182530953,
          -0.00016701392182530953,
          -0.00016701392182530953,
          -0.00016701392182530953,
          -0.00016701392182530953,
          -0.00016701392182530953,
          -0.00016701392182530953,
          null,
          -0.00016701392182530953,
          null,
          null,
          0.0014693017314650416,
          0.0014693017314650416,
          0.0014693017314650416,
          0.0014693017314650416,
          0.0014693017314650416,
          0.0014693017314650416,
          0.0014693017314650416,
          0.0014693017314650416,
          0.03763233670180185,
          0.03763233670180185,
          0.03763233670180185,
          0.03763233670180185,
          0.03763233670180185,
          0.03763233670180185,
          0.03763233670180185,
          0.03763233670180185,
          0.03763233670180185,
          0.03763233670180185,
          null,
          null,
          null,
          null,
          0.0014693017314650416,
          -0.00016701392182530953,
          null,
          -0.011004600106871454,
          -0.011004600106871454,
          -0.011004600106871454,
          null,
          null,
          null,
          null,
          null,
          null,
          null,
          null,
          null,
          null,
          0.00002671622394948195,
          0.00002671622394948195,
          0.00002671622394948195,
          0.00002671622394948195,
          0.00002671622394948195,
          0.00002671622394948195,
          0.00002671622394948195,
          0.00002671622394948195,
          -0.011004600106871454,
          null,
          -0.011004600106871454,
          -0.011004600106871454,
          null,
          null,
          null,
          null,
          null,
          null,
          null,
          null,
          null,
          null,
          null,
          null,
          null,
          null,
          null,
          null,
          null,
          null,
          -0.011004600106871454,
          -0.011004600106871454,
          -0.011004600106871454,
          -0.011004600106871454,
          0.004497231230935934,
          0.0014693017314650416,
          -0.011383497941621424,
          0.0007817567235606818,
          0.0007817567235606818,
          0.0007817567235606818,
          null,
          null,
          null,
          null,
          null,
          null,
          null,
          null,
          null,
          null,
          null,
          null,
          null,
          null,
          null,
          null,
          null,
          null,
          0.0007817567235606818,
          null,
          0.0007817567235606818,
          0.0007817567235606818,
          0.004497231230935934,
          0.004497231230935934,
          0.004497231230935934,
          0.004497231230935934,
          0.004497231230935934,
          0.004497231230935934,
          0.004497231230935934,
          0.004497231230935934,
          -0.009854952383657186,
          -0.009854952383657186,
          -0.009854952383657186,
          -0.009854952383657186,
          -0.009854952383657186,
          -0.009854952383657186,
          -0.009854952383657186,
          -0.009854952383657186,
          -0.009854952383657186,
          -0.009854952383657186,
          0.0007817567235606818,
          0.0007817567235606818,
          0.0007817567235606818,
          0.0007817567235606818,
          -0.011383497941621424,
          null,
          0.00010172081958449391,
          null,
          null,
          null,
          null,
          null,
          null,
          null,
          null,
          null,
          null,
          null,
          null,
          null,
          -0.011383497941621424,
          -0.011383497941621424,
          -0.011383497941621424,
          -0.011383497941621424,
          -0.011383497941621424,
          -0.011383497941621424,
          -0.011383497941621424,
          -0.011383497941621424,
          null,
          0.00010172081958449391,
          null,
          null,
          0.00010172081958449391,
          0.00010172081958449391,
          0.00010172081958449391,
          0.00010172081958449391,
          0.00010172081958449391,
          0.00010172081958449391,
          0.00010172081958449391,
          0.00010172081958449391,
          null,
          null,
          null,
          null,
          null,
          null,
          null,
          null,
          null,
          null,
          null,
          null,
          null,
          null,
          0.00002671622394948195
         ],
         "y0": " ",
         "yaxis": "y"
        }
       ],
       "layout": {
        "boxmode": "group",
        "height": 300,
        "legend": {
         "tracegroupgap": 0,
         "x": 0.01,
         "xanchor": "left",
         "y": 0.6,
         "yanchor": "top"
        },
        "margin": {
         "b": 10,
         "l": 20,
         "r": 10,
         "t": 10
        },
        "template": {
         "data": {
          "bar": [
           {
            "error_x": {
             "color": "#2a3f5f"
            },
            "error_y": {
             "color": "#2a3f5f"
            },
            "marker": {
             "line": {
              "color": "#E5ECF6",
              "width": 0.5
             },
             "pattern": {
              "fillmode": "overlay",
              "size": 10,
              "solidity": 0.2
             }
            },
            "type": "bar"
           }
          ],
          "barpolar": [
           {
            "marker": {
             "line": {
              "color": "#E5ECF6",
              "width": 0.5
             },
             "pattern": {
              "fillmode": "overlay",
              "size": 10,
              "solidity": 0.2
             }
            },
            "type": "barpolar"
           }
          ],
          "carpet": [
           {
            "aaxis": {
             "endlinecolor": "#2a3f5f",
             "gridcolor": "white",
             "linecolor": "white",
             "minorgridcolor": "white",
             "startlinecolor": "#2a3f5f"
            },
            "baxis": {
             "endlinecolor": "#2a3f5f",
             "gridcolor": "white",
             "linecolor": "white",
             "minorgridcolor": "white",
             "startlinecolor": "#2a3f5f"
            },
            "type": "carpet"
           }
          ],
          "choropleth": [
           {
            "colorbar": {
             "outlinewidth": 0,
             "ticks": ""
            },
            "type": "choropleth"
           }
          ],
          "contour": [
           {
            "colorbar": {
             "outlinewidth": 0,
             "ticks": ""
            },
            "colorscale": [
             [
              0,
              "#0d0887"
             ],
             [
              0.1111111111111111,
              "#46039f"
             ],
             [
              0.2222222222222222,
              "#7201a8"
             ],
             [
              0.3333333333333333,
              "#9c179e"
             ],
             [
              0.4444444444444444,
              "#bd3786"
             ],
             [
              0.5555555555555556,
              "#d8576b"
             ],
             [
              0.6666666666666666,
              "#ed7953"
             ],
             [
              0.7777777777777778,
              "#fb9f3a"
             ],
             [
              0.8888888888888888,
              "#fdca26"
             ],
             [
              1,
              "#f0f921"
             ]
            ],
            "type": "contour"
           }
          ],
          "contourcarpet": [
           {
            "colorbar": {
             "outlinewidth": 0,
             "ticks": ""
            },
            "type": "contourcarpet"
           }
          ],
          "heatmap": [
           {
            "colorbar": {
             "outlinewidth": 0,
             "ticks": ""
            },
            "colorscale": [
             [
              0,
              "#0d0887"
             ],
             [
              0.1111111111111111,
              "#46039f"
             ],
             [
              0.2222222222222222,
              "#7201a8"
             ],
             [
              0.3333333333333333,
              "#9c179e"
             ],
             [
              0.4444444444444444,
              "#bd3786"
             ],
             [
              0.5555555555555556,
              "#d8576b"
             ],
             [
              0.6666666666666666,
              "#ed7953"
             ],
             [
              0.7777777777777778,
              "#fb9f3a"
             ],
             [
              0.8888888888888888,
              "#fdca26"
             ],
             [
              1,
              "#f0f921"
             ]
            ],
            "type": "heatmap"
           }
          ],
          "heatmapgl": [
           {
            "colorbar": {
             "outlinewidth": 0,
             "ticks": ""
            },
            "colorscale": [
             [
              0,
              "#0d0887"
             ],
             [
              0.1111111111111111,
              "#46039f"
             ],
             [
              0.2222222222222222,
              "#7201a8"
             ],
             [
              0.3333333333333333,
              "#9c179e"
             ],
             [
              0.4444444444444444,
              "#bd3786"
             ],
             [
              0.5555555555555556,
              "#d8576b"
             ],
             [
              0.6666666666666666,
              "#ed7953"
             ],
             [
              0.7777777777777778,
              "#fb9f3a"
             ],
             [
              0.8888888888888888,
              "#fdca26"
             ],
             [
              1,
              "#f0f921"
             ]
            ],
            "type": "heatmapgl"
           }
          ],
          "histogram": [
           {
            "marker": {
             "pattern": {
              "fillmode": "overlay",
              "size": 10,
              "solidity": 0.2
             }
            },
            "type": "histogram"
           }
          ],
          "histogram2d": [
           {
            "colorbar": {
             "outlinewidth": 0,
             "ticks": ""
            },
            "colorscale": [
             [
              0,
              "#0d0887"
             ],
             [
              0.1111111111111111,
              "#46039f"
             ],
             [
              0.2222222222222222,
              "#7201a8"
             ],
             [
              0.3333333333333333,
              "#9c179e"
             ],
             [
              0.4444444444444444,
              "#bd3786"
             ],
             [
              0.5555555555555556,
              "#d8576b"
             ],
             [
              0.6666666666666666,
              "#ed7953"
             ],
             [
              0.7777777777777778,
              "#fb9f3a"
             ],
             [
              0.8888888888888888,
              "#fdca26"
             ],
             [
              1,
              "#f0f921"
             ]
            ],
            "type": "histogram2d"
           }
          ],
          "histogram2dcontour": [
           {
            "colorbar": {
             "outlinewidth": 0,
             "ticks": ""
            },
            "colorscale": [
             [
              0,
              "#0d0887"
             ],
             [
              0.1111111111111111,
              "#46039f"
             ],
             [
              0.2222222222222222,
              "#7201a8"
             ],
             [
              0.3333333333333333,
              "#9c179e"
             ],
             [
              0.4444444444444444,
              "#bd3786"
             ],
             [
              0.5555555555555556,
              "#d8576b"
             ],
             [
              0.6666666666666666,
              "#ed7953"
             ],
             [
              0.7777777777777778,
              "#fb9f3a"
             ],
             [
              0.8888888888888888,
              "#fdca26"
             ],
             [
              1,
              "#f0f921"
             ]
            ],
            "type": "histogram2dcontour"
           }
          ],
          "mesh3d": [
           {
            "colorbar": {
             "outlinewidth": 0,
             "ticks": ""
            },
            "type": "mesh3d"
           }
          ],
          "parcoords": [
           {
            "line": {
             "colorbar": {
              "outlinewidth": 0,
              "ticks": ""
             }
            },
            "type": "parcoords"
           }
          ],
          "pie": [
           {
            "automargin": true,
            "type": "pie"
           }
          ],
          "scatter": [
           {
            "fillpattern": {
             "fillmode": "overlay",
             "size": 10,
             "solidity": 0.2
            },
            "type": "scatter"
           }
          ],
          "scatter3d": [
           {
            "line": {
             "colorbar": {
              "outlinewidth": 0,
              "ticks": ""
             }
            },
            "marker": {
             "colorbar": {
              "outlinewidth": 0,
              "ticks": ""
             }
            },
            "type": "scatter3d"
           }
          ],
          "scattercarpet": [
           {
            "marker": {
             "colorbar": {
              "outlinewidth": 0,
              "ticks": ""
             }
            },
            "type": "scattercarpet"
           }
          ],
          "scattergeo": [
           {
            "marker": {
             "colorbar": {
              "outlinewidth": 0,
              "ticks": ""
             }
            },
            "type": "scattergeo"
           }
          ],
          "scattergl": [
           {
            "marker": {
             "colorbar": {
              "outlinewidth": 0,
              "ticks": ""
             }
            },
            "type": "scattergl"
           }
          ],
          "scattermapbox": [
           {
            "marker": {
             "colorbar": {
              "outlinewidth": 0,
              "ticks": ""
             }
            },
            "type": "scattermapbox"
           }
          ],
          "scatterpolar": [
           {
            "marker": {
             "colorbar": {
              "outlinewidth": 0,
              "ticks": ""
             }
            },
            "type": "scatterpolar"
           }
          ],
          "scatterpolargl": [
           {
            "marker": {
             "colorbar": {
              "outlinewidth": 0,
              "ticks": ""
             }
            },
            "type": "scatterpolargl"
           }
          ],
          "scatterternary": [
           {
            "marker": {
             "colorbar": {
              "outlinewidth": 0,
              "ticks": ""
             }
            },
            "type": "scatterternary"
           }
          ],
          "surface": [
           {
            "colorbar": {
             "outlinewidth": 0,
             "ticks": ""
            },
            "colorscale": [
             [
              0,
              "#0d0887"
             ],
             [
              0.1111111111111111,
              "#46039f"
             ],
             [
              0.2222222222222222,
              "#7201a8"
             ],
             [
              0.3333333333333333,
              "#9c179e"
             ],
             [
              0.4444444444444444,
              "#bd3786"
             ],
             [
              0.5555555555555556,
              "#d8576b"
             ],
             [
              0.6666666666666666,
              "#ed7953"
             ],
             [
              0.7777777777777778,
              "#fb9f3a"
             ],
             [
              0.8888888888888888,
              "#fdca26"
             ],
             [
              1,
              "#f0f921"
             ]
            ],
            "type": "surface"
           }
          ],
          "table": [
           {
            "cells": {
             "fill": {
              "color": "#EBF0F8"
             },
             "line": {
              "color": "white"
             }
            },
            "header": {
             "fill": {
              "color": "#C8D4E3"
             },
             "line": {
              "color": "white"
             }
            },
            "type": "table"
           }
          ]
         },
         "layout": {
          "annotationdefaults": {
           "arrowcolor": "#2a3f5f",
           "arrowhead": 0,
           "arrowwidth": 1
          },
          "autotypenumbers": "strict",
          "coloraxis": {
           "colorbar": {
            "outlinewidth": 0,
            "ticks": ""
           }
          },
          "colorscale": {
           "diverging": [
            [
             0,
             "#8e0152"
            ],
            [
             0.1,
             "#c51b7d"
            ],
            [
             0.2,
             "#de77ae"
            ],
            [
             0.3,
             "#f1b6da"
            ],
            [
             0.4,
             "#fde0ef"
            ],
            [
             0.5,
             "#f7f7f7"
            ],
            [
             0.6,
             "#e6f5d0"
            ],
            [
             0.7,
             "#b8e186"
            ],
            [
             0.8,
             "#7fbc41"
            ],
            [
             0.9,
             "#4d9221"
            ],
            [
             1,
             "#276419"
            ]
           ],
           "sequential": [
            [
             0,
             "#0d0887"
            ],
            [
             0.1111111111111111,
             "#46039f"
            ],
            [
             0.2222222222222222,
             "#7201a8"
            ],
            [
             0.3333333333333333,
             "#9c179e"
            ],
            [
             0.4444444444444444,
             "#bd3786"
            ],
            [
             0.5555555555555556,
             "#d8576b"
            ],
            [
             0.6666666666666666,
             "#ed7953"
            ],
            [
             0.7777777777777778,
             "#fb9f3a"
            ],
            [
             0.8888888888888888,
             "#fdca26"
            ],
            [
             1,
             "#f0f921"
            ]
           ],
           "sequentialminus": [
            [
             0,
             "#0d0887"
            ],
            [
             0.1111111111111111,
             "#46039f"
            ],
            [
             0.2222222222222222,
             "#7201a8"
            ],
            [
             0.3333333333333333,
             "#9c179e"
            ],
            [
             0.4444444444444444,
             "#bd3786"
            ],
            [
             0.5555555555555556,
             "#d8576b"
            ],
            [
             0.6666666666666666,
             "#ed7953"
            ],
            [
             0.7777777777777778,
             "#fb9f3a"
            ],
            [
             0.8888888888888888,
             "#fdca26"
            ],
            [
             1,
             "#f0f921"
            ]
           ]
          },
          "colorway": [
           "#636efa",
           "#EF553B",
           "#00cc96",
           "#ab63fa",
           "#FFA15A",
           "#19d3f3",
           "#FF6692",
           "#B6E880",
           "#FF97FF",
           "#FECB52"
          ],
          "font": {
           "color": "#2a3f5f"
          },
          "geo": {
           "bgcolor": "white",
           "lakecolor": "white",
           "landcolor": "#E5ECF6",
           "showlakes": true,
           "showland": true,
           "subunitcolor": "white"
          },
          "hoverlabel": {
           "align": "left"
          },
          "hovermode": "closest",
          "mapbox": {
           "style": "light"
          },
          "paper_bgcolor": "white",
          "plot_bgcolor": "#E5ECF6",
          "polar": {
           "angularaxis": {
            "gridcolor": "white",
            "linecolor": "white",
            "ticks": ""
           },
           "bgcolor": "#E5ECF6",
           "radialaxis": {
            "gridcolor": "white",
            "linecolor": "white",
            "ticks": ""
           }
          },
          "scene": {
           "xaxis": {
            "backgroundcolor": "#E5ECF6",
            "gridcolor": "white",
            "gridwidth": 2,
            "linecolor": "white",
            "showbackground": true,
            "ticks": "",
            "zerolinecolor": "white"
           },
           "yaxis": {
            "backgroundcolor": "#E5ECF6",
            "gridcolor": "white",
            "gridwidth": 2,
            "linecolor": "white",
            "showbackground": true,
            "ticks": "",
            "zerolinecolor": "white"
           },
           "zaxis": {
            "backgroundcolor": "#E5ECF6",
            "gridcolor": "white",
            "gridwidth": 2,
            "linecolor": "white",
            "showbackground": true,
            "ticks": "",
            "zerolinecolor": "white"
           }
          },
          "shapedefaults": {
           "line": {
            "color": "#2a3f5f"
           }
          },
          "ternary": {
           "aaxis": {
            "gridcolor": "white",
            "linecolor": "white",
            "ticks": ""
           },
           "baxis": {
            "gridcolor": "white",
            "linecolor": "white",
            "ticks": ""
           },
           "bgcolor": "#E5ECF6",
           "caxis": {
            "gridcolor": "white",
            "linecolor": "white",
            "ticks": ""
           }
          },
          "title": {
           "x": 0.05
          },
          "xaxis": {
           "automargin": true,
           "gridcolor": "white",
           "linecolor": "white",
           "ticks": "",
           "title": {
            "standoff": 15
           },
           "zerolinecolor": "white",
           "zerolinewidth": 2
          },
          "yaxis": {
           "automargin": true,
           "gridcolor": "white",
           "linecolor": "white",
           "ticks": "",
           "title": {
            "standoff": 15
           },
           "zerolinecolor": "white",
           "zerolinewidth": 2
          }
         }
        },
        "width": 800,
        "xaxis": {
         "anchor": "y",
         "domain": [
          0,
          1
         ],
         "title": {
          "text": "mechanism"
         }
        },
        "yaxis": {
         "anchor": "x",
         "domain": [
          0,
          1
         ],
         "title": {
          "text": "Mean relative difference in variance"
         }
        }
       }
      }
     },
     "metadata": {},
     "output_type": "display_data"
    }
   ],
   "source": [
    "### box plot mean relative difference in varaince mean, median, std depending on the mechanisms\n",
    "\n",
    "# set x, y and color variables\n",
    "y_column = 'Mean relative difference in variance'\n",
    "x_column = 'mechanism'\n",
    "\n",
    "# compute variance\n",
    "results_df_var = process_variance_features(results_mechanisms)[[x_column, \n",
    "                                                       'predicted_variable_node_type',\n",
    "                                                       'relative_delta_var_weighted_mean',\n",
    "                                                       'relative_delta_var_NOT_weighted_mean',\n",
    "                                                       'relative_delta_var_NOT_weighted_median',\n",
    "                                                       'relative_delta_var_weighted_median'\n",
    "                                                      ]]\n",
    "\n",
    "# rename columns and \n",
    "results_mechanisms_plot = results_df_var.rename(columns={\"relative_delta_var_weighted_mean\": \"Mean relative difference in variance\"}).sort_values(by=[x_column])\n",
    "\n",
    "# box plot\n",
    "fig = px.box(results_mechanisms_plot, \n",
    "             x=x_column, y=y_column,\n",
    "             width=800, height=300\n",
    "            )\n",
    "fig.update_traces(quartilemethod=\"inclusive\") # or \"exclusive\", or \"linear\" by default\n",
    "\n",
    "# legend position\n",
    "fig.update_layout(legend=dict(\n",
    "    yanchor=\"top\",\n",
    "    y=0.60,\n",
    "    xanchor=\"left\",\n",
    "    x=0.01\n",
    "))\n",
    "\n",
    "# magin size\n",
    "fig.update_layout(\n",
    "    margin=dict(l=20, r=10, t=10, b=10)\n",
    ")\n",
    "\n",
    "fig.show()"
   ]
  },
  {
   "cell_type": "code",
   "execution_count": 23,
   "metadata": {},
   "outputs": [
    {
     "data": {
      "application/vnd.plotly.v1+json": {
       "config": {
        "plotlyServerURL": "https://plot.ly"
       },
       "data": [
        {
         "alignmentgroup": "True",
         "hovertemplate": "=from train<br>mechanism=%{x}<br>Average data weights=%{y}<extra></extra>",
         "legendgroup": "from train",
         "marker": {
          "color": "#636efa"
         },
         "name": "from train",
         "notched": false,
         "offsetgroup": "from train",
         "orientation": "v",
         "quartilemethod": "inclusive",
         "showlegend": true,
         "type": "box",
         "x": [
          "gp_add",
          "gp_add",
          "gp_add",
          "gp_add",
          "gp_add",
          "gp_add",
          "gp_add",
          "gp_add",
          "gp_add",
          "gp_add",
          "gp_add",
          "gp_add",
          "gp_add",
          "gp_add",
          "gp_add",
          "gp_add",
          "gp_add",
          "gp_add",
          "gp_add",
          "gp_add",
          "gp_add",
          "gp_add",
          "gp_add",
          "gp_add",
          "gp_add",
          "gp_add",
          "gp_add",
          "gp_add",
          "gp_add",
          "gp_add",
          "gp_add",
          "gp_add",
          "gp_add",
          "gp_add",
          "gp_add",
          "gp_add",
          "gp_add",
          "gp_add",
          "gp_add",
          "gp_add",
          "gp_add",
          "gp_add",
          "gp_add",
          "gp_add",
          "gp_add",
          "gp_add",
          "gp_add",
          "gp_add",
          "gp_add",
          "gp_add",
          "gp_add",
          "gp_add",
          "gp_add",
          "gp_add",
          "gp_add",
          "gp_add",
          "gp_add",
          "gp_add",
          "gp_add",
          "gp_add",
          "gp_add",
          "gp_add",
          "gp_add",
          "gp_add",
          "gp_add",
          "gp_add",
          "gp_add",
          "gp_add",
          "gp_add",
          "gp_add",
          "gp_add",
          "gp_add",
          "gp_add",
          "gp_add",
          "gp_add",
          "gp_add",
          "gp_add",
          "gp_add",
          "gp_add",
          "gp_add",
          "gp_add",
          "gp_add",
          "gp_add",
          "gp_add",
          "gp_add",
          "gp_add",
          "gp_add",
          "gp_add",
          "gp_add",
          "gp_add",
          "gp_add",
          "gp_add",
          "gp_add",
          "gp_add",
          "gp_add",
          "gp_add",
          "gp_add",
          "gp_add",
          "gp_add",
          "gp_add",
          "gp_add",
          "gp_add",
          "gp_add",
          "gp_add",
          "gp_add",
          "gp_add",
          "gp_add",
          "gp_add",
          "gp_add",
          "gp_add",
          "gp_add",
          "gp_add",
          "gp_add",
          "gp_add",
          "gp_add",
          "gp_add",
          "gp_add",
          "gp_add",
          "gp_add",
          "gp_add",
          "gp_add",
          "gp_add",
          "gp_add",
          "gp_add",
          "gp_add",
          "gp_add",
          "gp_add",
          "gp_add",
          "gp_add",
          "gp_add",
          "gp_add",
          "gp_add",
          "gp_add",
          "gp_add",
          "gp_add",
          "gp_add",
          "gp_add",
          "gp_add",
          "gp_add",
          "gp_add",
          "gp_add",
          "gp_add",
          "gp_add",
          "gp_add",
          "gp_add",
          "gp_add",
          "gp_add",
          "gp_add",
          "gp_add",
          "gp_add",
          "gp_add",
          "gp_add",
          "gp_add",
          "gp_add",
          "gp_add",
          "gp_add",
          "gp_add",
          "gp_add",
          "gp_add",
          "gp_add",
          "gp_add",
          "gp_add",
          "gp_add",
          "gp_add",
          "gp_add",
          "gp_add",
          "gp_add",
          "gp_add",
          "gp_add",
          "gp_add",
          "gp_add",
          "gp_add",
          "gp_add",
          "gp_add",
          "gp_add",
          "gp_add",
          "gp_add",
          "gp_add",
          "gp_add",
          "gp_add",
          "gp_add",
          "gp_add",
          "gp_add",
          "gp_add",
          "gp_add",
          "gp_add",
          "gp_add",
          "gp_add",
          "gp_add",
          "gp_add",
          "gp_add",
          "gp_add",
          "gp_add",
          "gp_add",
          "gp_add",
          "gp_add",
          "gp_add",
          "gp_add",
          "gp_add",
          "gp_add",
          "gp_mix",
          "gp_mix",
          "gp_mix",
          "gp_mix",
          "gp_mix",
          "gp_mix",
          "gp_mix",
          "gp_mix",
          "gp_mix",
          "gp_mix",
          "gp_mix",
          "gp_mix",
          "gp_mix",
          "gp_mix",
          "gp_mix",
          "gp_mix",
          "gp_mix",
          "gp_mix",
          "gp_mix",
          "gp_mix",
          "gp_mix",
          "gp_mix",
          "gp_mix",
          "gp_mix",
          "gp_mix",
          "gp_mix",
          "gp_mix",
          "gp_mix",
          "gp_mix",
          "gp_mix",
          "gp_mix",
          "gp_mix",
          "gp_mix",
          "gp_mix",
          "gp_mix",
          "gp_mix",
          "gp_mix",
          "gp_mix",
          "gp_mix",
          "gp_mix",
          "gp_mix",
          "gp_mix",
          "gp_mix",
          "gp_mix",
          "gp_mix",
          "gp_mix",
          "gp_mix",
          "gp_mix",
          "gp_mix",
          "gp_mix",
          "gp_mix",
          "gp_mix",
          "gp_mix",
          "gp_mix",
          "gp_mix",
          "gp_mix",
          "gp_mix",
          "gp_mix",
          "gp_mix",
          "gp_mix",
          "gp_mix",
          "gp_mix",
          "gp_mix",
          "gp_mix",
          "gp_mix",
          "gp_mix",
          "gp_mix",
          "gp_mix",
          "gp_mix",
          "gp_mix",
          "gp_mix",
          "gp_mix",
          "gp_mix",
          "gp_mix",
          "gp_mix",
          "gp_mix",
          "gp_mix",
          "gp_mix",
          "gp_mix",
          "gp_mix",
          "gp_mix",
          "gp_mix",
          "gp_mix",
          "gp_mix",
          "gp_mix",
          "gp_mix",
          "gp_mix",
          "gp_mix",
          "gp_mix",
          "gp_mix",
          "gp_mix",
          "gp_mix",
          "gp_mix",
          "gp_mix",
          "gp_mix",
          "gp_mix",
          "gp_mix",
          "gp_mix",
          "gp_mix",
          "gp_mix",
          "gp_mix",
          "gp_mix",
          "gp_mix",
          "gp_mix",
          "gp_mix",
          "gp_mix",
          "gp_mix",
          "gp_mix",
          "gp_mix",
          "gp_mix",
          "gp_mix",
          "gp_mix",
          "gp_mix",
          "gp_mix",
          "gp_mix",
          "gp_mix",
          "gp_mix",
          "gp_mix",
          "gp_mix",
          "gp_mix",
          "gp_mix",
          "gp_mix",
          "gp_mix",
          "gp_mix",
          "gp_mix",
          "gp_mix",
          "gp_mix",
          "gp_mix",
          "gp_mix",
          "gp_mix",
          "gp_mix",
          "gp_mix",
          "gp_mix",
          "gp_mix",
          "gp_mix",
          "gp_mix",
          "gp_mix",
          "gp_mix",
          "gp_mix",
          "gp_mix",
          "gp_mix",
          "gp_mix",
          "gp_mix",
          "gp_mix",
          "gp_mix",
          "gp_mix",
          "gp_mix",
          "gp_mix",
          "gp_mix",
          "gp_mix",
          "gp_mix",
          "gp_mix",
          "gp_mix",
          "gp_mix",
          "gp_mix",
          "gp_mix",
          "gp_mix",
          "gp_mix",
          "gp_mix",
          "gp_mix",
          "gp_mix",
          "gp_mix",
          "gp_mix",
          "gp_mix",
          "gp_mix",
          "gp_mix",
          "gp_mix",
          "gp_mix",
          "gp_mix",
          "gp_mix",
          "gp_mix",
          "gp_mix",
          "gp_mix",
          "gp_mix",
          "gp_mix",
          "gp_mix",
          "gp_mix",
          "gp_mix",
          "gp_mix",
          "gp_mix",
          "gp_mix",
          "gp_mix",
          "gp_mix",
          "gp_mix",
          "gp_mix",
          "gp_mix",
          "gp_mix",
          "gp_mix",
          "gp_mix",
          "gp_mix",
          "gp_mix",
          "gp_mix",
          "gp_mix",
          "gp_mix",
          "gp_mix",
          "gp_mix",
          "gp_mix",
          "gp_mix",
          "gp_mix",
          "gp_mix",
          "linear",
          "linear",
          "linear",
          "linear",
          "linear",
          "linear",
          "linear",
          "linear",
          "linear",
          "linear",
          "linear",
          "linear",
          "linear",
          "linear",
          "linear",
          "linear",
          "linear",
          "linear",
          "linear",
          "linear",
          "linear",
          "linear",
          "linear",
          "linear",
          "linear",
          "linear",
          "linear",
          "linear",
          "linear",
          "linear",
          "linear",
          "linear",
          "linear",
          "linear",
          "linear",
          "linear",
          "linear",
          "linear",
          "linear",
          "linear",
          "linear",
          "linear",
          "linear",
          "linear",
          "linear",
          "linear",
          "linear",
          "linear",
          "linear",
          "linear",
          "linear",
          "linear",
          "linear",
          "linear",
          "linear",
          "linear",
          "linear",
          "linear",
          "linear",
          "linear",
          "linear",
          "linear",
          "linear",
          "linear",
          "linear",
          "linear",
          "linear",
          "linear",
          "linear",
          "linear",
          "linear",
          "linear",
          "linear",
          "linear",
          "linear",
          "linear",
          "linear",
          "linear",
          "linear",
          "linear",
          "linear",
          "linear",
          "linear",
          "linear",
          "linear",
          "linear",
          "linear",
          "linear",
          "linear",
          "linear",
          "linear",
          "linear",
          "linear",
          "linear",
          "linear",
          "linear",
          "linear",
          "linear",
          "linear",
          "linear",
          "linear",
          "linear",
          "linear",
          "linear",
          "linear",
          "linear",
          "linear",
          "linear",
          "linear",
          "linear",
          "linear",
          "linear",
          "linear",
          "linear",
          "linear",
          "linear",
          "linear",
          "linear",
          "linear",
          "linear",
          "linear",
          "linear",
          "linear",
          "linear",
          "linear",
          "linear",
          "linear",
          "linear",
          "linear",
          "linear",
          "linear",
          "linear",
          "linear",
          "linear",
          "linear",
          "linear",
          "linear",
          "linear",
          "linear",
          "linear",
          "linear",
          "linear",
          "linear",
          "linear",
          "linear",
          "linear",
          "linear",
          "linear",
          "linear",
          "linear",
          "linear",
          "linear",
          "linear",
          "linear",
          "linear",
          "linear",
          "linear",
          "linear",
          "linear",
          "linear",
          "linear",
          "linear",
          "linear",
          "linear",
          "linear",
          "linear",
          "linear",
          "linear",
          "linear",
          "linear",
          "linear",
          "linear",
          "linear",
          "linear",
          "linear",
          "linear",
          "linear",
          "linear",
          "linear",
          "linear",
          "linear",
          "linear",
          "linear",
          "linear",
          "linear",
          "linear",
          "linear",
          "linear",
          "linear",
          "linear",
          "linear",
          "linear",
          "linear",
          "linear",
          "linear",
          "linear",
          "linear",
          "linear",
          "linear",
          "linear",
          "nn",
          "nn",
          "nn",
          "nn",
          "nn",
          "nn",
          "nn",
          "nn",
          "nn",
          "nn",
          "nn",
          "nn",
          "nn",
          "nn",
          "nn",
          "nn",
          "nn",
          "nn",
          "nn",
          "nn",
          "nn",
          "nn",
          "nn",
          "nn",
          "nn",
          "nn",
          "nn",
          "nn",
          "nn",
          "nn",
          "nn",
          "nn",
          "nn",
          "nn",
          "nn",
          "nn",
          "nn",
          "nn",
          "nn",
          "nn",
          "nn",
          "nn",
          "nn",
          "nn",
          "nn",
          "nn",
          "nn",
          "nn",
          "nn",
          "nn",
          "nn",
          "nn",
          "nn",
          "nn",
          "nn",
          "nn",
          "nn",
          "nn",
          "nn",
          "nn",
          "nn",
          "nn",
          "nn",
          "nn",
          "nn",
          "nn",
          "nn",
          "nn",
          "nn",
          "nn",
          "nn",
          "nn",
          "nn",
          "nn",
          "nn",
          "nn",
          "nn",
          "nn",
          "nn",
          "nn",
          "nn",
          "nn",
          "nn",
          "nn",
          "nn",
          "nn",
          "nn",
          "nn",
          "nn",
          "nn",
          "nn",
          "nn",
          "nn",
          "nn",
          "nn",
          "nn",
          "nn",
          "nn",
          "nn",
          "nn",
          "nn",
          "nn",
          "nn",
          "nn",
          "nn",
          "nn",
          "nn",
          "nn",
          "nn",
          "nn",
          "nn",
          "nn",
          "nn",
          "nn",
          "nn",
          "nn",
          "nn",
          "nn",
          "nn",
          "nn",
          "nn",
          "nn",
          "nn",
          "nn",
          "nn",
          "nn",
          "nn",
          "nn",
          "nn",
          "nn",
          "nn",
          "nn",
          "nn",
          "nn",
          "nn",
          "nn",
          "nn",
          "nn",
          "nn",
          "nn",
          "nn",
          "nn",
          "nn",
          "nn",
          "nn",
          "nn",
          "nn",
          "nn",
          "nn",
          "nn",
          "nn",
          "nn",
          "nn",
          "nn",
          "nn",
          "nn",
          "nn",
          "nn",
          "nn",
          "nn",
          "nn",
          "nn",
          "nn",
          "nn",
          "nn",
          "nn",
          "nn",
          "nn",
          "nn",
          "nn",
          "nn",
          "nn",
          "nn",
          "nn",
          "nn",
          "nn",
          "nn",
          "nn",
          "nn",
          "nn",
          "nn",
          "nn",
          "nn",
          "nn",
          "nn",
          "nn",
          "nn",
          "nn",
          "nn",
          "nn",
          "nn",
          "nn",
          "nn",
          "nn",
          "nn",
          "nn",
          "nn",
          "nn",
          "nn",
          "nn",
          "polynomial",
          "polynomial",
          "polynomial",
          "polynomial",
          "polynomial",
          "polynomial",
          "polynomial",
          "polynomial",
          "polynomial",
          "polynomial",
          "polynomial",
          "polynomial",
          "polynomial",
          "polynomial",
          "polynomial",
          "polynomial",
          "polynomial",
          "polynomial",
          "polynomial",
          "polynomial",
          "polynomial",
          "polynomial",
          "polynomial",
          "polynomial",
          "polynomial",
          "polynomial",
          "polynomial",
          "polynomial",
          "polynomial",
          "polynomial",
          "polynomial",
          "polynomial",
          "polynomial",
          "polynomial",
          "polynomial",
          "polynomial",
          "polynomial",
          "polynomial",
          "polynomial",
          "polynomial",
          "polynomial",
          "polynomial",
          "polynomial",
          "polynomial",
          "polynomial",
          "polynomial",
          "polynomial",
          "polynomial",
          "polynomial",
          "polynomial",
          "polynomial",
          "polynomial",
          "polynomial",
          "polynomial",
          "polynomial",
          "polynomial",
          "polynomial",
          "polynomial",
          "polynomial",
          "polynomial",
          "polynomial",
          "polynomial",
          "polynomial",
          "polynomial",
          "polynomial",
          "polynomial",
          "polynomial",
          "polynomial",
          "polynomial",
          "polynomial",
          "polynomial",
          "polynomial",
          "polynomial",
          "polynomial",
          "polynomial",
          "polynomial",
          "polynomial",
          "polynomial",
          "polynomial",
          "polynomial",
          "polynomial",
          "polynomial",
          "polynomial",
          "polynomial",
          "polynomial",
          "polynomial",
          "polynomial",
          "polynomial",
          "polynomial",
          "polynomial",
          "polynomial",
          "polynomial",
          "polynomial",
          "polynomial",
          "polynomial",
          "polynomial",
          "polynomial",
          "polynomial",
          "polynomial",
          "polynomial",
          "polynomial",
          "polynomial",
          "polynomial",
          "polynomial",
          "polynomial",
          "polynomial",
          "polynomial",
          "polynomial",
          "polynomial",
          "polynomial",
          "polynomial",
          "polynomial",
          "polynomial",
          "polynomial",
          "polynomial",
          "polynomial",
          "polynomial",
          "polynomial",
          "polynomial",
          "polynomial",
          "polynomial",
          "polynomial",
          "polynomial",
          "polynomial",
          "polynomial",
          "polynomial",
          "polynomial",
          "polynomial",
          "polynomial",
          "polynomial",
          "polynomial",
          "polynomial",
          "polynomial",
          "polynomial",
          "polynomial",
          "polynomial",
          "polynomial",
          "polynomial",
          "polynomial",
          "polynomial",
          "polynomial",
          "polynomial",
          "polynomial",
          "polynomial",
          "polynomial",
          "polynomial",
          "polynomial",
          "polynomial",
          "polynomial",
          "polynomial",
          "polynomial",
          "polynomial",
          "polynomial",
          "polynomial",
          "polynomial",
          "polynomial",
          "polynomial",
          "polynomial",
          "polynomial",
          "polynomial",
          "polynomial",
          "polynomial",
          "polynomial",
          "polynomial",
          "polynomial",
          "polynomial",
          "polynomial",
          "polynomial",
          "polynomial",
          "polynomial",
          "polynomial",
          "polynomial",
          "polynomial",
          "polynomial",
          "polynomial",
          "polynomial",
          "polynomial",
          "polynomial",
          "polynomial",
          "polynomial",
          "polynomial",
          "polynomial",
          "polynomial",
          "polynomial",
          "polynomial",
          "polynomial",
          "polynomial",
          "polynomial",
          "polynomial",
          "polynomial",
          "polynomial",
          "polynomial",
          "polynomial",
          "polynomial",
          "polynomial",
          "polynomial",
          "polynomial",
          "polynomial",
          "polynomial",
          "polynomial",
          "sigmoid_mix",
          "sigmoid_mix",
          "sigmoid_mix",
          "sigmoid_mix",
          "sigmoid_mix",
          "sigmoid_mix",
          "sigmoid_mix",
          "sigmoid_mix",
          "sigmoid_mix",
          "sigmoid_mix",
          "sigmoid_mix",
          "sigmoid_mix",
          "sigmoid_mix",
          "sigmoid_mix",
          "sigmoid_mix",
          "sigmoid_mix",
          "sigmoid_mix",
          "sigmoid_mix",
          "sigmoid_mix",
          "sigmoid_mix",
          "sigmoid_mix",
          "sigmoid_mix",
          "sigmoid_mix",
          "sigmoid_mix",
          "sigmoid_mix",
          "sigmoid_mix",
          "sigmoid_mix",
          "sigmoid_mix",
          "sigmoid_mix",
          "sigmoid_mix",
          "sigmoid_mix",
          "sigmoid_mix",
          "sigmoid_mix",
          "sigmoid_mix",
          "sigmoid_mix",
          "sigmoid_mix",
          "sigmoid_mix",
          "sigmoid_mix",
          "sigmoid_mix",
          "sigmoid_mix",
          "sigmoid_mix",
          "sigmoid_mix",
          "sigmoid_mix",
          "sigmoid_mix",
          "sigmoid_mix",
          "sigmoid_mix",
          "sigmoid_mix",
          "sigmoid_mix",
          "sigmoid_mix",
          "sigmoid_mix",
          "sigmoid_mix",
          "sigmoid_mix",
          "sigmoid_mix",
          "sigmoid_mix",
          "sigmoid_mix",
          "sigmoid_mix",
          "sigmoid_mix",
          "sigmoid_mix",
          "sigmoid_mix",
          "sigmoid_mix",
          "sigmoid_mix",
          "sigmoid_mix",
          "sigmoid_mix",
          "sigmoid_mix",
          "sigmoid_mix",
          "sigmoid_mix",
          "sigmoid_mix",
          "sigmoid_mix",
          "sigmoid_mix",
          "sigmoid_mix",
          "sigmoid_mix",
          "sigmoid_mix",
          "sigmoid_mix",
          "sigmoid_mix",
          "sigmoid_mix",
          "sigmoid_mix",
          "sigmoid_mix",
          "sigmoid_mix",
          "sigmoid_mix",
          "sigmoid_mix",
          "sigmoid_mix",
          "sigmoid_mix",
          "sigmoid_mix",
          "sigmoid_mix",
          "sigmoid_mix",
          "sigmoid_mix",
          "sigmoid_mix",
          "sigmoid_mix",
          "sigmoid_mix",
          "sigmoid_mix",
          "sigmoid_mix",
          "sigmoid_mix",
          "sigmoid_mix",
          "sigmoid_mix",
          "sigmoid_mix",
          "sigmoid_mix",
          "sigmoid_mix",
          "sigmoid_mix",
          "sigmoid_mix",
          "sigmoid_mix",
          "sigmoid_mix",
          "sigmoid_mix",
          "sigmoid_mix",
          "sigmoid_mix",
          "sigmoid_mix",
          "sigmoid_mix",
          "sigmoid_mix",
          "sigmoid_mix",
          "sigmoid_mix",
          "sigmoid_mix",
          "sigmoid_mix",
          "sigmoid_mix",
          "sigmoid_mix",
          "sigmoid_mix",
          "sigmoid_mix",
          "sigmoid_mix",
          "sigmoid_mix",
          "sigmoid_mix",
          "sigmoid_mix",
          "sigmoid_mix",
          "sigmoid_mix",
          "sigmoid_mix",
          "sigmoid_mix",
          "sigmoid_mix",
          "sigmoid_mix",
          "sigmoid_mix",
          "sigmoid_mix",
          "sigmoid_mix",
          "sigmoid_mix",
          "sigmoid_mix",
          "sigmoid_mix",
          "sigmoid_mix",
          "sigmoid_mix",
          "sigmoid_mix",
          "sigmoid_mix",
          "sigmoid_mix",
          "sigmoid_mix",
          "sigmoid_mix",
          "sigmoid_mix",
          "sigmoid_mix",
          "sigmoid_mix",
          "sigmoid_mix",
          "sigmoid_mix",
          "sigmoid_mix",
          "sigmoid_mix",
          "sigmoid_mix",
          "sigmoid_mix",
          "sigmoid_mix",
          "sigmoid_mix",
          "sigmoid_mix",
          "sigmoid_mix",
          "sigmoid_mix",
          "sigmoid_mix",
          "sigmoid_mix",
          "sigmoid_mix",
          "sigmoid_mix",
          "sigmoid_mix",
          "sigmoid_mix",
          "sigmoid_mix",
          "sigmoid_mix",
          "sigmoid_mix",
          "sigmoid_mix",
          "sigmoid_mix",
          "sigmoid_mix",
          "sigmoid_mix",
          "sigmoid_mix",
          "sigmoid_mix",
          "sigmoid_mix",
          "sigmoid_mix",
          "sigmoid_mix",
          "sigmoid_mix",
          "sigmoid_mix",
          "sigmoid_mix",
          "sigmoid_mix",
          "sigmoid_mix",
          "sigmoid_mix",
          "sigmoid_mix",
          "sigmoid_mix",
          "sigmoid_mix",
          "sigmoid_mix",
          "sigmoid_mix",
          "sigmoid_mix",
          "sigmoid_mix",
          "sigmoid_mix",
          "sigmoid_mix",
          "sigmoid_mix",
          "sigmoid_mix",
          "sigmoid_mix",
          "sigmoid_mix",
          "sigmoid_mix",
          "sigmoid_mix",
          "sigmoid_mix",
          "sigmoid_mix",
          "sigmoid_mix",
          "sigmoid_mix",
          "sigmoid_mix",
          "sigmoid_mix",
          "sigmoid_mix",
          "sigmoid_mix",
          "sigmoid_mix"
         ],
         "x0": " ",
         "xaxis": "x",
         "y": [
          null,
          0.0027075377108479,
          0.0027075377108479,
          0.0027075377108479,
          0.0027075377108479,
          0.0027075377108479,
          0.0027075377108479,
          0.0027075377108479,
          0.0026313015542523,
          0.0026313015542523,
          0.0026313015542523,
          0.0027075377108479,
          0.0026313015542523,
          0.0026313015542523,
          0.0026313015542523,
          0.0025551359994908,
          0.0025551359994908,
          0.0025551359994908,
          0.0025551359994908,
          null,
          null,
          0.0025551359994908,
          null,
          null,
          null,
          null,
          null,
          null,
          null,
          null,
          0.0025551359994908,
          0.0025551359994908,
          0.0025551359994908,
          0.0026313015542523,
          0.0026313015542523,
          0.0026313015542523,
          0.0027052044909635,
          0.0027052044909635,
          0.0027052044909635,
          0.0027052044909635,
          0.0027052044909635,
          0.0027052044909635,
          0.0027052044909635,
          0.0027052044909635,
          0.0027052044909635,
          0.0027052044909635,
          0.0025551359994908,
          0.0025551359994908,
          0.0026313015542523,
          0.0024672151305649,
          0.0024672151305649,
          0.0024672151305649,
          0.0027134548667588,
          0.0025323893944885,
          0.0025323893944885,
          0.0025323893944885,
          0.0025323893944885,
          0.0025323893944885,
          0.0027134548667588,
          0.0025323893944885,
          0.0025323893944885,
          0.0025323893944885,
          0.0025323893944885,
          null,
          null,
          null,
          0.0025323893944885,
          0.0027134548667588,
          0.0027134548667588,
          0.0027134548667588,
          null,
          null,
          null,
          null,
          null,
          null,
          null,
          null,
          null,
          null,
          0.0027134548667588,
          0.0027134548667588,
          0.0027134548667588,
          0.0027134548667588,
          0.0027134548667588,
          null,
          0.0026885159907903,
          null,
          null,
          0.0025967902419833,
          0.0025967902419833,
          0.0025967902419833,
          0.0025967902419833,
          null,
          null,
          0.0025967902419833,
          null,
          null,
          null,
          null,
          null,
          null,
          null,
          null,
          0.0025967902419833,
          0.0025967902419833,
          0.0025967902419833,
          null,
          null,
          null,
          null,
          null,
          null,
          null,
          null,
          null,
          null,
          null,
          null,
          null,
          0.0025967902419833,
          0.0025967902419833,
          null,
          0.0026885159907903,
          0.0026885159907903,
          0.0026885159907903,
          0.0025592722730044,
          0.0025592722730044,
          0.0025592722730044,
          0.0025592722730044,
          0.0025592722730044,
          0.0025592722730044,
          0.0025592722730044,
          0.0025592722730044,
          null,
          null,
          null,
          null,
          null,
          null,
          null,
          0.0025592722730044,
          0.0025592722730044,
          0.0024500818262524,
          0.0024672151305649,
          0.0024672151305649,
          0.0024672151305649,
          0.0024672151305649,
          0.0024672151305649,
          0.0024672151305649,
          0.0024500818262524,
          0.0024500818262524,
          0.0024500818262524,
          0.0024500818262524,
          0.0024500818262524,
          0.0024500818262524,
          0.0024500818262524,
          0.0024500818262524,
          0.0024500818262524,
          null,
          null,
          null,
          null,
          null,
          null,
          null,
          null,
          null,
          null,
          null,
          null,
          null,
          0.0026885159907903,
          0.0026885159907903,
          0.0026885159907903,
          0.0026885159907903,
          0.0026885159907903,
          0.0026885159907903,
          null,
          0.0024672151305649,
          null,
          null,
          null,
          null,
          null,
          null,
          null,
          null,
          null,
          null,
          null,
          null,
          null,
          null,
          null,
          null,
          null,
          null,
          0.0027075377108479,
          0.0027075377108479,
          null,
          null,
          null,
          null,
          0.0024076422194473,
          0.0024076422194473,
          0.0024076422194473,
          0.0024076422194473,
          0.0024076422194473,
          0.0024076422194473,
          0.0024076422194473,
          0.0024076422194473,
          null,
          0.0024076422194473,
          null,
          null,
          null,
          null,
          null,
          null,
          0.0024076422194473,
          null,
          0.0024632534799546,
          null,
          null,
          null,
          null,
          null,
          null,
          null,
          null,
          null,
          null,
          null,
          null,
          0.0024632534799546,
          0.0024632534799546,
          0.0024632534799546,
          0.0024632534799546,
          0.0024632534799546,
          0.0024632534799546,
          0.0024632534799546,
          null,
          null,
          0.0024632534799546,
          0.0024632534799546,
          null,
          null,
          null,
          null,
          null,
          null,
          null,
          0.0023685683566543,
          0.0023685683566543,
          0.0023685683566543,
          0.0023685683566543,
          0.0023685683566543,
          0.0023685683566543,
          0.0023685683566543,
          0.0023685683566543,
          0.0023685683566543,
          0.0023685683566543,
          0.0026027274932319,
          0.0026027274932319,
          0.0026027274932319,
          0.0026027274932319,
          0.0026027274932319,
          0.0026027274932319,
          null,
          null,
          null,
          null,
          null,
          null,
          null,
          null,
          null,
          null,
          null,
          null,
          null,
          null,
          null,
          null,
          null,
          null,
          null,
          null,
          null,
          null,
          null,
          null,
          null,
          null,
          null,
          0.0024568959664038,
          0.0024319394679332,
          0.0026027274932319,
          null,
          null,
          null,
          null,
          null,
          0.0026555107086107,
          0.0026555107086107,
          0.0026555107086107,
          0.0026555107086107,
          0.0026555107086107,
          0.0026555107086107,
          0.0026555107086107,
          0.0026555107086107,
          0.0026555107086107,
          0.0026555107086107,
          null,
          null,
          null,
          null,
          null,
          null,
          null,
          null,
          null,
          null,
          0.0026616746285342,
          0.0026616746285342,
          0.0026616746285342,
          0.0026616746285342,
          0.0026616746285342,
          0.0026616746285342,
          0.0026616746285342,
          0.0026616746285342,
          0.0026616746285342,
          0.0026616746285342,
          null,
          null,
          null,
          null,
          null,
          null,
          null,
          null,
          null,
          null,
          null,
          null,
          0.0024568959664038,
          null,
          null,
          0.0024319394679332,
          0.0024319394679332,
          0.0024319394679332,
          0.0025803287763816,
          0.0025803287763816,
          0.0025803287763816,
          0.0025803287763816,
          0.0025803287763816,
          0.0025803287763816,
          0.0025803287763816,
          0.0025803287763816,
          0.0025803287763816,
          0.0025803287763816,
          0.0024568959664038,
          0.0024568959664038,
          0.0024568959664038,
          0.0024568959664038,
          0.0024568959664038,
          0.0024568959664038,
          0.0024568959664038,
          0.0024568959664038,
          0.0024319394679332,
          null,
          0.0024319394679332,
          0.0024319394679332,
          null,
          null,
          null,
          null,
          null,
          null,
          null,
          null,
          null,
          null,
          null,
          null,
          null,
          null,
          null,
          null,
          null,
          null,
          null,
          0.0024319394679332,
          0.0024319394679332,
          0.0024319394679332,
          null,
          0.0026027274932319,
          0.0026027274932319,
          0.0026027274932319,
          null,
          0.0026327527039515,
          null,
          null,
          null,
          null,
          0.0023744839015352,
          0.0023744839015352,
          0.0023744839015352,
          0.0023744839015352,
          0.0023744839015352,
          0.0023744839015352,
          0.0023744839015352,
          0.0023744839015352,
          0.0023744839015352,
          0.0023744839015352,
          null,
          null,
          null,
          null,
          null,
          null,
          null,
          null,
          null,
          null,
          null,
          null,
          null,
          null,
          null,
          null,
          null,
          null,
          null,
          null,
          null,
          null,
          null,
          null,
          null,
          null,
          null,
          null,
          null,
          null,
          null,
          null,
          null,
          null,
          null,
          null,
          0.0023494879344817,
          0.0023494879344817,
          0.0023494879344817,
          0.0023494879344817,
          0.0026268626798579,
          0.0026268626798579,
          0.0026268626798579,
          0.0026268626798579,
          0.0026268626798579,
          0.0026268626798579,
          0.0026268626798579,
          0.0026268626798579,
          0.0026268626798579,
          0.0026268626798579,
          0.0026327527039515,
          0.0026327527039515,
          0.0026327527039515,
          0.0026327527039515,
          0.0026327527039515,
          0.0026327527039515,
          0.0026327527039515,
          0.0023494879344817,
          null,
          0.0023494879344817,
          0.0023494879344817,
          null,
          null,
          null,
          null,
          null,
          null,
          null,
          null,
          null,
          null,
          null,
          null,
          null,
          null,
          null,
          null,
          null,
          null,
          null,
          0.0023494879344817,
          0.0023494879344817,
          0.0023494879344817,
          0.0026327527039515,
          0.0025246569980335,
          0.0025246569980335,
          0.0027303288925529,
          0.0027303288925529,
          0.0027303288925529,
          0.0027303288925529,
          0.0026831090426306,
          0.0026831090426306,
          0.0026831090426306,
          0.0026831090426306,
          0.0026831090426306,
          0.0026831090426306,
          0.0026831090426306,
          0.0026831090426306,
          0.0026831090426306,
          0.0026831090426306,
          0.0025187711070531,
          0.0025187711070531,
          0.0025187711070531,
          0.0025187711070531,
          0.0025187711070531,
          0.0025187711070531,
          0.0025187711070531,
          0.0027303288925529,
          0.0025187711070531,
          0.0027303288925529,
          0.0027303288925529,
          null,
          null,
          null,
          null,
          null,
          null,
          null,
          null,
          null,
          0.0025655950857485,
          0.0025655950857485,
          0.0025655950857485,
          0.0025655950857485,
          0.0025655950857485,
          0.0025655950857485,
          0.0025655950857485,
          0.0025655950857485,
          0.0025655950857485,
          0.0025655950857485,
          0.0027303288925529,
          0.0027303288925529,
          0.0027303288925529,
          0.0025246569980335,
          0.0025187711070531,
          0.0026555259207723,
          null,
          null,
          null,
          null,
          0.0023810956660457,
          0.0023810956660457,
          0.0023810956660457,
          0.0023810956660457,
          0.0023810956660457,
          0.0023810956660457,
          0.0023810956660457,
          0.0023810956660457,
          0.0023810956660457,
          0.0023810956660457,
          0.0025246569980335,
          0.0025246569980335,
          0.0025246569980335,
          0.0025246569980335,
          0.0025246569980335,
          0.0025246569980335,
          0.0025246569980335,
          null,
          0.0025187711070531,
          null,
          null,
          0.0026555259207723,
          0.0026555259207723,
          0.0026555259207723,
          0.0026555259207723,
          0.0026555259207723,
          0.0026555259207723,
          0.0026555259207723,
          0.0026555259207723,
          0.0026555259207723,
          0.002618388969,
          0.002618388969,
          0.002618388969,
          0.002618388969,
          0.002618388969,
          0.002618388969,
          0.002618388969,
          0.002618388969,
          0.002618388969,
          0.002618388969,
          null,
          null,
          null,
          0.0026327527039515,
          0.0022849039049487,
          0.0022849039049487,
          null,
          null,
          null,
          null,
          null,
          0.0026705035842347,
          0.0026705035842347,
          0.0026705035842347,
          0.0026705035842347,
          0.0026705035842347,
          0.0026705035842347,
          0.0026705035842347,
          0.0026705035842347,
          0.0026705035842347,
          0.0026705035842347,
          null,
          null,
          null,
          null,
          null,
          null,
          null,
          null,
          null,
          null,
          null,
          null,
          null,
          null,
          null,
          null,
          null,
          null,
          null,
          null,
          null,
          null,
          null,
          null,
          null,
          null,
          null,
          null,
          null,
          null,
          null,
          null,
          0.0026170343397578,
          null,
          null,
          0.002701638055495,
          0.002701638055495,
          0.002701638055495,
          0.002701638055495,
          0.002701638055495,
          0.0019902570969864,
          0.0019902570969864,
          0.0019902570969864,
          0.0019902570969864,
          0.0019902570969864,
          0.0019902570969864,
          0.0019902570969864,
          0.0019902570969864,
          0.0019902570969864,
          0.0019902570969864,
          0.0022849039049487,
          0.0022849039049487,
          0.0022849039049487,
          0.0022849039049487,
          0.0022849039049487,
          0.0022849039049487,
          0.002701638055495,
          null,
          0.002701638055495,
          0.002701638055495,
          0.0026155294575711,
          0.0026155294575711,
          0.0026155294575711,
          0.0026155294575711,
          0.0026155294575711,
          0.0026155294575711,
          0.0026155294575711,
          0.0026155294575711,
          0.0026155294575711,
          0.0026155294575711,
          0.0025436951675018,
          0.0025436951675018,
          0.0025436951675018,
          0.0025436951675018,
          0.0025436951675018,
          0.0025436951675018,
          0.0025436951675018,
          0.0025436951675018,
          0.0025436951675018,
          0.0025436951675018,
          0.002701638055495,
          0.002701638055495,
          0.0022849039049487,
          0.0026170343397578,
          null,
          null,
          null,
          null,
          null,
          null,
          null,
          null,
          null,
          null,
          null,
          null,
          null,
          null,
          null,
          null,
          null,
          null,
          null,
          null,
          null,
          null,
          null,
          null,
          null,
          0.0023158181878859,
          0.0023158181878859,
          0.0023158181878859,
          0.0023158181878859,
          0.0023158181878859,
          0.0023158181878859,
          0.0023158181878859,
          0.0023158181878859,
          0.0023158181878859,
          0.0023158181878859,
          0.0024830457170223,
          0.0024830457170223,
          0.0024830457170223,
          0.0024830457170223,
          0.0024830457170223,
          0.0024830457170223,
          0.0024830457170223,
          0.0024830457170223,
          0.0024830457170223,
          0.0024830457170223,
          null,
          null,
          0.0026170343397578,
          null,
          null,
          null,
          null,
          null,
          null,
          null,
          null,
          null,
          null,
          null,
          null,
          null,
          null,
          null,
          null,
          null,
          0.0026170343397578,
          0.0026170343397578,
          0.0026170343397578,
          0.0026170343397578,
          0.0026170343397578,
          0.0026170343397578,
          null,
          null,
          null,
          null,
          0.0025362103826368,
          0.0025362103826368,
          0.0025362103826368,
          0.0025362103826368,
          0.0025362103826368,
          0.0025362103826368,
          0.0025362103826368,
          0.0025362103826368,
          0.0025362103826368,
          0.0025362103826368,
          0.0027588738989443,
          0.0027588738989443,
          0.0027588738989443,
          0.0027588738989443,
          0.0027588738989443,
          0.0027588738989443,
          0.0027588738989443,
          0.0027588738989443,
          0.0027588738989443,
          0.0027588738989443,
          null,
          null,
          0.0022849039049487,
          0.0026170343397578,
          0.0024784230235458,
          0.0024784230235458,
          0.0024784230235458,
          0.0024784230235458,
          0.0024784230235458,
          0.0024784230235458,
          0.0024784230235458,
          0.0024784230235458,
          0.0024784230235458,
          0.0024457821923119,
          0.0024784230235458,
          0.0024457821923119,
          0.0024457821923119,
          0.0024457821923119,
          0.0024457821923119,
          null,
          null,
          null,
          null,
          null,
          null,
          0.0024002006582588,
          0.0024002006582588,
          0.0024002006582588,
          0.0024002006582588,
          0.0024002006582588,
          0.0024002006582588,
          0.0024002006582588,
          0.0024002006582588,
          0.0024002006582588,
          null,
          null,
          null,
          0.0024457821923119,
          0.0024457821923119,
          0.0024457821923119,
          0.0024457821923119,
          0.0024457821923119,
          0.002485555348325,
          0.002485555348325,
          0.002485555348325,
          0.002485555348325,
          0.002485555348325,
          0.002485555348325,
          0.002485555348325,
          0.002485555348325,
          0.002485555348325,
          0.002485555348325,
          null,
          0.0024002006582588,
          null,
          null,
          null,
          0.002654390818783,
          0.002654390818783,
          null,
          null,
          null,
          null,
          0.002654390818783,
          null,
          null,
          null,
          null,
          null,
          null,
          null,
          null,
          0.002654390818783,
          0.002654390818783,
          0.002654390818783,
          0.0025152015616041,
          null,
          null,
          null,
          null,
          null,
          null,
          null,
          null,
          null,
          null,
          0.002654390818783,
          0.002654390818783,
          0.002654390818783,
          0.002654390818783,
          null,
          null,
          null,
          null,
          null,
          null,
          null,
          null,
          null,
          null,
          null,
          null,
          null,
          null,
          null,
          null,
          null,
          null,
          null,
          null,
          0.0025152015616041,
          null,
          null,
          null,
          null,
          null,
          null,
          null,
          null,
          null,
          null,
          null,
          null,
          null,
          null,
          null,
          null,
          null,
          null,
          0.0025152015616041,
          0.0025152015616041,
          0.0025152015616041,
          0.0026773204797866,
          0.0026773204797866,
          0.0026773204797866,
          0.0026773204797866,
          0.0026773204797866,
          0.0026773204797866,
          0.0026773204797866,
          0.0026773204797866,
          null,
          null,
          null,
          null,
          null,
          null,
          null,
          0.0026773204797866,
          null,
          0.0026773204797866,
          0.002630311426472,
          null,
          null,
          null,
          null,
          null,
          null,
          null,
          0.002630311426472,
          0.002630311426472,
          0.002630311426472,
          0.002630311426472,
          0.002630311426472,
          0.002630311426472,
          0.002630311426472,
          0.002630311426472,
          0.002630311426472,
          null,
          0.0023570204718179,
          null,
          null,
          null,
          null,
          null,
          null,
          null,
          null,
          null,
          null,
          0.0025152015616041,
          0.0025152015616041,
          0.0025152015616041,
          0.0025152015616041,
          0.0025152015616041,
          null,
          null,
          null,
          null,
          0.0023570204718179,
          0.0023570204718179,
          0.0023570204718179,
          0.0023570204718179,
          0.0023570204718179,
          0.0023570204718179,
          0.0023570204718179,
          0.0023570204718179,
          0.0023570204718179,
          null,
          null,
          null,
          null,
          null,
          null,
          null,
          null,
          0.0025159727910068,
          null,
          null,
          null,
          null,
          null,
          null,
          null,
          null,
          null,
          null,
          null,
          null,
          0.0026795753810485,
          0.0026795753810485,
          0.0026795753810485,
          0.0026795753810485,
          0.0026795753810485,
          0.0026795753810485,
          0.0026795753810485,
          0.0026795753810485,
          0.0026795753810485,
          null,
          0.0026795753810485,
          null,
          null,
          0.0026527358527736,
          0.0026527358527736,
          0.0026527358527736,
          0.0026527358527736,
          0.0026527358527736,
          0.0026527358527736,
          0.0026527358527736,
          0.0025183608277288,
          0.0025183608277288,
          0.0025183608277288,
          0.0025183608277288,
          0.0025183608277288,
          0.0025183608277288,
          0.0025183608277288,
          0.0025183608277288,
          0.0025183608277288,
          0.0025183608277288,
          null,
          null,
          null,
          null,
          null,
          0.0026527358527736,
          null,
          null,
          0.0022709813808542,
          0.0022709813808542,
          null,
          null,
          null,
          null,
          null,
          null,
          null,
          null,
          null,
          null,
          0.002690838213686,
          0.002690838213686,
          0.002690838213686,
          0.002690838213686,
          0.002690838213686,
          0.002690838213686,
          0.002690838213686,
          0.002690838213686,
          0.002690838213686,
          0.0022709813808542,
          null,
          0.0022709813808542,
          0.0022709813808542,
          null,
          null,
          null,
          null,
          null,
          null,
          null,
          null,
          null,
          null,
          null,
          null,
          null,
          null,
          null,
          null,
          null,
          0.0022709813808542,
          0.0022709813808542,
          0.0022709813808542,
          0.0022709813808542,
          0.0022709813808542,
          0.0026527358527736,
          0.0026527358527736,
          0.002206870730601,
          0.0022848606624454,
          0.0022848606624454,
          0.0022848606624454,
          0.0022848606624454,
          null,
          null,
          null,
          null,
          null,
          null,
          null,
          null,
          null,
          null,
          null,
          null,
          null,
          null,
          null,
          null,
          null,
          0.0022848606624454,
          null,
          0.0022848606624454,
          0.0022848606624454,
          0.0025159727910068,
          0.0025159727910068,
          0.0025159727910068,
          0.0025159727910068,
          0.0025159727910068,
          0.0025159727910068,
          0.0025159727910068,
          0.0025159727910068,
          0.0025159727910068,
          0.0026014606476932,
          0.0026014606476932,
          0.0026014606476932,
          0.0026014606476932,
          0.0026014606476932,
          0.0026014606476932,
          0.0026014606476932,
          0.0026014606476932,
          0.0026014606476932,
          0.0026014606476932,
          0.0022848606624454,
          0.0022848606624454,
          0.0022848606624454,
          null,
          0.0026311015177515,
          0.0026311015177515,
          null,
          null,
          null,
          null,
          null,
          null,
          null,
          null,
          null,
          null,
          null,
          null,
          0.002206870730601,
          0.002206870730601,
          0.002206870730601,
          0.002206870730601,
          0.002206870730601,
          0.002206870730601,
          0.002206870730601,
          0.002206870730601,
          0.002206870730601,
          null,
          null,
          null,
          null,
          0.0026311015177515,
          0.0026311015177515,
          0.0026311015177515,
          0.0026311015177515,
          0.0026311015177515,
          0.0026311015177515,
          0.0026311015177515,
          0.0026311015177515,
          null,
          null,
          null,
          null,
          null,
          null,
          null,
          null,
          null,
          null,
          null,
          null,
          null,
          null,
          0.002690838213686
         ],
         "y0": " ",
         "yaxis": "y"
        },
        {
         "alignmentgroup": "True",
         "hovertemplate": "=new data<br>mechanism=%{x}<br>Average data weights=%{y}<extra></extra>",
         "legendgroup": "new data",
         "marker": {
          "color": "#EF553B"
         },
         "name": "new data",
         "notched": false,
         "offsetgroup": "new data",
         "orientation": "v",
         "quartilemethod": "inclusive",
         "showlegend": true,
         "type": "box",
         "x": [
          "gp_add",
          "gp_add",
          "gp_add",
          "gp_add",
          "gp_add",
          "gp_add",
          "gp_add",
          "gp_add",
          "gp_add",
          "gp_add",
          "gp_add",
          "gp_add",
          "gp_add",
          "gp_add",
          "gp_add",
          "gp_add",
          "gp_add",
          "gp_add",
          "gp_add",
          "gp_add",
          "gp_add",
          "gp_add",
          "gp_add",
          "gp_add",
          "gp_add",
          "gp_add",
          "gp_add",
          "gp_add",
          "gp_add",
          "gp_add",
          "gp_add",
          "gp_add",
          "gp_add",
          "gp_add",
          "gp_add",
          "gp_add",
          "gp_add",
          "gp_add",
          "gp_add",
          "gp_add",
          "gp_add",
          "gp_add",
          "gp_add",
          "gp_add",
          "gp_add",
          "gp_add",
          "gp_add",
          "gp_add",
          "gp_add",
          "gp_add",
          "gp_add",
          "gp_add",
          "gp_add",
          "gp_add",
          "gp_add",
          "gp_add",
          "gp_add",
          "gp_add",
          "gp_add",
          "gp_add",
          "gp_add",
          "gp_add",
          "gp_add",
          "gp_add",
          "gp_add",
          "gp_add",
          "gp_add",
          "gp_add",
          "gp_add",
          "gp_add",
          "gp_add",
          "gp_add",
          "gp_add",
          "gp_add",
          "gp_add",
          "gp_add",
          "gp_add",
          "gp_add",
          "gp_add",
          "gp_add",
          "gp_add",
          "gp_add",
          "gp_add",
          "gp_add",
          "gp_add",
          "gp_add",
          "gp_add",
          "gp_add",
          "gp_add",
          "gp_add",
          "gp_add",
          "gp_add",
          "gp_add",
          "gp_add",
          "gp_add",
          "gp_add",
          "gp_add",
          "gp_add",
          "gp_add",
          "gp_add",
          "gp_add",
          "gp_add",
          "gp_add",
          "gp_add",
          "gp_add",
          "gp_add",
          "gp_add",
          "gp_add",
          "gp_add",
          "gp_add",
          "gp_add",
          "gp_add",
          "gp_add",
          "gp_add",
          "gp_add",
          "gp_add",
          "gp_add",
          "gp_add",
          "gp_add",
          "gp_add",
          "gp_add",
          "gp_add",
          "gp_add",
          "gp_add",
          "gp_add",
          "gp_add",
          "gp_add",
          "gp_add",
          "gp_add",
          "gp_add",
          "gp_add",
          "gp_add",
          "gp_add",
          "gp_add",
          "gp_add",
          "gp_add",
          "gp_add",
          "gp_add",
          "gp_add",
          "gp_add",
          "gp_add",
          "gp_add",
          "gp_add",
          "gp_add",
          "gp_add",
          "gp_add",
          "gp_add",
          "gp_add",
          "gp_add",
          "gp_add",
          "gp_add",
          "gp_add",
          "gp_add",
          "gp_add",
          "gp_add",
          "gp_add",
          "gp_add",
          "gp_add",
          "gp_add",
          "gp_add",
          "gp_add",
          "gp_add",
          "gp_add",
          "gp_add",
          "gp_add",
          "gp_add",
          "gp_add",
          "gp_add",
          "gp_add",
          "gp_add",
          "gp_add",
          "gp_add",
          "gp_add",
          "gp_add",
          "gp_add",
          "gp_add",
          "gp_add",
          "gp_add",
          "gp_add",
          "gp_add",
          "gp_add",
          "gp_add",
          "gp_add",
          "gp_add",
          "gp_add",
          "gp_add",
          "gp_add",
          "gp_add",
          "gp_add",
          "gp_add",
          "gp_add",
          "gp_add",
          "gp_add",
          "gp_add",
          "gp_add",
          "gp_add",
          "gp_add",
          "gp_add",
          "gp_add",
          "gp_add",
          "gp_mix",
          "gp_mix",
          "gp_mix",
          "gp_mix",
          "gp_mix",
          "gp_mix",
          "gp_mix",
          "gp_mix",
          "gp_mix",
          "gp_mix",
          "gp_mix",
          "gp_mix",
          "gp_mix",
          "gp_mix",
          "gp_mix",
          "gp_mix",
          "gp_mix",
          "gp_mix",
          "gp_mix",
          "gp_mix",
          "gp_mix",
          "gp_mix",
          "gp_mix",
          "gp_mix",
          "gp_mix",
          "gp_mix",
          "gp_mix",
          "gp_mix",
          "gp_mix",
          "gp_mix",
          "gp_mix",
          "gp_mix",
          "gp_mix",
          "gp_mix",
          "gp_mix",
          "gp_mix",
          "gp_mix",
          "gp_mix",
          "gp_mix",
          "gp_mix",
          "gp_mix",
          "gp_mix",
          "gp_mix",
          "gp_mix",
          "gp_mix",
          "gp_mix",
          "gp_mix",
          "gp_mix",
          "gp_mix",
          "gp_mix",
          "gp_mix",
          "gp_mix",
          "gp_mix",
          "gp_mix",
          "gp_mix",
          "gp_mix",
          "gp_mix",
          "gp_mix",
          "gp_mix",
          "gp_mix",
          "gp_mix",
          "gp_mix",
          "gp_mix",
          "gp_mix",
          "gp_mix",
          "gp_mix",
          "gp_mix",
          "gp_mix",
          "gp_mix",
          "gp_mix",
          "gp_mix",
          "gp_mix",
          "gp_mix",
          "gp_mix",
          "gp_mix",
          "gp_mix",
          "gp_mix",
          "gp_mix",
          "gp_mix",
          "gp_mix",
          "gp_mix",
          "gp_mix",
          "gp_mix",
          "gp_mix",
          "gp_mix",
          "gp_mix",
          "gp_mix",
          "gp_mix",
          "gp_mix",
          "gp_mix",
          "gp_mix",
          "gp_mix",
          "gp_mix",
          "gp_mix",
          "gp_mix",
          "gp_mix",
          "gp_mix",
          "gp_mix",
          "gp_mix",
          "gp_mix",
          "gp_mix",
          "gp_mix",
          "gp_mix",
          "gp_mix",
          "gp_mix",
          "gp_mix",
          "gp_mix",
          "gp_mix",
          "gp_mix",
          "gp_mix",
          "gp_mix",
          "gp_mix",
          "gp_mix",
          "gp_mix",
          "gp_mix",
          "gp_mix",
          "gp_mix",
          "gp_mix",
          "gp_mix",
          "gp_mix",
          "gp_mix",
          "gp_mix",
          "gp_mix",
          "gp_mix",
          "gp_mix",
          "gp_mix",
          "gp_mix",
          "gp_mix",
          "gp_mix",
          "gp_mix",
          "gp_mix",
          "gp_mix",
          "gp_mix",
          "gp_mix",
          "gp_mix",
          "gp_mix",
          "gp_mix",
          "gp_mix",
          "gp_mix",
          "gp_mix",
          "gp_mix",
          "gp_mix",
          "gp_mix",
          "gp_mix",
          "gp_mix",
          "gp_mix",
          "gp_mix",
          "gp_mix",
          "gp_mix",
          "gp_mix",
          "gp_mix",
          "gp_mix",
          "gp_mix",
          "gp_mix",
          "gp_mix",
          "gp_mix",
          "gp_mix",
          "gp_mix",
          "gp_mix",
          "gp_mix",
          "gp_mix",
          "gp_mix",
          "gp_mix",
          "gp_mix",
          "gp_mix",
          "gp_mix",
          "gp_mix",
          "gp_mix",
          "gp_mix",
          "gp_mix",
          "gp_mix",
          "gp_mix",
          "gp_mix",
          "gp_mix",
          "gp_mix",
          "gp_mix",
          "gp_mix",
          "gp_mix",
          "gp_mix",
          "gp_mix",
          "gp_mix",
          "gp_mix",
          "gp_mix",
          "gp_mix",
          "gp_mix",
          "gp_mix",
          "gp_mix",
          "gp_mix",
          "gp_mix",
          "gp_mix",
          "gp_mix",
          "gp_mix",
          "gp_mix",
          "gp_mix",
          "gp_mix",
          "gp_mix",
          "gp_mix",
          "gp_mix",
          "gp_mix",
          "gp_mix",
          "linear",
          "linear",
          "linear",
          "linear",
          "linear",
          "linear",
          "linear",
          "linear",
          "linear",
          "linear",
          "linear",
          "linear",
          "linear",
          "linear",
          "linear",
          "linear",
          "linear",
          "linear",
          "linear",
          "linear",
          "linear",
          "linear",
          "linear",
          "linear",
          "linear",
          "linear",
          "linear",
          "linear",
          "linear",
          "linear",
          "linear",
          "linear",
          "linear",
          "linear",
          "linear",
          "linear",
          "linear",
          "linear",
          "linear",
          "linear",
          "linear",
          "linear",
          "linear",
          "linear",
          "linear",
          "linear",
          "linear",
          "linear",
          "linear",
          "linear",
          "linear",
          "linear",
          "linear",
          "linear",
          "linear",
          "linear",
          "linear",
          "linear",
          "linear",
          "linear",
          "linear",
          "linear",
          "linear",
          "linear",
          "linear",
          "linear",
          "linear",
          "linear",
          "linear",
          "linear",
          "linear",
          "linear",
          "linear",
          "linear",
          "linear",
          "linear",
          "linear",
          "linear",
          "linear",
          "linear",
          "linear",
          "linear",
          "linear",
          "linear",
          "linear",
          "linear",
          "linear",
          "linear",
          "linear",
          "linear",
          "linear",
          "linear",
          "linear",
          "linear",
          "linear",
          "linear",
          "linear",
          "linear",
          "linear",
          "linear",
          "linear",
          "linear",
          "linear",
          "linear",
          "linear",
          "linear",
          "linear",
          "linear",
          "linear",
          "linear",
          "linear",
          "linear",
          "linear",
          "linear",
          "linear",
          "linear",
          "linear",
          "linear",
          "linear",
          "linear",
          "linear",
          "linear",
          "linear",
          "linear",
          "linear",
          "linear",
          "linear",
          "linear",
          "linear",
          "linear",
          "linear",
          "linear",
          "linear",
          "linear",
          "linear",
          "linear",
          "linear",
          "linear",
          "linear",
          "linear",
          "linear",
          "linear",
          "linear",
          "linear",
          "linear",
          "linear",
          "linear",
          "linear",
          "linear",
          "linear",
          "linear",
          "linear",
          "linear",
          "linear",
          "linear",
          "linear",
          "linear",
          "linear",
          "linear",
          "linear",
          "linear",
          "linear",
          "linear",
          "linear",
          "linear",
          "linear",
          "linear",
          "linear",
          "linear",
          "linear",
          "linear",
          "linear",
          "linear",
          "linear",
          "linear",
          "linear",
          "linear",
          "linear",
          "linear",
          "linear",
          "linear",
          "linear",
          "linear",
          "linear",
          "linear",
          "linear",
          "linear",
          "linear",
          "linear",
          "linear",
          "linear",
          "linear",
          "linear",
          "linear",
          "linear",
          "linear",
          "linear",
          "linear",
          "linear",
          "linear",
          "nn",
          "nn",
          "nn",
          "nn",
          "nn",
          "nn",
          "nn",
          "nn",
          "nn",
          "nn",
          "nn",
          "nn",
          "nn",
          "nn",
          "nn",
          "nn",
          "nn",
          "nn",
          "nn",
          "nn",
          "nn",
          "nn",
          "nn",
          "nn",
          "nn",
          "nn",
          "nn",
          "nn",
          "nn",
          "nn",
          "nn",
          "nn",
          "nn",
          "nn",
          "nn",
          "nn",
          "nn",
          "nn",
          "nn",
          "nn",
          "nn",
          "nn",
          "nn",
          "nn",
          "nn",
          "nn",
          "nn",
          "nn",
          "nn",
          "nn",
          "nn",
          "nn",
          "nn",
          "nn",
          "nn",
          "nn",
          "nn",
          "nn",
          "nn",
          "nn",
          "nn",
          "nn",
          "nn",
          "nn",
          "nn",
          "nn",
          "nn",
          "nn",
          "nn",
          "nn",
          "nn",
          "nn",
          "nn",
          "nn",
          "nn",
          "nn",
          "nn",
          "nn",
          "nn",
          "nn",
          "nn",
          "nn",
          "nn",
          "nn",
          "nn",
          "nn",
          "nn",
          "nn",
          "nn",
          "nn",
          "nn",
          "nn",
          "nn",
          "nn",
          "nn",
          "nn",
          "nn",
          "nn",
          "nn",
          "nn",
          "nn",
          "nn",
          "nn",
          "nn",
          "nn",
          "nn",
          "nn",
          "nn",
          "nn",
          "nn",
          "nn",
          "nn",
          "nn",
          "nn",
          "nn",
          "nn",
          "nn",
          "nn",
          "nn",
          "nn",
          "nn",
          "nn",
          "nn",
          "nn",
          "nn",
          "nn",
          "nn",
          "nn",
          "nn",
          "nn",
          "nn",
          "nn",
          "nn",
          "nn",
          "nn",
          "nn",
          "nn",
          "nn",
          "nn",
          "nn",
          "nn",
          "nn",
          "nn",
          "nn",
          "nn",
          "nn",
          "nn",
          "nn",
          "nn",
          "nn",
          "nn",
          "nn",
          "nn",
          "nn",
          "nn",
          "nn",
          "nn",
          "nn",
          "nn",
          "nn",
          "nn",
          "nn",
          "nn",
          "nn",
          "nn",
          "nn",
          "nn",
          "nn",
          "nn",
          "nn",
          "nn",
          "nn",
          "nn",
          "nn",
          "nn",
          "nn",
          "nn",
          "nn",
          "nn",
          "nn",
          "nn",
          "nn",
          "nn",
          "nn",
          "nn",
          "nn",
          "nn",
          "nn",
          "nn",
          "nn",
          "nn",
          "nn",
          "nn",
          "nn",
          "nn",
          "nn",
          "nn",
          "nn",
          "nn",
          "nn",
          "polynomial",
          "polynomial",
          "polynomial",
          "polynomial",
          "polynomial",
          "polynomial",
          "polynomial",
          "polynomial",
          "polynomial",
          "polynomial",
          "polynomial",
          "polynomial",
          "polynomial",
          "polynomial",
          "polynomial",
          "polynomial",
          "polynomial",
          "polynomial",
          "polynomial",
          "polynomial",
          "polynomial",
          "polynomial",
          "polynomial",
          "polynomial",
          "polynomial",
          "polynomial",
          "polynomial",
          "polynomial",
          "polynomial",
          "polynomial",
          "polynomial",
          "polynomial",
          "polynomial",
          "polynomial",
          "polynomial",
          "polynomial",
          "polynomial",
          "polynomial",
          "polynomial",
          "polynomial",
          "polynomial",
          "polynomial",
          "polynomial",
          "polynomial",
          "polynomial",
          "polynomial",
          "polynomial",
          "polynomial",
          "polynomial",
          "polynomial",
          "polynomial",
          "polynomial",
          "polynomial",
          "polynomial",
          "polynomial",
          "polynomial",
          "polynomial",
          "polynomial",
          "polynomial",
          "polynomial",
          "polynomial",
          "polynomial",
          "polynomial",
          "polynomial",
          "polynomial",
          "polynomial",
          "polynomial",
          "polynomial",
          "polynomial",
          "polynomial",
          "polynomial",
          "polynomial",
          "polynomial",
          "polynomial",
          "polynomial",
          "polynomial",
          "polynomial",
          "polynomial",
          "polynomial",
          "polynomial",
          "polynomial",
          "polynomial",
          "polynomial",
          "polynomial",
          "polynomial",
          "polynomial",
          "polynomial",
          "polynomial",
          "polynomial",
          "polynomial",
          "polynomial",
          "polynomial",
          "polynomial",
          "polynomial",
          "polynomial",
          "polynomial",
          "polynomial",
          "polynomial",
          "polynomial",
          "polynomial",
          "polynomial",
          "polynomial",
          "polynomial",
          "polynomial",
          "polynomial",
          "polynomial",
          "polynomial",
          "polynomial",
          "polynomial",
          "polynomial",
          "polynomial",
          "polynomial",
          "polynomial",
          "polynomial",
          "polynomial",
          "polynomial",
          "polynomial",
          "polynomial",
          "polynomial",
          "polynomial",
          "polynomial",
          "polynomial",
          "polynomial",
          "polynomial",
          "polynomial",
          "polynomial",
          "polynomial",
          "polynomial",
          "polynomial",
          "polynomial",
          "polynomial",
          "polynomial",
          "polynomial",
          "polynomial",
          "polynomial",
          "polynomial",
          "polynomial",
          "polynomial",
          "polynomial",
          "polynomial",
          "polynomial",
          "polynomial",
          "polynomial",
          "polynomial",
          "polynomial",
          "polynomial",
          "polynomial",
          "polynomial",
          "polynomial",
          "polynomial",
          "polynomial",
          "polynomial",
          "polynomial",
          "polynomial",
          "polynomial",
          "polynomial",
          "polynomial",
          "polynomial",
          "polynomial",
          "polynomial",
          "polynomial",
          "polynomial",
          "polynomial",
          "polynomial",
          "polynomial",
          "polynomial",
          "polynomial",
          "polynomial",
          "polynomial",
          "polynomial",
          "polynomial",
          "polynomial",
          "polynomial",
          "polynomial",
          "polynomial",
          "polynomial",
          "polynomial",
          "polynomial",
          "polynomial",
          "polynomial",
          "polynomial",
          "polynomial",
          "polynomial",
          "polynomial",
          "polynomial",
          "polynomial",
          "polynomial",
          "polynomial",
          "polynomial",
          "polynomial",
          "polynomial",
          "polynomial",
          "polynomial",
          "polynomial",
          "polynomial",
          "polynomial",
          "polynomial",
          "polynomial",
          "polynomial",
          "polynomial",
          "sigmoid_mix",
          "sigmoid_mix",
          "sigmoid_mix",
          "sigmoid_mix",
          "sigmoid_mix",
          "sigmoid_mix",
          "sigmoid_mix",
          "sigmoid_mix",
          "sigmoid_mix",
          "sigmoid_mix",
          "sigmoid_mix",
          "sigmoid_mix",
          "sigmoid_mix",
          "sigmoid_mix",
          "sigmoid_mix",
          "sigmoid_mix",
          "sigmoid_mix",
          "sigmoid_mix",
          "sigmoid_mix",
          "sigmoid_mix",
          "sigmoid_mix",
          "sigmoid_mix",
          "sigmoid_mix",
          "sigmoid_mix",
          "sigmoid_mix",
          "sigmoid_mix",
          "sigmoid_mix",
          "sigmoid_mix",
          "sigmoid_mix",
          "sigmoid_mix",
          "sigmoid_mix",
          "sigmoid_mix",
          "sigmoid_mix",
          "sigmoid_mix",
          "sigmoid_mix",
          "sigmoid_mix",
          "sigmoid_mix",
          "sigmoid_mix",
          "sigmoid_mix",
          "sigmoid_mix",
          "sigmoid_mix",
          "sigmoid_mix",
          "sigmoid_mix",
          "sigmoid_mix",
          "sigmoid_mix",
          "sigmoid_mix",
          "sigmoid_mix",
          "sigmoid_mix",
          "sigmoid_mix",
          "sigmoid_mix",
          "sigmoid_mix",
          "sigmoid_mix",
          "sigmoid_mix",
          "sigmoid_mix",
          "sigmoid_mix",
          "sigmoid_mix",
          "sigmoid_mix",
          "sigmoid_mix",
          "sigmoid_mix",
          "sigmoid_mix",
          "sigmoid_mix",
          "sigmoid_mix",
          "sigmoid_mix",
          "sigmoid_mix",
          "sigmoid_mix",
          "sigmoid_mix",
          "sigmoid_mix",
          "sigmoid_mix",
          "sigmoid_mix",
          "sigmoid_mix",
          "sigmoid_mix",
          "sigmoid_mix",
          "sigmoid_mix",
          "sigmoid_mix",
          "sigmoid_mix",
          "sigmoid_mix",
          "sigmoid_mix",
          "sigmoid_mix",
          "sigmoid_mix",
          "sigmoid_mix",
          "sigmoid_mix",
          "sigmoid_mix",
          "sigmoid_mix",
          "sigmoid_mix",
          "sigmoid_mix",
          "sigmoid_mix",
          "sigmoid_mix",
          "sigmoid_mix",
          "sigmoid_mix",
          "sigmoid_mix",
          "sigmoid_mix",
          "sigmoid_mix",
          "sigmoid_mix",
          "sigmoid_mix",
          "sigmoid_mix",
          "sigmoid_mix",
          "sigmoid_mix",
          "sigmoid_mix",
          "sigmoid_mix",
          "sigmoid_mix",
          "sigmoid_mix",
          "sigmoid_mix",
          "sigmoid_mix",
          "sigmoid_mix",
          "sigmoid_mix",
          "sigmoid_mix",
          "sigmoid_mix",
          "sigmoid_mix",
          "sigmoid_mix",
          "sigmoid_mix",
          "sigmoid_mix",
          "sigmoid_mix",
          "sigmoid_mix",
          "sigmoid_mix",
          "sigmoid_mix",
          "sigmoid_mix",
          "sigmoid_mix",
          "sigmoid_mix",
          "sigmoid_mix",
          "sigmoid_mix",
          "sigmoid_mix",
          "sigmoid_mix",
          "sigmoid_mix",
          "sigmoid_mix",
          "sigmoid_mix",
          "sigmoid_mix",
          "sigmoid_mix",
          "sigmoid_mix",
          "sigmoid_mix",
          "sigmoid_mix",
          "sigmoid_mix",
          "sigmoid_mix",
          "sigmoid_mix",
          "sigmoid_mix",
          "sigmoid_mix",
          "sigmoid_mix",
          "sigmoid_mix",
          "sigmoid_mix",
          "sigmoid_mix",
          "sigmoid_mix",
          "sigmoid_mix",
          "sigmoid_mix",
          "sigmoid_mix",
          "sigmoid_mix",
          "sigmoid_mix",
          "sigmoid_mix",
          "sigmoid_mix",
          "sigmoid_mix",
          "sigmoid_mix",
          "sigmoid_mix",
          "sigmoid_mix",
          "sigmoid_mix",
          "sigmoid_mix",
          "sigmoid_mix",
          "sigmoid_mix",
          "sigmoid_mix",
          "sigmoid_mix",
          "sigmoid_mix",
          "sigmoid_mix",
          "sigmoid_mix",
          "sigmoid_mix",
          "sigmoid_mix",
          "sigmoid_mix",
          "sigmoid_mix",
          "sigmoid_mix",
          "sigmoid_mix",
          "sigmoid_mix",
          "sigmoid_mix",
          "sigmoid_mix",
          "sigmoid_mix",
          "sigmoid_mix",
          "sigmoid_mix",
          "sigmoid_mix",
          "sigmoid_mix",
          "sigmoid_mix",
          "sigmoid_mix",
          "sigmoid_mix",
          "sigmoid_mix",
          "sigmoid_mix",
          "sigmoid_mix",
          "sigmoid_mix",
          "sigmoid_mix",
          "sigmoid_mix",
          "sigmoid_mix",
          "sigmoid_mix",
          "sigmoid_mix",
          "sigmoid_mix",
          "sigmoid_mix",
          "sigmoid_mix",
          "sigmoid_mix",
          "sigmoid_mix",
          "sigmoid_mix",
          "sigmoid_mix",
          "sigmoid_mix",
          "sigmoid_mix",
          "sigmoid_mix",
          "sigmoid_mix",
          "sigmoid_mix",
          "sigmoid_mix",
          "sigmoid_mix"
         ],
         "x0": " ",
         "xaxis": "x",
         "y": [
          0.0006773977360741,
          0.0006773977360741,
          0.0006773977360741,
          0.0006773977360741,
          0.0006773977360741,
          0.0006773977360741,
          0.0006773977360741,
          0.0007572556890527,
          0.0007572556890527,
          0.0007572556890527,
          0.0007572556890527,
          0.0002515772748398,
          0.0002515772748398,
          0.0002515772748398,
          0.0002515772748398,
          0.0002515772748398,
          0.0002515772748398,
          0.0002515772748398,
          0.0002515772748398,
          0.0002515772748398,
          0.0002515772748398,
          0.0006773977360741,
          0.0007572556890527,
          0.0007572556890527,
          0.0007572556890527,
          0.0007572556890527,
          0.0002783660828742,
          0.0002783660828742,
          0.0002783660828742,
          0.0002783660828742,
          0.0002783660828742,
          0.0002783660828742,
          null,
          0.0002783660828742,
          0.0002783660828742,
          0.0002783660828742,
          0.0003711331937902,
          0.0003711331937902,
          0.0003711331937902,
          0.0003711331937902,
          0.0002783660828742,
          null,
          null,
          null,
          null,
          null,
          null,
          null,
          null,
          null,
          null,
          null,
          null,
          null,
          null,
          null,
          null,
          null,
          null,
          0.0003711331937902,
          0.0003711331937902,
          0.0003711331937902,
          0.0003711331937902,
          null,
          null,
          null,
          0.000703131592955,
          0.000703131592955,
          0.000703131592955,
          0.000703131592955,
          0.000703131592955,
          0.000703131592955,
          0.000703131592955,
          0.000703131592955,
          0.000703131592955,
          0.000703131592955,
          0.0007572556890527,
          0.0007572556890527,
          null,
          null,
          null,
          0.0003711331937902,
          0.0003711331937902,
          0.0003998004157589,
          0.0003998004157589,
          0.0003998004157589,
          0.0003998004157589,
          0.0003998004157589,
          0.0003998004157589,
          0.0003998004157589,
          0.0003998004157589,
          0.0003998004157589,
          0.0003998004157589,
          null,
          null,
          null,
          null,
          null,
          0.0006773977360741,
          null,
          null,
          null,
          null,
          null,
          null,
          null,
          null,
          null,
          null,
          null,
          null,
          null,
          null,
          null,
          null,
          null,
          null,
          null,
          0.0001572742589393,
          0.0001572742589393,
          0.0001572742589393,
          0.0001572742589393,
          0.0001572742589393,
          null,
          0.0001572742589393,
          null,
          0.00064851398348,
          null,
          null,
          null,
          null,
          null,
          null,
          null,
          null,
          null,
          null,
          null,
          0.00064851398348,
          0.00064851398348,
          0.00064851398348,
          0.00064851398348,
          0.00064851398348,
          0.00064851398348,
          0.00064851398348,
          0.00064851398348,
          0.00064851398348,
          null,
          0.0001572742589393,
          0.0006773977360741,
          0.0001572742589393,
          0.0004491732245143,
          0.0004491732245143,
          0.0004491732245143,
          0.0004491732245143,
          0.0004491732245143,
          null,
          null,
          null,
          null,
          null,
          null,
          null,
          null,
          null,
          null,
          null,
          null,
          null,
          null,
          null,
          0.0001572742589393,
          0.0004491732245143,
          0.0004491732245143,
          null,
          0.0004491732245143,
          0.0001572742589393,
          0.0004491732245143,
          0.0006777205992056,
          0.0006777205992056,
          0.0006777205992056,
          0.0006777205992056,
          0.0006777205992056,
          0.0006777205992056,
          0.0006777205992056,
          0.0006777205992056,
          0.0006777205992056,
          null,
          null,
          0.0006777205992056,
          null,
          null,
          null,
          null,
          0.0004491732245143,
          null,
          null,
          null,
          null,
          null,
          0.0006026398269947,
          0.0006371714520994,
          null,
          0.0005780911439676,
          0.0005780911439676,
          0.0005780911439676,
          0.0005780911439676,
          0.0005780911439676,
          0.0005780911439676,
          0.0005780911439676,
          0.0005780911439676,
          0.0005780911439676,
          0.0005780911439676,
          null,
          null,
          null,
          null,
          null,
          null,
          null,
          null,
          null,
          null,
          null,
          null,
          null,
          null,
          null,
          null,
          null,
          null,
          null,
          null,
          0.0006023355222304,
          0.0006023355222304,
          0.0006023355222304,
          0.0006023355222304,
          0.0006023355222304,
          0.0006023355222304,
          0.0006023355222304,
          0.0006023355222304,
          0.0006023355222304,
          0.0006023355222304,
          null,
          null,
          null,
          null,
          null,
          null,
          null,
          null,
          null,
          0.0005925328255424,
          0.0005925328255424,
          0.0005925328255424,
          0.0005925328255424,
          0.0005925328255424,
          0.0005925328255424,
          0.0005925328255424,
          0.0005925328255424,
          0.0005925328255424,
          0.0005925328255424,
          0.0004119315057078,
          0.0004119315057078,
          0.0004119315057078,
          0.0004119315057078,
          0.0004119315057078,
          0.0004119315057078,
          0.0004119315057078,
          0.0004119315057078,
          0.0004119315057078,
          0.0004119315057078,
          0.0006371714520994,
          null,
          null,
          null,
          null,
          null,
          null,
          null,
          null,
          null,
          null,
          null,
          null,
          null,
          null,
          null,
          null,
          null,
          null,
          null,
          null,
          null,
          null,
          null,
          null,
          null,
          null,
          null,
          null,
          null,
          null,
          null,
          null,
          0.0005969186618359,
          0.0005969186618359,
          0.0005969186618359,
          0.0005969186618359,
          0.0005969186618359,
          0.0005969186618359,
          0.0005969186618359,
          0.0005969186618359,
          0.0005969186618359,
          0.0005969186618359,
          null,
          null,
          null,
          null,
          null,
          null,
          null,
          null,
          null,
          null,
          null,
          null,
          null,
          0.0006371714520994,
          0.0006371714520994,
          0.0006371714520994,
          0.0006371714520994,
          0.0006371714520994,
          0.0006371714520994,
          0.0006371714520994,
          0.0006371714520994,
          null,
          null,
          null,
          null,
          null,
          null,
          null,
          null,
          null,
          null,
          null,
          null,
          null,
          null,
          null,
          null,
          0.0005397702575459,
          0.0005397702575459,
          0.0006688327126466,
          0.0006688327126466,
          0.0006688327126466,
          0.0006688327126466,
          0.0006688327126466,
          0.0006688327126466,
          null,
          0.0006688327126466,
          0.0005397702575459,
          0.0006688327126466,
          0.0006026398269947,
          0.0006026398269947,
          0.0006026398269947,
          0.0006026398269947,
          0.0006026398269947,
          0.0006026398269947,
          0.0006026398269947,
          0.0006026398269947,
          0.0006026398269947,
          0.0006688327126466,
          0.0005397702575459,
          0.0006688327126466,
          0.0005397702575459,
          0.0005397702575459,
          null,
          null,
          null,
          null,
          null,
          null,
          null,
          null,
          null,
          null,
          null,
          null,
          null,
          null,
          null,
          null,
          null,
          0.0005397702575459,
          0.0005397702575459,
          0.0005397702575459,
          0.0005397702575459,
          null,
          0.0006054104959717,
          0.0006054104959717,
          0.0006054104959717,
          null,
          null,
          null,
          null,
          0.0006054104959717,
          null,
          0.0006054104959717,
          0.0006054104959717,
          0.0006054104959717,
          0.0006054104959717,
          0.0006054104959717,
          null,
          null,
          null,
          null,
          null,
          null,
          0.0006054104959717,
          null,
          null,
          null,
          null,
          null,
          null,
          null,
          null,
          null,
          null,
          null,
          null,
          null,
          null,
          null,
          null,
          null,
          null,
          null,
          null,
          null,
          null,
          null,
          null,
          null,
          null,
          0.0006048445592507,
          null,
          0.0006048445592507,
          0.0006048445592507,
          0.0006048445592507,
          0.0006048445592507,
          0.0006048445592507,
          0.0007009511624102,
          0.0007009511624102,
          0.0007009511624102,
          0.0007009511624102,
          0.0007009511624102,
          0.0007009511624102,
          0.0007009511624102,
          0.0007009511624102,
          0.0007009511624102,
          0.0007009511624102,
          0.0007916737340963,
          0.0007916737340963,
          0.0007916737340963,
          0.0007916737340963,
          0.0007916737340963,
          0.0007916737340963,
          0.0006048445592507,
          0.0006048445592507,
          0.0006048445592507,
          0.0006048445592507,
          null,
          null,
          null,
          null,
          null,
          null,
          null,
          null,
          null,
          null,
          null,
          null,
          null,
          null,
          null,
          null,
          null,
          null,
          null,
          null,
          null,
          0.000567753626593,
          null,
          0.000567753626593,
          null,
          0.000567753626593,
          0.0007383970919025,
          0.0007383970919025,
          0.0007383970919025,
          0.0007383970919025,
          0.0007383970919025,
          0.0007383970919025,
          0.0007383970919025,
          0.0007048130822137,
          0.0007048130822137,
          0.0007048130822137,
          0.0007048130822137,
          0.0007048130822137,
          0.0007048130822137,
          0.0007048130822137,
          0.0007048130822137,
          0.0007048130822137,
          0.0007048130822137,
          0.0006524984022283,
          0.0006524984022283,
          0.0006524984022283,
          0.0006524984022283,
          0.0007383970919025,
          0.0006524984022283,
          0.0007383970919025,
          0.0005551713394836,
          0.0007916737340963,
          0.0007916737340963,
          null,
          null,
          null,
          null,
          null,
          null,
          null,
          null,
          null,
          null,
          0.0005551713394836,
          0.0005551713394836,
          0.0005551713394836,
          0.0005551713394836,
          0.0005551713394836,
          0.0005551713394836,
          0.0005551713394836,
          0.0005551713394836,
          0.0005551713394836,
          0.0007383970919025,
          0.000567753626593,
          0.0006524984022283,
          0.0006524984022283,
          null,
          null,
          null,
          null,
          null,
          0.0006006783101555,
          0.0006006783101555,
          0.0006006783101555,
          0.0006006783101555,
          0.0006006783101555,
          0.0006006783101555,
          0.0006006783101555,
          0.0006006783101555,
          0.0006006783101555,
          0.0006006783101555,
          0.000567753626593,
          0.000567753626593,
          0.000567753626593,
          0.000567753626593,
          0.000567753626593,
          0.000567753626593,
          null,
          0.0006524984022283,
          null,
          null,
          0.0006524984022283,
          0.0003803666721239,
          0.0003803666721239,
          0.0003803666721239,
          0.0003803666721239,
          0.0003803666721239,
          0.0003803666721239,
          0.0003803666721239,
          0.0003803666721239,
          0.0003803666721239,
          0.0003803666721239,
          0.0005978882968734,
          0.0005978882968734,
          0.0005978882968734,
          0.0005978882968734,
          0.0005978882968734,
          0.0005978882968734,
          0.0005978882968734,
          0.0005978882968734,
          0.0005978882968734,
          0.0005978882968734,
          null,
          0.0006524984022283,
          0.0007916737340963,
          0.0007916737340963,
          null,
          null,
          0.0005838856059632,
          0.0005838856059632,
          0.0005838856059632,
          0.0005838856059632,
          0.0005838856059632,
          0.0005838856059632,
          0.0005838856059632,
          0.0005838856059632,
          0.0005838856059632,
          0.0005838856059632,
          0.0005833832312572,
          0.0005833832312572,
          0.0005833832312572,
          0.0005833832312572,
          0.0005833832312572,
          0.0005833832312572,
          0.0005833832312572,
          0.0005833832312572,
          0.0005833832312572,
          null,
          0.0005833832312572,
          null,
          null,
          0.0003346002200884,
          0.0003346002200884,
          0.0003346002200884,
          0.0003346002200884,
          0.0003346002200884,
          0.0003346002200884,
          0.0003346002200884,
          null,
          null,
          null,
          null,
          null,
          null,
          null,
          null,
          null,
          null,
          null,
          null,
          null,
          null,
          null,
          0.0003346002200884,
          0.0006425514742822,
          null,
          null,
          null,
          0.0007213874449037,
          0.0007213874449037,
          0.0007213874449037,
          0.0007213874449037,
          0.0007213874449037,
          0.0007213874449037,
          0.0007213874449037,
          0.0007213874449037,
          0.0007213874449037,
          0.0007213874449037,
          0.0003057674668102,
          0.0003057674668102,
          0.0003057674668102,
          0.0003057674668102,
          0.0003057674668102,
          0.0003057674668102,
          0.0003057674668102,
          0.0003057674668102,
          0.0003057674668102,
          null,
          null,
          null,
          null,
          null,
          null,
          null,
          null,
          null,
          null,
          null,
          null,
          null,
          null,
          null,
          null,
          null,
          null,
          null,
          null,
          null,
          null,
          null,
          null,
          null,
          null,
          null,
          0.0003346002200884,
          null,
          0.0005139215076372,
          0.0005139215076372,
          0.0003818945472591,
          0.0003818945472591,
          0.0003818945472591,
          0.0003818945472591,
          0.0003818945472591,
          0.0003818945472591,
          0.0003818945472591,
          0.0003818945472591,
          0.0003818945472591,
          0.0003818945472591,
          0.0004342334617153,
          0.0004342334617153,
          0.0004342334617153,
          0.0004342334617153,
          0.0004342334617153,
          0.0004342334617153,
          0.0004342334617153,
          0.0004342334617153,
          0.0004342334617153,
          0.0005139215076372,
          0.0004342334617153,
          0.0005139215076372,
          0.0005139215076372,
          0.0006425514742822,
          0.0006425514742822,
          0.0006425514742822,
          0.0006425514742822,
          0.0006425514742822,
          0.0006425514742822,
          0.0006425514742822,
          0.0002896776062499,
          0.0002896776062499,
          0.0002896776062499,
          0.0002896776062499,
          0.0002896776062499,
          0.0002896776062499,
          0.0002896776062499,
          0.0002896776062499,
          0.0002896776062499,
          0.0002896776062499,
          0.0005139215076372,
          0.0005139215076372,
          0.0005139215076372,
          0.0005139215076372,
          0.0005139215076372,
          0.0003346002200884,
          null,
          null,
          null,
          null,
          null,
          null,
          null,
          null,
          null,
          null,
          null,
          null,
          null,
          null,
          null,
          null,
          null,
          null,
          null,
          null,
          null,
          null,
          null,
          null,
          null,
          null,
          null,
          null,
          null,
          null,
          null,
          null,
          null,
          null,
          0.0005927734215402,
          0.0005927734215402,
          0.0005927734215402,
          0.0005927734215402,
          0.0005927734215402,
          0.0005927734215402,
          0.0005927734215402,
          0.0005927734215402,
          0.0005927734215402,
          0.0005927734215402,
          null,
          null,
          null,
          null,
          null,
          0.0003057674668102,
          0.0006425514742822,
          0.0006425514742822,
          null,
          null,
          0.0006579304016113,
          null,
          null,
          null,
          null,
          null,
          null,
          null,
          null,
          null,
          null,
          null,
          null,
          null,
          null,
          null,
          null,
          null,
          null,
          null,
          null,
          null,
          null,
          0.0006853765351801,
          0.0006853765351801,
          0.0006853765351801,
          0.0006853765351801,
          0.0006853765351801,
          0.0006853765351801,
          0.0006853765351801,
          0.0006853765351801,
          null,
          null,
          null,
          null,
          null,
          null,
          null,
          0.0006853765351801,
          0.0006853765351801,
          null,
          null,
          null,
          null,
          null,
          null,
          null,
          null,
          null,
          null,
          null,
          null,
          null,
          null,
          null,
          null,
          null,
          null,
          null,
          0.0001882591411305,
          null,
          null,
          null,
          null,
          null,
          null,
          null,
          null,
          null,
          null,
          null,
          null,
          null,
          null,
          null,
          null,
          null,
          null,
          null,
          0.0001882591411305,
          0.0001882591411305,
          0.0001882591411305,
          0.0001882591411305,
          0.0001882591411305,
          0.0001882591411305,
          0.0001882591411305,
          0.0001882591411305,
          0.0001882591411305,
          null,
          null,
          null,
          null,
          null,
          null,
          null,
          null,
          null,
          0.0006579304016113,
          null,
          0.0006158003320411,
          0.0006158003320411,
          null,
          null,
          null,
          null,
          null,
          null,
          null,
          null,
          null,
          null,
          0.0005682136252259,
          0.0005682136252259,
          0.0005682136252259,
          0.0005682136252259,
          0.0005682136252259,
          0.0005682136252259,
          0.0005682136252259,
          0.0005682136252259,
          0.0005682136252259,
          null,
          0.0006158003320411,
          0.0006158003320411,
          0.0006158003320411,
          0.0006579304016113,
          0.0006579304016113,
          0.0006579304016113,
          0.0006579304016113,
          0.0006579304016113,
          0.0006579304016113,
          0.0006579304016113,
          0.0006579304016113,
          0.0006346273383008,
          0.0006346273383008,
          0.0005682136252259,
          0.0006346273383008,
          0.0006346273383008,
          0.0006346273383008,
          0.0006346273383008,
          0.0006346273383008,
          0.0006346273383008,
          0.0006346273383008,
          0.0006158003320411,
          0.0006158003320411,
          0.0006158003320411,
          0.0006158003320411,
          0.0006346273383008,
          null,
          0.0006158003320411,
          null,
          0.0003420228723052,
          null,
          null,
          null,
          null,
          null,
          null,
          null,
          null,
          null,
          null,
          0.0006522837057445,
          0.0006522837057445,
          0.0006522837057445,
          0.0006522837057445,
          0.0006522837057445,
          0.0006522837057445,
          0.0006522837057445,
          0.0006522837057445,
          0.0006522837057445,
          null,
          0.0003420228723052,
          0.0003420228723052,
          0.0006522837057445,
          0.0003420228723052,
          0.0003420228723052,
          null,
          null,
          null,
          null,
          null,
          null,
          0.0007530433849283,
          0.0007530433849283,
          0.0007530433849283,
          0.0007530433849283,
          null,
          0.0007530433849283,
          0.0007530433849283,
          0.0007530433849283,
          0.0007530433849283,
          0.0007530433849283,
          0.0003420228723052,
          0.0003420228723052,
          0.0003420228723052,
          0.0003420228723052,
          0.0003420228723052,
          0.0007530433849283,
          null,
          null,
          null,
          null,
          null,
          null,
          null,
          null,
          null,
          null,
          0.0006325864651872,
          null,
          null,
          0.0006325864651872,
          0.0006325864651872,
          0.0006325864651872,
          0.0006325864651872,
          0.0006325864651872,
          0.0006325864651872,
          null,
          0.0006325864651872,
          null,
          null,
          0.0005673359688897,
          null,
          0.0004620336221429,
          0.0004620336221429,
          0.0004620336221429,
          0.0004620336221429,
          0.0004620336221429,
          0.0004620336221429,
          0.0004620336221429,
          0.0004620336221429,
          0.0004620336221429,
          0.0005673359688897,
          0.0005673359688897,
          0.0005673359688897,
          0.0005673359688897,
          0.0005673359688897,
          0.0005673359688897,
          0.0005673359688897,
          0.0005673359688897,
          0.0005673359688897,
          null,
          null,
          null,
          null,
          0.0006325864651872,
          0.0008279224315867,
          null,
          0.0005791779088436,
          0.0005791779088436,
          0.0005791779088436,
          0.0005791779088436,
          null,
          null,
          null,
          null,
          null,
          null,
          null,
          null,
          null,
          null,
          0.0008279224315867,
          0.0008279224315867,
          0.0008279224315867,
          0.0008279224315867,
          0.0008279224315867,
          0.0008279224315867,
          0.0004620336221429,
          0.0005791779088436,
          0.0006325864651872,
          0.0005791779088436,
          0.0005791779088436,
          null,
          null,
          null,
          null,
          null,
          null,
          null,
          null,
          null,
          null,
          null,
          null,
          null,
          null,
          null,
          null,
          null,
          null,
          null,
          0.0005791779088436,
          0.0005791779088436,
          0.0005791779088436,
          0.0003841167129235,
          0.0005446382386377,
          0.0003841167129235,
          0.0004809399430179,
          0.0004809399430179,
          0.0004809399430179,
          0.0004809399430179,
          0.0004809399430179,
          null,
          null,
          null,
          null,
          null,
          null,
          null,
          null,
          null,
          null,
          null,
          null,
          null,
          null,
          null,
          null,
          0.0004809399430179,
          null,
          0.0004809399430179,
          0.0004809399430179,
          0.0003412763322262,
          0.0003412763322262,
          0.0003412763322262,
          0.0003412763322262,
          0.0003412763322262,
          0.0003412763322262,
          0.0003412763322262,
          0.0003412763322262,
          0.0003412763322262,
          0.0003412763322262,
          0.0003315632582493,
          0.0003315632582493,
          0.0003315632582493,
          0.0003315632582493,
          0.0003315632582493,
          0.0003315632582493,
          0.0003315632582493,
          0.0003315632582493,
          0.0003315632582493,
          0.0003315632582493,
          0.0004809399430179,
          0.0004809399430179,
          null,
          null,
          null,
          null,
          null,
          null,
          null,
          null,
          null,
          null,
          null,
          null,
          null,
          null,
          null,
          null,
          null,
          0.0003841167129235,
          0.0003841167129235,
          0.0003841167129235,
          0.0003841167129235,
          0.0003841167129235,
          0.0003841167129235,
          0.0003841167129235,
          null,
          null,
          null,
          null,
          0.0008279224315867,
          0.0005446382386377,
          0.0005446382386377,
          0.0005446382386377,
          0.0005446382386377,
          0.0005446382386377,
          0.0005446382386377,
          0.0005446382386377,
          0.0005446382386377,
          0.0005446382386377,
          0.0003841167129235,
          null,
          null,
          null,
          null,
          null,
          null,
          null,
          null,
          null,
          null,
          null,
          null,
          0.0008279224315867,
          0.0008279224315867
         ],
         "y0": " ",
         "yaxis": "y"
        }
       ],
       "layout": {
        "boxmode": "group",
        "height": 300,
        "legend": {
         "title": {
          "text": ""
         },
         "tracegroupgap": 0,
         "x": 0.01,
         "xanchor": "left",
         "y": 0.6,
         "yanchor": "top"
        },
        "margin": {
         "b": 10,
         "l": 20,
         "r": 10,
         "t": 10
        },
        "template": {
         "data": {
          "bar": [
           {
            "error_x": {
             "color": "#2a3f5f"
            },
            "error_y": {
             "color": "#2a3f5f"
            },
            "marker": {
             "line": {
              "color": "#E5ECF6",
              "width": 0.5
             },
             "pattern": {
              "fillmode": "overlay",
              "size": 10,
              "solidity": 0.2
             }
            },
            "type": "bar"
           }
          ],
          "barpolar": [
           {
            "marker": {
             "line": {
              "color": "#E5ECF6",
              "width": 0.5
             },
             "pattern": {
              "fillmode": "overlay",
              "size": 10,
              "solidity": 0.2
             }
            },
            "type": "barpolar"
           }
          ],
          "carpet": [
           {
            "aaxis": {
             "endlinecolor": "#2a3f5f",
             "gridcolor": "white",
             "linecolor": "white",
             "minorgridcolor": "white",
             "startlinecolor": "#2a3f5f"
            },
            "baxis": {
             "endlinecolor": "#2a3f5f",
             "gridcolor": "white",
             "linecolor": "white",
             "minorgridcolor": "white",
             "startlinecolor": "#2a3f5f"
            },
            "type": "carpet"
           }
          ],
          "choropleth": [
           {
            "colorbar": {
             "outlinewidth": 0,
             "ticks": ""
            },
            "type": "choropleth"
           }
          ],
          "contour": [
           {
            "colorbar": {
             "outlinewidth": 0,
             "ticks": ""
            },
            "colorscale": [
             [
              0,
              "#0d0887"
             ],
             [
              0.1111111111111111,
              "#46039f"
             ],
             [
              0.2222222222222222,
              "#7201a8"
             ],
             [
              0.3333333333333333,
              "#9c179e"
             ],
             [
              0.4444444444444444,
              "#bd3786"
             ],
             [
              0.5555555555555556,
              "#d8576b"
             ],
             [
              0.6666666666666666,
              "#ed7953"
             ],
             [
              0.7777777777777778,
              "#fb9f3a"
             ],
             [
              0.8888888888888888,
              "#fdca26"
             ],
             [
              1,
              "#f0f921"
             ]
            ],
            "type": "contour"
           }
          ],
          "contourcarpet": [
           {
            "colorbar": {
             "outlinewidth": 0,
             "ticks": ""
            },
            "type": "contourcarpet"
           }
          ],
          "heatmap": [
           {
            "colorbar": {
             "outlinewidth": 0,
             "ticks": ""
            },
            "colorscale": [
             [
              0,
              "#0d0887"
             ],
             [
              0.1111111111111111,
              "#46039f"
             ],
             [
              0.2222222222222222,
              "#7201a8"
             ],
             [
              0.3333333333333333,
              "#9c179e"
             ],
             [
              0.4444444444444444,
              "#bd3786"
             ],
             [
              0.5555555555555556,
              "#d8576b"
             ],
             [
              0.6666666666666666,
              "#ed7953"
             ],
             [
              0.7777777777777778,
              "#fb9f3a"
             ],
             [
              0.8888888888888888,
              "#fdca26"
             ],
             [
              1,
              "#f0f921"
             ]
            ],
            "type": "heatmap"
           }
          ],
          "heatmapgl": [
           {
            "colorbar": {
             "outlinewidth": 0,
             "ticks": ""
            },
            "colorscale": [
             [
              0,
              "#0d0887"
             ],
             [
              0.1111111111111111,
              "#46039f"
             ],
             [
              0.2222222222222222,
              "#7201a8"
             ],
             [
              0.3333333333333333,
              "#9c179e"
             ],
             [
              0.4444444444444444,
              "#bd3786"
             ],
             [
              0.5555555555555556,
              "#d8576b"
             ],
             [
              0.6666666666666666,
              "#ed7953"
             ],
             [
              0.7777777777777778,
              "#fb9f3a"
             ],
             [
              0.8888888888888888,
              "#fdca26"
             ],
             [
              1,
              "#f0f921"
             ]
            ],
            "type": "heatmapgl"
           }
          ],
          "histogram": [
           {
            "marker": {
             "pattern": {
              "fillmode": "overlay",
              "size": 10,
              "solidity": 0.2
             }
            },
            "type": "histogram"
           }
          ],
          "histogram2d": [
           {
            "colorbar": {
             "outlinewidth": 0,
             "ticks": ""
            },
            "colorscale": [
             [
              0,
              "#0d0887"
             ],
             [
              0.1111111111111111,
              "#46039f"
             ],
             [
              0.2222222222222222,
              "#7201a8"
             ],
             [
              0.3333333333333333,
              "#9c179e"
             ],
             [
              0.4444444444444444,
              "#bd3786"
             ],
             [
              0.5555555555555556,
              "#d8576b"
             ],
             [
              0.6666666666666666,
              "#ed7953"
             ],
             [
              0.7777777777777778,
              "#fb9f3a"
             ],
             [
              0.8888888888888888,
              "#fdca26"
             ],
             [
              1,
              "#f0f921"
             ]
            ],
            "type": "histogram2d"
           }
          ],
          "histogram2dcontour": [
           {
            "colorbar": {
             "outlinewidth": 0,
             "ticks": ""
            },
            "colorscale": [
             [
              0,
              "#0d0887"
             ],
             [
              0.1111111111111111,
              "#46039f"
             ],
             [
              0.2222222222222222,
              "#7201a8"
             ],
             [
              0.3333333333333333,
              "#9c179e"
             ],
             [
              0.4444444444444444,
              "#bd3786"
             ],
             [
              0.5555555555555556,
              "#d8576b"
             ],
             [
              0.6666666666666666,
              "#ed7953"
             ],
             [
              0.7777777777777778,
              "#fb9f3a"
             ],
             [
              0.8888888888888888,
              "#fdca26"
             ],
             [
              1,
              "#f0f921"
             ]
            ],
            "type": "histogram2dcontour"
           }
          ],
          "mesh3d": [
           {
            "colorbar": {
             "outlinewidth": 0,
             "ticks": ""
            },
            "type": "mesh3d"
           }
          ],
          "parcoords": [
           {
            "line": {
             "colorbar": {
              "outlinewidth": 0,
              "ticks": ""
             }
            },
            "type": "parcoords"
           }
          ],
          "pie": [
           {
            "automargin": true,
            "type": "pie"
           }
          ],
          "scatter": [
           {
            "fillpattern": {
             "fillmode": "overlay",
             "size": 10,
             "solidity": 0.2
            },
            "type": "scatter"
           }
          ],
          "scatter3d": [
           {
            "line": {
             "colorbar": {
              "outlinewidth": 0,
              "ticks": ""
             }
            },
            "marker": {
             "colorbar": {
              "outlinewidth": 0,
              "ticks": ""
             }
            },
            "type": "scatter3d"
           }
          ],
          "scattercarpet": [
           {
            "marker": {
             "colorbar": {
              "outlinewidth": 0,
              "ticks": ""
             }
            },
            "type": "scattercarpet"
           }
          ],
          "scattergeo": [
           {
            "marker": {
             "colorbar": {
              "outlinewidth": 0,
              "ticks": ""
             }
            },
            "type": "scattergeo"
           }
          ],
          "scattergl": [
           {
            "marker": {
             "colorbar": {
              "outlinewidth": 0,
              "ticks": ""
             }
            },
            "type": "scattergl"
           }
          ],
          "scattermapbox": [
           {
            "marker": {
             "colorbar": {
              "outlinewidth": 0,
              "ticks": ""
             }
            },
            "type": "scattermapbox"
           }
          ],
          "scatterpolar": [
           {
            "marker": {
             "colorbar": {
              "outlinewidth": 0,
              "ticks": ""
             }
            },
            "type": "scatterpolar"
           }
          ],
          "scatterpolargl": [
           {
            "marker": {
             "colorbar": {
              "outlinewidth": 0,
              "ticks": ""
             }
            },
            "type": "scatterpolargl"
           }
          ],
          "scatterternary": [
           {
            "marker": {
             "colorbar": {
              "outlinewidth": 0,
              "ticks": ""
             }
            },
            "type": "scatterternary"
           }
          ],
          "surface": [
           {
            "colorbar": {
             "outlinewidth": 0,
             "ticks": ""
            },
            "colorscale": [
             [
              0,
              "#0d0887"
             ],
             [
              0.1111111111111111,
              "#46039f"
             ],
             [
              0.2222222222222222,
              "#7201a8"
             ],
             [
              0.3333333333333333,
              "#9c179e"
             ],
             [
              0.4444444444444444,
              "#bd3786"
             ],
             [
              0.5555555555555556,
              "#d8576b"
             ],
             [
              0.6666666666666666,
              "#ed7953"
             ],
             [
              0.7777777777777778,
              "#fb9f3a"
             ],
             [
              0.8888888888888888,
              "#fdca26"
             ],
             [
              1,
              "#f0f921"
             ]
            ],
            "type": "surface"
           }
          ],
          "table": [
           {
            "cells": {
             "fill": {
              "color": "#EBF0F8"
             },
             "line": {
              "color": "white"
             }
            },
            "header": {
             "fill": {
              "color": "#C8D4E3"
             },
             "line": {
              "color": "white"
             }
            },
            "type": "table"
           }
          ]
         },
         "layout": {
          "annotationdefaults": {
           "arrowcolor": "#2a3f5f",
           "arrowhead": 0,
           "arrowwidth": 1
          },
          "autotypenumbers": "strict",
          "coloraxis": {
           "colorbar": {
            "outlinewidth": 0,
            "ticks": ""
           }
          },
          "colorscale": {
           "diverging": [
            [
             0,
             "#8e0152"
            ],
            [
             0.1,
             "#c51b7d"
            ],
            [
             0.2,
             "#de77ae"
            ],
            [
             0.3,
             "#f1b6da"
            ],
            [
             0.4,
             "#fde0ef"
            ],
            [
             0.5,
             "#f7f7f7"
            ],
            [
             0.6,
             "#e6f5d0"
            ],
            [
             0.7,
             "#b8e186"
            ],
            [
             0.8,
             "#7fbc41"
            ],
            [
             0.9,
             "#4d9221"
            ],
            [
             1,
             "#276419"
            ]
           ],
           "sequential": [
            [
             0,
             "#0d0887"
            ],
            [
             0.1111111111111111,
             "#46039f"
            ],
            [
             0.2222222222222222,
             "#7201a8"
            ],
            [
             0.3333333333333333,
             "#9c179e"
            ],
            [
             0.4444444444444444,
             "#bd3786"
            ],
            [
             0.5555555555555556,
             "#d8576b"
            ],
            [
             0.6666666666666666,
             "#ed7953"
            ],
            [
             0.7777777777777778,
             "#fb9f3a"
            ],
            [
             0.8888888888888888,
             "#fdca26"
            ],
            [
             1,
             "#f0f921"
            ]
           ],
           "sequentialminus": [
            [
             0,
             "#0d0887"
            ],
            [
             0.1111111111111111,
             "#46039f"
            ],
            [
             0.2222222222222222,
             "#7201a8"
            ],
            [
             0.3333333333333333,
             "#9c179e"
            ],
            [
             0.4444444444444444,
             "#bd3786"
            ],
            [
             0.5555555555555556,
             "#d8576b"
            ],
            [
             0.6666666666666666,
             "#ed7953"
            ],
            [
             0.7777777777777778,
             "#fb9f3a"
            ],
            [
             0.8888888888888888,
             "#fdca26"
            ],
            [
             1,
             "#f0f921"
            ]
           ]
          },
          "colorway": [
           "#636efa",
           "#EF553B",
           "#00cc96",
           "#ab63fa",
           "#FFA15A",
           "#19d3f3",
           "#FF6692",
           "#B6E880",
           "#FF97FF",
           "#FECB52"
          ],
          "font": {
           "color": "#2a3f5f"
          },
          "geo": {
           "bgcolor": "white",
           "lakecolor": "white",
           "landcolor": "#E5ECF6",
           "showlakes": true,
           "showland": true,
           "subunitcolor": "white"
          },
          "hoverlabel": {
           "align": "left"
          },
          "hovermode": "closest",
          "mapbox": {
           "style": "light"
          },
          "paper_bgcolor": "white",
          "plot_bgcolor": "#E5ECF6",
          "polar": {
           "angularaxis": {
            "gridcolor": "white",
            "linecolor": "white",
            "ticks": ""
           },
           "bgcolor": "#E5ECF6",
           "radialaxis": {
            "gridcolor": "white",
            "linecolor": "white",
            "ticks": ""
           }
          },
          "scene": {
           "xaxis": {
            "backgroundcolor": "#E5ECF6",
            "gridcolor": "white",
            "gridwidth": 2,
            "linecolor": "white",
            "showbackground": true,
            "ticks": "",
            "zerolinecolor": "white"
           },
           "yaxis": {
            "backgroundcolor": "#E5ECF6",
            "gridcolor": "white",
            "gridwidth": 2,
            "linecolor": "white",
            "showbackground": true,
            "ticks": "",
            "zerolinecolor": "white"
           },
           "zaxis": {
            "backgroundcolor": "#E5ECF6",
            "gridcolor": "white",
            "gridwidth": 2,
            "linecolor": "white",
            "showbackground": true,
            "ticks": "",
            "zerolinecolor": "white"
           }
          },
          "shapedefaults": {
           "line": {
            "color": "#2a3f5f"
           }
          },
          "ternary": {
           "aaxis": {
            "gridcolor": "white",
            "linecolor": "white",
            "ticks": ""
           },
           "baxis": {
            "gridcolor": "white",
            "linecolor": "white",
            "ticks": ""
           },
           "bgcolor": "#E5ECF6",
           "caxis": {
            "gridcolor": "white",
            "linecolor": "white",
            "ticks": ""
           }
          },
          "title": {
           "x": 0.05
          },
          "xaxis": {
           "automargin": true,
           "gridcolor": "white",
           "linecolor": "white",
           "ticks": "",
           "title": {
            "standoff": 15
           },
           "zerolinecolor": "white",
           "zerolinewidth": 2
          },
          "yaxis": {
           "automargin": true,
           "gridcolor": "white",
           "linecolor": "white",
           "ticks": "",
           "title": {
            "standoff": 15
           },
           "zerolinecolor": "white",
           "zerolinewidth": 2
          }
         }
        },
        "width": 800,
        "xaxis": {
         "anchor": "y",
         "domain": [
          0,
          1
         ],
         "title": {
          "text": "mechanism"
         }
        },
        "yaxis": {
         "anchor": "x",
         "domain": [
          0,
          1
         ],
         "title": {
          "text": "Average data weights"
         }
        }
       }
      }
     },
     "metadata": {},
     "output_type": "display_data"
    }
   ],
   "source": [
    "### box plot of the average weights of data in the augmented set belonging or not to the original training set \n",
    "\n",
    "# rename columns and set x, y and color variables\n",
    "results_mechanisms_plot = results_mechanisms.rename(columns={\"avg_weight_aug_in_train\": \"from train\", \n",
    "                                   \"avg_weight_aug_NOT_in_train\": \"new data\"})\n",
    "color_columns_list = ['from train', 'new data']\n",
    "x_column = 'mechanism'\n",
    "\n",
    "# pivot table\n",
    "results_df_pivoted = results_mechanisms_plot[[x_column]+color_columns_list].melt(x_column, var_name='Color', value_name='Y').sort_values(by=[x_column])\n",
    "\n",
    "# box plot\n",
    "fig = px.box(results_df_pivoted, \n",
    "             x=x_column, y='Y', color='Color', \n",
    "             width=800, height=300, \n",
    "             labels={\n",
    "                 \"Y\": \"Average data weights\",\n",
    "                 \"Color\": \"\"\n",
    "             })\n",
    "fig.update_traces(quartilemethod=\"inclusive\") # or \"exclusive\", or \"linear\" by default\n",
    "\n",
    "# legend position\n",
    "fig.update_layout(legend=dict(\n",
    "    yanchor=\"top\",\n",
    "    y=0.60,\n",
    "    xanchor=\"left\",\n",
    "    x=0.01\n",
    "))\n",
    "\n",
    "# magin size\n",
    "fig.update_layout(\n",
    "    margin=dict(l=20, r=10, t=10, b=10)\n",
    ")\n",
    "\n",
    "fig.show()"
   ]
  },
  {
   "attachments": {},
   "cell_type": "markdown",
   "metadata": {},
   "source": [
    "## SCM noise"
   ]
  },
  {
   "cell_type": "code",
   "execution_count": 24,
   "metadata": {},
   "outputs": [],
   "source": [
    "if use_paper_results:\n",
    "    folder_to_res = 'paper_results'\n",
    "else:\n",
    "    folder_to_res = 'noise_coeff_variation'\n",
    "\n",
    "SCM_noise = pd.read_csv(folder_to_res + '/noise_coeff_res.csv')"
   ]
  },
  {
   "cell_type": "code",
   "execution_count": 52,
   "metadata": {},
   "outputs": [
    {
     "name": "stderr",
     "output_type": "stream",
     "text": [
      "C:\\Users\\AudreyPOINSOT\\AppData\\Local\\Temp\\ipykernel_21960\\1025098877.py:12: FutureWarning:\n",
      "\n",
      "['mechanism', 'predicted_variable', 'predicted_variable_node_type', 'variance_train_NOT_weighted', 'variance_aug_NOT_weighted', 'variance_aug_weighted'] did not aggregate successfully. If any error is raised this will raise in a future version of pandas. Drop these columns/ops to avoid this warning.\n",
      "\n"
     ]
    },
    {
     "data": {
      "application/vnd.plotly.v1+json": {
       "config": {
        "plotlyServerURL": "https://plot.ly"
       },
       "data": [
        {
         "fill": "toself",
         "fillcolor": "rgba(238,44,44,0.2)",
         "line": {
          "color": "rgba(255,255,255,0)"
         },
         "mode": "lines",
         "name": "std",
         "showlegend": true,
         "type": "scatter",
         "x": [
          0.1,
          0.2,
          0.4,
          0.6,
          0.8,
          1,
          1,
          0.8,
          0.6,
          0.4,
          0.2,
          0.1
         ],
         "y": [
          0.0000304468909393289,
          0.000029615606092469206,
          0.00002417745176680417,
          0.000045483257279498824,
          0.0001004273661672783,
          0.0000495609793910335,
          -0.0000017814445274236315,
          -0.000028352140902898008,
          -0.000007715740605910529,
          0.0000033362974985984726,
          0.000003994851578551605,
          0.000002490091709711936
         ]
        },
        {
         "line": {
          "color": "rgb(238,44,44)"
         },
         "mode": "lines",
         "name": "mean",
         "showlegend": true,
         "type": "scatter",
         "x": [
          0.1,
          0.2,
          0.4,
          0.6,
          0.8,
          1
         ],
         "y": [
          0.000016468491324520418,
          0.000016805228835510405,
          0.000013756874632701322,
          0.000018883758336794146,
          0.00003603761263219014,
          0.000023889767431804934
         ]
        },
        {
         "line": {
          "color": "rgb(238,44,44)",
          "dash": "dot"
         },
         "mode": "lines",
         "name": "median",
         "showlegend": true,
         "type": "scatter",
         "x": [
          0.1,
          0.2,
          0.4,
          0.6,
          0.8,
          1
         ],
         "y": [
          0.00001115980696885409,
          0.00001672296439436499,
          0.00001059737232539688,
          0.000008837870561860939,
          0.00001582407498768079,
          0.00001580411693483833
         ]
        }
       ],
       "layout": {
        "height": 300,
        "legend": {
         "x": 0.01,
         "xanchor": "left",
         "y": 0.99,
         "yanchor": "top"
        },
        "margin": {
         "b": 10,
         "l": 20,
         "r": 10,
         "t": 10
        },
        "template": {
         "data": {
          "bar": [
           {
            "error_x": {
             "color": "#2a3f5f"
            },
            "error_y": {
             "color": "#2a3f5f"
            },
            "marker": {
             "line": {
              "color": "#E5ECF6",
              "width": 0.5
             },
             "pattern": {
              "fillmode": "overlay",
              "size": 10,
              "solidity": 0.2
             }
            },
            "type": "bar"
           }
          ],
          "barpolar": [
           {
            "marker": {
             "line": {
              "color": "#E5ECF6",
              "width": 0.5
             },
             "pattern": {
              "fillmode": "overlay",
              "size": 10,
              "solidity": 0.2
             }
            },
            "type": "barpolar"
           }
          ],
          "carpet": [
           {
            "aaxis": {
             "endlinecolor": "#2a3f5f",
             "gridcolor": "white",
             "linecolor": "white",
             "minorgridcolor": "white",
             "startlinecolor": "#2a3f5f"
            },
            "baxis": {
             "endlinecolor": "#2a3f5f",
             "gridcolor": "white",
             "linecolor": "white",
             "minorgridcolor": "white",
             "startlinecolor": "#2a3f5f"
            },
            "type": "carpet"
           }
          ],
          "choropleth": [
           {
            "colorbar": {
             "outlinewidth": 0,
             "ticks": ""
            },
            "type": "choropleth"
           }
          ],
          "contour": [
           {
            "colorbar": {
             "outlinewidth": 0,
             "ticks": ""
            },
            "colorscale": [
             [
              0,
              "#0d0887"
             ],
             [
              0.1111111111111111,
              "#46039f"
             ],
             [
              0.2222222222222222,
              "#7201a8"
             ],
             [
              0.3333333333333333,
              "#9c179e"
             ],
             [
              0.4444444444444444,
              "#bd3786"
             ],
             [
              0.5555555555555556,
              "#d8576b"
             ],
             [
              0.6666666666666666,
              "#ed7953"
             ],
             [
              0.7777777777777778,
              "#fb9f3a"
             ],
             [
              0.8888888888888888,
              "#fdca26"
             ],
             [
              1,
              "#f0f921"
             ]
            ],
            "type": "contour"
           }
          ],
          "contourcarpet": [
           {
            "colorbar": {
             "outlinewidth": 0,
             "ticks": ""
            },
            "type": "contourcarpet"
           }
          ],
          "heatmap": [
           {
            "colorbar": {
             "outlinewidth": 0,
             "ticks": ""
            },
            "colorscale": [
             [
              0,
              "#0d0887"
             ],
             [
              0.1111111111111111,
              "#46039f"
             ],
             [
              0.2222222222222222,
              "#7201a8"
             ],
             [
              0.3333333333333333,
              "#9c179e"
             ],
             [
              0.4444444444444444,
              "#bd3786"
             ],
             [
              0.5555555555555556,
              "#d8576b"
             ],
             [
              0.6666666666666666,
              "#ed7953"
             ],
             [
              0.7777777777777778,
              "#fb9f3a"
             ],
             [
              0.8888888888888888,
              "#fdca26"
             ],
             [
              1,
              "#f0f921"
             ]
            ],
            "type": "heatmap"
           }
          ],
          "heatmapgl": [
           {
            "colorbar": {
             "outlinewidth": 0,
             "ticks": ""
            },
            "colorscale": [
             [
              0,
              "#0d0887"
             ],
             [
              0.1111111111111111,
              "#46039f"
             ],
             [
              0.2222222222222222,
              "#7201a8"
             ],
             [
              0.3333333333333333,
              "#9c179e"
             ],
             [
              0.4444444444444444,
              "#bd3786"
             ],
             [
              0.5555555555555556,
              "#d8576b"
             ],
             [
              0.6666666666666666,
              "#ed7953"
             ],
             [
              0.7777777777777778,
              "#fb9f3a"
             ],
             [
              0.8888888888888888,
              "#fdca26"
             ],
             [
              1,
              "#f0f921"
             ]
            ],
            "type": "heatmapgl"
           }
          ],
          "histogram": [
           {
            "marker": {
             "pattern": {
              "fillmode": "overlay",
              "size": 10,
              "solidity": 0.2
             }
            },
            "type": "histogram"
           }
          ],
          "histogram2d": [
           {
            "colorbar": {
             "outlinewidth": 0,
             "ticks": ""
            },
            "colorscale": [
             [
              0,
              "#0d0887"
             ],
             [
              0.1111111111111111,
              "#46039f"
             ],
             [
              0.2222222222222222,
              "#7201a8"
             ],
             [
              0.3333333333333333,
              "#9c179e"
             ],
             [
              0.4444444444444444,
              "#bd3786"
             ],
             [
              0.5555555555555556,
              "#d8576b"
             ],
             [
              0.6666666666666666,
              "#ed7953"
             ],
             [
              0.7777777777777778,
              "#fb9f3a"
             ],
             [
              0.8888888888888888,
              "#fdca26"
             ],
             [
              1,
              "#f0f921"
             ]
            ],
            "type": "histogram2d"
           }
          ],
          "histogram2dcontour": [
           {
            "colorbar": {
             "outlinewidth": 0,
             "ticks": ""
            },
            "colorscale": [
             [
              0,
              "#0d0887"
             ],
             [
              0.1111111111111111,
              "#46039f"
             ],
             [
              0.2222222222222222,
              "#7201a8"
             ],
             [
              0.3333333333333333,
              "#9c179e"
             ],
             [
              0.4444444444444444,
              "#bd3786"
             ],
             [
              0.5555555555555556,
              "#d8576b"
             ],
             [
              0.6666666666666666,
              "#ed7953"
             ],
             [
              0.7777777777777778,
              "#fb9f3a"
             ],
             [
              0.8888888888888888,
              "#fdca26"
             ],
             [
              1,
              "#f0f921"
             ]
            ],
            "type": "histogram2dcontour"
           }
          ],
          "mesh3d": [
           {
            "colorbar": {
             "outlinewidth": 0,
             "ticks": ""
            },
            "type": "mesh3d"
           }
          ],
          "parcoords": [
           {
            "line": {
             "colorbar": {
              "outlinewidth": 0,
              "ticks": ""
             }
            },
            "type": "parcoords"
           }
          ],
          "pie": [
           {
            "automargin": true,
            "type": "pie"
           }
          ],
          "scatter": [
           {
            "fillpattern": {
             "fillmode": "overlay",
             "size": 10,
             "solidity": 0.2
            },
            "type": "scatter"
           }
          ],
          "scatter3d": [
           {
            "line": {
             "colorbar": {
              "outlinewidth": 0,
              "ticks": ""
             }
            },
            "marker": {
             "colorbar": {
              "outlinewidth": 0,
              "ticks": ""
             }
            },
            "type": "scatter3d"
           }
          ],
          "scattercarpet": [
           {
            "marker": {
             "colorbar": {
              "outlinewidth": 0,
              "ticks": ""
             }
            },
            "type": "scattercarpet"
           }
          ],
          "scattergeo": [
           {
            "marker": {
             "colorbar": {
              "outlinewidth": 0,
              "ticks": ""
             }
            },
            "type": "scattergeo"
           }
          ],
          "scattergl": [
           {
            "marker": {
             "colorbar": {
              "outlinewidth": 0,
              "ticks": ""
             }
            },
            "type": "scattergl"
           }
          ],
          "scattermapbox": [
           {
            "marker": {
             "colorbar": {
              "outlinewidth": 0,
              "ticks": ""
             }
            },
            "type": "scattermapbox"
           }
          ],
          "scatterpolar": [
           {
            "marker": {
             "colorbar": {
              "outlinewidth": 0,
              "ticks": ""
             }
            },
            "type": "scatterpolar"
           }
          ],
          "scatterpolargl": [
           {
            "marker": {
             "colorbar": {
              "outlinewidth": 0,
              "ticks": ""
             }
            },
            "type": "scatterpolargl"
           }
          ],
          "scatterternary": [
           {
            "marker": {
             "colorbar": {
              "outlinewidth": 0,
              "ticks": ""
             }
            },
            "type": "scatterternary"
           }
          ],
          "surface": [
           {
            "colorbar": {
             "outlinewidth": 0,
             "ticks": ""
            },
            "colorscale": [
             [
              0,
              "#0d0887"
             ],
             [
              0.1111111111111111,
              "#46039f"
             ],
             [
              0.2222222222222222,
              "#7201a8"
             ],
             [
              0.3333333333333333,
              "#9c179e"
             ],
             [
              0.4444444444444444,
              "#bd3786"
             ],
             [
              0.5555555555555556,
              "#d8576b"
             ],
             [
              0.6666666666666666,
              "#ed7953"
             ],
             [
              0.7777777777777778,
              "#fb9f3a"
             ],
             [
              0.8888888888888888,
              "#fdca26"
             ],
             [
              1,
              "#f0f921"
             ]
            ],
            "type": "surface"
           }
          ],
          "table": [
           {
            "cells": {
             "fill": {
              "color": "#EBF0F8"
             },
             "line": {
              "color": "white"
             }
            },
            "header": {
             "fill": {
              "color": "#C8D4E3"
             },
             "line": {
              "color": "white"
             }
            },
            "type": "table"
           }
          ]
         },
         "layout": {
          "annotationdefaults": {
           "arrowcolor": "#2a3f5f",
           "arrowhead": 0,
           "arrowwidth": 1
          },
          "autotypenumbers": "strict",
          "coloraxis": {
           "colorbar": {
            "outlinewidth": 0,
            "ticks": ""
           }
          },
          "colorscale": {
           "diverging": [
            [
             0,
             "#8e0152"
            ],
            [
             0.1,
             "#c51b7d"
            ],
            [
             0.2,
             "#de77ae"
            ],
            [
             0.3,
             "#f1b6da"
            ],
            [
             0.4,
             "#fde0ef"
            ],
            [
             0.5,
             "#f7f7f7"
            ],
            [
             0.6,
             "#e6f5d0"
            ],
            [
             0.7,
             "#b8e186"
            ],
            [
             0.8,
             "#7fbc41"
            ],
            [
             0.9,
             "#4d9221"
            ],
            [
             1,
             "#276419"
            ]
           ],
           "sequential": [
            [
             0,
             "#0d0887"
            ],
            [
             0.1111111111111111,
             "#46039f"
            ],
            [
             0.2222222222222222,
             "#7201a8"
            ],
            [
             0.3333333333333333,
             "#9c179e"
            ],
            [
             0.4444444444444444,
             "#bd3786"
            ],
            [
             0.5555555555555556,
             "#d8576b"
            ],
            [
             0.6666666666666666,
             "#ed7953"
            ],
            [
             0.7777777777777778,
             "#fb9f3a"
            ],
            [
             0.8888888888888888,
             "#fdca26"
            ],
            [
             1,
             "#f0f921"
            ]
           ],
           "sequentialminus": [
            [
             0,
             "#0d0887"
            ],
            [
             0.1111111111111111,
             "#46039f"
            ],
            [
             0.2222222222222222,
             "#7201a8"
            ],
            [
             0.3333333333333333,
             "#9c179e"
            ],
            [
             0.4444444444444444,
             "#bd3786"
            ],
            [
             0.5555555555555556,
             "#d8576b"
            ],
            [
             0.6666666666666666,
             "#ed7953"
            ],
            [
             0.7777777777777778,
             "#fb9f3a"
            ],
            [
             0.8888888888888888,
             "#fdca26"
            ],
            [
             1,
             "#f0f921"
            ]
           ]
          },
          "colorway": [
           "#636efa",
           "#EF553B",
           "#00cc96",
           "#ab63fa",
           "#FFA15A",
           "#19d3f3",
           "#FF6692",
           "#B6E880",
           "#FF97FF",
           "#FECB52"
          ],
          "font": {
           "color": "#2a3f5f"
          },
          "geo": {
           "bgcolor": "white",
           "lakecolor": "white",
           "landcolor": "#E5ECF6",
           "showlakes": true,
           "showland": true,
           "subunitcolor": "white"
          },
          "hoverlabel": {
           "align": "left"
          },
          "hovermode": "closest",
          "mapbox": {
           "style": "light"
          },
          "paper_bgcolor": "white",
          "plot_bgcolor": "#E5ECF6",
          "polar": {
           "angularaxis": {
            "gridcolor": "white",
            "linecolor": "white",
            "ticks": ""
           },
           "bgcolor": "#E5ECF6",
           "radialaxis": {
            "gridcolor": "white",
            "linecolor": "white",
            "ticks": ""
           }
          },
          "scene": {
           "xaxis": {
            "backgroundcolor": "#E5ECF6",
            "gridcolor": "white",
            "gridwidth": 2,
            "linecolor": "white",
            "showbackground": true,
            "ticks": "",
            "zerolinecolor": "white"
           },
           "yaxis": {
            "backgroundcolor": "#E5ECF6",
            "gridcolor": "white",
            "gridwidth": 2,
            "linecolor": "white",
            "showbackground": true,
            "ticks": "",
            "zerolinecolor": "white"
           },
           "zaxis": {
            "backgroundcolor": "#E5ECF6",
            "gridcolor": "white",
            "gridwidth": 2,
            "linecolor": "white",
            "showbackground": true,
            "ticks": "",
            "zerolinecolor": "white"
           }
          },
          "shapedefaults": {
           "line": {
            "color": "#2a3f5f"
           }
          },
          "ternary": {
           "aaxis": {
            "gridcolor": "white",
            "linecolor": "white",
            "ticks": ""
           },
           "baxis": {
            "gridcolor": "white",
            "linecolor": "white",
            "ticks": ""
           },
           "bgcolor": "#E5ECF6",
           "caxis": {
            "gridcolor": "white",
            "linecolor": "white",
            "ticks": ""
           }
          },
          "title": {
           "x": 0.05
          },
          "xaxis": {
           "automargin": true,
           "gridcolor": "white",
           "linecolor": "white",
           "ticks": "",
           "title": {
            "standoff": 15
           },
           "zerolinecolor": "white",
           "zerolinewidth": 2
          },
          "yaxis": {
           "automargin": true,
           "gridcolor": "white",
           "linecolor": "white",
           "ticks": "",
           "title": {
            "standoff": 15
           },
           "zerolinecolor": "white",
           "zerolinewidth": 2
          }
         }
        },
        "width": 800,
        "xaxis": {
         "title": {
          "text": "SCM noise level"
         }
        },
        "yaxis": {
         "title": {
          "text": "KL-divergence"
         }
        }
       }
      }
     },
     "metadata": {},
     "output_type": "display_data"
    }
   ],
   "source": [
    "# KL-divergence between original set and augmented set mean, median, std depending on the scm noise\n",
    "\n",
    "# set x, y and color variables\n",
    "color_columns_list=['KL_div_train_vs_aug_weighted']\n",
    "x_column = 'noise_coeff'\n",
    "\n",
    "# aggregate results\n",
    "res_tot = compute_stats_for_line_plot_paper(SCM_noise, [x_column], color_columns_list[0])\n",
    "\n",
    "# Figure\n",
    "fig = go.Figure()\n",
    "  \n",
    "### KL_div_train_vs_aug_weighted results\n",
    "# abscisse\n",
    "x = res_tot[x_column].tolist()\n",
    "x_rev = x[::-1]\n",
    "# Line 1\n",
    "y1 = res_tot['KL_div_train_vs_aug_weighted' + '_mean'].tolist()\n",
    "y1_upper = res_tot['KL_div_train_vs_aug_weighted' + '_upper'].tolist()\n",
    "y1_lower = res_tot['KL_div_train_vs_aug_weighted' + '_lower'].tolist()\n",
    "y1_lower = y1_lower[::-1]\n",
    "# Line 2\n",
    "y2 = res_tot['KL_div_train_vs_aug_weighted' + '_median'].tolist()\n",
    "\n",
    "fig.add_trace(go.Scatter(\n",
    "    x=x+x_rev,\n",
    "    y=y1_upper+y1_lower,\n",
    "    fill='toself',\n",
    "    fillcolor=transparent_color_list[0],\n",
    "    line_color='rgba(255,255,255,0)', \n",
    "    showlegend=True,\n",
    "    name='std'\n",
    "))\n",
    "fig.add_trace(go.Scatter(\n",
    "    x=x,\n",
    "    y=y1,\n",
    "    line_color=color_list[0],\n",
    "    showlegend=True,\n",
    "    name='mean'\n",
    "))\n",
    "fig.add_trace(go.Scatter(\n",
    "    x=x,\n",
    "    y=y2,\n",
    "    line_color=color_list[0],\n",
    "    line_dash='dot',\n",
    "    showlegend=True,\n",
    "    name='median'\n",
    "))\n",
    "fig.update_traces(mode='lines')\n",
    "\n",
    "# magin & size\n",
    "fig.update_layout(\n",
    "    margin=dict(l=20, r=10, t=10, b=10),\n",
    "    width=800,\n",
    "    height=300,\n",
    ")\n",
    "\n",
    "# legend position\n",
    "fig.update_layout(legend=dict(\n",
    "    yanchor=\"top\",\n",
    "    y=0.99,\n",
    "    xanchor=\"left\",\n",
    "    x=0.01\n",
    "))\n",
    "\n",
    "# axis titles\n",
    "fig.update_yaxes(title_text='KL-divergence')\n",
    "fig.update_xaxes(title_text='SCM noise level')\n",
    "\n",
    "fig.show()"
   ]
  },
  {
   "cell_type": "code",
   "execution_count": 26,
   "metadata": {},
   "outputs": [
    {
     "name": "stderr",
     "output_type": "stream",
     "text": [
      "C:\\Users\\AudreyPOINSOT\\AppData\\Local\\Temp\\ipykernel_21960\\1025098877.py:12: FutureWarning:\n",
      "\n",
      "['mechanism', 'predicted_variable', 'predicted_variable_node_type', 'variance_train_NOT_weighted', 'variance_aug_NOT_weighted', 'variance_aug_weighted'] did not aggregate successfully. If any error is raised this will raise in a future version of pandas. Drop these columns/ops to avoid this warning.\n",
      "\n",
      "C:\\Users\\AudreyPOINSOT\\AppData\\Local\\Temp\\ipykernel_21960\\1025098877.py:12: FutureWarning:\n",
      "\n",
      "['mechanism', 'predicted_variable', 'predicted_variable_node_type', 'variance_train_NOT_weighted', 'variance_aug_NOT_weighted', 'variance_aug_weighted'] did not aggregate successfully. If any error is raised this will raise in a future version of pandas. Drop these columns/ops to avoid this warning.\n",
      "\n"
     ]
    },
    {
     "data": {
      "application/vnd.plotly.v1+json": {
       "config": {
        "plotlyServerURL": "https://plot.ly"
       },
       "data": [
        {
         "line": {
          "color": "rgb(238,44,44)",
          "dash": "dot"
         },
         "mode": "lines",
         "name": "CausalDA",
         "type": "scatter",
         "x": [
          0.1,
          0.2,
          0.4,
          0.6,
          0.8,
          1
         ],
         "y": [
          0.9974871502536303,
          0.9916072649794528,
          0.9871668451590301,
          0.9796994080893041,
          0.9694165205754879,
          0.9493246187179296
         ]
        },
        {
         "line": {
          "color": "rgb(0,0,205)",
          "dash": "dot"
         },
         "mode": "lines",
         "name": "Baseline",
         "type": "scatter",
         "x": [
          0.1,
          0.2,
          0.4,
          0.6,
          0.8,
          1
         ],
         "y": [
          0.9963513677953026,
          0.9884848707892167,
          0.9794655457680573,
          0.9758572501161482,
          0.9659450423112794,
          0.9477619226209808
         ]
        }
       ],
       "layout": {
        "height": 300,
        "legend": {
         "x": 0.01,
         "xanchor": "left",
         "y": 0.01,
         "yanchor": "bottom"
        },
        "margin": {
         "b": 10,
         "l": 20,
         "r": 10,
         "t": 10
        },
        "template": {
         "data": {
          "bar": [
           {
            "error_x": {
             "color": "#2a3f5f"
            },
            "error_y": {
             "color": "#2a3f5f"
            },
            "marker": {
             "line": {
              "color": "#E5ECF6",
              "width": 0.5
             },
             "pattern": {
              "fillmode": "overlay",
              "size": 10,
              "solidity": 0.2
             }
            },
            "type": "bar"
           }
          ],
          "barpolar": [
           {
            "marker": {
             "line": {
              "color": "#E5ECF6",
              "width": 0.5
             },
             "pattern": {
              "fillmode": "overlay",
              "size": 10,
              "solidity": 0.2
             }
            },
            "type": "barpolar"
           }
          ],
          "carpet": [
           {
            "aaxis": {
             "endlinecolor": "#2a3f5f",
             "gridcolor": "white",
             "linecolor": "white",
             "minorgridcolor": "white",
             "startlinecolor": "#2a3f5f"
            },
            "baxis": {
             "endlinecolor": "#2a3f5f",
             "gridcolor": "white",
             "linecolor": "white",
             "minorgridcolor": "white",
             "startlinecolor": "#2a3f5f"
            },
            "type": "carpet"
           }
          ],
          "choropleth": [
           {
            "colorbar": {
             "outlinewidth": 0,
             "ticks": ""
            },
            "type": "choropleth"
           }
          ],
          "contour": [
           {
            "colorbar": {
             "outlinewidth": 0,
             "ticks": ""
            },
            "colorscale": [
             [
              0,
              "#0d0887"
             ],
             [
              0.1111111111111111,
              "#46039f"
             ],
             [
              0.2222222222222222,
              "#7201a8"
             ],
             [
              0.3333333333333333,
              "#9c179e"
             ],
             [
              0.4444444444444444,
              "#bd3786"
             ],
             [
              0.5555555555555556,
              "#d8576b"
             ],
             [
              0.6666666666666666,
              "#ed7953"
             ],
             [
              0.7777777777777778,
              "#fb9f3a"
             ],
             [
              0.8888888888888888,
              "#fdca26"
             ],
             [
              1,
              "#f0f921"
             ]
            ],
            "type": "contour"
           }
          ],
          "contourcarpet": [
           {
            "colorbar": {
             "outlinewidth": 0,
             "ticks": ""
            },
            "type": "contourcarpet"
           }
          ],
          "heatmap": [
           {
            "colorbar": {
             "outlinewidth": 0,
             "ticks": ""
            },
            "colorscale": [
             [
              0,
              "#0d0887"
             ],
             [
              0.1111111111111111,
              "#46039f"
             ],
             [
              0.2222222222222222,
              "#7201a8"
             ],
             [
              0.3333333333333333,
              "#9c179e"
             ],
             [
              0.4444444444444444,
              "#bd3786"
             ],
             [
              0.5555555555555556,
              "#d8576b"
             ],
             [
              0.6666666666666666,
              "#ed7953"
             ],
             [
              0.7777777777777778,
              "#fb9f3a"
             ],
             [
              0.8888888888888888,
              "#fdca26"
             ],
             [
              1,
              "#f0f921"
             ]
            ],
            "type": "heatmap"
           }
          ],
          "heatmapgl": [
           {
            "colorbar": {
             "outlinewidth": 0,
             "ticks": ""
            },
            "colorscale": [
             [
              0,
              "#0d0887"
             ],
             [
              0.1111111111111111,
              "#46039f"
             ],
             [
              0.2222222222222222,
              "#7201a8"
             ],
             [
              0.3333333333333333,
              "#9c179e"
             ],
             [
              0.4444444444444444,
              "#bd3786"
             ],
             [
              0.5555555555555556,
              "#d8576b"
             ],
             [
              0.6666666666666666,
              "#ed7953"
             ],
             [
              0.7777777777777778,
              "#fb9f3a"
             ],
             [
              0.8888888888888888,
              "#fdca26"
             ],
             [
              1,
              "#f0f921"
             ]
            ],
            "type": "heatmapgl"
           }
          ],
          "histogram": [
           {
            "marker": {
             "pattern": {
              "fillmode": "overlay",
              "size": 10,
              "solidity": 0.2
             }
            },
            "type": "histogram"
           }
          ],
          "histogram2d": [
           {
            "colorbar": {
             "outlinewidth": 0,
             "ticks": ""
            },
            "colorscale": [
             [
              0,
              "#0d0887"
             ],
             [
              0.1111111111111111,
              "#46039f"
             ],
             [
              0.2222222222222222,
              "#7201a8"
             ],
             [
              0.3333333333333333,
              "#9c179e"
             ],
             [
              0.4444444444444444,
              "#bd3786"
             ],
             [
              0.5555555555555556,
              "#d8576b"
             ],
             [
              0.6666666666666666,
              "#ed7953"
             ],
             [
              0.7777777777777778,
              "#fb9f3a"
             ],
             [
              0.8888888888888888,
              "#fdca26"
             ],
             [
              1,
              "#f0f921"
             ]
            ],
            "type": "histogram2d"
           }
          ],
          "histogram2dcontour": [
           {
            "colorbar": {
             "outlinewidth": 0,
             "ticks": ""
            },
            "colorscale": [
             [
              0,
              "#0d0887"
             ],
             [
              0.1111111111111111,
              "#46039f"
             ],
             [
              0.2222222222222222,
              "#7201a8"
             ],
             [
              0.3333333333333333,
              "#9c179e"
             ],
             [
              0.4444444444444444,
              "#bd3786"
             ],
             [
              0.5555555555555556,
              "#d8576b"
             ],
             [
              0.6666666666666666,
              "#ed7953"
             ],
             [
              0.7777777777777778,
              "#fb9f3a"
             ],
             [
              0.8888888888888888,
              "#fdca26"
             ],
             [
              1,
              "#f0f921"
             ]
            ],
            "type": "histogram2dcontour"
           }
          ],
          "mesh3d": [
           {
            "colorbar": {
             "outlinewidth": 0,
             "ticks": ""
            },
            "type": "mesh3d"
           }
          ],
          "parcoords": [
           {
            "line": {
             "colorbar": {
              "outlinewidth": 0,
              "ticks": ""
             }
            },
            "type": "parcoords"
           }
          ],
          "pie": [
           {
            "automargin": true,
            "type": "pie"
           }
          ],
          "scatter": [
           {
            "fillpattern": {
             "fillmode": "overlay",
             "size": 10,
             "solidity": 0.2
            },
            "type": "scatter"
           }
          ],
          "scatter3d": [
           {
            "line": {
             "colorbar": {
              "outlinewidth": 0,
              "ticks": ""
             }
            },
            "marker": {
             "colorbar": {
              "outlinewidth": 0,
              "ticks": ""
             }
            },
            "type": "scatter3d"
           }
          ],
          "scattercarpet": [
           {
            "marker": {
             "colorbar": {
              "outlinewidth": 0,
              "ticks": ""
             }
            },
            "type": "scattercarpet"
           }
          ],
          "scattergeo": [
           {
            "marker": {
             "colorbar": {
              "outlinewidth": 0,
              "ticks": ""
             }
            },
            "type": "scattergeo"
           }
          ],
          "scattergl": [
           {
            "marker": {
             "colorbar": {
              "outlinewidth": 0,
              "ticks": ""
             }
            },
            "type": "scattergl"
           }
          ],
          "scattermapbox": [
           {
            "marker": {
             "colorbar": {
              "outlinewidth": 0,
              "ticks": ""
             }
            },
            "type": "scattermapbox"
           }
          ],
          "scatterpolar": [
           {
            "marker": {
             "colorbar": {
              "outlinewidth": 0,
              "ticks": ""
             }
            },
            "type": "scatterpolar"
           }
          ],
          "scatterpolargl": [
           {
            "marker": {
             "colorbar": {
              "outlinewidth": 0,
              "ticks": ""
             }
            },
            "type": "scatterpolargl"
           }
          ],
          "scatterternary": [
           {
            "marker": {
             "colorbar": {
              "outlinewidth": 0,
              "ticks": ""
             }
            },
            "type": "scatterternary"
           }
          ],
          "surface": [
           {
            "colorbar": {
             "outlinewidth": 0,
             "ticks": ""
            },
            "colorscale": [
             [
              0,
              "#0d0887"
             ],
             [
              0.1111111111111111,
              "#46039f"
             ],
             [
              0.2222222222222222,
              "#7201a8"
             ],
             [
              0.3333333333333333,
              "#9c179e"
             ],
             [
              0.4444444444444444,
              "#bd3786"
             ],
             [
              0.5555555555555556,
              "#d8576b"
             ],
             [
              0.6666666666666666,
              "#ed7953"
             ],
             [
              0.7777777777777778,
              "#fb9f3a"
             ],
             [
              0.8888888888888888,
              "#fdca26"
             ],
             [
              1,
              "#f0f921"
             ]
            ],
            "type": "surface"
           }
          ],
          "table": [
           {
            "cells": {
             "fill": {
              "color": "#EBF0F8"
             },
             "line": {
              "color": "white"
             }
            },
            "header": {
             "fill": {
              "color": "#C8D4E3"
             },
             "line": {
              "color": "white"
             }
            },
            "type": "table"
           }
          ]
         },
         "layout": {
          "annotationdefaults": {
           "arrowcolor": "#2a3f5f",
           "arrowhead": 0,
           "arrowwidth": 1
          },
          "autotypenumbers": "strict",
          "coloraxis": {
           "colorbar": {
            "outlinewidth": 0,
            "ticks": ""
           }
          },
          "colorscale": {
           "diverging": [
            [
             0,
             "#8e0152"
            ],
            [
             0.1,
             "#c51b7d"
            ],
            [
             0.2,
             "#de77ae"
            ],
            [
             0.3,
             "#f1b6da"
            ],
            [
             0.4,
             "#fde0ef"
            ],
            [
             0.5,
             "#f7f7f7"
            ],
            [
             0.6,
             "#e6f5d0"
            ],
            [
             0.7,
             "#b8e186"
            ],
            [
             0.8,
             "#7fbc41"
            ],
            [
             0.9,
             "#4d9221"
            ],
            [
             1,
             "#276419"
            ]
           ],
           "sequential": [
            [
             0,
             "#0d0887"
            ],
            [
             0.1111111111111111,
             "#46039f"
            ],
            [
             0.2222222222222222,
             "#7201a8"
            ],
            [
             0.3333333333333333,
             "#9c179e"
            ],
            [
             0.4444444444444444,
             "#bd3786"
            ],
            [
             0.5555555555555556,
             "#d8576b"
            ],
            [
             0.6666666666666666,
             "#ed7953"
            ],
            [
             0.7777777777777778,
             "#fb9f3a"
            ],
            [
             0.8888888888888888,
             "#fdca26"
            ],
            [
             1,
             "#f0f921"
            ]
           ],
           "sequentialminus": [
            [
             0,
             "#0d0887"
            ],
            [
             0.1111111111111111,
             "#46039f"
            ],
            [
             0.2222222222222222,
             "#7201a8"
            ],
            [
             0.3333333333333333,
             "#9c179e"
            ],
            [
             0.4444444444444444,
             "#bd3786"
            ],
            [
             0.5555555555555556,
             "#d8576b"
            ],
            [
             0.6666666666666666,
             "#ed7953"
            ],
            [
             0.7777777777777778,
             "#fb9f3a"
            ],
            [
             0.8888888888888888,
             "#fdca26"
            ],
            [
             1,
             "#f0f921"
            ]
           ]
          },
          "colorway": [
           "#636efa",
           "#EF553B",
           "#00cc96",
           "#ab63fa",
           "#FFA15A",
           "#19d3f3",
           "#FF6692",
           "#B6E880",
           "#FF97FF",
           "#FECB52"
          ],
          "font": {
           "color": "#2a3f5f"
          },
          "geo": {
           "bgcolor": "white",
           "lakecolor": "white",
           "landcolor": "#E5ECF6",
           "showlakes": true,
           "showland": true,
           "subunitcolor": "white"
          },
          "hoverlabel": {
           "align": "left"
          },
          "hovermode": "closest",
          "mapbox": {
           "style": "light"
          },
          "paper_bgcolor": "white",
          "plot_bgcolor": "#E5ECF6",
          "polar": {
           "angularaxis": {
            "gridcolor": "white",
            "linecolor": "white",
            "ticks": ""
           },
           "bgcolor": "#E5ECF6",
           "radialaxis": {
            "gridcolor": "white",
            "linecolor": "white",
            "ticks": ""
           }
          },
          "scene": {
           "xaxis": {
            "backgroundcolor": "#E5ECF6",
            "gridcolor": "white",
            "gridwidth": 2,
            "linecolor": "white",
            "showbackground": true,
            "ticks": "",
            "zerolinecolor": "white"
           },
           "yaxis": {
            "backgroundcolor": "#E5ECF6",
            "gridcolor": "white",
            "gridwidth": 2,
            "linecolor": "white",
            "showbackground": true,
            "ticks": "",
            "zerolinecolor": "white"
           },
           "zaxis": {
            "backgroundcolor": "#E5ECF6",
            "gridcolor": "white",
            "gridwidth": 2,
            "linecolor": "white",
            "showbackground": true,
            "ticks": "",
            "zerolinecolor": "white"
           }
          },
          "shapedefaults": {
           "line": {
            "color": "#2a3f5f"
           }
          },
          "ternary": {
           "aaxis": {
            "gridcolor": "white",
            "linecolor": "white",
            "ticks": ""
           },
           "baxis": {
            "gridcolor": "white",
            "linecolor": "white",
            "ticks": ""
           },
           "bgcolor": "#E5ECF6",
           "caxis": {
            "gridcolor": "white",
            "linecolor": "white",
            "ticks": ""
           }
          },
          "title": {
           "x": 0.05
          },
          "xaxis": {
           "automargin": true,
           "gridcolor": "white",
           "linecolor": "white",
           "ticks": "",
           "title": {
            "standoff": 15
           },
           "zerolinecolor": "white",
           "zerolinewidth": 2
          },
          "yaxis": {
           "automargin": true,
           "gridcolor": "white",
           "linecolor": "white",
           "ticks": "",
           "title": {
            "standoff": 15
           },
           "zerolinecolor": "white",
           "zerolinewidth": 2
          }
         }
        },
        "width": 800,
        "xaxis": {
         "title": {
          "text": "SCM noise level"
         }
        },
        "yaxis": {
         "title": {
          "text": "R2 score"
         }
        }
       }
      }
     },
     "metadata": {},
     "output_type": "display_data"
    }
   ],
   "source": [
    "### XGB median R2 depending on the scm noise\n",
    "\n",
    "# set x, y and color variables\n",
    "color_columns_list=['r2_CausalDA', 'r2_Baseline']\n",
    "x_column = 'noise_coeff'\n",
    "\n",
    "# aggregate results\n",
    "res_tot = compute_stats_for_line_plot_paper(SCM_noise, [x_column], color_columns_list[0])\n",
    "res_col = compute_stats_for_line_plot_paper(SCM_noise, [x_column], color_columns_list[1])\n",
    "res_tot = res_tot.merge(res_col, how=\"left\", on=[x_column]).sort_values(by=[x_column])\n",
    "\n",
    "# Figure\n",
    "fig = go.Figure()\n",
    "  \n",
    "### CausalDA results\n",
    "# abscisse\n",
    "x = res_tot[x_column].tolist()\n",
    "x_rev = x[::-1]\n",
    "# Line 1\n",
    "y1 = res_tot['r2_CausalDA' + '_mean'].tolist()\n",
    "y1_upper = res_tot['r2_CausalDA' + '_upper'].tolist()\n",
    "y1_lower = res_tot['r2_CausalDA' + '_lower'].tolist()\n",
    "y1_lower = y1_lower[::-1]\n",
    "# Line 2\n",
    "y2 = res_tot['r2_CausalDA' + '_median'].tolist()\n",
    "\n",
    "fig.add_trace(go.Scatter(\n",
    "    x=x,\n",
    "    y=y2,\n",
    "    line_color=color_list[0],\n",
    "    line_dash='dot',\n",
    "    name='CausalDA',\n",
    "))\n",
    "fig.update_traces(mode='lines')\n",
    "\n",
    "### Baseline results\n",
    "# abscisse\n",
    "x = res_tot[x_column].tolist()\n",
    "x_rev = x[::-1]\n",
    "# Line 1\n",
    "y1 = res_tot['r2_Baseline' + '_mean'].tolist()\n",
    "y1_upper = res_tot['r2_Baseline' + '_upper'].tolist()\n",
    "y1_lower = res_tot['r2_Baseline' + '_lower'].tolist()\n",
    "y1_lower = y1_lower[::-1]\n",
    "# Line 2\n",
    "y2 = res_tot['r2_Baseline' + '_median'].tolist()\n",
    "\n",
    "fig.add_trace(go.Scatter(\n",
    "    x=x,\n",
    "    y=y2,\n",
    "    line_color=color_list[1],\n",
    "    line_dash='dot',\n",
    "    name='Baseline',\n",
    "))\n",
    "fig.update_traces(mode='lines')\n",
    "\n",
    "# legend position\n",
    "fig.update_layout(legend=dict(\n",
    "    yanchor=\"bottom\",\n",
    "    y=0.01,\n",
    "    xanchor=\"left\",\n",
    "    x=0.01\n",
    "))\n",
    "\n",
    "# magin & size\n",
    "fig.update_layout(\n",
    "    margin=dict(l=20, r=10, t=10, b=10),\n",
    "    width=800,\n",
    "    height=300,\n",
    ")\n",
    "\n",
    "# axis titles\n",
    "fig.update_yaxes(title_text='R2 score')\n",
    "fig.update_xaxes(title_text='SCM noise level')\n",
    "\n",
    "fig.show()"
   ]
  },
  {
   "cell_type": "code",
   "execution_count": 51,
   "metadata": {},
   "outputs": [
    {
     "name": "stderr",
     "output_type": "stream",
     "text": [
      "C:\\Users\\AudreyPOINSOT\\AppData\\Local\\Temp\\ipykernel_21960\\1025098877.py:12: FutureWarning:\n",
      "\n",
      "['predicted_variable_node_type'] did not aggregate successfully. If any error is raised this will raise in a future version of pandas. Drop these columns/ops to avoid this warning.\n",
      "\n"
     ]
    },
    {
     "data": {
      "application/vnd.plotly.v1+json": {
       "config": {
        "plotlyServerURL": "https://plot.ly"
       },
       "data": [
        {
         "fill": "toself",
         "fillcolor": "rgba(238,44,44,0.2)",
         "line": {
          "color": "rgba(255,255,255,0)"
         },
         "mode": "lines",
         "name": "std",
         "showlegend": true,
         "type": "scatter",
         "x": [
          0.1,
          0.2,
          0.4,
          0.6,
          0.8,
          1,
          1,
          0.8,
          0.6,
          0.4,
          0.2,
          0.1
         ],
         "y": [
          0.01388406238662512,
          0.018627023746174906,
          0.009998244990552284,
          0.02289677773944985,
          0.027066449880355708,
          0.012853249663252235,
          0.0002539905109312712,
          -0.00010152953163872214,
          -0.0043534414630796575,
          -0.0027419716238435182,
          -0.004410314190143921,
          -0.005948236775442262
         ]
        },
        {
         "line": {
          "color": "rgb(238,44,44)"
         },
         "mode": "lines",
         "name": "mean",
         "showlegend": true,
         "type": "scatter",
         "x": [
          0.1,
          0.2,
          0.4,
          0.6,
          0.8,
          1
         ],
         "y": [
          0.003967912805591429,
          0.007108354778015492,
          0.0036281366833543828,
          0.009271668138185096,
          0.013482460174358493,
          0.006553620087091753
         ]
        },
        {
         "line": {
          "color": "rgb(238,44,44)",
          "dash": "dot"
         },
         "mode": "lines",
         "name": "median",
         "showlegend": true,
         "type": "scatter",
         "x": [
          0.1,
          0.2,
          0.4,
          0.6,
          0.8,
          1
         ],
         "y": [
          0.00032660901556804664,
          0.00009458661936064669,
          0.0008828801228515709,
          0.0005964193120010554,
          0.012611896571787348,
          0.0068892554438924345
         ]
        }
       ],
       "layout": {
        "height": 300,
        "legend": {
         "x": 0.01,
         "xanchor": "left",
         "y": 0.99,
         "yanchor": "top"
        },
        "margin": {
         "b": 10,
         "l": 20,
         "r": 10,
         "t": 10
        },
        "template": {
         "data": {
          "bar": [
           {
            "error_x": {
             "color": "#2a3f5f"
            },
            "error_y": {
             "color": "#2a3f5f"
            },
            "marker": {
             "line": {
              "color": "#E5ECF6",
              "width": 0.5
             },
             "pattern": {
              "fillmode": "overlay",
              "size": 10,
              "solidity": 0.2
             }
            },
            "type": "bar"
           }
          ],
          "barpolar": [
           {
            "marker": {
             "line": {
              "color": "#E5ECF6",
              "width": 0.5
             },
             "pattern": {
              "fillmode": "overlay",
              "size": 10,
              "solidity": 0.2
             }
            },
            "type": "barpolar"
           }
          ],
          "carpet": [
           {
            "aaxis": {
             "endlinecolor": "#2a3f5f",
             "gridcolor": "white",
             "linecolor": "white",
             "minorgridcolor": "white",
             "startlinecolor": "#2a3f5f"
            },
            "baxis": {
             "endlinecolor": "#2a3f5f",
             "gridcolor": "white",
             "linecolor": "white",
             "minorgridcolor": "white",
             "startlinecolor": "#2a3f5f"
            },
            "type": "carpet"
           }
          ],
          "choropleth": [
           {
            "colorbar": {
             "outlinewidth": 0,
             "ticks": ""
            },
            "type": "choropleth"
           }
          ],
          "contour": [
           {
            "colorbar": {
             "outlinewidth": 0,
             "ticks": ""
            },
            "colorscale": [
             [
              0,
              "#0d0887"
             ],
             [
              0.1111111111111111,
              "#46039f"
             ],
             [
              0.2222222222222222,
              "#7201a8"
             ],
             [
              0.3333333333333333,
              "#9c179e"
             ],
             [
              0.4444444444444444,
              "#bd3786"
             ],
             [
              0.5555555555555556,
              "#d8576b"
             ],
             [
              0.6666666666666666,
              "#ed7953"
             ],
             [
              0.7777777777777778,
              "#fb9f3a"
             ],
             [
              0.8888888888888888,
              "#fdca26"
             ],
             [
              1,
              "#f0f921"
             ]
            ],
            "type": "contour"
           }
          ],
          "contourcarpet": [
           {
            "colorbar": {
             "outlinewidth": 0,
             "ticks": ""
            },
            "type": "contourcarpet"
           }
          ],
          "heatmap": [
           {
            "colorbar": {
             "outlinewidth": 0,
             "ticks": ""
            },
            "colorscale": [
             [
              0,
              "#0d0887"
             ],
             [
              0.1111111111111111,
              "#46039f"
             ],
             [
              0.2222222222222222,
              "#7201a8"
             ],
             [
              0.3333333333333333,
              "#9c179e"
             ],
             [
              0.4444444444444444,
              "#bd3786"
             ],
             [
              0.5555555555555556,
              "#d8576b"
             ],
             [
              0.6666666666666666,
              "#ed7953"
             ],
             [
              0.7777777777777778,
              "#fb9f3a"
             ],
             [
              0.8888888888888888,
              "#fdca26"
             ],
             [
              1,
              "#f0f921"
             ]
            ],
            "type": "heatmap"
           }
          ],
          "heatmapgl": [
           {
            "colorbar": {
             "outlinewidth": 0,
             "ticks": ""
            },
            "colorscale": [
             [
              0,
              "#0d0887"
             ],
             [
              0.1111111111111111,
              "#46039f"
             ],
             [
              0.2222222222222222,
              "#7201a8"
             ],
             [
              0.3333333333333333,
              "#9c179e"
             ],
             [
              0.4444444444444444,
              "#bd3786"
             ],
             [
              0.5555555555555556,
              "#d8576b"
             ],
             [
              0.6666666666666666,
              "#ed7953"
             ],
             [
              0.7777777777777778,
              "#fb9f3a"
             ],
             [
              0.8888888888888888,
              "#fdca26"
             ],
             [
              1,
              "#f0f921"
             ]
            ],
            "type": "heatmapgl"
           }
          ],
          "histogram": [
           {
            "marker": {
             "pattern": {
              "fillmode": "overlay",
              "size": 10,
              "solidity": 0.2
             }
            },
            "type": "histogram"
           }
          ],
          "histogram2d": [
           {
            "colorbar": {
             "outlinewidth": 0,
             "ticks": ""
            },
            "colorscale": [
             [
              0,
              "#0d0887"
             ],
             [
              0.1111111111111111,
              "#46039f"
             ],
             [
              0.2222222222222222,
              "#7201a8"
             ],
             [
              0.3333333333333333,
              "#9c179e"
             ],
             [
              0.4444444444444444,
              "#bd3786"
             ],
             [
              0.5555555555555556,
              "#d8576b"
             ],
             [
              0.6666666666666666,
              "#ed7953"
             ],
             [
              0.7777777777777778,
              "#fb9f3a"
             ],
             [
              0.8888888888888888,
              "#fdca26"
             ],
             [
              1,
              "#f0f921"
             ]
            ],
            "type": "histogram2d"
           }
          ],
          "histogram2dcontour": [
           {
            "colorbar": {
             "outlinewidth": 0,
             "ticks": ""
            },
            "colorscale": [
             [
              0,
              "#0d0887"
             ],
             [
              0.1111111111111111,
              "#46039f"
             ],
             [
              0.2222222222222222,
              "#7201a8"
             ],
             [
              0.3333333333333333,
              "#9c179e"
             ],
             [
              0.4444444444444444,
              "#bd3786"
             ],
             [
              0.5555555555555556,
              "#d8576b"
             ],
             [
              0.6666666666666666,
              "#ed7953"
             ],
             [
              0.7777777777777778,
              "#fb9f3a"
             ],
             [
              0.8888888888888888,
              "#fdca26"
             ],
             [
              1,
              "#f0f921"
             ]
            ],
            "type": "histogram2dcontour"
           }
          ],
          "mesh3d": [
           {
            "colorbar": {
             "outlinewidth": 0,
             "ticks": ""
            },
            "type": "mesh3d"
           }
          ],
          "parcoords": [
           {
            "line": {
             "colorbar": {
              "outlinewidth": 0,
              "ticks": ""
             }
            },
            "type": "parcoords"
           }
          ],
          "pie": [
           {
            "automargin": true,
            "type": "pie"
           }
          ],
          "scatter": [
           {
            "fillpattern": {
             "fillmode": "overlay",
             "size": 10,
             "solidity": 0.2
            },
            "type": "scatter"
           }
          ],
          "scatter3d": [
           {
            "line": {
             "colorbar": {
              "outlinewidth": 0,
              "ticks": ""
             }
            },
            "marker": {
             "colorbar": {
              "outlinewidth": 0,
              "ticks": ""
             }
            },
            "type": "scatter3d"
           }
          ],
          "scattercarpet": [
           {
            "marker": {
             "colorbar": {
              "outlinewidth": 0,
              "ticks": ""
             }
            },
            "type": "scattercarpet"
           }
          ],
          "scattergeo": [
           {
            "marker": {
             "colorbar": {
              "outlinewidth": 0,
              "ticks": ""
             }
            },
            "type": "scattergeo"
           }
          ],
          "scattergl": [
           {
            "marker": {
             "colorbar": {
              "outlinewidth": 0,
              "ticks": ""
             }
            },
            "type": "scattergl"
           }
          ],
          "scattermapbox": [
           {
            "marker": {
             "colorbar": {
              "outlinewidth": 0,
              "ticks": ""
             }
            },
            "type": "scattermapbox"
           }
          ],
          "scatterpolar": [
           {
            "marker": {
             "colorbar": {
              "outlinewidth": 0,
              "ticks": ""
             }
            },
            "type": "scatterpolar"
           }
          ],
          "scatterpolargl": [
           {
            "marker": {
             "colorbar": {
              "outlinewidth": 0,
              "ticks": ""
             }
            },
            "type": "scatterpolargl"
           }
          ],
          "scatterternary": [
           {
            "marker": {
             "colorbar": {
              "outlinewidth": 0,
              "ticks": ""
             }
            },
            "type": "scatterternary"
           }
          ],
          "surface": [
           {
            "colorbar": {
             "outlinewidth": 0,
             "ticks": ""
            },
            "colorscale": [
             [
              0,
              "#0d0887"
             ],
             [
              0.1111111111111111,
              "#46039f"
             ],
             [
              0.2222222222222222,
              "#7201a8"
             ],
             [
              0.3333333333333333,
              "#9c179e"
             ],
             [
              0.4444444444444444,
              "#bd3786"
             ],
             [
              0.5555555555555556,
              "#d8576b"
             ],
             [
              0.6666666666666666,
              "#ed7953"
             ],
             [
              0.7777777777777778,
              "#fb9f3a"
             ],
             [
              0.8888888888888888,
              "#fdca26"
             ],
             [
              1,
              "#f0f921"
             ]
            ],
            "type": "surface"
           }
          ],
          "table": [
           {
            "cells": {
             "fill": {
              "color": "#EBF0F8"
             },
             "line": {
              "color": "white"
             }
            },
            "header": {
             "fill": {
              "color": "#C8D4E3"
             },
             "line": {
              "color": "white"
             }
            },
            "type": "table"
           }
          ]
         },
         "layout": {
          "annotationdefaults": {
           "arrowcolor": "#2a3f5f",
           "arrowhead": 0,
           "arrowwidth": 1
          },
          "autotypenumbers": "strict",
          "coloraxis": {
           "colorbar": {
            "outlinewidth": 0,
            "ticks": ""
           }
          },
          "colorscale": {
           "diverging": [
            [
             0,
             "#8e0152"
            ],
            [
             0.1,
             "#c51b7d"
            ],
            [
             0.2,
             "#de77ae"
            ],
            [
             0.3,
             "#f1b6da"
            ],
            [
             0.4,
             "#fde0ef"
            ],
            [
             0.5,
             "#f7f7f7"
            ],
            [
             0.6,
             "#e6f5d0"
            ],
            [
             0.7,
             "#b8e186"
            ],
            [
             0.8,
             "#7fbc41"
            ],
            [
             0.9,
             "#4d9221"
            ],
            [
             1,
             "#276419"
            ]
           ],
           "sequential": [
            [
             0,
             "#0d0887"
            ],
            [
             0.1111111111111111,
             "#46039f"
            ],
            [
             0.2222222222222222,
             "#7201a8"
            ],
            [
             0.3333333333333333,
             "#9c179e"
            ],
            [
             0.4444444444444444,
             "#bd3786"
            ],
            [
             0.5555555555555556,
             "#d8576b"
            ],
            [
             0.6666666666666666,
             "#ed7953"
            ],
            [
             0.7777777777777778,
             "#fb9f3a"
            ],
            [
             0.8888888888888888,
             "#fdca26"
            ],
            [
             1,
             "#f0f921"
            ]
           ],
           "sequentialminus": [
            [
             0,
             "#0d0887"
            ],
            [
             0.1111111111111111,
             "#46039f"
            ],
            [
             0.2222222222222222,
             "#7201a8"
            ],
            [
             0.3333333333333333,
             "#9c179e"
            ],
            [
             0.4444444444444444,
             "#bd3786"
            ],
            [
             0.5555555555555556,
             "#d8576b"
            ],
            [
             0.6666666666666666,
             "#ed7953"
            ],
            [
             0.7777777777777778,
             "#fb9f3a"
            ],
            [
             0.8888888888888888,
             "#fdca26"
            ],
            [
             1,
             "#f0f921"
            ]
           ]
          },
          "colorway": [
           "#636efa",
           "#EF553B",
           "#00cc96",
           "#ab63fa",
           "#FFA15A",
           "#19d3f3",
           "#FF6692",
           "#B6E880",
           "#FF97FF",
           "#FECB52"
          ],
          "font": {
           "color": "#2a3f5f"
          },
          "geo": {
           "bgcolor": "white",
           "lakecolor": "white",
           "landcolor": "#E5ECF6",
           "showlakes": true,
           "showland": true,
           "subunitcolor": "white"
          },
          "hoverlabel": {
           "align": "left"
          },
          "hovermode": "closest",
          "mapbox": {
           "style": "light"
          },
          "paper_bgcolor": "white",
          "plot_bgcolor": "#E5ECF6",
          "polar": {
           "angularaxis": {
            "gridcolor": "white",
            "linecolor": "white",
            "ticks": ""
           },
           "bgcolor": "#E5ECF6",
           "radialaxis": {
            "gridcolor": "white",
            "linecolor": "white",
            "ticks": ""
           }
          },
          "scene": {
           "xaxis": {
            "backgroundcolor": "#E5ECF6",
            "gridcolor": "white",
            "gridwidth": 2,
            "linecolor": "white",
            "showbackground": true,
            "ticks": "",
            "zerolinecolor": "white"
           },
           "yaxis": {
            "backgroundcolor": "#E5ECF6",
            "gridcolor": "white",
            "gridwidth": 2,
            "linecolor": "white",
            "showbackground": true,
            "ticks": "",
            "zerolinecolor": "white"
           },
           "zaxis": {
            "backgroundcolor": "#E5ECF6",
            "gridcolor": "white",
            "gridwidth": 2,
            "linecolor": "white",
            "showbackground": true,
            "ticks": "",
            "zerolinecolor": "white"
           }
          },
          "shapedefaults": {
           "line": {
            "color": "#2a3f5f"
           }
          },
          "ternary": {
           "aaxis": {
            "gridcolor": "white",
            "linecolor": "white",
            "ticks": ""
           },
           "baxis": {
            "gridcolor": "white",
            "linecolor": "white",
            "ticks": ""
           },
           "bgcolor": "#E5ECF6",
           "caxis": {
            "gridcolor": "white",
            "linecolor": "white",
            "ticks": ""
           }
          },
          "title": {
           "x": 0.05
          },
          "xaxis": {
           "automargin": true,
           "gridcolor": "white",
           "linecolor": "white",
           "ticks": "",
           "title": {
            "standoff": 15
           },
           "zerolinecolor": "white",
           "zerolinewidth": 2
          },
          "yaxis": {
           "automargin": true,
           "gridcolor": "white",
           "linecolor": "white",
           "ticks": "",
           "title": {
            "standoff": 15
           },
           "zerolinecolor": "white",
           "zerolinewidth": 2
          }
         }
        },
        "width": 1600,
        "xaxis": {
         "title": {
          "text": "SCM noise level"
         }
        },
        "yaxis": {
         "title": {
          "text": "Mean relative difference in variance"
         }
        }
       }
      }
     },
     "metadata": {},
     "output_type": "display_data"
    }
   ],
   "source": [
    "# mean relative difference in varaince mean, median, std depending on the scm noise\n",
    "\n",
    "# set x, y and color variables\n",
    "color_columns_list=['relative_delta_var_weighted_mean']\n",
    "x_column = 'noise_coeff'\n",
    "\n",
    "# compute variance\n",
    "results_df_var = process_variance_features(SCM_noise)[[x_column, \n",
    "                                                       'predicted_variable_node_type',\n",
    "                                                       'relative_delta_var_weighted_mean',\n",
    "                                                       'relative_delta_var_NOT_weighted_mean',\n",
    "                                                       'relative_delta_var_NOT_weighted_median',\n",
    "                                                       'relative_delta_var_weighted_median'\n",
    "                                                      ]]\n",
    "\n",
    "# aggregate results\n",
    "res_tot = compute_stats_for_line_plot_paper(results_df_var, [x_column], color_columns_list[0])\n",
    "\n",
    "# Figure\n",
    "fig = go.Figure()\n",
    "  \n",
    "### relative_delta_var_weighted_mean results\n",
    "# abscisse\n",
    "x = res_tot[x_column].tolist()\n",
    "x_rev = x[::-1]\n",
    "# Line 1\n",
    "y1 = res_tot['relative_delta_var_weighted_mean' + '_mean'].tolist()\n",
    "y1_upper = res_tot['relative_delta_var_weighted_mean' + '_upper'].tolist()\n",
    "y1_lower = res_tot['relative_delta_var_weighted_mean' + '_lower'].tolist()\n",
    "y1_lower = y1_lower[::-1]\n",
    "# Line 2\n",
    "y2 = res_tot['relative_delta_var_weighted_mean' + '_median'].tolist()\n",
    "\n",
    "fig.add_trace(go.Scatter(\n",
    "    x=x+x_rev,\n",
    "    y=y1_upper+y1_lower,\n",
    "    fill='toself',\n",
    "    fillcolor=transparent_color_list[0],\n",
    "    line_color='rgba(255,255,255,0)', \n",
    "    showlegend=True,\n",
    "    name='std'\n",
    "))\n",
    "fig.add_trace(go.Scatter(\n",
    "    x=x,\n",
    "    y=y1,\n",
    "    line_color=color_list[0],\n",
    "    showlegend=True,\n",
    "    name='mean'\n",
    "))\n",
    "fig.add_trace(go.Scatter(\n",
    "    x=x,\n",
    "    y=y2,\n",
    "    line_color=color_list[0],\n",
    "    line_dash='dot',\n",
    "    showlegend=True,\n",
    "    name='median'\n",
    "))\n",
    "fig.update_traces(mode='lines')\n",
    "\n",
    "# magin & size\n",
    "fig.update_layout(\n",
    "    margin=dict(l=20, r=10, t=10, b=10),\n",
    "    width=1600,\n",
    "    height=300,\n",
    ")\n",
    "\n",
    "# legend position\n",
    "fig.update_layout(legend=dict(\n",
    "    yanchor=\"top\",\n",
    "    y=0.99,\n",
    "    xanchor=\"left\",\n",
    "    x=0.01\n",
    "))\n",
    "\n",
    "# axis titles\n",
    "fig.update_yaxes(title_text='Mean relative difference in variance')\n",
    "fig.update_xaxes(title_text='SCM noise level')\n",
    "\n",
    "fig.show()"
   ]
  },
  {
   "attachments": {},
   "cell_type": "markdown",
   "metadata": {},
   "source": [
    "## Causal graph density"
   ]
  },
  {
   "cell_type": "code",
   "execution_count": 28,
   "metadata": {},
   "outputs": [],
   "source": [
    "if use_paper_results:\n",
    "    folder_to_res = 'paper_results'\n",
    "else:\n",
    "    folder_to_res = 'graph_density_variation'\n",
    "\n",
    "densities = pd.read_csv(folder_to_res + '/graph_density_res.csv')"
   ]
  },
  {
   "cell_type": "code",
   "execution_count": 29,
   "metadata": {},
   "outputs": [
    {
     "name": "stderr",
     "output_type": "stream",
     "text": [
      "C:\\Users\\AudreyPOINSOT\\AppData\\Local\\Temp\\ipykernel_21960\\1025098877.py:12: FutureWarning:\n",
      "\n",
      "['mechanism', 'predicted_variable', 'predicted_variable_node_type', 'variance_train_NOT_weighted', 'variance_aug_NOT_weighted', 'variance_aug_weighted'] did not aggregate successfully. If any error is raised this will raise in a future version of pandas. Drop these columns/ops to avoid this warning.\n",
      "\n",
      "C:\\Users\\AudreyPOINSOT\\AppData\\Local\\Temp\\ipykernel_21960\\1025098877.py:12: FutureWarning:\n",
      "\n",
      "['mechanism', 'predicted_variable', 'predicted_variable_node_type', 'variance_train_NOT_weighted', 'variance_aug_NOT_weighted', 'variance_aug_weighted'] did not aggregate successfully. If any error is raised this will raise in a future version of pandas. Drop these columns/ops to avoid this warning.\n",
      "\n"
     ]
    },
    {
     "data": {
      "application/vnd.plotly.v1+json": {
       "config": {
        "plotlyServerURL": "https://plot.ly"
       },
       "data": [
        {
         "line": {
          "color": "rgb(238,44,44)",
          "dash": "dot"
         },
         "mode": "lines",
         "name": "CausalDA",
         "type": "scatter",
         "x": [
          0,
          1,
          2,
          3,
          4,
          5,
          6,
          7
         ],
         "y": [
          null,
          null,
          0.988625118937844,
          0.9796339470756201,
          0.9813245040080543,
          0.9812840040315409,
          0.9808081514899598,
          0.985147535192706
         ]
        },
        {
         "line": {
          "color": "rgb(0,0,205)",
          "dash": "dot"
         },
         "mode": "lines",
         "name": "Baseline",
         "type": "scatter",
         "x": [
          0,
          1,
          2,
          3,
          4,
          5,
          6,
          7
         ],
         "y": [
          0.7185669156192817,
          0.9514888955967518,
          0.9703595040136357,
          0.975557740031401,
          0.9798311339533086,
          0.9789654037137641,
          0.9804581749726096,
          0.9847596954931738
         ]
        }
       ],
       "layout": {
        "height": 300,
        "legend": {
         "x": 0.99,
         "xanchor": "right",
         "y": 0.9,
         "yanchor": "top"
        },
        "margin": {
         "b": 10,
         "l": 20,
         "r": 10,
         "t": 10
        },
        "template": {
         "data": {
          "bar": [
           {
            "error_x": {
             "color": "#2a3f5f"
            },
            "error_y": {
             "color": "#2a3f5f"
            },
            "marker": {
             "line": {
              "color": "#E5ECF6",
              "width": 0.5
             },
             "pattern": {
              "fillmode": "overlay",
              "size": 10,
              "solidity": 0.2
             }
            },
            "type": "bar"
           }
          ],
          "barpolar": [
           {
            "marker": {
             "line": {
              "color": "#E5ECF6",
              "width": 0.5
             },
             "pattern": {
              "fillmode": "overlay",
              "size": 10,
              "solidity": 0.2
             }
            },
            "type": "barpolar"
           }
          ],
          "carpet": [
           {
            "aaxis": {
             "endlinecolor": "#2a3f5f",
             "gridcolor": "white",
             "linecolor": "white",
             "minorgridcolor": "white",
             "startlinecolor": "#2a3f5f"
            },
            "baxis": {
             "endlinecolor": "#2a3f5f",
             "gridcolor": "white",
             "linecolor": "white",
             "minorgridcolor": "white",
             "startlinecolor": "#2a3f5f"
            },
            "type": "carpet"
           }
          ],
          "choropleth": [
           {
            "colorbar": {
             "outlinewidth": 0,
             "ticks": ""
            },
            "type": "choropleth"
           }
          ],
          "contour": [
           {
            "colorbar": {
             "outlinewidth": 0,
             "ticks": ""
            },
            "colorscale": [
             [
              0,
              "#0d0887"
             ],
             [
              0.1111111111111111,
              "#46039f"
             ],
             [
              0.2222222222222222,
              "#7201a8"
             ],
             [
              0.3333333333333333,
              "#9c179e"
             ],
             [
              0.4444444444444444,
              "#bd3786"
             ],
             [
              0.5555555555555556,
              "#d8576b"
             ],
             [
              0.6666666666666666,
              "#ed7953"
             ],
             [
              0.7777777777777778,
              "#fb9f3a"
             ],
             [
              0.8888888888888888,
              "#fdca26"
             ],
             [
              1,
              "#f0f921"
             ]
            ],
            "type": "contour"
           }
          ],
          "contourcarpet": [
           {
            "colorbar": {
             "outlinewidth": 0,
             "ticks": ""
            },
            "type": "contourcarpet"
           }
          ],
          "heatmap": [
           {
            "colorbar": {
             "outlinewidth": 0,
             "ticks": ""
            },
            "colorscale": [
             [
              0,
              "#0d0887"
             ],
             [
              0.1111111111111111,
              "#46039f"
             ],
             [
              0.2222222222222222,
              "#7201a8"
             ],
             [
              0.3333333333333333,
              "#9c179e"
             ],
             [
              0.4444444444444444,
              "#bd3786"
             ],
             [
              0.5555555555555556,
              "#d8576b"
             ],
             [
              0.6666666666666666,
              "#ed7953"
             ],
             [
              0.7777777777777778,
              "#fb9f3a"
             ],
             [
              0.8888888888888888,
              "#fdca26"
             ],
             [
              1,
              "#f0f921"
             ]
            ],
            "type": "heatmap"
           }
          ],
          "heatmapgl": [
           {
            "colorbar": {
             "outlinewidth": 0,
             "ticks": ""
            },
            "colorscale": [
             [
              0,
              "#0d0887"
             ],
             [
              0.1111111111111111,
              "#46039f"
             ],
             [
              0.2222222222222222,
              "#7201a8"
             ],
             [
              0.3333333333333333,
              "#9c179e"
             ],
             [
              0.4444444444444444,
              "#bd3786"
             ],
             [
              0.5555555555555556,
              "#d8576b"
             ],
             [
              0.6666666666666666,
              "#ed7953"
             ],
             [
              0.7777777777777778,
              "#fb9f3a"
             ],
             [
              0.8888888888888888,
              "#fdca26"
             ],
             [
              1,
              "#f0f921"
             ]
            ],
            "type": "heatmapgl"
           }
          ],
          "histogram": [
           {
            "marker": {
             "pattern": {
              "fillmode": "overlay",
              "size": 10,
              "solidity": 0.2
             }
            },
            "type": "histogram"
           }
          ],
          "histogram2d": [
           {
            "colorbar": {
             "outlinewidth": 0,
             "ticks": ""
            },
            "colorscale": [
             [
              0,
              "#0d0887"
             ],
             [
              0.1111111111111111,
              "#46039f"
             ],
             [
              0.2222222222222222,
              "#7201a8"
             ],
             [
              0.3333333333333333,
              "#9c179e"
             ],
             [
              0.4444444444444444,
              "#bd3786"
             ],
             [
              0.5555555555555556,
              "#d8576b"
             ],
             [
              0.6666666666666666,
              "#ed7953"
             ],
             [
              0.7777777777777778,
              "#fb9f3a"
             ],
             [
              0.8888888888888888,
              "#fdca26"
             ],
             [
              1,
              "#f0f921"
             ]
            ],
            "type": "histogram2d"
           }
          ],
          "histogram2dcontour": [
           {
            "colorbar": {
             "outlinewidth": 0,
             "ticks": ""
            },
            "colorscale": [
             [
              0,
              "#0d0887"
             ],
             [
              0.1111111111111111,
              "#46039f"
             ],
             [
              0.2222222222222222,
              "#7201a8"
             ],
             [
              0.3333333333333333,
              "#9c179e"
             ],
             [
              0.4444444444444444,
              "#bd3786"
             ],
             [
              0.5555555555555556,
              "#d8576b"
             ],
             [
              0.6666666666666666,
              "#ed7953"
             ],
             [
              0.7777777777777778,
              "#fb9f3a"
             ],
             [
              0.8888888888888888,
              "#fdca26"
             ],
             [
              1,
              "#f0f921"
             ]
            ],
            "type": "histogram2dcontour"
           }
          ],
          "mesh3d": [
           {
            "colorbar": {
             "outlinewidth": 0,
             "ticks": ""
            },
            "type": "mesh3d"
           }
          ],
          "parcoords": [
           {
            "line": {
             "colorbar": {
              "outlinewidth": 0,
              "ticks": ""
             }
            },
            "type": "parcoords"
           }
          ],
          "pie": [
           {
            "automargin": true,
            "type": "pie"
           }
          ],
          "scatter": [
           {
            "fillpattern": {
             "fillmode": "overlay",
             "size": 10,
             "solidity": 0.2
            },
            "type": "scatter"
           }
          ],
          "scatter3d": [
           {
            "line": {
             "colorbar": {
              "outlinewidth": 0,
              "ticks": ""
             }
            },
            "marker": {
             "colorbar": {
              "outlinewidth": 0,
              "ticks": ""
             }
            },
            "type": "scatter3d"
           }
          ],
          "scattercarpet": [
           {
            "marker": {
             "colorbar": {
              "outlinewidth": 0,
              "ticks": ""
             }
            },
            "type": "scattercarpet"
           }
          ],
          "scattergeo": [
           {
            "marker": {
             "colorbar": {
              "outlinewidth": 0,
              "ticks": ""
             }
            },
            "type": "scattergeo"
           }
          ],
          "scattergl": [
           {
            "marker": {
             "colorbar": {
              "outlinewidth": 0,
              "ticks": ""
             }
            },
            "type": "scattergl"
           }
          ],
          "scattermapbox": [
           {
            "marker": {
             "colorbar": {
              "outlinewidth": 0,
              "ticks": ""
             }
            },
            "type": "scattermapbox"
           }
          ],
          "scatterpolar": [
           {
            "marker": {
             "colorbar": {
              "outlinewidth": 0,
              "ticks": ""
             }
            },
            "type": "scatterpolar"
           }
          ],
          "scatterpolargl": [
           {
            "marker": {
             "colorbar": {
              "outlinewidth": 0,
              "ticks": ""
             }
            },
            "type": "scatterpolargl"
           }
          ],
          "scatterternary": [
           {
            "marker": {
             "colorbar": {
              "outlinewidth": 0,
              "ticks": ""
             }
            },
            "type": "scatterternary"
           }
          ],
          "surface": [
           {
            "colorbar": {
             "outlinewidth": 0,
             "ticks": ""
            },
            "colorscale": [
             [
              0,
              "#0d0887"
             ],
             [
              0.1111111111111111,
              "#46039f"
             ],
             [
              0.2222222222222222,
              "#7201a8"
             ],
             [
              0.3333333333333333,
              "#9c179e"
             ],
             [
              0.4444444444444444,
              "#bd3786"
             ],
             [
              0.5555555555555556,
              "#d8576b"
             ],
             [
              0.6666666666666666,
              "#ed7953"
             ],
             [
              0.7777777777777778,
              "#fb9f3a"
             ],
             [
              0.8888888888888888,
              "#fdca26"
             ],
             [
              1,
              "#f0f921"
             ]
            ],
            "type": "surface"
           }
          ],
          "table": [
           {
            "cells": {
             "fill": {
              "color": "#EBF0F8"
             },
             "line": {
              "color": "white"
             }
            },
            "header": {
             "fill": {
              "color": "#C8D4E3"
             },
             "line": {
              "color": "white"
             }
            },
            "type": "table"
           }
          ]
         },
         "layout": {
          "annotationdefaults": {
           "arrowcolor": "#2a3f5f",
           "arrowhead": 0,
           "arrowwidth": 1
          },
          "autotypenumbers": "strict",
          "coloraxis": {
           "colorbar": {
            "outlinewidth": 0,
            "ticks": ""
           }
          },
          "colorscale": {
           "diverging": [
            [
             0,
             "#8e0152"
            ],
            [
             0.1,
             "#c51b7d"
            ],
            [
             0.2,
             "#de77ae"
            ],
            [
             0.3,
             "#f1b6da"
            ],
            [
             0.4,
             "#fde0ef"
            ],
            [
             0.5,
             "#f7f7f7"
            ],
            [
             0.6,
             "#e6f5d0"
            ],
            [
             0.7,
             "#b8e186"
            ],
            [
             0.8,
             "#7fbc41"
            ],
            [
             0.9,
             "#4d9221"
            ],
            [
             1,
             "#276419"
            ]
           ],
           "sequential": [
            [
             0,
             "#0d0887"
            ],
            [
             0.1111111111111111,
             "#46039f"
            ],
            [
             0.2222222222222222,
             "#7201a8"
            ],
            [
             0.3333333333333333,
             "#9c179e"
            ],
            [
             0.4444444444444444,
             "#bd3786"
            ],
            [
             0.5555555555555556,
             "#d8576b"
            ],
            [
             0.6666666666666666,
             "#ed7953"
            ],
            [
             0.7777777777777778,
             "#fb9f3a"
            ],
            [
             0.8888888888888888,
             "#fdca26"
            ],
            [
             1,
             "#f0f921"
            ]
           ],
           "sequentialminus": [
            [
             0,
             "#0d0887"
            ],
            [
             0.1111111111111111,
             "#46039f"
            ],
            [
             0.2222222222222222,
             "#7201a8"
            ],
            [
             0.3333333333333333,
             "#9c179e"
            ],
            [
             0.4444444444444444,
             "#bd3786"
            ],
            [
             0.5555555555555556,
             "#d8576b"
            ],
            [
             0.6666666666666666,
             "#ed7953"
            ],
            [
             0.7777777777777778,
             "#fb9f3a"
            ],
            [
             0.8888888888888888,
             "#fdca26"
            ],
            [
             1,
             "#f0f921"
            ]
           ]
          },
          "colorway": [
           "#636efa",
           "#EF553B",
           "#00cc96",
           "#ab63fa",
           "#FFA15A",
           "#19d3f3",
           "#FF6692",
           "#B6E880",
           "#FF97FF",
           "#FECB52"
          ],
          "font": {
           "color": "#2a3f5f"
          },
          "geo": {
           "bgcolor": "white",
           "lakecolor": "white",
           "landcolor": "#E5ECF6",
           "showlakes": true,
           "showland": true,
           "subunitcolor": "white"
          },
          "hoverlabel": {
           "align": "left"
          },
          "hovermode": "closest",
          "mapbox": {
           "style": "light"
          },
          "paper_bgcolor": "white",
          "plot_bgcolor": "#E5ECF6",
          "polar": {
           "angularaxis": {
            "gridcolor": "white",
            "linecolor": "white",
            "ticks": ""
           },
           "bgcolor": "#E5ECF6",
           "radialaxis": {
            "gridcolor": "white",
            "linecolor": "white",
            "ticks": ""
           }
          },
          "scene": {
           "xaxis": {
            "backgroundcolor": "#E5ECF6",
            "gridcolor": "white",
            "gridwidth": 2,
            "linecolor": "white",
            "showbackground": true,
            "ticks": "",
            "zerolinecolor": "white"
           },
           "yaxis": {
            "backgroundcolor": "#E5ECF6",
            "gridcolor": "white",
            "gridwidth": 2,
            "linecolor": "white",
            "showbackground": true,
            "ticks": "",
            "zerolinecolor": "white"
           },
           "zaxis": {
            "backgroundcolor": "#E5ECF6",
            "gridcolor": "white",
            "gridwidth": 2,
            "linecolor": "white",
            "showbackground": true,
            "ticks": "",
            "zerolinecolor": "white"
           }
          },
          "shapedefaults": {
           "line": {
            "color": "#2a3f5f"
           }
          },
          "ternary": {
           "aaxis": {
            "gridcolor": "white",
            "linecolor": "white",
            "ticks": ""
           },
           "baxis": {
            "gridcolor": "white",
            "linecolor": "white",
            "ticks": ""
           },
           "bgcolor": "#E5ECF6",
           "caxis": {
            "gridcolor": "white",
            "linecolor": "white",
            "ticks": ""
           }
          },
          "title": {
           "x": 0.05
          },
          "xaxis": {
           "automargin": true,
           "gridcolor": "white",
           "linecolor": "white",
           "ticks": "",
           "title": {
            "standoff": 15
           },
           "zerolinecolor": "white",
           "zerolinewidth": 2
          },
          "yaxis": {
           "automargin": true,
           "gridcolor": "white",
           "linecolor": "white",
           "ticks": "",
           "title": {
            "standoff": 15
           },
           "zerolinecolor": "white",
           "zerolinewidth": 2
          }
         }
        },
        "width": 1600,
        "xaxis": {
         "title": {
          "text": "causal graph expected degree"
         }
        },
        "yaxis": {
         "title": {
          "text": "R2 score"
         }
        }
       }
      }
     },
     "metadata": {},
     "output_type": "display_data"
    }
   ],
   "source": [
    "### XGB median R2 depending on the causal graph expected degree\n",
    "\n",
    "# set x, y and color variables\n",
    "color_columns_list=['r2_CausalDA', 'r2_Baseline']\n",
    "x_column = 'expected_degree'\n",
    "\n",
    "# aggregate results\n",
    "res_tot = compute_stats_for_line_plot_paper(densities, [x_column], color_columns_list[0])\n",
    "res_col = compute_stats_for_line_plot_paper(densities, [x_column], color_columns_list[1])\n",
    "res_tot = res_tot.merge(res_col, how=\"left\", on=[x_column]).sort_values(by=[x_column])\n",
    "\n",
    "# Figure\n",
    "fig = go.Figure()\n",
    "  \n",
    "### CausalDA results\n",
    "# abscisse\n",
    "x = res_tot[x_column].tolist()\n",
    "x_rev = x[::-1]\n",
    "# Line 1\n",
    "y1 = res_tot['r2_CausalDA' + '_mean'].tolist()\n",
    "y1_upper = res_tot['r2_CausalDA' + '_upper'].tolist()\n",
    "y1_lower = res_tot['r2_CausalDA' + '_lower'].tolist()\n",
    "y1_lower = y1_lower[::-1]\n",
    "# Line 2\n",
    "y2 = res_tot['r2_CausalDA' + '_median'].tolist()\n",
    "\n",
    "fig.add_trace(go.Scatter(\n",
    "    x=x,\n",
    "    y=y2,\n",
    "    line_color=color_list[0],\n",
    "    line_dash='dot',\n",
    "    name='CausalDA',\n",
    "))\n",
    "fig.update_traces(mode='lines')\n",
    "\n",
    "### Baseline results\n",
    "# abscisse\n",
    "x = res_tot[x_column].tolist()\n",
    "x_rev = x[::-1]\n",
    "# Line 1\n",
    "y1 = res_tot['r2_Baseline' + '_mean'].tolist()\n",
    "y1_upper = res_tot['r2_Baseline' + '_upper'].tolist()\n",
    "y1_lower = res_tot['r2_Baseline' + '_lower'].tolist()\n",
    "y1_lower = y1_lower[::-1]\n",
    "# Line 2\n",
    "y2 = res_tot['r2_Baseline' + '_median'].tolist()\n",
    "\n",
    "fig.add_trace(go.Scatter(\n",
    "    x=x,\n",
    "    y=y2,\n",
    "    line_color=color_list[1],\n",
    "    line_dash='dot',\n",
    "    name='Baseline',\n",
    "))\n",
    "fig.update_traces(mode='lines')\n",
    "\n",
    "# legend position\n",
    "fig.update_layout(legend=dict(\n",
    "    yanchor=\"top\",\n",
    "    y=0.9,\n",
    "    xanchor=\"right\",\n",
    "    x=0.99\n",
    "))\n",
    "\n",
    "# magin & size\n",
    "fig.update_layout(\n",
    "    margin=dict(l=20, r=10, t=10, b=10),\n",
    "    width=1600,\n",
    "    height=300,\n",
    ")\n",
    "\n",
    "# axis titles\n",
    "fig.update_yaxes(title_text='R2 score')\n",
    "fig.update_xaxes(title_text='causal graph expected degree')\n",
    "\n",
    "fig.show()"
   ]
  },
  {
   "cell_type": "code",
   "execution_count": 50,
   "metadata": {},
   "outputs": [
    {
     "name": "stderr",
     "output_type": "stream",
     "text": [
      "C:\\Users\\AudreyPOINSOT\\AppData\\Local\\Temp\\ipykernel_21960\\1025098877.py:12: FutureWarning:\n",
      "\n",
      "['predicted_variable_node_type'] did not aggregate successfully. If any error is raised this will raise in a future version of pandas. Drop these columns/ops to avoid this warning.\n",
      "\n"
     ]
    },
    {
     "data": {
      "application/vnd.plotly.v1+json": {
       "config": {
        "plotlyServerURL": "https://plot.ly"
       },
       "data": [
        {
         "fill": "toself",
         "fillcolor": "rgba(238,44,44,0.2)",
         "line": {
          "color": "rgba(255,255,255,0)"
         },
         "mode": "lines",
         "name": "std",
         "showlegend": true,
         "type": "scatter",
         "x": [
          0,
          1,
          2,
          3,
          4,
          5,
          6,
          7,
          7,
          6,
          5,
          4,
          3,
          2,
          1,
          0
         ],
         "y": [
          null,
          null,
          0.028794006948644497,
          0.03045548663803077,
          0.023661393963669283,
          0.013072401448190288,
          0.010187493673445219,
          0.00020863254860634516,
          -0.00008643507246056128,
          -0.0028243713884422363,
          -0.010226804045585434,
          -0.0009806437334184438,
          -0.00730448771698884,
          0.028794006948644497,
          null,
          null
         ]
        },
        {
         "line": {
          "color": "rgb(238,44,44)"
         },
         "mode": "lines",
         "name": "mean",
         "showlegend": true,
         "type": "scatter",
         "x": [
          0,
          1,
          2,
          3,
          4,
          5,
          6,
          7
         ],
         "y": [
          null,
          null,
          0.028794006948644497,
          0.011575499460520966,
          0.01134037511512542,
          0.0014227987013024268,
          0.003681561142501491,
          0.00006109873807289194
         ]
        },
        {
         "line": {
          "color": "rgb(238,44,44)",
          "dash": "dot"
         },
         "mode": "lines",
         "name": "median",
         "showlegend": true,
         "type": "scatter",
         "x": [
          0,
          1,
          2,
          3,
          4,
          5,
          6,
          7
         ],
         "y": [
          null,
          null,
          0.028794006948644497,
          0.002988301383499387,
          0.015170265947927107,
          0.00013342145979771224,
          0.000053015265618677796,
          0.00004421680030796284
         ]
        }
       ],
       "layout": {
        "height": 300,
        "legend": {
         "x": 0.99,
         "xanchor": "right",
         "y": 0.99,
         "yanchor": "top"
        },
        "margin": {
         "b": 10,
         "l": 20,
         "r": 10,
         "t": 10
        },
        "template": {
         "data": {
          "bar": [
           {
            "error_x": {
             "color": "#2a3f5f"
            },
            "error_y": {
             "color": "#2a3f5f"
            },
            "marker": {
             "line": {
              "color": "#E5ECF6",
              "width": 0.5
             },
             "pattern": {
              "fillmode": "overlay",
              "size": 10,
              "solidity": 0.2
             }
            },
            "type": "bar"
           }
          ],
          "barpolar": [
           {
            "marker": {
             "line": {
              "color": "#E5ECF6",
              "width": 0.5
             },
             "pattern": {
              "fillmode": "overlay",
              "size": 10,
              "solidity": 0.2
             }
            },
            "type": "barpolar"
           }
          ],
          "carpet": [
           {
            "aaxis": {
             "endlinecolor": "#2a3f5f",
             "gridcolor": "white",
             "linecolor": "white",
             "minorgridcolor": "white",
             "startlinecolor": "#2a3f5f"
            },
            "baxis": {
             "endlinecolor": "#2a3f5f",
             "gridcolor": "white",
             "linecolor": "white",
             "minorgridcolor": "white",
             "startlinecolor": "#2a3f5f"
            },
            "type": "carpet"
           }
          ],
          "choropleth": [
           {
            "colorbar": {
             "outlinewidth": 0,
             "ticks": ""
            },
            "type": "choropleth"
           }
          ],
          "contour": [
           {
            "colorbar": {
             "outlinewidth": 0,
             "ticks": ""
            },
            "colorscale": [
             [
              0,
              "#0d0887"
             ],
             [
              0.1111111111111111,
              "#46039f"
             ],
             [
              0.2222222222222222,
              "#7201a8"
             ],
             [
              0.3333333333333333,
              "#9c179e"
             ],
             [
              0.4444444444444444,
              "#bd3786"
             ],
             [
              0.5555555555555556,
              "#d8576b"
             ],
             [
              0.6666666666666666,
              "#ed7953"
             ],
             [
              0.7777777777777778,
              "#fb9f3a"
             ],
             [
              0.8888888888888888,
              "#fdca26"
             ],
             [
              1,
              "#f0f921"
             ]
            ],
            "type": "contour"
           }
          ],
          "contourcarpet": [
           {
            "colorbar": {
             "outlinewidth": 0,
             "ticks": ""
            },
            "type": "contourcarpet"
           }
          ],
          "heatmap": [
           {
            "colorbar": {
             "outlinewidth": 0,
             "ticks": ""
            },
            "colorscale": [
             [
              0,
              "#0d0887"
             ],
             [
              0.1111111111111111,
              "#46039f"
             ],
             [
              0.2222222222222222,
              "#7201a8"
             ],
             [
              0.3333333333333333,
              "#9c179e"
             ],
             [
              0.4444444444444444,
              "#bd3786"
             ],
             [
              0.5555555555555556,
              "#d8576b"
             ],
             [
              0.6666666666666666,
              "#ed7953"
             ],
             [
              0.7777777777777778,
              "#fb9f3a"
             ],
             [
              0.8888888888888888,
              "#fdca26"
             ],
             [
              1,
              "#f0f921"
             ]
            ],
            "type": "heatmap"
           }
          ],
          "heatmapgl": [
           {
            "colorbar": {
             "outlinewidth": 0,
             "ticks": ""
            },
            "colorscale": [
             [
              0,
              "#0d0887"
             ],
             [
              0.1111111111111111,
              "#46039f"
             ],
             [
              0.2222222222222222,
              "#7201a8"
             ],
             [
              0.3333333333333333,
              "#9c179e"
             ],
             [
              0.4444444444444444,
              "#bd3786"
             ],
             [
              0.5555555555555556,
              "#d8576b"
             ],
             [
              0.6666666666666666,
              "#ed7953"
             ],
             [
              0.7777777777777778,
              "#fb9f3a"
             ],
             [
              0.8888888888888888,
              "#fdca26"
             ],
             [
              1,
              "#f0f921"
             ]
            ],
            "type": "heatmapgl"
           }
          ],
          "histogram": [
           {
            "marker": {
             "pattern": {
              "fillmode": "overlay",
              "size": 10,
              "solidity": 0.2
             }
            },
            "type": "histogram"
           }
          ],
          "histogram2d": [
           {
            "colorbar": {
             "outlinewidth": 0,
             "ticks": ""
            },
            "colorscale": [
             [
              0,
              "#0d0887"
             ],
             [
              0.1111111111111111,
              "#46039f"
             ],
             [
              0.2222222222222222,
              "#7201a8"
             ],
             [
              0.3333333333333333,
              "#9c179e"
             ],
             [
              0.4444444444444444,
              "#bd3786"
             ],
             [
              0.5555555555555556,
              "#d8576b"
             ],
             [
              0.6666666666666666,
              "#ed7953"
             ],
             [
              0.7777777777777778,
              "#fb9f3a"
             ],
             [
              0.8888888888888888,
              "#fdca26"
             ],
             [
              1,
              "#f0f921"
             ]
            ],
            "type": "histogram2d"
           }
          ],
          "histogram2dcontour": [
           {
            "colorbar": {
             "outlinewidth": 0,
             "ticks": ""
            },
            "colorscale": [
             [
              0,
              "#0d0887"
             ],
             [
              0.1111111111111111,
              "#46039f"
             ],
             [
              0.2222222222222222,
              "#7201a8"
             ],
             [
              0.3333333333333333,
              "#9c179e"
             ],
             [
              0.4444444444444444,
              "#bd3786"
             ],
             [
              0.5555555555555556,
              "#d8576b"
             ],
             [
              0.6666666666666666,
              "#ed7953"
             ],
             [
              0.7777777777777778,
              "#fb9f3a"
             ],
             [
              0.8888888888888888,
              "#fdca26"
             ],
             [
              1,
              "#f0f921"
             ]
            ],
            "type": "histogram2dcontour"
           }
          ],
          "mesh3d": [
           {
            "colorbar": {
             "outlinewidth": 0,
             "ticks": ""
            },
            "type": "mesh3d"
           }
          ],
          "parcoords": [
           {
            "line": {
             "colorbar": {
              "outlinewidth": 0,
              "ticks": ""
             }
            },
            "type": "parcoords"
           }
          ],
          "pie": [
           {
            "automargin": true,
            "type": "pie"
           }
          ],
          "scatter": [
           {
            "fillpattern": {
             "fillmode": "overlay",
             "size": 10,
             "solidity": 0.2
            },
            "type": "scatter"
           }
          ],
          "scatter3d": [
           {
            "line": {
             "colorbar": {
              "outlinewidth": 0,
              "ticks": ""
             }
            },
            "marker": {
             "colorbar": {
              "outlinewidth": 0,
              "ticks": ""
             }
            },
            "type": "scatter3d"
           }
          ],
          "scattercarpet": [
           {
            "marker": {
             "colorbar": {
              "outlinewidth": 0,
              "ticks": ""
             }
            },
            "type": "scattercarpet"
           }
          ],
          "scattergeo": [
           {
            "marker": {
             "colorbar": {
              "outlinewidth": 0,
              "ticks": ""
             }
            },
            "type": "scattergeo"
           }
          ],
          "scattergl": [
           {
            "marker": {
             "colorbar": {
              "outlinewidth": 0,
              "ticks": ""
             }
            },
            "type": "scattergl"
           }
          ],
          "scattermapbox": [
           {
            "marker": {
             "colorbar": {
              "outlinewidth": 0,
              "ticks": ""
             }
            },
            "type": "scattermapbox"
           }
          ],
          "scatterpolar": [
           {
            "marker": {
             "colorbar": {
              "outlinewidth": 0,
              "ticks": ""
             }
            },
            "type": "scatterpolar"
           }
          ],
          "scatterpolargl": [
           {
            "marker": {
             "colorbar": {
              "outlinewidth": 0,
              "ticks": ""
             }
            },
            "type": "scatterpolargl"
           }
          ],
          "scatterternary": [
           {
            "marker": {
             "colorbar": {
              "outlinewidth": 0,
              "ticks": ""
             }
            },
            "type": "scatterternary"
           }
          ],
          "surface": [
           {
            "colorbar": {
             "outlinewidth": 0,
             "ticks": ""
            },
            "colorscale": [
             [
              0,
              "#0d0887"
             ],
             [
              0.1111111111111111,
              "#46039f"
             ],
             [
              0.2222222222222222,
              "#7201a8"
             ],
             [
              0.3333333333333333,
              "#9c179e"
             ],
             [
              0.4444444444444444,
              "#bd3786"
             ],
             [
              0.5555555555555556,
              "#d8576b"
             ],
             [
              0.6666666666666666,
              "#ed7953"
             ],
             [
              0.7777777777777778,
              "#fb9f3a"
             ],
             [
              0.8888888888888888,
              "#fdca26"
             ],
             [
              1,
              "#f0f921"
             ]
            ],
            "type": "surface"
           }
          ],
          "table": [
           {
            "cells": {
             "fill": {
              "color": "#EBF0F8"
             },
             "line": {
              "color": "white"
             }
            },
            "header": {
             "fill": {
              "color": "#C8D4E3"
             },
             "line": {
              "color": "white"
             }
            },
            "type": "table"
           }
          ]
         },
         "layout": {
          "annotationdefaults": {
           "arrowcolor": "#2a3f5f",
           "arrowhead": 0,
           "arrowwidth": 1
          },
          "autotypenumbers": "strict",
          "coloraxis": {
           "colorbar": {
            "outlinewidth": 0,
            "ticks": ""
           }
          },
          "colorscale": {
           "diverging": [
            [
             0,
             "#8e0152"
            ],
            [
             0.1,
             "#c51b7d"
            ],
            [
             0.2,
             "#de77ae"
            ],
            [
             0.3,
             "#f1b6da"
            ],
            [
             0.4,
             "#fde0ef"
            ],
            [
             0.5,
             "#f7f7f7"
            ],
            [
             0.6,
             "#e6f5d0"
            ],
            [
             0.7,
             "#b8e186"
            ],
            [
             0.8,
             "#7fbc41"
            ],
            [
             0.9,
             "#4d9221"
            ],
            [
             1,
             "#276419"
            ]
           ],
           "sequential": [
            [
             0,
             "#0d0887"
            ],
            [
             0.1111111111111111,
             "#46039f"
            ],
            [
             0.2222222222222222,
             "#7201a8"
            ],
            [
             0.3333333333333333,
             "#9c179e"
            ],
            [
             0.4444444444444444,
             "#bd3786"
            ],
            [
             0.5555555555555556,
             "#d8576b"
            ],
            [
             0.6666666666666666,
             "#ed7953"
            ],
            [
             0.7777777777777778,
             "#fb9f3a"
            ],
            [
             0.8888888888888888,
             "#fdca26"
            ],
            [
             1,
             "#f0f921"
            ]
           ],
           "sequentialminus": [
            [
             0,
             "#0d0887"
            ],
            [
             0.1111111111111111,
             "#46039f"
            ],
            [
             0.2222222222222222,
             "#7201a8"
            ],
            [
             0.3333333333333333,
             "#9c179e"
            ],
            [
             0.4444444444444444,
             "#bd3786"
            ],
            [
             0.5555555555555556,
             "#d8576b"
            ],
            [
             0.6666666666666666,
             "#ed7953"
            ],
            [
             0.7777777777777778,
             "#fb9f3a"
            ],
            [
             0.8888888888888888,
             "#fdca26"
            ],
            [
             1,
             "#f0f921"
            ]
           ]
          },
          "colorway": [
           "#636efa",
           "#EF553B",
           "#00cc96",
           "#ab63fa",
           "#FFA15A",
           "#19d3f3",
           "#FF6692",
           "#B6E880",
           "#FF97FF",
           "#FECB52"
          ],
          "font": {
           "color": "#2a3f5f"
          },
          "geo": {
           "bgcolor": "white",
           "lakecolor": "white",
           "landcolor": "#E5ECF6",
           "showlakes": true,
           "showland": true,
           "subunitcolor": "white"
          },
          "hoverlabel": {
           "align": "left"
          },
          "hovermode": "closest",
          "mapbox": {
           "style": "light"
          },
          "paper_bgcolor": "white",
          "plot_bgcolor": "#E5ECF6",
          "polar": {
           "angularaxis": {
            "gridcolor": "white",
            "linecolor": "white",
            "ticks": ""
           },
           "bgcolor": "#E5ECF6",
           "radialaxis": {
            "gridcolor": "white",
            "linecolor": "white",
            "ticks": ""
           }
          },
          "scene": {
           "xaxis": {
            "backgroundcolor": "#E5ECF6",
            "gridcolor": "white",
            "gridwidth": 2,
            "linecolor": "white",
            "showbackground": true,
            "ticks": "",
            "zerolinecolor": "white"
           },
           "yaxis": {
            "backgroundcolor": "#E5ECF6",
            "gridcolor": "white",
            "gridwidth": 2,
            "linecolor": "white",
            "showbackground": true,
            "ticks": "",
            "zerolinecolor": "white"
           },
           "zaxis": {
            "backgroundcolor": "#E5ECF6",
            "gridcolor": "white",
            "gridwidth": 2,
            "linecolor": "white",
            "showbackground": true,
            "ticks": "",
            "zerolinecolor": "white"
           }
          },
          "shapedefaults": {
           "line": {
            "color": "#2a3f5f"
           }
          },
          "ternary": {
           "aaxis": {
            "gridcolor": "white",
            "linecolor": "white",
            "ticks": ""
           },
           "baxis": {
            "gridcolor": "white",
            "linecolor": "white",
            "ticks": ""
           },
           "bgcolor": "#E5ECF6",
           "caxis": {
            "gridcolor": "white",
            "linecolor": "white",
            "ticks": ""
           }
          },
          "title": {
           "x": 0.05
          },
          "xaxis": {
           "automargin": true,
           "gridcolor": "white",
           "linecolor": "white",
           "ticks": "",
           "title": {
            "standoff": 15
           },
           "zerolinecolor": "white",
           "zerolinewidth": 2
          },
          "yaxis": {
           "automargin": true,
           "gridcolor": "white",
           "linecolor": "white",
           "ticks": "",
           "title": {
            "standoff": 15
           },
           "zerolinecolor": "white",
           "zerolinewidth": 2
          }
         }
        },
        "width": 800,
        "xaxis": {
         "title": {
          "text": "causal graph expected degree"
         }
        },
        "yaxis": {
         "title": {
          "text": "Mean relative difference in variance"
         }
        }
       }
      }
     },
     "metadata": {},
     "output_type": "display_data"
    }
   ],
   "source": [
    "# mean relative difference in varaince mean, median, std depending on the causal graph expected degree\n",
    "\n",
    "# set x, y and color variables\n",
    "color_columns_list=['relative_delta_var_weighted_mean']\n",
    "x_column = 'expected_degree'\n",
    "\n",
    "# compute variance\n",
    "results_df_var = process_variance_features(densities)[[x_column, \n",
    "                                                       'predicted_variable_node_type',\n",
    "                                                       'relative_delta_var_weighted_mean',\n",
    "                                                       'relative_delta_var_NOT_weighted_mean',\n",
    "                                                       'relative_delta_var_NOT_weighted_median',\n",
    "                                                       'relative_delta_var_weighted_median'\n",
    "                                                      ]]\n",
    "\n",
    "# aggregate results\n",
    "res_tot = compute_stats_for_line_plot_paper(results_df_var, [x_column], color_columns_list[0])\n",
    "\n",
    "# Figure\n",
    "fig = go.Figure()\n",
    "  \n",
    "### relative_delta_var_weighted_mean results\n",
    "# abscisse\n",
    "x = res_tot[x_column].tolist()\n",
    "x_rev = x[::-1]\n",
    "# Line 1\n",
    "y1 = res_tot['relative_delta_var_weighted_mean' + '_mean'].tolist()\n",
    "y1_upper = res_tot['relative_delta_var_weighted_mean' + '_upper'].tolist()\n",
    "y1_lower = res_tot['relative_delta_var_weighted_mean' + '_lower'].tolist()\n",
    "y1_lower = y1_lower[::-1]\n",
    "# Line 2\n",
    "y2 = res_tot['relative_delta_var_weighted_mean' + '_median'].tolist()\n",
    "\n",
    "fig.add_trace(go.Scatter(\n",
    "    x=x+x_rev,\n",
    "    y=y1_upper+y1_lower,\n",
    "    fill='toself',\n",
    "    fillcolor=transparent_color_list[0],\n",
    "    line_color='rgba(255,255,255,0)', \n",
    "    showlegend=True,\n",
    "    name='std'\n",
    "))\n",
    "fig.add_trace(go.Scatter(\n",
    "    x=x,\n",
    "    y=y1,\n",
    "    line_color=color_list[0],\n",
    "    showlegend=True,\n",
    "    name='mean'\n",
    "))\n",
    "fig.add_trace(go.Scatter(\n",
    "    x=x,\n",
    "    y=y2,\n",
    "    line_color=color_list[0],\n",
    "    line_dash='dot',\n",
    "    showlegend=True,\n",
    "    name='median'\n",
    "))\n",
    "fig.update_traces(mode='lines')\n",
    "\n",
    "# magin & size\n",
    "fig.update_layout(\n",
    "    margin=dict(l=20, r=10, t=10, b=10),\n",
    "    width=800,\n",
    "    height=300,\n",
    ")\n",
    "\n",
    "# legend position\n",
    "fig.update_layout(legend=dict(\n",
    "    yanchor=\"top\",\n",
    "    y=0.99,\n",
    "    xanchor=\"right\",\n",
    "    x=0.99\n",
    "))\n",
    "\n",
    "# axis titles\n",
    "fig.update_yaxes(title_text='Mean relative difference in variance')\n",
    "fig.update_xaxes(title_text='causal graph expected degree')\n",
    "\n",
    "fig.show()"
   ]
  },
  {
   "cell_type": "code",
   "execution_count": 49,
   "metadata": {},
   "outputs": [
    {
     "name": "stderr",
     "output_type": "stream",
     "text": [
      "C:\\Users\\AudreyPOINSOT\\AppData\\Local\\Temp\\ipykernel_21960\\1025098877.py:12: FutureWarning:\n",
      "\n",
      "['mechanism', 'predicted_variable', 'predicted_variable_node_type', 'variance_train_NOT_weighted', 'variance_aug_NOT_weighted', 'variance_aug_weighted'] did not aggregate successfully. If any error is raised this will raise in a future version of pandas. Drop these columns/ops to avoid this warning.\n",
      "\n"
     ]
    },
    {
     "data": {
      "application/vnd.plotly.v1+json": {
       "config": {
        "plotlyServerURL": "https://plot.ly"
       },
       "data": [
        {
         "fill": "toself",
         "fillcolor": "rgba(238,44,44,0.2)",
         "line": {
          "color": "rgba(255,255,255,0)"
         },
         "mode": "lines",
         "name": "std",
         "showlegend": true,
         "type": "scatter",
         "x": [
          0,
          1,
          2,
          3,
          4,
          5,
          6,
          7,
          7,
          6,
          5,
          4,
          3,
          2,
          1,
          0
         ],
         "y": [
          null,
          null,
          0.3964880105367493,
          0.21107282717661618,
          0.15611595893950292,
          0.20130243764088018,
          0.20651964426660552,
          0.20802479262997872,
          0.09894276715028452,
          0.10698271109646747,
          0.11343475307552009,
          0.09019979244175691,
          0.12353272692593169,
          0.3964880105367493,
          null,
          null
         ]
        },
        {
         "line": {
          "color": "rgb(238,44,44)"
         },
         "mode": "lines",
         "name": "mean",
         "showlegend": true,
         "type": "scatter",
         "x": [
          0,
          1,
          2,
          3,
          4,
          5,
          6,
          7
         ],
         "y": [
          null,
          null,
          0.3964880105367493,
          0.16730277705127394,
          0.12315787569062991,
          0.15736859535820014,
          0.15675117768153649,
          0.15348377989013162
         ]
        },
        {
         "line": {
          "color": "rgb(238,44,44)",
          "dash": "dot"
         },
         "mode": "lines",
         "name": "median",
         "showlegend": true,
         "type": "scatter",
         "x": [
          0,
          1,
          2,
          3,
          4,
          5,
          6,
          7
         ],
         "y": [
          null,
          null,
          0.3964880105367493,
          0.17040044131324716,
          0.1269106568684259,
          0.16228511212645214,
          0.1357302027368294,
          0.13739194434122387
         ]
        }
       ],
       "layout": {
        "height": 300,
        "legend": {
         "x": 0.99,
         "xanchor": "right",
         "y": 0.99,
         "yanchor": "top"
        },
        "margin": {
         "b": 10,
         "l": 20,
         "r": 10,
         "t": 10
        },
        "template": {
         "data": {
          "bar": [
           {
            "error_x": {
             "color": "#2a3f5f"
            },
            "error_y": {
             "color": "#2a3f5f"
            },
            "marker": {
             "line": {
              "color": "#E5ECF6",
              "width": 0.5
             },
             "pattern": {
              "fillmode": "overlay",
              "size": 10,
              "solidity": 0.2
             }
            },
            "type": "bar"
           }
          ],
          "barpolar": [
           {
            "marker": {
             "line": {
              "color": "#E5ECF6",
              "width": 0.5
             },
             "pattern": {
              "fillmode": "overlay",
              "size": 10,
              "solidity": 0.2
             }
            },
            "type": "barpolar"
           }
          ],
          "carpet": [
           {
            "aaxis": {
             "endlinecolor": "#2a3f5f",
             "gridcolor": "white",
             "linecolor": "white",
             "minorgridcolor": "white",
             "startlinecolor": "#2a3f5f"
            },
            "baxis": {
             "endlinecolor": "#2a3f5f",
             "gridcolor": "white",
             "linecolor": "white",
             "minorgridcolor": "white",
             "startlinecolor": "#2a3f5f"
            },
            "type": "carpet"
           }
          ],
          "choropleth": [
           {
            "colorbar": {
             "outlinewidth": 0,
             "ticks": ""
            },
            "type": "choropleth"
           }
          ],
          "contour": [
           {
            "colorbar": {
             "outlinewidth": 0,
             "ticks": ""
            },
            "colorscale": [
             [
              0,
              "#0d0887"
             ],
             [
              0.1111111111111111,
              "#46039f"
             ],
             [
              0.2222222222222222,
              "#7201a8"
             ],
             [
              0.3333333333333333,
              "#9c179e"
             ],
             [
              0.4444444444444444,
              "#bd3786"
             ],
             [
              0.5555555555555556,
              "#d8576b"
             ],
             [
              0.6666666666666666,
              "#ed7953"
             ],
             [
              0.7777777777777778,
              "#fb9f3a"
             ],
             [
              0.8888888888888888,
              "#fdca26"
             ],
             [
              1,
              "#f0f921"
             ]
            ],
            "type": "contour"
           }
          ],
          "contourcarpet": [
           {
            "colorbar": {
             "outlinewidth": 0,
             "ticks": ""
            },
            "type": "contourcarpet"
           }
          ],
          "heatmap": [
           {
            "colorbar": {
             "outlinewidth": 0,
             "ticks": ""
            },
            "colorscale": [
             [
              0,
              "#0d0887"
             ],
             [
              0.1111111111111111,
              "#46039f"
             ],
             [
              0.2222222222222222,
              "#7201a8"
             ],
             [
              0.3333333333333333,
              "#9c179e"
             ],
             [
              0.4444444444444444,
              "#bd3786"
             ],
             [
              0.5555555555555556,
              "#d8576b"
             ],
             [
              0.6666666666666666,
              "#ed7953"
             ],
             [
              0.7777777777777778,
              "#fb9f3a"
             ],
             [
              0.8888888888888888,
              "#fdca26"
             ],
             [
              1,
              "#f0f921"
             ]
            ],
            "type": "heatmap"
           }
          ],
          "heatmapgl": [
           {
            "colorbar": {
             "outlinewidth": 0,
             "ticks": ""
            },
            "colorscale": [
             [
              0,
              "#0d0887"
             ],
             [
              0.1111111111111111,
              "#46039f"
             ],
             [
              0.2222222222222222,
              "#7201a8"
             ],
             [
              0.3333333333333333,
              "#9c179e"
             ],
             [
              0.4444444444444444,
              "#bd3786"
             ],
             [
              0.5555555555555556,
              "#d8576b"
             ],
             [
              0.6666666666666666,
              "#ed7953"
             ],
             [
              0.7777777777777778,
              "#fb9f3a"
             ],
             [
              0.8888888888888888,
              "#fdca26"
             ],
             [
              1,
              "#f0f921"
             ]
            ],
            "type": "heatmapgl"
           }
          ],
          "histogram": [
           {
            "marker": {
             "pattern": {
              "fillmode": "overlay",
              "size": 10,
              "solidity": 0.2
             }
            },
            "type": "histogram"
           }
          ],
          "histogram2d": [
           {
            "colorbar": {
             "outlinewidth": 0,
             "ticks": ""
            },
            "colorscale": [
             [
              0,
              "#0d0887"
             ],
             [
              0.1111111111111111,
              "#46039f"
             ],
             [
              0.2222222222222222,
              "#7201a8"
             ],
             [
              0.3333333333333333,
              "#9c179e"
             ],
             [
              0.4444444444444444,
              "#bd3786"
             ],
             [
              0.5555555555555556,
              "#d8576b"
             ],
             [
              0.6666666666666666,
              "#ed7953"
             ],
             [
              0.7777777777777778,
              "#fb9f3a"
             ],
             [
              0.8888888888888888,
              "#fdca26"
             ],
             [
              1,
              "#f0f921"
             ]
            ],
            "type": "histogram2d"
           }
          ],
          "histogram2dcontour": [
           {
            "colorbar": {
             "outlinewidth": 0,
             "ticks": ""
            },
            "colorscale": [
             [
              0,
              "#0d0887"
             ],
             [
              0.1111111111111111,
              "#46039f"
             ],
             [
              0.2222222222222222,
              "#7201a8"
             ],
             [
              0.3333333333333333,
              "#9c179e"
             ],
             [
              0.4444444444444444,
              "#bd3786"
             ],
             [
              0.5555555555555556,
              "#d8576b"
             ],
             [
              0.6666666666666666,
              "#ed7953"
             ],
             [
              0.7777777777777778,
              "#fb9f3a"
             ],
             [
              0.8888888888888888,
              "#fdca26"
             ],
             [
              1,
              "#f0f921"
             ]
            ],
            "type": "histogram2dcontour"
           }
          ],
          "mesh3d": [
           {
            "colorbar": {
             "outlinewidth": 0,
             "ticks": ""
            },
            "type": "mesh3d"
           }
          ],
          "parcoords": [
           {
            "line": {
             "colorbar": {
              "outlinewidth": 0,
              "ticks": ""
             }
            },
            "type": "parcoords"
           }
          ],
          "pie": [
           {
            "automargin": true,
            "type": "pie"
           }
          ],
          "scatter": [
           {
            "fillpattern": {
             "fillmode": "overlay",
             "size": 10,
             "solidity": 0.2
            },
            "type": "scatter"
           }
          ],
          "scatter3d": [
           {
            "line": {
             "colorbar": {
              "outlinewidth": 0,
              "ticks": ""
             }
            },
            "marker": {
             "colorbar": {
              "outlinewidth": 0,
              "ticks": ""
             }
            },
            "type": "scatter3d"
           }
          ],
          "scattercarpet": [
           {
            "marker": {
             "colorbar": {
              "outlinewidth": 0,
              "ticks": ""
             }
            },
            "type": "scattercarpet"
           }
          ],
          "scattergeo": [
           {
            "marker": {
             "colorbar": {
              "outlinewidth": 0,
              "ticks": ""
             }
            },
            "type": "scattergeo"
           }
          ],
          "scattergl": [
           {
            "marker": {
             "colorbar": {
              "outlinewidth": 0,
              "ticks": ""
             }
            },
            "type": "scattergl"
           }
          ],
          "scattermapbox": [
           {
            "marker": {
             "colorbar": {
              "outlinewidth": 0,
              "ticks": ""
             }
            },
            "type": "scattermapbox"
           }
          ],
          "scatterpolar": [
           {
            "marker": {
             "colorbar": {
              "outlinewidth": 0,
              "ticks": ""
             }
            },
            "type": "scatterpolar"
           }
          ],
          "scatterpolargl": [
           {
            "marker": {
             "colorbar": {
              "outlinewidth": 0,
              "ticks": ""
             }
            },
            "type": "scatterpolargl"
           }
          ],
          "scatterternary": [
           {
            "marker": {
             "colorbar": {
              "outlinewidth": 0,
              "ticks": ""
             }
            },
            "type": "scatterternary"
           }
          ],
          "surface": [
           {
            "colorbar": {
             "outlinewidth": 0,
             "ticks": ""
            },
            "colorscale": [
             [
              0,
              "#0d0887"
             ],
             [
              0.1111111111111111,
              "#46039f"
             ],
             [
              0.2222222222222222,
              "#7201a8"
             ],
             [
              0.3333333333333333,
              "#9c179e"
             ],
             [
              0.4444444444444444,
              "#bd3786"
             ],
             [
              0.5555555555555556,
              "#d8576b"
             ],
             [
              0.6666666666666666,
              "#ed7953"
             ],
             [
              0.7777777777777778,
              "#fb9f3a"
             ],
             [
              0.8888888888888888,
              "#fdca26"
             ],
             [
              1,
              "#f0f921"
             ]
            ],
            "type": "surface"
           }
          ],
          "table": [
           {
            "cells": {
             "fill": {
              "color": "#EBF0F8"
             },
             "line": {
              "color": "white"
             }
            },
            "header": {
             "fill": {
              "color": "#C8D4E3"
             },
             "line": {
              "color": "white"
             }
            },
            "type": "table"
           }
          ]
         },
         "layout": {
          "annotationdefaults": {
           "arrowcolor": "#2a3f5f",
           "arrowhead": 0,
           "arrowwidth": 1
          },
          "autotypenumbers": "strict",
          "coloraxis": {
           "colorbar": {
            "outlinewidth": 0,
            "ticks": ""
           }
          },
          "colorscale": {
           "diverging": [
            [
             0,
             "#8e0152"
            ],
            [
             0.1,
             "#c51b7d"
            ],
            [
             0.2,
             "#de77ae"
            ],
            [
             0.3,
             "#f1b6da"
            ],
            [
             0.4,
             "#fde0ef"
            ],
            [
             0.5,
             "#f7f7f7"
            ],
            [
             0.6,
             "#e6f5d0"
            ],
            [
             0.7,
             "#b8e186"
            ],
            [
             0.8,
             "#7fbc41"
            ],
            [
             0.9,
             "#4d9221"
            ],
            [
             1,
             "#276419"
            ]
           ],
           "sequential": [
            [
             0,
             "#0d0887"
            ],
            [
             0.1111111111111111,
             "#46039f"
            ],
            [
             0.2222222222222222,
             "#7201a8"
            ],
            [
             0.3333333333333333,
             "#9c179e"
            ],
            [
             0.4444444444444444,
             "#bd3786"
            ],
            [
             0.5555555555555556,
             "#d8576b"
            ],
            [
             0.6666666666666666,
             "#ed7953"
            ],
            [
             0.7777777777777778,
             "#fb9f3a"
            ],
            [
             0.8888888888888888,
             "#fdca26"
            ],
            [
             1,
             "#f0f921"
            ]
           ],
           "sequentialminus": [
            [
             0,
             "#0d0887"
            ],
            [
             0.1111111111111111,
             "#46039f"
            ],
            [
             0.2222222222222222,
             "#7201a8"
            ],
            [
             0.3333333333333333,
             "#9c179e"
            ],
            [
             0.4444444444444444,
             "#bd3786"
            ],
            [
             0.5555555555555556,
             "#d8576b"
            ],
            [
             0.6666666666666666,
             "#ed7953"
            ],
            [
             0.7777777777777778,
             "#fb9f3a"
            ],
            [
             0.8888888888888888,
             "#fdca26"
            ],
            [
             1,
             "#f0f921"
            ]
           ]
          },
          "colorway": [
           "#636efa",
           "#EF553B",
           "#00cc96",
           "#ab63fa",
           "#FFA15A",
           "#19d3f3",
           "#FF6692",
           "#B6E880",
           "#FF97FF",
           "#FECB52"
          ],
          "font": {
           "color": "#2a3f5f"
          },
          "geo": {
           "bgcolor": "white",
           "lakecolor": "white",
           "landcolor": "#E5ECF6",
           "showlakes": true,
           "showland": true,
           "subunitcolor": "white"
          },
          "hoverlabel": {
           "align": "left"
          },
          "hovermode": "closest",
          "mapbox": {
           "style": "light"
          },
          "paper_bgcolor": "white",
          "plot_bgcolor": "#E5ECF6",
          "polar": {
           "angularaxis": {
            "gridcolor": "white",
            "linecolor": "white",
            "ticks": ""
           },
           "bgcolor": "#E5ECF6",
           "radialaxis": {
            "gridcolor": "white",
            "linecolor": "white",
            "ticks": ""
           }
          },
          "scene": {
           "xaxis": {
            "backgroundcolor": "#E5ECF6",
            "gridcolor": "white",
            "gridwidth": 2,
            "linecolor": "white",
            "showbackground": true,
            "ticks": "",
            "zerolinecolor": "white"
           },
           "yaxis": {
            "backgroundcolor": "#E5ECF6",
            "gridcolor": "white",
            "gridwidth": 2,
            "linecolor": "white",
            "showbackground": true,
            "ticks": "",
            "zerolinecolor": "white"
           },
           "zaxis": {
            "backgroundcolor": "#E5ECF6",
            "gridcolor": "white",
            "gridwidth": 2,
            "linecolor": "white",
            "showbackground": true,
            "ticks": "",
            "zerolinecolor": "white"
           }
          },
          "shapedefaults": {
           "line": {
            "color": "#2a3f5f"
           }
          },
          "ternary": {
           "aaxis": {
            "gridcolor": "white",
            "linecolor": "white",
            "ticks": ""
           },
           "baxis": {
            "gridcolor": "white",
            "linecolor": "white",
            "ticks": ""
           },
           "bgcolor": "#E5ECF6",
           "caxis": {
            "gridcolor": "white",
            "linecolor": "white",
            "ticks": ""
           }
          },
          "title": {
           "x": 0.05
          },
          "xaxis": {
           "automargin": true,
           "gridcolor": "white",
           "linecolor": "white",
           "ticks": "",
           "title": {
            "standoff": 15
           },
           "zerolinecolor": "white",
           "zerolinewidth": 2
          },
          "yaxis": {
           "automargin": true,
           "gridcolor": "white",
           "linecolor": "white",
           "ticks": "",
           "title": {
            "standoff": 15
           },
           "zerolinecolor": "white",
           "zerolinewidth": 2
          }
         }
        },
        "width": 800,
        "xaxis": {
         "title": {
          "text": "causal graph expected degree"
         }
        },
        "yaxis": {
         "title": {
          "text": "Wasserstein distance"
         }
        }
       }
      }
     },
     "metadata": {},
     "output_type": "display_data"
    }
   ],
   "source": [
    "# Wasserstein distance between original set and augmented set mean, median, std depending on the causal graph expected degree\n",
    "\n",
    "# set x, y and color variables\n",
    "color_columns_list=['Wasserstein_dist_train_vs_aug_weighted']\n",
    "x_column = 'expected_degree'\n",
    "\n",
    "# aggregate results\n",
    "res_tot = compute_stats_for_line_plot_paper(densities, [x_column], color_columns_list[0])\n",
    "\n",
    "# Figure\n",
    "fig = go.Figure()\n",
    "  \n",
    "### Wasserstein_dist_train_vs_aug_weighted results\n",
    "# abscisse\n",
    "x = res_tot[x_column].tolist()\n",
    "x_rev = x[::-1]\n",
    "# Line 1\n",
    "y1 = res_tot['Wasserstein_dist_train_vs_aug_weighted' + '_mean'].tolist()\n",
    "y1_upper = res_tot['Wasserstein_dist_train_vs_aug_weighted' + '_upper'].tolist()\n",
    "y1_lower = res_tot['Wasserstein_dist_train_vs_aug_weighted' + '_lower'].tolist()\n",
    "y1_lower = y1_lower[::-1]\n",
    "# Line 2\n",
    "y2 = res_tot['Wasserstein_dist_train_vs_aug_weighted' + '_median'].tolist()\n",
    "\n",
    "fig.add_trace(go.Scatter(\n",
    "    x=x+x_rev,\n",
    "    y=y1_upper+y1_lower,\n",
    "    fill='toself',\n",
    "    fillcolor=transparent_color_list[0],\n",
    "    line_color='rgba(255,255,255,0)', \n",
    "    showlegend=True,\n",
    "    name='std'\n",
    "))\n",
    "fig.add_trace(go.Scatter(\n",
    "    x=x,\n",
    "    y=y1,\n",
    "    line_color=color_list[0],\n",
    "    showlegend=True,\n",
    "    name='mean'\n",
    "))\n",
    "fig.add_trace(go.Scatter(\n",
    "    x=x,\n",
    "    y=y2,\n",
    "    line_color=color_list[0],\n",
    "    line_dash='dot',\n",
    "    showlegend=True,\n",
    "    name='median'\n",
    "))\n",
    "fig.update_traces(mode='lines')\n",
    "\n",
    "# magin & size\n",
    "fig.update_layout(\n",
    "    margin=dict(l=20, r=10, t=10, b=10),\n",
    "    width=800,\n",
    "    height=300,\n",
    ")\n",
    "\n",
    "# legend position\n",
    "fig.update_layout(legend=dict(\n",
    "    yanchor=\"top\",\n",
    "    y=0.99,\n",
    "    xanchor=\"right\",\n",
    "    x=0.99\n",
    "))\n",
    "\n",
    "# axis titles\n",
    "fig.update_yaxes(title_text='Wasserstein distance')\n",
    "fig.update_xaxes(title_text='causal graph expected degree')\n",
    "\n",
    "fig.show()"
   ]
  },
  {
   "attachments": {},
   "cell_type": "markdown",
   "metadata": {},
   "source": [
    "## Outliers"
   ]
  },
  {
   "cell_type": "code",
   "execution_count": 32,
   "metadata": {},
   "outputs": [],
   "source": [
    "if use_paper_results:\n",
    "    folder_to_res = 'paper_results'\n",
    "else:\n",
    "    folder_to_res = 'outliers_variation'\n",
    "\n",
    "data_outliers = pd.read_csv(folder_to_res + '/outliers_res.csv')"
   ]
  },
  {
   "cell_type": "code",
   "execution_count": 33,
   "metadata": {},
   "outputs": [
    {
     "name": "stderr",
     "output_type": "stream",
     "text": [
      "C:\\Users\\AudreyPOINSOT\\AppData\\Local\\Temp\\ipykernel_21960\\1025098877.py:12: FutureWarning:\n",
      "\n",
      "['predicted_variable', 'predicted_variable_node_type', 'variance_train_NOT_weighted', 'variance_aug_weighted_true', 'variance_aug_weighted_wrong'] did not aggregate successfully. If any error is raised this will raise in a future version of pandas. Drop these columns/ops to avoid this warning.\n",
      "\n",
      "C:\\Users\\AudreyPOINSOT\\AppData\\Local\\Temp\\ipykernel_21960\\1025098877.py:12: FutureWarning:\n",
      "\n",
      "['predicted_variable', 'predicted_variable_node_type', 'variance_train_NOT_weighted', 'variance_aug_weighted_true', 'variance_aug_weighted_wrong'] did not aggregate successfully. If any error is raised this will raise in a future version of pandas. Drop these columns/ops to avoid this warning.\n",
      "\n"
     ]
    },
    {
     "data": {
      "application/vnd.plotly.v1+json": {
       "config": {
        "plotlyServerURL": "https://plot.ly"
       },
       "data": [
        {
         "line": {
          "color": "rgb(238,44,44)",
          "dash": "dot"
         },
         "mode": "lines",
         "name": "with outliers",
         "type": "scatter",
         "x": [
          0.01,
          0.02,
          0.03,
          0.04,
          0.05,
          0.1,
          0.15
         ],
         "y": [
          0,
          0.2371428571428571,
          0.24142857142857138,
          0.1157142857142857,
          0.23428571428571426,
          0.31714285714285706,
          0.4085714285714286
         ]
        },
        {
         "line": {
          "color": "rgb(0,0,205)",
          "dash": "dot"
         },
         "mode": "lines",
         "name": "without outliers",
         "type": "scatter",
         "x": [
          0.01,
          0.02,
          0.03,
          0.04,
          0.05,
          0.1,
          0.15
         ],
         "y": [
          0,
          0.20428571428571424,
          0.1985714285714285,
          0.08714285714285715,
          0.16571428571428565,
          0.1914285714285714,
          0.18999999999999995
         ]
        }
       ],
       "layout": {
        "height": 300,
        "legend": {
         "x": 0.01,
         "xanchor": "left",
         "y": 0.99,
         "yanchor": "top"
        },
        "margin": {
         "b": 10,
         "l": 20,
         "r": 10,
         "t": 10
        },
        "template": {
         "data": {
          "bar": [
           {
            "error_x": {
             "color": "#2a3f5f"
            },
            "error_y": {
             "color": "#2a3f5f"
            },
            "marker": {
             "line": {
              "color": "#E5ECF6",
              "width": 0.5
             },
             "pattern": {
              "fillmode": "overlay",
              "size": 10,
              "solidity": 0.2
             }
            },
            "type": "bar"
           }
          ],
          "barpolar": [
           {
            "marker": {
             "line": {
              "color": "#E5ECF6",
              "width": 0.5
             },
             "pattern": {
              "fillmode": "overlay",
              "size": 10,
              "solidity": 0.2
             }
            },
            "type": "barpolar"
           }
          ],
          "carpet": [
           {
            "aaxis": {
             "endlinecolor": "#2a3f5f",
             "gridcolor": "white",
             "linecolor": "white",
             "minorgridcolor": "white",
             "startlinecolor": "#2a3f5f"
            },
            "baxis": {
             "endlinecolor": "#2a3f5f",
             "gridcolor": "white",
             "linecolor": "white",
             "minorgridcolor": "white",
             "startlinecolor": "#2a3f5f"
            },
            "type": "carpet"
           }
          ],
          "choropleth": [
           {
            "colorbar": {
             "outlinewidth": 0,
             "ticks": ""
            },
            "type": "choropleth"
           }
          ],
          "contour": [
           {
            "colorbar": {
             "outlinewidth": 0,
             "ticks": ""
            },
            "colorscale": [
             [
              0,
              "#0d0887"
             ],
             [
              0.1111111111111111,
              "#46039f"
             ],
             [
              0.2222222222222222,
              "#7201a8"
             ],
             [
              0.3333333333333333,
              "#9c179e"
             ],
             [
              0.4444444444444444,
              "#bd3786"
             ],
             [
              0.5555555555555556,
              "#d8576b"
             ],
             [
              0.6666666666666666,
              "#ed7953"
             ],
             [
              0.7777777777777778,
              "#fb9f3a"
             ],
             [
              0.8888888888888888,
              "#fdca26"
             ],
             [
              1,
              "#f0f921"
             ]
            ],
            "type": "contour"
           }
          ],
          "contourcarpet": [
           {
            "colorbar": {
             "outlinewidth": 0,
             "ticks": ""
            },
            "type": "contourcarpet"
           }
          ],
          "heatmap": [
           {
            "colorbar": {
             "outlinewidth": 0,
             "ticks": ""
            },
            "colorscale": [
             [
              0,
              "#0d0887"
             ],
             [
              0.1111111111111111,
              "#46039f"
             ],
             [
              0.2222222222222222,
              "#7201a8"
             ],
             [
              0.3333333333333333,
              "#9c179e"
             ],
             [
              0.4444444444444444,
              "#bd3786"
             ],
             [
              0.5555555555555556,
              "#d8576b"
             ],
             [
              0.6666666666666666,
              "#ed7953"
             ],
             [
              0.7777777777777778,
              "#fb9f3a"
             ],
             [
              0.8888888888888888,
              "#fdca26"
             ],
             [
              1,
              "#f0f921"
             ]
            ],
            "type": "heatmap"
           }
          ],
          "heatmapgl": [
           {
            "colorbar": {
             "outlinewidth": 0,
             "ticks": ""
            },
            "colorscale": [
             [
              0,
              "#0d0887"
             ],
             [
              0.1111111111111111,
              "#46039f"
             ],
             [
              0.2222222222222222,
              "#7201a8"
             ],
             [
              0.3333333333333333,
              "#9c179e"
             ],
             [
              0.4444444444444444,
              "#bd3786"
             ],
             [
              0.5555555555555556,
              "#d8576b"
             ],
             [
              0.6666666666666666,
              "#ed7953"
             ],
             [
              0.7777777777777778,
              "#fb9f3a"
             ],
             [
              0.8888888888888888,
              "#fdca26"
             ],
             [
              1,
              "#f0f921"
             ]
            ],
            "type": "heatmapgl"
           }
          ],
          "histogram": [
           {
            "marker": {
             "pattern": {
              "fillmode": "overlay",
              "size": 10,
              "solidity": 0.2
             }
            },
            "type": "histogram"
           }
          ],
          "histogram2d": [
           {
            "colorbar": {
             "outlinewidth": 0,
             "ticks": ""
            },
            "colorscale": [
             [
              0,
              "#0d0887"
             ],
             [
              0.1111111111111111,
              "#46039f"
             ],
             [
              0.2222222222222222,
              "#7201a8"
             ],
             [
              0.3333333333333333,
              "#9c179e"
             ],
             [
              0.4444444444444444,
              "#bd3786"
             ],
             [
              0.5555555555555556,
              "#d8576b"
             ],
             [
              0.6666666666666666,
              "#ed7953"
             ],
             [
              0.7777777777777778,
              "#fb9f3a"
             ],
             [
              0.8888888888888888,
              "#fdca26"
             ],
             [
              1,
              "#f0f921"
             ]
            ],
            "type": "histogram2d"
           }
          ],
          "histogram2dcontour": [
           {
            "colorbar": {
             "outlinewidth": 0,
             "ticks": ""
            },
            "colorscale": [
             [
              0,
              "#0d0887"
             ],
             [
              0.1111111111111111,
              "#46039f"
             ],
             [
              0.2222222222222222,
              "#7201a8"
             ],
             [
              0.3333333333333333,
              "#9c179e"
             ],
             [
              0.4444444444444444,
              "#bd3786"
             ],
             [
              0.5555555555555556,
              "#d8576b"
             ],
             [
              0.6666666666666666,
              "#ed7953"
             ],
             [
              0.7777777777777778,
              "#fb9f3a"
             ],
             [
              0.8888888888888888,
              "#fdca26"
             ],
             [
              1,
              "#f0f921"
             ]
            ],
            "type": "histogram2dcontour"
           }
          ],
          "mesh3d": [
           {
            "colorbar": {
             "outlinewidth": 0,
             "ticks": ""
            },
            "type": "mesh3d"
           }
          ],
          "parcoords": [
           {
            "line": {
             "colorbar": {
              "outlinewidth": 0,
              "ticks": ""
             }
            },
            "type": "parcoords"
           }
          ],
          "pie": [
           {
            "automargin": true,
            "type": "pie"
           }
          ],
          "scatter": [
           {
            "fillpattern": {
             "fillmode": "overlay",
             "size": 10,
             "solidity": 0.2
            },
            "type": "scatter"
           }
          ],
          "scatter3d": [
           {
            "line": {
             "colorbar": {
              "outlinewidth": 0,
              "ticks": ""
             }
            },
            "marker": {
             "colorbar": {
              "outlinewidth": 0,
              "ticks": ""
             }
            },
            "type": "scatter3d"
           }
          ],
          "scattercarpet": [
           {
            "marker": {
             "colorbar": {
              "outlinewidth": 0,
              "ticks": ""
             }
            },
            "type": "scattercarpet"
           }
          ],
          "scattergeo": [
           {
            "marker": {
             "colorbar": {
              "outlinewidth": 0,
              "ticks": ""
             }
            },
            "type": "scattergeo"
           }
          ],
          "scattergl": [
           {
            "marker": {
             "colorbar": {
              "outlinewidth": 0,
              "ticks": ""
             }
            },
            "type": "scattergl"
           }
          ],
          "scattermapbox": [
           {
            "marker": {
             "colorbar": {
              "outlinewidth": 0,
              "ticks": ""
             }
            },
            "type": "scattermapbox"
           }
          ],
          "scatterpolar": [
           {
            "marker": {
             "colorbar": {
              "outlinewidth": 0,
              "ticks": ""
             }
            },
            "type": "scatterpolar"
           }
          ],
          "scatterpolargl": [
           {
            "marker": {
             "colorbar": {
              "outlinewidth": 0,
              "ticks": ""
             }
            },
            "type": "scatterpolargl"
           }
          ],
          "scatterternary": [
           {
            "marker": {
             "colorbar": {
              "outlinewidth": 0,
              "ticks": ""
             }
            },
            "type": "scatterternary"
           }
          ],
          "surface": [
           {
            "colorbar": {
             "outlinewidth": 0,
             "ticks": ""
            },
            "colorscale": [
             [
              0,
              "#0d0887"
             ],
             [
              0.1111111111111111,
              "#46039f"
             ],
             [
              0.2222222222222222,
              "#7201a8"
             ],
             [
              0.3333333333333333,
              "#9c179e"
             ],
             [
              0.4444444444444444,
              "#bd3786"
             ],
             [
              0.5555555555555556,
              "#d8576b"
             ],
             [
              0.6666666666666666,
              "#ed7953"
             ],
             [
              0.7777777777777778,
              "#fb9f3a"
             ],
             [
              0.8888888888888888,
              "#fdca26"
             ],
             [
              1,
              "#f0f921"
             ]
            ],
            "type": "surface"
           }
          ],
          "table": [
           {
            "cells": {
             "fill": {
              "color": "#EBF0F8"
             },
             "line": {
              "color": "white"
             }
            },
            "header": {
             "fill": {
              "color": "#C8D4E3"
             },
             "line": {
              "color": "white"
             }
            },
            "type": "table"
           }
          ]
         },
         "layout": {
          "annotationdefaults": {
           "arrowcolor": "#2a3f5f",
           "arrowhead": 0,
           "arrowwidth": 1
          },
          "autotypenumbers": "strict",
          "coloraxis": {
           "colorbar": {
            "outlinewidth": 0,
            "ticks": ""
           }
          },
          "colorscale": {
           "diverging": [
            [
             0,
             "#8e0152"
            ],
            [
             0.1,
             "#c51b7d"
            ],
            [
             0.2,
             "#de77ae"
            ],
            [
             0.3,
             "#f1b6da"
            ],
            [
             0.4,
             "#fde0ef"
            ],
            [
             0.5,
             "#f7f7f7"
            ],
            [
             0.6,
             "#e6f5d0"
            ],
            [
             0.7,
             "#b8e186"
            ],
            [
             0.8,
             "#7fbc41"
            ],
            [
             0.9,
             "#4d9221"
            ],
            [
             1,
             "#276419"
            ]
           ],
           "sequential": [
            [
             0,
             "#0d0887"
            ],
            [
             0.1111111111111111,
             "#46039f"
            ],
            [
             0.2222222222222222,
             "#7201a8"
            ],
            [
             0.3333333333333333,
             "#9c179e"
            ],
            [
             0.4444444444444444,
             "#bd3786"
            ],
            [
             0.5555555555555556,
             "#d8576b"
            ],
            [
             0.6666666666666666,
             "#ed7953"
            ],
            [
             0.7777777777777778,
             "#fb9f3a"
            ],
            [
             0.8888888888888888,
             "#fdca26"
            ],
            [
             1,
             "#f0f921"
            ]
           ],
           "sequentialminus": [
            [
             0,
             "#0d0887"
            ],
            [
             0.1111111111111111,
             "#46039f"
            ],
            [
             0.2222222222222222,
             "#7201a8"
            ],
            [
             0.3333333333333333,
             "#9c179e"
            ],
            [
             0.4444444444444444,
             "#bd3786"
            ],
            [
             0.5555555555555556,
             "#d8576b"
            ],
            [
             0.6666666666666666,
             "#ed7953"
            ],
            [
             0.7777777777777778,
             "#fb9f3a"
            ],
            [
             0.8888888888888888,
             "#fdca26"
            ],
            [
             1,
             "#f0f921"
            ]
           ]
          },
          "colorway": [
           "#636efa",
           "#EF553B",
           "#00cc96",
           "#ab63fa",
           "#FFA15A",
           "#19d3f3",
           "#FF6692",
           "#B6E880",
           "#FF97FF",
           "#FECB52"
          ],
          "font": {
           "color": "#2a3f5f"
          },
          "geo": {
           "bgcolor": "white",
           "lakecolor": "white",
           "landcolor": "#E5ECF6",
           "showlakes": true,
           "showland": true,
           "subunitcolor": "white"
          },
          "hoverlabel": {
           "align": "left"
          },
          "hovermode": "closest",
          "mapbox": {
           "style": "light"
          },
          "paper_bgcolor": "white",
          "plot_bgcolor": "#E5ECF6",
          "polar": {
           "angularaxis": {
            "gridcolor": "white",
            "linecolor": "white",
            "ticks": ""
           },
           "bgcolor": "#E5ECF6",
           "radialaxis": {
            "gridcolor": "white",
            "linecolor": "white",
            "ticks": ""
           }
          },
          "scene": {
           "xaxis": {
            "backgroundcolor": "#E5ECF6",
            "gridcolor": "white",
            "gridwidth": 2,
            "linecolor": "white",
            "showbackground": true,
            "ticks": "",
            "zerolinecolor": "white"
           },
           "yaxis": {
            "backgroundcolor": "#E5ECF6",
            "gridcolor": "white",
            "gridwidth": 2,
            "linecolor": "white",
            "showbackground": true,
            "ticks": "",
            "zerolinecolor": "white"
           },
           "zaxis": {
            "backgroundcolor": "#E5ECF6",
            "gridcolor": "white",
            "gridwidth": 2,
            "linecolor": "white",
            "showbackground": true,
            "ticks": "",
            "zerolinecolor": "white"
           }
          },
          "shapedefaults": {
           "line": {
            "color": "#2a3f5f"
           }
          },
          "ternary": {
           "aaxis": {
            "gridcolor": "white",
            "linecolor": "white",
            "ticks": ""
           },
           "baxis": {
            "gridcolor": "white",
            "linecolor": "white",
            "ticks": ""
           },
           "bgcolor": "#E5ECF6",
           "caxis": {
            "gridcolor": "white",
            "linecolor": "white",
            "ticks": ""
           }
          },
          "title": {
           "x": 0.05
          },
          "xaxis": {
           "automargin": true,
           "gridcolor": "white",
           "linecolor": "white",
           "ticks": "",
           "title": {
            "standoff": 15
           },
           "zerolinecolor": "white",
           "zerolinewidth": 2
          },
          "yaxis": {
           "automargin": true,
           "gridcolor": "white",
           "linecolor": "white",
           "ticks": "",
           "title": {
            "standoff": 15
           },
           "zerolinecolor": "white",
           "zerolinewidth": 2
          }
         }
        },
        "width": 800,
        "xaxis": {
         "title": {
          "text": "fraction of outliers"
         }
        },
        "yaxis": {
         "title": {
          "text": "fraction of newly generated data"
         }
        }
       }
      }
     },
     "metadata": {},
     "output_type": "display_data"
    }
   ],
   "source": [
    "### median fraction augmented data with and without ouliers\n",
    "\n",
    "# set x, y and color variables\n",
    "color_columns_list=['frac_augmented_wrong', 'frac_augmented_true']\n",
    "x_column = 'frac_outliers'\n",
    "\n",
    "# aggregate results\n",
    "res_tot = compute_stats_for_line_plot_paper(data_outliers, [x_column], color_columns_list[0])\n",
    "res_col = compute_stats_for_line_plot_paper(data_outliers, [x_column], color_columns_list[1])\n",
    "res_tot = res_tot.merge(res_col, how=\"left\", on=[x_column]).sort_values(by=[x_column])\n",
    "\n",
    "# Figure\n",
    "fig = go.Figure()\n",
    "  \n",
    "### frac_augmented_wrong results\n",
    "# abscisse\n",
    "x = res_tot[x_column].tolist()\n",
    "x_rev = x[::-1]\n",
    "# Line 1\n",
    "y1 = res_tot['frac_augmented_wrong' + '_mean'].tolist()\n",
    "y1_upper = res_tot['frac_augmented_wrong' + '_upper'].tolist()\n",
    "y1_lower = res_tot['frac_augmented_wrong' + '_lower'].tolist()\n",
    "y1_lower = y1_lower[::-1]\n",
    "# Line 2\n",
    "y2 = res_tot['frac_augmented_wrong' + '_median'].tolist()\n",
    "\n",
    "fig.add_trace(go.Scatter(\n",
    "    x=x,\n",
    "    y=y2,\n",
    "    line_color=color_list[0],\n",
    "    line_dash='dot',\n",
    "    name='with outliers',\n",
    "))\n",
    "fig.update_traces(mode='lines')\n",
    "\n",
    "### frac_augmented_true results\n",
    "# abscisse\n",
    "x = res_tot[x_column].tolist()\n",
    "x_rev = x[::-1]\n",
    "# Line 1\n",
    "y1 = res_tot['frac_augmented_true' + '_mean'].tolist()\n",
    "y1_upper = res_tot['frac_augmented_true' + '_upper'].tolist()\n",
    "y1_lower = res_tot['frac_augmented_true' + '_lower'].tolist()\n",
    "y1_lower = y1_lower[::-1]\n",
    "# Line 2\n",
    "y2 = res_tot['frac_augmented_true' + '_median'].tolist()\n",
    "\n",
    "fig.add_trace(go.Scatter(\n",
    "    x=x,\n",
    "    y=y2,\n",
    "    line_color=color_list[1],\n",
    "    line_dash='dot',\n",
    "    name='without outliers',\n",
    "))\n",
    "fig.update_traces(mode='lines')\n",
    "\n",
    "# legend position\n",
    "fig.update_layout(legend=dict(\n",
    "    yanchor=\"top\",\n",
    "    y=0.99,\n",
    "    xanchor=\"left\",\n",
    "    x=0.01\n",
    "))\n",
    "\n",
    "# magin & size\n",
    "fig.update_layout(\n",
    "    margin=dict(l=20, r=10, t=10, b=10),\n",
    "    width=800,\n",
    "    height=300,\n",
    ")\n",
    "\n",
    "# axis titles\n",
    "fig.update_yaxes(title_text='fraction of newly generated data')\n",
    "fig.update_xaxes(title_text='fraction of outliers')\n",
    "\n",
    "fig.show()"
   ]
  },
  {
   "cell_type": "code",
   "execution_count": 34,
   "metadata": {},
   "outputs": [
    {
     "name": "stderr",
     "output_type": "stream",
     "text": [
      "C:\\Users\\AudreyPOINSOT\\AppData\\Local\\Temp\\ipykernel_21960\\1025098877.py:12: FutureWarning:\n",
      "\n",
      "['predicted_variable', 'predicted_variable_node_type', 'variance_train_NOT_weighted', 'variance_aug_weighted_true', 'variance_aug_weighted_wrong'] did not aggregate successfully. If any error is raised this will raise in a future version of pandas. Drop these columns/ops to avoid this warning.\n",
      "\n",
      "C:\\Users\\AudreyPOINSOT\\AppData\\Local\\Temp\\ipykernel_21960\\1025098877.py:12: FutureWarning:\n",
      "\n",
      "['predicted_variable', 'predicted_variable_node_type', 'variance_train_NOT_weighted', 'variance_aug_weighted_true', 'variance_aug_weighted_wrong'] did not aggregate successfully. If any error is raised this will raise in a future version of pandas. Drop these columns/ops to avoid this warning.\n",
      "\n"
     ]
    },
    {
     "data": {
      "application/vnd.plotly.v1+json": {
       "config": {
        "plotlyServerURL": "https://plot.ly"
       },
       "data": [
        {
         "fill": "toself",
         "fillcolor": "rgba(238,44,44,0.2)",
         "line": {
          "color": "rgba(255,255,255,0)"
         },
         "mode": "lines",
         "showlegend": false,
         "type": "scatter",
         "x": [
          0.01,
          0.02,
          0.03,
          0.04,
          0.05,
          0.1,
          0.15,
          0.15,
          0.1,
          0.05,
          0.04,
          0.03,
          0.02,
          0.01
         ],
         "y": [
          0.012440622754517905,
          0.014510871728347738,
          0.016609789117296214,
          0.0337618161882347,
          0.03301594936348428,
          0.06359573333365715,
          0.10133611536034072,
          0.04202017089396122,
          0.0231633675335672,
          0.0177572619356503,
          0.01055447215702564,
          0.009700070013698,
          0.006701843365093465,
          0.003352255672687564
         ]
        },
        {
         "line": {
          "color": "rgb(238,44,44)"
         },
         "mode": "lines",
         "name": "with outliers",
         "type": "scatter",
         "x": [
          0.01,
          0.02,
          0.03,
          0.04,
          0.05,
          0.1,
          0.15
         ],
         "y": [
          0.007896439213602734,
          0.010606357546720601,
          0.013154929565497107,
          0.022158144172630168,
          0.025386605649567292,
          0.04337955043361218,
          0.07167814312715097
         ]
        },
        {
         "line": {
          "color": "rgb(238,44,44)",
          "dash": "dot"
         },
         "mode": "lines",
         "showlegend": false,
         "type": "scatter",
         "x": [
          0.01,
          0.02,
          0.03,
          0.04,
          0.05,
          0.1,
          0.15
         ],
         "y": [
          0.0066433305624629,
          0.0114909193886158,
          0.0132819020474291,
          0.0204357971837445,
          0.0257735832287522,
          0.0479971093252349,
          0.0605104640689016
         ]
        },
        {
         "fill": "toself",
         "fillcolor": "rgba(0,0,205,0.2)",
         "line": {
          "color": "rgba(255,255,255,0)"
         },
         "mode": "lines",
         "showlegend": false,
         "type": "scatter",
         "x": [
          0.01,
          0.02,
          0.03,
          0.04,
          0.05,
          0.1,
          0.15,
          0.15,
          0.1,
          0.05,
          0.04,
          0.03,
          0.02,
          0.01
         ],
         "y": [
          0.000028236863438497233,
          0.00003164079594970097,
          0.0000922690436059357,
          0.00010010591005485216,
          0.00004474552339154612,
          0.00006240540998334161,
          0.00007145417892827604,
          -0.000010820285980956853,
          -0.000006244711673274324,
          -0.000004279122054452612,
          -0.000034069940839097285,
          -0.000019286432711021668,
          0.000006438698724071303,
          0.0000033212168841430227
         ]
        },
        {
         "line": {
          "color": "rgb(0,0,205)"
         },
         "mode": "lines",
         "name": "without outliers",
         "type": "scatter",
         "x": [
          0.01,
          0.02,
          0.03,
          0.04,
          0.05,
          0.1,
          0.15
         ],
         "y": [
          0.000015779040161320127,
          0.000019039747336886133,
          0.000036491305447457014,
          0.00003301798460787744,
          0.000020233200668546752,
          0.000028080349155033643,
          0.00003031694647365959
         ]
        },
        {
         "line": {
          "color": "rgb(0,0,205)",
          "dash": "dot"
         },
         "mode": "lines",
         "showlegend": false,
         "type": "scatter",
         "x": [
          0.01,
          0.02,
          0.03,
          0.04,
          0.05,
          0.1,
          0.15
         ],
         "y": [
          0.00001842266892342257,
          0.00002349986349655504,
          0.000012990749970780386,
          0.000008132310684292925,
          0.000014758558135455466,
          0.00000933088861482295,
          0.00001235548553552086
         ]
        }
       ],
       "layout": {
        "height": 300,
        "legend": {
         "x": 0.01,
         "xanchor": "left",
         "y": 0.99,
         "yanchor": "top"
        },
        "margin": {
         "b": 10,
         "l": 20,
         "r": 10,
         "t": 10
        },
        "template": {
         "data": {
          "bar": [
           {
            "error_x": {
             "color": "#2a3f5f"
            },
            "error_y": {
             "color": "#2a3f5f"
            },
            "marker": {
             "line": {
              "color": "#E5ECF6",
              "width": 0.5
             },
             "pattern": {
              "fillmode": "overlay",
              "size": 10,
              "solidity": 0.2
             }
            },
            "type": "bar"
           }
          ],
          "barpolar": [
           {
            "marker": {
             "line": {
              "color": "#E5ECF6",
              "width": 0.5
             },
             "pattern": {
              "fillmode": "overlay",
              "size": 10,
              "solidity": 0.2
             }
            },
            "type": "barpolar"
           }
          ],
          "carpet": [
           {
            "aaxis": {
             "endlinecolor": "#2a3f5f",
             "gridcolor": "white",
             "linecolor": "white",
             "minorgridcolor": "white",
             "startlinecolor": "#2a3f5f"
            },
            "baxis": {
             "endlinecolor": "#2a3f5f",
             "gridcolor": "white",
             "linecolor": "white",
             "minorgridcolor": "white",
             "startlinecolor": "#2a3f5f"
            },
            "type": "carpet"
           }
          ],
          "choropleth": [
           {
            "colorbar": {
             "outlinewidth": 0,
             "ticks": ""
            },
            "type": "choropleth"
           }
          ],
          "contour": [
           {
            "colorbar": {
             "outlinewidth": 0,
             "ticks": ""
            },
            "colorscale": [
             [
              0,
              "#0d0887"
             ],
             [
              0.1111111111111111,
              "#46039f"
             ],
             [
              0.2222222222222222,
              "#7201a8"
             ],
             [
              0.3333333333333333,
              "#9c179e"
             ],
             [
              0.4444444444444444,
              "#bd3786"
             ],
             [
              0.5555555555555556,
              "#d8576b"
             ],
             [
              0.6666666666666666,
              "#ed7953"
             ],
             [
              0.7777777777777778,
              "#fb9f3a"
             ],
             [
              0.8888888888888888,
              "#fdca26"
             ],
             [
              1,
              "#f0f921"
             ]
            ],
            "type": "contour"
           }
          ],
          "contourcarpet": [
           {
            "colorbar": {
             "outlinewidth": 0,
             "ticks": ""
            },
            "type": "contourcarpet"
           }
          ],
          "heatmap": [
           {
            "colorbar": {
             "outlinewidth": 0,
             "ticks": ""
            },
            "colorscale": [
             [
              0,
              "#0d0887"
             ],
             [
              0.1111111111111111,
              "#46039f"
             ],
             [
              0.2222222222222222,
              "#7201a8"
             ],
             [
              0.3333333333333333,
              "#9c179e"
             ],
             [
              0.4444444444444444,
              "#bd3786"
             ],
             [
              0.5555555555555556,
              "#d8576b"
             ],
             [
              0.6666666666666666,
              "#ed7953"
             ],
             [
              0.7777777777777778,
              "#fb9f3a"
             ],
             [
              0.8888888888888888,
              "#fdca26"
             ],
             [
              1,
              "#f0f921"
             ]
            ],
            "type": "heatmap"
           }
          ],
          "heatmapgl": [
           {
            "colorbar": {
             "outlinewidth": 0,
             "ticks": ""
            },
            "colorscale": [
             [
              0,
              "#0d0887"
             ],
             [
              0.1111111111111111,
              "#46039f"
             ],
             [
              0.2222222222222222,
              "#7201a8"
             ],
             [
              0.3333333333333333,
              "#9c179e"
             ],
             [
              0.4444444444444444,
              "#bd3786"
             ],
             [
              0.5555555555555556,
              "#d8576b"
             ],
             [
              0.6666666666666666,
              "#ed7953"
             ],
             [
              0.7777777777777778,
              "#fb9f3a"
             ],
             [
              0.8888888888888888,
              "#fdca26"
             ],
             [
              1,
              "#f0f921"
             ]
            ],
            "type": "heatmapgl"
           }
          ],
          "histogram": [
           {
            "marker": {
             "pattern": {
              "fillmode": "overlay",
              "size": 10,
              "solidity": 0.2
             }
            },
            "type": "histogram"
           }
          ],
          "histogram2d": [
           {
            "colorbar": {
             "outlinewidth": 0,
             "ticks": ""
            },
            "colorscale": [
             [
              0,
              "#0d0887"
             ],
             [
              0.1111111111111111,
              "#46039f"
             ],
             [
              0.2222222222222222,
              "#7201a8"
             ],
             [
              0.3333333333333333,
              "#9c179e"
             ],
             [
              0.4444444444444444,
              "#bd3786"
             ],
             [
              0.5555555555555556,
              "#d8576b"
             ],
             [
              0.6666666666666666,
              "#ed7953"
             ],
             [
              0.7777777777777778,
              "#fb9f3a"
             ],
             [
              0.8888888888888888,
              "#fdca26"
             ],
             [
              1,
              "#f0f921"
             ]
            ],
            "type": "histogram2d"
           }
          ],
          "histogram2dcontour": [
           {
            "colorbar": {
             "outlinewidth": 0,
             "ticks": ""
            },
            "colorscale": [
             [
              0,
              "#0d0887"
             ],
             [
              0.1111111111111111,
              "#46039f"
             ],
             [
              0.2222222222222222,
              "#7201a8"
             ],
             [
              0.3333333333333333,
              "#9c179e"
             ],
             [
              0.4444444444444444,
              "#bd3786"
             ],
             [
              0.5555555555555556,
              "#d8576b"
             ],
             [
              0.6666666666666666,
              "#ed7953"
             ],
             [
              0.7777777777777778,
              "#fb9f3a"
             ],
             [
              0.8888888888888888,
              "#fdca26"
             ],
             [
              1,
              "#f0f921"
             ]
            ],
            "type": "histogram2dcontour"
           }
          ],
          "mesh3d": [
           {
            "colorbar": {
             "outlinewidth": 0,
             "ticks": ""
            },
            "type": "mesh3d"
           }
          ],
          "parcoords": [
           {
            "line": {
             "colorbar": {
              "outlinewidth": 0,
              "ticks": ""
             }
            },
            "type": "parcoords"
           }
          ],
          "pie": [
           {
            "automargin": true,
            "type": "pie"
           }
          ],
          "scatter": [
           {
            "fillpattern": {
             "fillmode": "overlay",
             "size": 10,
             "solidity": 0.2
            },
            "type": "scatter"
           }
          ],
          "scatter3d": [
           {
            "line": {
             "colorbar": {
              "outlinewidth": 0,
              "ticks": ""
             }
            },
            "marker": {
             "colorbar": {
              "outlinewidth": 0,
              "ticks": ""
             }
            },
            "type": "scatter3d"
           }
          ],
          "scattercarpet": [
           {
            "marker": {
             "colorbar": {
              "outlinewidth": 0,
              "ticks": ""
             }
            },
            "type": "scattercarpet"
           }
          ],
          "scattergeo": [
           {
            "marker": {
             "colorbar": {
              "outlinewidth": 0,
              "ticks": ""
             }
            },
            "type": "scattergeo"
           }
          ],
          "scattergl": [
           {
            "marker": {
             "colorbar": {
              "outlinewidth": 0,
              "ticks": ""
             }
            },
            "type": "scattergl"
           }
          ],
          "scattermapbox": [
           {
            "marker": {
             "colorbar": {
              "outlinewidth": 0,
              "ticks": ""
             }
            },
            "type": "scattermapbox"
           }
          ],
          "scatterpolar": [
           {
            "marker": {
             "colorbar": {
              "outlinewidth": 0,
              "ticks": ""
             }
            },
            "type": "scatterpolar"
           }
          ],
          "scatterpolargl": [
           {
            "marker": {
             "colorbar": {
              "outlinewidth": 0,
              "ticks": ""
             }
            },
            "type": "scatterpolargl"
           }
          ],
          "scatterternary": [
           {
            "marker": {
             "colorbar": {
              "outlinewidth": 0,
              "ticks": ""
             }
            },
            "type": "scatterternary"
           }
          ],
          "surface": [
           {
            "colorbar": {
             "outlinewidth": 0,
             "ticks": ""
            },
            "colorscale": [
             [
              0,
              "#0d0887"
             ],
             [
              0.1111111111111111,
              "#46039f"
             ],
             [
              0.2222222222222222,
              "#7201a8"
             ],
             [
              0.3333333333333333,
              "#9c179e"
             ],
             [
              0.4444444444444444,
              "#bd3786"
             ],
             [
              0.5555555555555556,
              "#d8576b"
             ],
             [
              0.6666666666666666,
              "#ed7953"
             ],
             [
              0.7777777777777778,
              "#fb9f3a"
             ],
             [
              0.8888888888888888,
              "#fdca26"
             ],
             [
              1,
              "#f0f921"
             ]
            ],
            "type": "surface"
           }
          ],
          "table": [
           {
            "cells": {
             "fill": {
              "color": "#EBF0F8"
             },
             "line": {
              "color": "white"
             }
            },
            "header": {
             "fill": {
              "color": "#C8D4E3"
             },
             "line": {
              "color": "white"
             }
            },
            "type": "table"
           }
          ]
         },
         "layout": {
          "annotationdefaults": {
           "arrowcolor": "#2a3f5f",
           "arrowhead": 0,
           "arrowwidth": 1
          },
          "autotypenumbers": "strict",
          "coloraxis": {
           "colorbar": {
            "outlinewidth": 0,
            "ticks": ""
           }
          },
          "colorscale": {
           "diverging": [
            [
             0,
             "#8e0152"
            ],
            [
             0.1,
             "#c51b7d"
            ],
            [
             0.2,
             "#de77ae"
            ],
            [
             0.3,
             "#f1b6da"
            ],
            [
             0.4,
             "#fde0ef"
            ],
            [
             0.5,
             "#f7f7f7"
            ],
            [
             0.6,
             "#e6f5d0"
            ],
            [
             0.7,
             "#b8e186"
            ],
            [
             0.8,
             "#7fbc41"
            ],
            [
             0.9,
             "#4d9221"
            ],
            [
             1,
             "#276419"
            ]
           ],
           "sequential": [
            [
             0,
             "#0d0887"
            ],
            [
             0.1111111111111111,
             "#46039f"
            ],
            [
             0.2222222222222222,
             "#7201a8"
            ],
            [
             0.3333333333333333,
             "#9c179e"
            ],
            [
             0.4444444444444444,
             "#bd3786"
            ],
            [
             0.5555555555555556,
             "#d8576b"
            ],
            [
             0.6666666666666666,
             "#ed7953"
            ],
            [
             0.7777777777777778,
             "#fb9f3a"
            ],
            [
             0.8888888888888888,
             "#fdca26"
            ],
            [
             1,
             "#f0f921"
            ]
           ],
           "sequentialminus": [
            [
             0,
             "#0d0887"
            ],
            [
             0.1111111111111111,
             "#46039f"
            ],
            [
             0.2222222222222222,
             "#7201a8"
            ],
            [
             0.3333333333333333,
             "#9c179e"
            ],
            [
             0.4444444444444444,
             "#bd3786"
            ],
            [
             0.5555555555555556,
             "#d8576b"
            ],
            [
             0.6666666666666666,
             "#ed7953"
            ],
            [
             0.7777777777777778,
             "#fb9f3a"
            ],
            [
             0.8888888888888888,
             "#fdca26"
            ],
            [
             1,
             "#f0f921"
            ]
           ]
          },
          "colorway": [
           "#636efa",
           "#EF553B",
           "#00cc96",
           "#ab63fa",
           "#FFA15A",
           "#19d3f3",
           "#FF6692",
           "#B6E880",
           "#FF97FF",
           "#FECB52"
          ],
          "font": {
           "color": "#2a3f5f"
          },
          "geo": {
           "bgcolor": "white",
           "lakecolor": "white",
           "landcolor": "#E5ECF6",
           "showlakes": true,
           "showland": true,
           "subunitcolor": "white"
          },
          "hoverlabel": {
           "align": "left"
          },
          "hovermode": "closest",
          "mapbox": {
           "style": "light"
          },
          "paper_bgcolor": "white",
          "plot_bgcolor": "#E5ECF6",
          "polar": {
           "angularaxis": {
            "gridcolor": "white",
            "linecolor": "white",
            "ticks": ""
           },
           "bgcolor": "#E5ECF6",
           "radialaxis": {
            "gridcolor": "white",
            "linecolor": "white",
            "ticks": ""
           }
          },
          "scene": {
           "xaxis": {
            "backgroundcolor": "#E5ECF6",
            "gridcolor": "white",
            "gridwidth": 2,
            "linecolor": "white",
            "showbackground": true,
            "ticks": "",
            "zerolinecolor": "white"
           },
           "yaxis": {
            "backgroundcolor": "#E5ECF6",
            "gridcolor": "white",
            "gridwidth": 2,
            "linecolor": "white",
            "showbackground": true,
            "ticks": "",
            "zerolinecolor": "white"
           },
           "zaxis": {
            "backgroundcolor": "#E5ECF6",
            "gridcolor": "white",
            "gridwidth": 2,
            "linecolor": "white",
            "showbackground": true,
            "ticks": "",
            "zerolinecolor": "white"
           }
          },
          "shapedefaults": {
           "line": {
            "color": "#2a3f5f"
           }
          },
          "ternary": {
           "aaxis": {
            "gridcolor": "white",
            "linecolor": "white",
            "ticks": ""
           },
           "baxis": {
            "gridcolor": "white",
            "linecolor": "white",
            "ticks": ""
           },
           "bgcolor": "#E5ECF6",
           "caxis": {
            "gridcolor": "white",
            "linecolor": "white",
            "ticks": ""
           }
          },
          "title": {
           "x": 0.05
          },
          "xaxis": {
           "automargin": true,
           "gridcolor": "white",
           "linecolor": "white",
           "ticks": "",
           "title": {
            "standoff": 15
           },
           "zerolinecolor": "white",
           "zerolinewidth": 2
          },
          "yaxis": {
           "automargin": true,
           "gridcolor": "white",
           "linecolor": "white",
           "ticks": "",
           "title": {
            "standoff": 15
           },
           "zerolinecolor": "white",
           "zerolinewidth": 2
          }
         }
        },
        "width": 1600,
        "xaxis": {
         "title": {
          "text": "fraction of outliers"
         }
        },
        "yaxis": {
         "title": {
          "text": "KL-divergence"
         }
        }
       }
      }
     },
     "metadata": {},
     "output_type": "display_data"
    }
   ],
   "source": [
    "### KL div mean median std of augmented data with and without outliers\n",
    "\n",
    "# set x, y and color variables\n",
    "color_columns_list=['KL_div_train_vs_aug_weighted_wrong', 'KL_div_train_vs_aug_weighted_true']\n",
    "x_column = 'frac_outliers'\n",
    "\n",
    "# aggregate results\n",
    "res_tot = compute_stats_for_line_plot_paper(data_outliers, [x_column], color_columns_list[0])\n",
    "res_col = compute_stats_for_line_plot_paper(data_outliers, [x_column], color_columns_list[1])\n",
    "res_tot = res_tot.merge(res_col, how=\"left\", on=[x_column]).sort_values(by=[x_column])\n",
    "\n",
    "# Figure\n",
    "fig = go.Figure()\n",
    "  \n",
    "### KL_div_train_vs_aug_weighted_wrong results\n",
    "# abscisse\n",
    "x = res_tot[x_column].tolist()\n",
    "x_rev = x[::-1]\n",
    "# Line 1\n",
    "y1 = res_tot['KL_div_train_vs_aug_weighted_wrong' + '_mean'].tolist()\n",
    "y1_upper = res_tot['KL_div_train_vs_aug_weighted_wrong' + '_upper'].tolist()\n",
    "y1_lower = res_tot['KL_div_train_vs_aug_weighted_wrong' + '_lower'].tolist()\n",
    "y1_lower = y1_lower[::-1]\n",
    "# Line 2\n",
    "y2 = res_tot['KL_div_train_vs_aug_weighted_wrong' + '_median'].tolist()\n",
    "\n",
    "fig.add_trace(go.Scatter(\n",
    "    x=x+x_rev,\n",
    "    y=y1_upper+y1_lower,\n",
    "    fill='toself',\n",
    "    fillcolor=transparent_color_list[0],\n",
    "    line_color='rgba(255,255,255,0)', \n",
    "    showlegend=False\n",
    "))\n",
    "fig.add_trace(go.Scatter(\n",
    "    x=x,\n",
    "    y=y1,\n",
    "    line_color=color_list[0],\n",
    "    name='with outliers',\n",
    "))\n",
    "fig.add_trace(go.Scatter(\n",
    "    x=x,\n",
    "    y=y2,\n",
    "    line_color=color_list[0],\n",
    "    line_dash='dot',\n",
    "    showlegend=False\n",
    "))\n",
    "fig.update_traces(mode='lines')\n",
    "\n",
    "### KL_div_train_vs_aug_weighted_true results\n",
    "# abscisse\n",
    "x = res_tot[x_column].tolist()\n",
    "x_rev = x[::-1]\n",
    "# Line 1\n",
    "y1 = res_tot['KL_div_train_vs_aug_weighted_true' + '_mean'].tolist()\n",
    "y1_upper = res_tot['KL_div_train_vs_aug_weighted_true' + '_upper'].tolist()\n",
    "y1_lower = res_tot['KL_div_train_vs_aug_weighted_true' + '_lower'].tolist()\n",
    "y1_lower = y1_lower[::-1]\n",
    "# Line 2\n",
    "y2 = res_tot['KL_div_train_vs_aug_weighted_true' + '_median'].tolist()\n",
    "\n",
    "fig.add_trace(go.Scatter(\n",
    "    x=x+x_rev,\n",
    "    y=y1_upper+y1_lower,\n",
    "    fill='toself',\n",
    "    fillcolor=transparent_color_list[1],\n",
    "    line_color='rgba(255,255,255,0)', \n",
    "    showlegend=False\n",
    "))\n",
    "fig.add_trace(go.Scatter(\n",
    "    x=x,\n",
    "    y=y1,\n",
    "    line_color=color_list[1],\n",
    "    name='without outliers',\n",
    "))\n",
    "fig.add_trace(go.Scatter(\n",
    "    x=x,\n",
    "    y=y2,\n",
    "    line_color=color_list[1],\n",
    "    line_dash='dot',\n",
    "    showlegend=False\n",
    "))\n",
    "fig.update_traces(mode='lines')\n",
    "\n",
    "# legend position\n",
    "fig.update_layout(legend=dict(\n",
    "    yanchor=\"top\",\n",
    "    y=0.99,\n",
    "    xanchor=\"left\",\n",
    "    x=0.01\n",
    "))\n",
    "\n",
    "# magin & size\n",
    "fig.update_layout(\n",
    "    margin=dict(l=20, r=10, t=10, b=10),\n",
    "    width=1600,\n",
    "    height=300,\n",
    ")\n",
    "\n",
    "# axis titles\n",
    "fig.update_yaxes(title_text='KL-divergence')\n",
    "fig.update_xaxes(title_text='fraction of outliers')\n",
    "\n",
    "fig.show()"
   ]
  },
  {
   "cell_type": "code",
   "execution_count": 35,
   "metadata": {},
   "outputs": [
    {
     "name": "stderr",
     "output_type": "stream",
     "text": [
      "C:\\Users\\AudreyPOINSOT\\AppData\\Local\\Temp\\ipykernel_21960\\1025098877.py:12: FutureWarning:\n",
      "\n",
      "['predicted_variable', 'predicted_variable_node_type', 'variance_train_NOT_weighted', 'variance_aug_weighted_true', 'variance_aug_weighted_wrong'] did not aggregate successfully. If any error is raised this will raise in a future version of pandas. Drop these columns/ops to avoid this warning.\n",
      "\n",
      "C:\\Users\\AudreyPOINSOT\\AppData\\Local\\Temp\\ipykernel_21960\\1025098877.py:12: FutureWarning:\n",
      "\n",
      "['predicted_variable', 'predicted_variable_node_type', 'variance_train_NOT_weighted', 'variance_aug_weighted_true', 'variance_aug_weighted_wrong'] did not aggregate successfully. If any error is raised this will raise in a future version of pandas. Drop these columns/ops to avoid this warning.\n",
      "\n"
     ]
    },
    {
     "data": {
      "application/vnd.plotly.v1+json": {
       "config": {
        "plotlyServerURL": "https://plot.ly"
       },
       "data": [
        {
         "line": {
          "color": "rgb(238,44,44)",
          "dash": "dot"
         },
         "mode": "lines",
         "name": "with outliers",
         "type": "scatter",
         "x": [
          0.01,
          0.02,
          0.03,
          0.04,
          0.05,
          0.1,
          0.15
         ],
         "y": [
          0.4154796659919243,
          0.4615196747400677,
          0.5437729737662345,
          0.5315824922982122,
          0.4459421135390699,
          0.43156498723331416,
          0.5561937353455505
         ]
        },
        {
         "line": {
          "color": "rgb(0,0,205)",
          "dash": "dot"
         },
         "mode": "lines",
         "name": "without outliers",
         "type": "scatter",
         "x": [
          0.01,
          0.02,
          0.03,
          0.04,
          0.05,
          0.1,
          0.15
         ],
         "y": [
          0.3640288050687376,
          0.39415188346146723,
          0.4353386922431691,
          0.5320776181036897,
          0.38740356747789206,
          0.3448434608773153,
          0.38929355519977693
         ]
        }
       ],
       "layout": {
        "height": 300,
        "legend": {
         "x": 0.6,
         "xanchor": "left",
         "y": 0.99,
         "yanchor": "top"
        },
        "margin": {
         "b": 10,
         "l": 20,
         "r": 10,
         "t": 10
        },
        "template": {
         "data": {
          "bar": [
           {
            "error_x": {
             "color": "#2a3f5f"
            },
            "error_y": {
             "color": "#2a3f5f"
            },
            "marker": {
             "line": {
              "color": "#E5ECF6",
              "width": 0.5
             },
             "pattern": {
              "fillmode": "overlay",
              "size": 10,
              "solidity": 0.2
             }
            },
            "type": "bar"
           }
          ],
          "barpolar": [
           {
            "marker": {
             "line": {
              "color": "#E5ECF6",
              "width": 0.5
             },
             "pattern": {
              "fillmode": "overlay",
              "size": 10,
              "solidity": 0.2
             }
            },
            "type": "barpolar"
           }
          ],
          "carpet": [
           {
            "aaxis": {
             "endlinecolor": "#2a3f5f",
             "gridcolor": "white",
             "linecolor": "white",
             "minorgridcolor": "white",
             "startlinecolor": "#2a3f5f"
            },
            "baxis": {
             "endlinecolor": "#2a3f5f",
             "gridcolor": "white",
             "linecolor": "white",
             "minorgridcolor": "white",
             "startlinecolor": "#2a3f5f"
            },
            "type": "carpet"
           }
          ],
          "choropleth": [
           {
            "colorbar": {
             "outlinewidth": 0,
             "ticks": ""
            },
            "type": "choropleth"
           }
          ],
          "contour": [
           {
            "colorbar": {
             "outlinewidth": 0,
             "ticks": ""
            },
            "colorscale": [
             [
              0,
              "#0d0887"
             ],
             [
              0.1111111111111111,
              "#46039f"
             ],
             [
              0.2222222222222222,
              "#7201a8"
             ],
             [
              0.3333333333333333,
              "#9c179e"
             ],
             [
              0.4444444444444444,
              "#bd3786"
             ],
             [
              0.5555555555555556,
              "#d8576b"
             ],
             [
              0.6666666666666666,
              "#ed7953"
             ],
             [
              0.7777777777777778,
              "#fb9f3a"
             ],
             [
              0.8888888888888888,
              "#fdca26"
             ],
             [
              1,
              "#f0f921"
             ]
            ],
            "type": "contour"
           }
          ],
          "contourcarpet": [
           {
            "colorbar": {
             "outlinewidth": 0,
             "ticks": ""
            },
            "type": "contourcarpet"
           }
          ],
          "heatmap": [
           {
            "colorbar": {
             "outlinewidth": 0,
             "ticks": ""
            },
            "colorscale": [
             [
              0,
              "#0d0887"
             ],
             [
              0.1111111111111111,
              "#46039f"
             ],
             [
              0.2222222222222222,
              "#7201a8"
             ],
             [
              0.3333333333333333,
              "#9c179e"
             ],
             [
              0.4444444444444444,
              "#bd3786"
             ],
             [
              0.5555555555555556,
              "#d8576b"
             ],
             [
              0.6666666666666666,
              "#ed7953"
             ],
             [
              0.7777777777777778,
              "#fb9f3a"
             ],
             [
              0.8888888888888888,
              "#fdca26"
             ],
             [
              1,
              "#f0f921"
             ]
            ],
            "type": "heatmap"
           }
          ],
          "heatmapgl": [
           {
            "colorbar": {
             "outlinewidth": 0,
             "ticks": ""
            },
            "colorscale": [
             [
              0,
              "#0d0887"
             ],
             [
              0.1111111111111111,
              "#46039f"
             ],
             [
              0.2222222222222222,
              "#7201a8"
             ],
             [
              0.3333333333333333,
              "#9c179e"
             ],
             [
              0.4444444444444444,
              "#bd3786"
             ],
             [
              0.5555555555555556,
              "#d8576b"
             ],
             [
              0.6666666666666666,
              "#ed7953"
             ],
             [
              0.7777777777777778,
              "#fb9f3a"
             ],
             [
              0.8888888888888888,
              "#fdca26"
             ],
             [
              1,
              "#f0f921"
             ]
            ],
            "type": "heatmapgl"
           }
          ],
          "histogram": [
           {
            "marker": {
             "pattern": {
              "fillmode": "overlay",
              "size": 10,
              "solidity": 0.2
             }
            },
            "type": "histogram"
           }
          ],
          "histogram2d": [
           {
            "colorbar": {
             "outlinewidth": 0,
             "ticks": ""
            },
            "colorscale": [
             [
              0,
              "#0d0887"
             ],
             [
              0.1111111111111111,
              "#46039f"
             ],
             [
              0.2222222222222222,
              "#7201a8"
             ],
             [
              0.3333333333333333,
              "#9c179e"
             ],
             [
              0.4444444444444444,
              "#bd3786"
             ],
             [
              0.5555555555555556,
              "#d8576b"
             ],
             [
              0.6666666666666666,
              "#ed7953"
             ],
             [
              0.7777777777777778,
              "#fb9f3a"
             ],
             [
              0.8888888888888888,
              "#fdca26"
             ],
             [
              1,
              "#f0f921"
             ]
            ],
            "type": "histogram2d"
           }
          ],
          "histogram2dcontour": [
           {
            "colorbar": {
             "outlinewidth": 0,
             "ticks": ""
            },
            "colorscale": [
             [
              0,
              "#0d0887"
             ],
             [
              0.1111111111111111,
              "#46039f"
             ],
             [
              0.2222222222222222,
              "#7201a8"
             ],
             [
              0.3333333333333333,
              "#9c179e"
             ],
             [
              0.4444444444444444,
              "#bd3786"
             ],
             [
              0.5555555555555556,
              "#d8576b"
             ],
             [
              0.6666666666666666,
              "#ed7953"
             ],
             [
              0.7777777777777778,
              "#fb9f3a"
             ],
             [
              0.8888888888888888,
              "#fdca26"
             ],
             [
              1,
              "#f0f921"
             ]
            ],
            "type": "histogram2dcontour"
           }
          ],
          "mesh3d": [
           {
            "colorbar": {
             "outlinewidth": 0,
             "ticks": ""
            },
            "type": "mesh3d"
           }
          ],
          "parcoords": [
           {
            "line": {
             "colorbar": {
              "outlinewidth": 0,
              "ticks": ""
             }
            },
            "type": "parcoords"
           }
          ],
          "pie": [
           {
            "automargin": true,
            "type": "pie"
           }
          ],
          "scatter": [
           {
            "fillpattern": {
             "fillmode": "overlay",
             "size": 10,
             "solidity": 0.2
            },
            "type": "scatter"
           }
          ],
          "scatter3d": [
           {
            "line": {
             "colorbar": {
              "outlinewidth": 0,
              "ticks": ""
             }
            },
            "marker": {
             "colorbar": {
              "outlinewidth": 0,
              "ticks": ""
             }
            },
            "type": "scatter3d"
           }
          ],
          "scattercarpet": [
           {
            "marker": {
             "colorbar": {
              "outlinewidth": 0,
              "ticks": ""
             }
            },
            "type": "scattercarpet"
           }
          ],
          "scattergeo": [
           {
            "marker": {
             "colorbar": {
              "outlinewidth": 0,
              "ticks": ""
             }
            },
            "type": "scattergeo"
           }
          ],
          "scattergl": [
           {
            "marker": {
             "colorbar": {
              "outlinewidth": 0,
              "ticks": ""
             }
            },
            "type": "scattergl"
           }
          ],
          "scattermapbox": [
           {
            "marker": {
             "colorbar": {
              "outlinewidth": 0,
              "ticks": ""
             }
            },
            "type": "scattermapbox"
           }
          ],
          "scatterpolar": [
           {
            "marker": {
             "colorbar": {
              "outlinewidth": 0,
              "ticks": ""
             }
            },
            "type": "scatterpolar"
           }
          ],
          "scatterpolargl": [
           {
            "marker": {
             "colorbar": {
              "outlinewidth": 0,
              "ticks": ""
             }
            },
            "type": "scatterpolargl"
           }
          ],
          "scatterternary": [
           {
            "marker": {
             "colorbar": {
              "outlinewidth": 0,
              "ticks": ""
             }
            },
            "type": "scatterternary"
           }
          ],
          "surface": [
           {
            "colorbar": {
             "outlinewidth": 0,
             "ticks": ""
            },
            "colorscale": [
             [
              0,
              "#0d0887"
             ],
             [
              0.1111111111111111,
              "#46039f"
             ],
             [
              0.2222222222222222,
              "#7201a8"
             ],
             [
              0.3333333333333333,
              "#9c179e"
             ],
             [
              0.4444444444444444,
              "#bd3786"
             ],
             [
              0.5555555555555556,
              "#d8576b"
             ],
             [
              0.6666666666666666,
              "#ed7953"
             ],
             [
              0.7777777777777778,
              "#fb9f3a"
             ],
             [
              0.8888888888888888,
              "#fdca26"
             ],
             [
              1,
              "#f0f921"
             ]
            ],
            "type": "surface"
           }
          ],
          "table": [
           {
            "cells": {
             "fill": {
              "color": "#EBF0F8"
             },
             "line": {
              "color": "white"
             }
            },
            "header": {
             "fill": {
              "color": "#C8D4E3"
             },
             "line": {
              "color": "white"
             }
            },
            "type": "table"
           }
          ]
         },
         "layout": {
          "annotationdefaults": {
           "arrowcolor": "#2a3f5f",
           "arrowhead": 0,
           "arrowwidth": 1
          },
          "autotypenumbers": "strict",
          "coloraxis": {
           "colorbar": {
            "outlinewidth": 0,
            "ticks": ""
           }
          },
          "colorscale": {
           "diverging": [
            [
             0,
             "#8e0152"
            ],
            [
             0.1,
             "#c51b7d"
            ],
            [
             0.2,
             "#de77ae"
            ],
            [
             0.3,
             "#f1b6da"
            ],
            [
             0.4,
             "#fde0ef"
            ],
            [
             0.5,
             "#f7f7f7"
            ],
            [
             0.6,
             "#e6f5d0"
            ],
            [
             0.7,
             "#b8e186"
            ],
            [
             0.8,
             "#7fbc41"
            ],
            [
             0.9,
             "#4d9221"
            ],
            [
             1,
             "#276419"
            ]
           ],
           "sequential": [
            [
             0,
             "#0d0887"
            ],
            [
             0.1111111111111111,
             "#46039f"
            ],
            [
             0.2222222222222222,
             "#7201a8"
            ],
            [
             0.3333333333333333,
             "#9c179e"
            ],
            [
             0.4444444444444444,
             "#bd3786"
            ],
            [
             0.5555555555555556,
             "#d8576b"
            ],
            [
             0.6666666666666666,
             "#ed7953"
            ],
            [
             0.7777777777777778,
             "#fb9f3a"
            ],
            [
             0.8888888888888888,
             "#fdca26"
            ],
            [
             1,
             "#f0f921"
            ]
           ],
           "sequentialminus": [
            [
             0,
             "#0d0887"
            ],
            [
             0.1111111111111111,
             "#46039f"
            ],
            [
             0.2222222222222222,
             "#7201a8"
            ],
            [
             0.3333333333333333,
             "#9c179e"
            ],
            [
             0.4444444444444444,
             "#bd3786"
            ],
            [
             0.5555555555555556,
             "#d8576b"
            ],
            [
             0.6666666666666666,
             "#ed7953"
            ],
            [
             0.7777777777777778,
             "#fb9f3a"
            ],
            [
             0.8888888888888888,
             "#fdca26"
            ],
            [
             1,
             "#f0f921"
            ]
           ]
          },
          "colorway": [
           "#636efa",
           "#EF553B",
           "#00cc96",
           "#ab63fa",
           "#FFA15A",
           "#19d3f3",
           "#FF6692",
           "#B6E880",
           "#FF97FF",
           "#FECB52"
          ],
          "font": {
           "color": "#2a3f5f"
          },
          "geo": {
           "bgcolor": "white",
           "lakecolor": "white",
           "landcolor": "#E5ECF6",
           "showlakes": true,
           "showland": true,
           "subunitcolor": "white"
          },
          "hoverlabel": {
           "align": "left"
          },
          "hovermode": "closest",
          "mapbox": {
           "style": "light"
          },
          "paper_bgcolor": "white",
          "plot_bgcolor": "#E5ECF6",
          "polar": {
           "angularaxis": {
            "gridcolor": "white",
            "linecolor": "white",
            "ticks": ""
           },
           "bgcolor": "#E5ECF6",
           "radialaxis": {
            "gridcolor": "white",
            "linecolor": "white",
            "ticks": ""
           }
          },
          "scene": {
           "xaxis": {
            "backgroundcolor": "#E5ECF6",
            "gridcolor": "white",
            "gridwidth": 2,
            "linecolor": "white",
            "showbackground": true,
            "ticks": "",
            "zerolinecolor": "white"
           },
           "yaxis": {
            "backgroundcolor": "#E5ECF6",
            "gridcolor": "white",
            "gridwidth": 2,
            "linecolor": "white",
            "showbackground": true,
            "ticks": "",
            "zerolinecolor": "white"
           },
           "zaxis": {
            "backgroundcolor": "#E5ECF6",
            "gridcolor": "white",
            "gridwidth": 2,
            "linecolor": "white",
            "showbackground": true,
            "ticks": "",
            "zerolinecolor": "white"
           }
          },
          "shapedefaults": {
           "line": {
            "color": "#2a3f5f"
           }
          },
          "ternary": {
           "aaxis": {
            "gridcolor": "white",
            "linecolor": "white",
            "ticks": ""
           },
           "baxis": {
            "gridcolor": "white",
            "linecolor": "white",
            "ticks": ""
           },
           "bgcolor": "#E5ECF6",
           "caxis": {
            "gridcolor": "white",
            "linecolor": "white",
            "ticks": ""
           }
          },
          "title": {
           "x": 0.05
          },
          "xaxis": {
           "automargin": true,
           "gridcolor": "white",
           "linecolor": "white",
           "ticks": "",
           "title": {
            "standoff": 15
           },
           "zerolinecolor": "white",
           "zerolinewidth": 2
          },
          "yaxis": {
           "automargin": true,
           "gridcolor": "white",
           "linecolor": "white",
           "ticks": "",
           "title": {
            "standoff": 15
           },
           "zerolinecolor": "white",
           "zerolinewidth": 2
          }
         }
        },
        "width": 800,
        "xaxis": {
         "title": {
          "text": "fraction of outliers"
         }
        },
        "yaxis": {
         "title": {
          "text": "MAPE"
         }
        }
       }
      }
     },
     "metadata": {},
     "output_type": "display_data"
    }
   ],
   "source": [
    "### median MAPE with and without outliers\n",
    "\n",
    "# set x, y and color variables\n",
    "color_columns_list=['MAPE_CausalDA_wrong', 'MAPE_CausalDA_true']\n",
    "x_column = 'frac_outliers'\n",
    "\n",
    "# aggregate results\n",
    "res_tot = compute_stats_for_line_plot_paper(data_outliers, [x_column], color_columns_list[0])\n",
    "res_col = compute_stats_for_line_plot_paper(data_outliers, [x_column], color_columns_list[1])\n",
    "res_tot = res_tot.merge(res_col, how=\"left\", on=[x_column]).sort_values(by=[x_column])\n",
    "\n",
    "# Figure\n",
    "fig = go.Figure()\n",
    "  \n",
    "### CausalDA_wrong results\n",
    "# abscisse\n",
    "x = res_tot[x_column].tolist()\n",
    "x_rev = x[::-1]\n",
    "# Line 1\n",
    "y1 = res_tot['MAPE_CausalDA_wrong' + '_mean'].tolist()\n",
    "y1_upper = res_tot['MAPE_CausalDA_wrong' + '_upper'].tolist()\n",
    "y1_lower = res_tot['MAPE_CausalDA_wrong' + '_lower'].tolist()\n",
    "y1_lower = y1_lower[::-1]\n",
    "# Line 2\n",
    "y2 = res_tot['MAPE_CausalDA_wrong' + '_median'].tolist()\n",
    "\n",
    "fig.add_trace(go.Scatter(\n",
    "    x=x,\n",
    "    y=y2,\n",
    "    line_color=color_list[0],\n",
    "    line_dash='dot',\n",
    "    name='with outliers',\n",
    "))\n",
    "fig.update_traces(mode='lines')\n",
    "\n",
    "### CausalDA_true results\n",
    "# abscisse\n",
    "x = res_tot[x_column].tolist()\n",
    "x_rev = x[::-1]\n",
    "# Line 1\n",
    "y1 = res_tot['MAPE_CausalDA_true' + '_mean'].tolist()\n",
    "y1_upper = res_tot['MAPE_CausalDA_true' + '_upper'].tolist()\n",
    "y1_lower = res_tot['MAPE_CausalDA_true' + '_lower'].tolist()\n",
    "y1_lower = y1_lower[::-1]\n",
    "# Line 2\n",
    "y2 = res_tot['MAPE_CausalDA_true' + '_median'].tolist()\n",
    "\n",
    "fig.add_trace(go.Scatter(\n",
    "    x=x,\n",
    "    y=y2,\n",
    "    line_color=color_list[1],\n",
    "    line_dash='dot',\n",
    "    name='without outliers',\n",
    "))\n",
    "fig.update_traces(mode='lines')\n",
    "\n",
    "# legend position\n",
    "fig.update_layout(legend=dict(\n",
    "    yanchor=\"top\",\n",
    "    y=0.99,\n",
    "    xanchor=\"left\",\n",
    "    x=0.6\n",
    "))\n",
    "\n",
    "# magin & size\n",
    "fig.update_layout(\n",
    "    margin=dict(l=20, r=10, t=10, b=10),\n",
    "    width=800,\n",
    "    height=300,\n",
    ")\n",
    "\n",
    "# axis titles\n",
    "fig.update_yaxes(title_text='MAPE')\n",
    "fig.update_xaxes(title_text='fraction of outliers')\n",
    "\n",
    "fig.show()"
   ]
  },
  {
   "cell_type": "code",
   "execution_count": 36,
   "metadata": {},
   "outputs": [
    {
     "name": "stderr",
     "output_type": "stream",
     "text": [
      "C:\\Users\\AudreyPOINSOT\\AppData\\Local\\Temp\\ipykernel_21960\\1025098877.py:12: FutureWarning:\n",
      "\n",
      "['predicted_variable', 'predicted_variable_node_type', 'variance_train_NOT_weighted', 'variance_aug_weighted_true', 'variance_aug_weighted_wrong'] did not aggregate successfully. If any error is raised this will raise in a future version of pandas. Drop these columns/ops to avoid this warning.\n",
      "\n",
      "C:\\Users\\AudreyPOINSOT\\AppData\\Local\\Temp\\ipykernel_21960\\1025098877.py:12: FutureWarning:\n",
      "\n",
      "['predicted_variable', 'predicted_variable_node_type', 'variance_train_NOT_weighted', 'variance_aug_weighted_true', 'variance_aug_weighted_wrong'] did not aggregate successfully. If any error is raised this will raise in a future version of pandas. Drop these columns/ops to avoid this warning.\n",
      "\n"
     ]
    },
    {
     "data": {
      "application/vnd.plotly.v1+json": {
       "config": {
        "plotlyServerURL": "https://plot.ly"
       },
       "data": [
        {
         "line": {
          "color": "rgb(238,44,44)",
          "dash": "dot"
         },
         "mode": "lines",
         "name": "with outliers",
         "type": "scatter",
         "x": [
          0.01,
          0.02,
          0.03,
          0.04,
          0.05,
          0.1,
          0.15
         ],
         "y": [
          0.983982165768643,
          0.978680239526523,
          0.9740295182389707,
          0.9763533362013246,
          0.9772988559867557,
          0.9768365140918229,
          0.9669323935896725
         ]
        },
        {
         "line": {
          "color": "rgb(0,0,205)",
          "dash": "dot"
         },
         "mode": "lines",
         "name": "without outliers",
         "type": "scatter",
         "x": [
          0.01,
          0.02,
          0.03,
          0.04,
          0.05,
          0.1,
          0.15
         ],
         "y": [
          0.9857601035280691,
          0.9839164213845655,
          0.980233245837606,
          0.9827082139113414,
          0.9829437073208782,
          0.9864606690637336,
          0.984844929518683
         ]
        }
       ],
       "layout": {
        "height": 300,
        "legend": {
         "x": 0.01,
         "xanchor": "left",
         "y": 0.01,
         "yanchor": "bottom"
        },
        "margin": {
         "b": 10,
         "l": 20,
         "r": 10,
         "t": 10
        },
        "template": {
         "data": {
          "bar": [
           {
            "error_x": {
             "color": "#2a3f5f"
            },
            "error_y": {
             "color": "#2a3f5f"
            },
            "marker": {
             "line": {
              "color": "#E5ECF6",
              "width": 0.5
             },
             "pattern": {
              "fillmode": "overlay",
              "size": 10,
              "solidity": 0.2
             }
            },
            "type": "bar"
           }
          ],
          "barpolar": [
           {
            "marker": {
             "line": {
              "color": "#E5ECF6",
              "width": 0.5
             },
             "pattern": {
              "fillmode": "overlay",
              "size": 10,
              "solidity": 0.2
             }
            },
            "type": "barpolar"
           }
          ],
          "carpet": [
           {
            "aaxis": {
             "endlinecolor": "#2a3f5f",
             "gridcolor": "white",
             "linecolor": "white",
             "minorgridcolor": "white",
             "startlinecolor": "#2a3f5f"
            },
            "baxis": {
             "endlinecolor": "#2a3f5f",
             "gridcolor": "white",
             "linecolor": "white",
             "minorgridcolor": "white",
             "startlinecolor": "#2a3f5f"
            },
            "type": "carpet"
           }
          ],
          "choropleth": [
           {
            "colorbar": {
             "outlinewidth": 0,
             "ticks": ""
            },
            "type": "choropleth"
           }
          ],
          "contour": [
           {
            "colorbar": {
             "outlinewidth": 0,
             "ticks": ""
            },
            "colorscale": [
             [
              0,
              "#0d0887"
             ],
             [
              0.1111111111111111,
              "#46039f"
             ],
             [
              0.2222222222222222,
              "#7201a8"
             ],
             [
              0.3333333333333333,
              "#9c179e"
             ],
             [
              0.4444444444444444,
              "#bd3786"
             ],
             [
              0.5555555555555556,
              "#d8576b"
             ],
             [
              0.6666666666666666,
              "#ed7953"
             ],
             [
              0.7777777777777778,
              "#fb9f3a"
             ],
             [
              0.8888888888888888,
              "#fdca26"
             ],
             [
              1,
              "#f0f921"
             ]
            ],
            "type": "contour"
           }
          ],
          "contourcarpet": [
           {
            "colorbar": {
             "outlinewidth": 0,
             "ticks": ""
            },
            "type": "contourcarpet"
           }
          ],
          "heatmap": [
           {
            "colorbar": {
             "outlinewidth": 0,
             "ticks": ""
            },
            "colorscale": [
             [
              0,
              "#0d0887"
             ],
             [
              0.1111111111111111,
              "#46039f"
             ],
             [
              0.2222222222222222,
              "#7201a8"
             ],
             [
              0.3333333333333333,
              "#9c179e"
             ],
             [
              0.4444444444444444,
              "#bd3786"
             ],
             [
              0.5555555555555556,
              "#d8576b"
             ],
             [
              0.6666666666666666,
              "#ed7953"
             ],
             [
              0.7777777777777778,
              "#fb9f3a"
             ],
             [
              0.8888888888888888,
              "#fdca26"
             ],
             [
              1,
              "#f0f921"
             ]
            ],
            "type": "heatmap"
           }
          ],
          "heatmapgl": [
           {
            "colorbar": {
             "outlinewidth": 0,
             "ticks": ""
            },
            "colorscale": [
             [
              0,
              "#0d0887"
             ],
             [
              0.1111111111111111,
              "#46039f"
             ],
             [
              0.2222222222222222,
              "#7201a8"
             ],
             [
              0.3333333333333333,
              "#9c179e"
             ],
             [
              0.4444444444444444,
              "#bd3786"
             ],
             [
              0.5555555555555556,
              "#d8576b"
             ],
             [
              0.6666666666666666,
              "#ed7953"
             ],
             [
              0.7777777777777778,
              "#fb9f3a"
             ],
             [
              0.8888888888888888,
              "#fdca26"
             ],
             [
              1,
              "#f0f921"
             ]
            ],
            "type": "heatmapgl"
           }
          ],
          "histogram": [
           {
            "marker": {
             "pattern": {
              "fillmode": "overlay",
              "size": 10,
              "solidity": 0.2
             }
            },
            "type": "histogram"
           }
          ],
          "histogram2d": [
           {
            "colorbar": {
             "outlinewidth": 0,
             "ticks": ""
            },
            "colorscale": [
             [
              0,
              "#0d0887"
             ],
             [
              0.1111111111111111,
              "#46039f"
             ],
             [
              0.2222222222222222,
              "#7201a8"
             ],
             [
              0.3333333333333333,
              "#9c179e"
             ],
             [
              0.4444444444444444,
              "#bd3786"
             ],
             [
              0.5555555555555556,
              "#d8576b"
             ],
             [
              0.6666666666666666,
              "#ed7953"
             ],
             [
              0.7777777777777778,
              "#fb9f3a"
             ],
             [
              0.8888888888888888,
              "#fdca26"
             ],
             [
              1,
              "#f0f921"
             ]
            ],
            "type": "histogram2d"
           }
          ],
          "histogram2dcontour": [
           {
            "colorbar": {
             "outlinewidth": 0,
             "ticks": ""
            },
            "colorscale": [
             [
              0,
              "#0d0887"
             ],
             [
              0.1111111111111111,
              "#46039f"
             ],
             [
              0.2222222222222222,
              "#7201a8"
             ],
             [
              0.3333333333333333,
              "#9c179e"
             ],
             [
              0.4444444444444444,
              "#bd3786"
             ],
             [
              0.5555555555555556,
              "#d8576b"
             ],
             [
              0.6666666666666666,
              "#ed7953"
             ],
             [
              0.7777777777777778,
              "#fb9f3a"
             ],
             [
              0.8888888888888888,
              "#fdca26"
             ],
             [
              1,
              "#f0f921"
             ]
            ],
            "type": "histogram2dcontour"
           }
          ],
          "mesh3d": [
           {
            "colorbar": {
             "outlinewidth": 0,
             "ticks": ""
            },
            "type": "mesh3d"
           }
          ],
          "parcoords": [
           {
            "line": {
             "colorbar": {
              "outlinewidth": 0,
              "ticks": ""
             }
            },
            "type": "parcoords"
           }
          ],
          "pie": [
           {
            "automargin": true,
            "type": "pie"
           }
          ],
          "scatter": [
           {
            "fillpattern": {
             "fillmode": "overlay",
             "size": 10,
             "solidity": 0.2
            },
            "type": "scatter"
           }
          ],
          "scatter3d": [
           {
            "line": {
             "colorbar": {
              "outlinewidth": 0,
              "ticks": ""
             }
            },
            "marker": {
             "colorbar": {
              "outlinewidth": 0,
              "ticks": ""
             }
            },
            "type": "scatter3d"
           }
          ],
          "scattercarpet": [
           {
            "marker": {
             "colorbar": {
              "outlinewidth": 0,
              "ticks": ""
             }
            },
            "type": "scattercarpet"
           }
          ],
          "scattergeo": [
           {
            "marker": {
             "colorbar": {
              "outlinewidth": 0,
              "ticks": ""
             }
            },
            "type": "scattergeo"
           }
          ],
          "scattergl": [
           {
            "marker": {
             "colorbar": {
              "outlinewidth": 0,
              "ticks": ""
             }
            },
            "type": "scattergl"
           }
          ],
          "scattermapbox": [
           {
            "marker": {
             "colorbar": {
              "outlinewidth": 0,
              "ticks": ""
             }
            },
            "type": "scattermapbox"
           }
          ],
          "scatterpolar": [
           {
            "marker": {
             "colorbar": {
              "outlinewidth": 0,
              "ticks": ""
             }
            },
            "type": "scatterpolar"
           }
          ],
          "scatterpolargl": [
           {
            "marker": {
             "colorbar": {
              "outlinewidth": 0,
              "ticks": ""
             }
            },
            "type": "scatterpolargl"
           }
          ],
          "scatterternary": [
           {
            "marker": {
             "colorbar": {
              "outlinewidth": 0,
              "ticks": ""
             }
            },
            "type": "scatterternary"
           }
          ],
          "surface": [
           {
            "colorbar": {
             "outlinewidth": 0,
             "ticks": ""
            },
            "colorscale": [
             [
              0,
              "#0d0887"
             ],
             [
              0.1111111111111111,
              "#46039f"
             ],
             [
              0.2222222222222222,
              "#7201a8"
             ],
             [
              0.3333333333333333,
              "#9c179e"
             ],
             [
              0.4444444444444444,
              "#bd3786"
             ],
             [
              0.5555555555555556,
              "#d8576b"
             ],
             [
              0.6666666666666666,
              "#ed7953"
             ],
             [
              0.7777777777777778,
              "#fb9f3a"
             ],
             [
              0.8888888888888888,
              "#fdca26"
             ],
             [
              1,
              "#f0f921"
             ]
            ],
            "type": "surface"
           }
          ],
          "table": [
           {
            "cells": {
             "fill": {
              "color": "#EBF0F8"
             },
             "line": {
              "color": "white"
             }
            },
            "header": {
             "fill": {
              "color": "#C8D4E3"
             },
             "line": {
              "color": "white"
             }
            },
            "type": "table"
           }
          ]
         },
         "layout": {
          "annotationdefaults": {
           "arrowcolor": "#2a3f5f",
           "arrowhead": 0,
           "arrowwidth": 1
          },
          "autotypenumbers": "strict",
          "coloraxis": {
           "colorbar": {
            "outlinewidth": 0,
            "ticks": ""
           }
          },
          "colorscale": {
           "diverging": [
            [
             0,
             "#8e0152"
            ],
            [
             0.1,
             "#c51b7d"
            ],
            [
             0.2,
             "#de77ae"
            ],
            [
             0.3,
             "#f1b6da"
            ],
            [
             0.4,
             "#fde0ef"
            ],
            [
             0.5,
             "#f7f7f7"
            ],
            [
             0.6,
             "#e6f5d0"
            ],
            [
             0.7,
             "#b8e186"
            ],
            [
             0.8,
             "#7fbc41"
            ],
            [
             0.9,
             "#4d9221"
            ],
            [
             1,
             "#276419"
            ]
           ],
           "sequential": [
            [
             0,
             "#0d0887"
            ],
            [
             0.1111111111111111,
             "#46039f"
            ],
            [
             0.2222222222222222,
             "#7201a8"
            ],
            [
             0.3333333333333333,
             "#9c179e"
            ],
            [
             0.4444444444444444,
             "#bd3786"
            ],
            [
             0.5555555555555556,
             "#d8576b"
            ],
            [
             0.6666666666666666,
             "#ed7953"
            ],
            [
             0.7777777777777778,
             "#fb9f3a"
            ],
            [
             0.8888888888888888,
             "#fdca26"
            ],
            [
             1,
             "#f0f921"
            ]
           ],
           "sequentialminus": [
            [
             0,
             "#0d0887"
            ],
            [
             0.1111111111111111,
             "#46039f"
            ],
            [
             0.2222222222222222,
             "#7201a8"
            ],
            [
             0.3333333333333333,
             "#9c179e"
            ],
            [
             0.4444444444444444,
             "#bd3786"
            ],
            [
             0.5555555555555556,
             "#d8576b"
            ],
            [
             0.6666666666666666,
             "#ed7953"
            ],
            [
             0.7777777777777778,
             "#fb9f3a"
            ],
            [
             0.8888888888888888,
             "#fdca26"
            ],
            [
             1,
             "#f0f921"
            ]
           ]
          },
          "colorway": [
           "#636efa",
           "#EF553B",
           "#00cc96",
           "#ab63fa",
           "#FFA15A",
           "#19d3f3",
           "#FF6692",
           "#B6E880",
           "#FF97FF",
           "#FECB52"
          ],
          "font": {
           "color": "#2a3f5f"
          },
          "geo": {
           "bgcolor": "white",
           "lakecolor": "white",
           "landcolor": "#E5ECF6",
           "showlakes": true,
           "showland": true,
           "subunitcolor": "white"
          },
          "hoverlabel": {
           "align": "left"
          },
          "hovermode": "closest",
          "mapbox": {
           "style": "light"
          },
          "paper_bgcolor": "white",
          "plot_bgcolor": "#E5ECF6",
          "polar": {
           "angularaxis": {
            "gridcolor": "white",
            "linecolor": "white",
            "ticks": ""
           },
           "bgcolor": "#E5ECF6",
           "radialaxis": {
            "gridcolor": "white",
            "linecolor": "white",
            "ticks": ""
           }
          },
          "scene": {
           "xaxis": {
            "backgroundcolor": "#E5ECF6",
            "gridcolor": "white",
            "gridwidth": 2,
            "linecolor": "white",
            "showbackground": true,
            "ticks": "",
            "zerolinecolor": "white"
           },
           "yaxis": {
            "backgroundcolor": "#E5ECF6",
            "gridcolor": "white",
            "gridwidth": 2,
            "linecolor": "white",
            "showbackground": true,
            "ticks": "",
            "zerolinecolor": "white"
           },
           "zaxis": {
            "backgroundcolor": "#E5ECF6",
            "gridcolor": "white",
            "gridwidth": 2,
            "linecolor": "white",
            "showbackground": true,
            "ticks": "",
            "zerolinecolor": "white"
           }
          },
          "shapedefaults": {
           "line": {
            "color": "#2a3f5f"
           }
          },
          "ternary": {
           "aaxis": {
            "gridcolor": "white",
            "linecolor": "white",
            "ticks": ""
           },
           "baxis": {
            "gridcolor": "white",
            "linecolor": "white",
            "ticks": ""
           },
           "bgcolor": "#E5ECF6",
           "caxis": {
            "gridcolor": "white",
            "linecolor": "white",
            "ticks": ""
           }
          },
          "title": {
           "x": 0.05
          },
          "xaxis": {
           "automargin": true,
           "gridcolor": "white",
           "linecolor": "white",
           "ticks": "",
           "title": {
            "standoff": 15
           },
           "zerolinecolor": "white",
           "zerolinewidth": 2
          },
          "yaxis": {
           "automargin": true,
           "gridcolor": "white",
           "linecolor": "white",
           "ticks": "",
           "title": {
            "standoff": 15
           },
           "zerolinecolor": "white",
           "zerolinewidth": 2
          }
         }
        },
        "width": 800,
        "xaxis": {
         "title": {
          "text": "fraction of outliers"
         }
        },
        "yaxis": {
         "title": {
          "text": "R2 score"
         }
        }
       }
      }
     },
     "metadata": {},
     "output_type": "display_data"
    }
   ],
   "source": [
    "### median R2 with and without outliers\n",
    "\n",
    "# set x, y and color variables\n",
    "color_columns_list=['r2_CausalDA_wrong', 'r2_CausalDA_true']\n",
    "x_column = 'frac_outliers'\n",
    "\n",
    "# aggregate results\n",
    "res_tot = compute_stats_for_line_plot_paper(data_outliers, [x_column], color_columns_list[0])\n",
    "res_col = compute_stats_for_line_plot_paper(data_outliers, [x_column], color_columns_list[1])\n",
    "res_tot = res_tot.merge(res_col, how=\"left\", on=[x_column]).sort_values(by=[x_column])\n",
    "\n",
    "# Figure\n",
    "fig = go.Figure()\n",
    "  \n",
    "### CausalDA_wrong results\n",
    "# abscisse\n",
    "x = res_tot[x_column].tolist()\n",
    "x_rev = x[::-1]\n",
    "# Line 1\n",
    "y1 = res_tot['r2_CausalDA_wrong' + '_mean'].tolist()\n",
    "y1_upper = res_tot['r2_CausalDA_wrong' + '_upper'].tolist()\n",
    "y1_lower = res_tot['r2_CausalDA_wrong' + '_lower'].tolist()\n",
    "y1_lower = y1_lower[::-1]\n",
    "# Line 2\n",
    "y2 = res_tot['r2_CausalDA_wrong' + '_median'].tolist()\n",
    "\n",
    "fig.add_trace(go.Scatter(\n",
    "    x=x,\n",
    "    y=y2,\n",
    "    line_color=color_list[0],\n",
    "    line_dash='dot',\n",
    "    name='with outliers',\n",
    "))\n",
    "fig.update_traces(mode='lines')\n",
    "\n",
    "### CausalDA_true results\n",
    "# abscisse\n",
    "x = res_tot[x_column].tolist()\n",
    "x_rev = x[::-1]\n",
    "# Line 1\n",
    "y1 = res_tot['r2_CausalDA_true' + '_mean'].tolist()\n",
    "y1_upper = res_tot['r2_CausalDA_true' + '_upper'].tolist()\n",
    "y1_lower = res_tot['r2_CausalDA_true' + '_lower'].tolist()\n",
    "y1_lower = y1_lower[::-1]\n",
    "# Line 2\n",
    "y2 = res_tot['r2_CausalDA_true' + '_median'].tolist()\n",
    "\n",
    "fig.add_trace(go.Scatter(\n",
    "    x=x,\n",
    "    y=y2,\n",
    "    line_color=color_list[1],\n",
    "    line_dash='dot',\n",
    "    name='without outliers',\n",
    "))\n",
    "fig.update_traces(mode='lines')\n",
    "\n",
    "# legend position\n",
    "fig.update_layout(legend=dict(\n",
    "    yanchor=\"bottom\",\n",
    "    y=0.01,\n",
    "    xanchor=\"left\",\n",
    "    x=0.01\n",
    "))\n",
    "\n",
    "# magin & size\n",
    "fig.update_layout(\n",
    "    margin=dict(l=20, r=10, t=10, b=10),\n",
    "    width=800,\n",
    "    height=300,\n",
    ")\n",
    "\n",
    "# axis titles\n",
    "fig.update_yaxes(title_text='R2 score')\n",
    "fig.update_xaxes(title_text='fraction of outliers')\n",
    "\n",
    "fig.show()"
   ]
  },
  {
   "cell_type": "code",
   "execution_count": 48,
   "metadata": {},
   "outputs": [
    {
     "name": "stderr",
     "output_type": "stream",
     "text": [
      "C:\\Users\\AudreyPOINSOT\\AppData\\Local\\Temp\\ipykernel_21960\\1025098877.py:12: FutureWarning:\n",
      "\n",
      "['predicted_variable_node_type'] did not aggregate successfully. If any error is raised this will raise in a future version of pandas. Drop these columns/ops to avoid this warning.\n",
      "\n"
     ]
    },
    {
     "data": {
      "application/vnd.plotly.v1+json": {
       "config": {
        "plotlyServerURL": "https://plot.ly"
       },
       "data": [
        {
         "fill": "toself",
         "fillcolor": "rgba(238,44,44,0.2)",
         "line": {
          "color": "rgba(255,255,255,0)"
         },
         "mode": "lines",
         "name": "std",
         "showlegend": true,
         "type": "scatter",
         "x": [
          0.01,
          0.02,
          0.03,
          0.04,
          0.05,
          0.1,
          0.15,
          0.15,
          0.1,
          0.05,
          0.04,
          0.03,
          0.02,
          0.01
         ],
         "y": [
          0.018857065625389337,
          0.02608502573688213,
          0.03429674356845988,
          0.08883121664799618,
          0.07010155984996402,
          0.16034265390908053,
          0.2439549439319864,
          0.06526989196204708,
          0.016369483695088533,
          0.029085581375565973,
          0.01706427445577432,
          0.01950718036629049,
          0.009077449493102812,
          0.006548373512671012
         ]
        },
        {
         "line": {
          "color": "rgb(238,44,44)"
         },
         "mode": "lines",
         "name": "mean",
         "showlegend": true,
         "type": "scatter",
         "x": [
          0.01,
          0.02,
          0.03,
          0.04,
          0.05,
          0.1,
          0.15
         ],
         "y": [
          0.012702719569030175,
          0.01758123761499247,
          0.026901961967375185,
          0.05294774555188525,
          0.049593570612765,
          0.08835606880208453,
          0.15461241794701674
         ]
        },
        {
         "line": {
          "color": "rgb(238,44,44)",
          "dash": "dot"
         },
         "mode": "lines",
         "name": "median",
         "showlegend": true,
         "type": "scatter",
         "x": [
          0.01,
          0.02,
          0.03,
          0.04,
          0.05,
          0.1,
          0.15
         ],
         "y": [
          0.01431775955912935,
          0.016973544838175723,
          0.02745829680630531,
          0.05091652960723934,
          0.04635907136607452,
          0.06863634506389076,
          0.12529393092530203
         ]
        }
       ],
       "layout": {
        "height": 300,
        "legend": {
         "x": 0.01,
         "xanchor": "left",
         "y": 0.99,
         "yanchor": "top"
        },
        "margin": {
         "b": 10,
         "l": 20,
         "r": 10,
         "t": 10
        },
        "template": {
         "data": {
          "bar": [
           {
            "error_x": {
             "color": "#2a3f5f"
            },
            "error_y": {
             "color": "#2a3f5f"
            },
            "marker": {
             "line": {
              "color": "#E5ECF6",
              "width": 0.5
             },
             "pattern": {
              "fillmode": "overlay",
              "size": 10,
              "solidity": 0.2
             }
            },
            "type": "bar"
           }
          ],
          "barpolar": [
           {
            "marker": {
             "line": {
              "color": "#E5ECF6",
              "width": 0.5
             },
             "pattern": {
              "fillmode": "overlay",
              "size": 10,
              "solidity": 0.2
             }
            },
            "type": "barpolar"
           }
          ],
          "carpet": [
           {
            "aaxis": {
             "endlinecolor": "#2a3f5f",
             "gridcolor": "white",
             "linecolor": "white",
             "minorgridcolor": "white",
             "startlinecolor": "#2a3f5f"
            },
            "baxis": {
             "endlinecolor": "#2a3f5f",
             "gridcolor": "white",
             "linecolor": "white",
             "minorgridcolor": "white",
             "startlinecolor": "#2a3f5f"
            },
            "type": "carpet"
           }
          ],
          "choropleth": [
           {
            "colorbar": {
             "outlinewidth": 0,
             "ticks": ""
            },
            "type": "choropleth"
           }
          ],
          "contour": [
           {
            "colorbar": {
             "outlinewidth": 0,
             "ticks": ""
            },
            "colorscale": [
             [
              0,
              "#0d0887"
             ],
             [
              0.1111111111111111,
              "#46039f"
             ],
             [
              0.2222222222222222,
              "#7201a8"
             ],
             [
              0.3333333333333333,
              "#9c179e"
             ],
             [
              0.4444444444444444,
              "#bd3786"
             ],
             [
              0.5555555555555556,
              "#d8576b"
             ],
             [
              0.6666666666666666,
              "#ed7953"
             ],
             [
              0.7777777777777778,
              "#fb9f3a"
             ],
             [
              0.8888888888888888,
              "#fdca26"
             ],
             [
              1,
              "#f0f921"
             ]
            ],
            "type": "contour"
           }
          ],
          "contourcarpet": [
           {
            "colorbar": {
             "outlinewidth": 0,
             "ticks": ""
            },
            "type": "contourcarpet"
           }
          ],
          "heatmap": [
           {
            "colorbar": {
             "outlinewidth": 0,
             "ticks": ""
            },
            "colorscale": [
             [
              0,
              "#0d0887"
             ],
             [
              0.1111111111111111,
              "#46039f"
             ],
             [
              0.2222222222222222,
              "#7201a8"
             ],
             [
              0.3333333333333333,
              "#9c179e"
             ],
             [
              0.4444444444444444,
              "#bd3786"
             ],
             [
              0.5555555555555556,
              "#d8576b"
             ],
             [
              0.6666666666666666,
              "#ed7953"
             ],
             [
              0.7777777777777778,
              "#fb9f3a"
             ],
             [
              0.8888888888888888,
              "#fdca26"
             ],
             [
              1,
              "#f0f921"
             ]
            ],
            "type": "heatmap"
           }
          ],
          "heatmapgl": [
           {
            "colorbar": {
             "outlinewidth": 0,
             "ticks": ""
            },
            "colorscale": [
             [
              0,
              "#0d0887"
             ],
             [
              0.1111111111111111,
              "#46039f"
             ],
             [
              0.2222222222222222,
              "#7201a8"
             ],
             [
              0.3333333333333333,
              "#9c179e"
             ],
             [
              0.4444444444444444,
              "#bd3786"
             ],
             [
              0.5555555555555556,
              "#d8576b"
             ],
             [
              0.6666666666666666,
              "#ed7953"
             ],
             [
              0.7777777777777778,
              "#fb9f3a"
             ],
             [
              0.8888888888888888,
              "#fdca26"
             ],
             [
              1,
              "#f0f921"
             ]
            ],
            "type": "heatmapgl"
           }
          ],
          "histogram": [
           {
            "marker": {
             "pattern": {
              "fillmode": "overlay",
              "size": 10,
              "solidity": 0.2
             }
            },
            "type": "histogram"
           }
          ],
          "histogram2d": [
           {
            "colorbar": {
             "outlinewidth": 0,
             "ticks": ""
            },
            "colorscale": [
             [
              0,
              "#0d0887"
             ],
             [
              0.1111111111111111,
              "#46039f"
             ],
             [
              0.2222222222222222,
              "#7201a8"
             ],
             [
              0.3333333333333333,
              "#9c179e"
             ],
             [
              0.4444444444444444,
              "#bd3786"
             ],
             [
              0.5555555555555556,
              "#d8576b"
             ],
             [
              0.6666666666666666,
              "#ed7953"
             ],
             [
              0.7777777777777778,
              "#fb9f3a"
             ],
             [
              0.8888888888888888,
              "#fdca26"
             ],
             [
              1,
              "#f0f921"
             ]
            ],
            "type": "histogram2d"
           }
          ],
          "histogram2dcontour": [
           {
            "colorbar": {
             "outlinewidth": 0,
             "ticks": ""
            },
            "colorscale": [
             [
              0,
              "#0d0887"
             ],
             [
              0.1111111111111111,
              "#46039f"
             ],
             [
              0.2222222222222222,
              "#7201a8"
             ],
             [
              0.3333333333333333,
              "#9c179e"
             ],
             [
              0.4444444444444444,
              "#bd3786"
             ],
             [
              0.5555555555555556,
              "#d8576b"
             ],
             [
              0.6666666666666666,
              "#ed7953"
             ],
             [
              0.7777777777777778,
              "#fb9f3a"
             ],
             [
              0.8888888888888888,
              "#fdca26"
             ],
             [
              1,
              "#f0f921"
             ]
            ],
            "type": "histogram2dcontour"
           }
          ],
          "mesh3d": [
           {
            "colorbar": {
             "outlinewidth": 0,
             "ticks": ""
            },
            "type": "mesh3d"
           }
          ],
          "parcoords": [
           {
            "line": {
             "colorbar": {
              "outlinewidth": 0,
              "ticks": ""
             }
            },
            "type": "parcoords"
           }
          ],
          "pie": [
           {
            "automargin": true,
            "type": "pie"
           }
          ],
          "scatter": [
           {
            "fillpattern": {
             "fillmode": "overlay",
             "size": 10,
             "solidity": 0.2
            },
            "type": "scatter"
           }
          ],
          "scatter3d": [
           {
            "line": {
             "colorbar": {
              "outlinewidth": 0,
              "ticks": ""
             }
            },
            "marker": {
             "colorbar": {
              "outlinewidth": 0,
              "ticks": ""
             }
            },
            "type": "scatter3d"
           }
          ],
          "scattercarpet": [
           {
            "marker": {
             "colorbar": {
              "outlinewidth": 0,
              "ticks": ""
             }
            },
            "type": "scattercarpet"
           }
          ],
          "scattergeo": [
           {
            "marker": {
             "colorbar": {
              "outlinewidth": 0,
              "ticks": ""
             }
            },
            "type": "scattergeo"
           }
          ],
          "scattergl": [
           {
            "marker": {
             "colorbar": {
              "outlinewidth": 0,
              "ticks": ""
             }
            },
            "type": "scattergl"
           }
          ],
          "scattermapbox": [
           {
            "marker": {
             "colorbar": {
              "outlinewidth": 0,
              "ticks": ""
             }
            },
            "type": "scattermapbox"
           }
          ],
          "scatterpolar": [
           {
            "marker": {
             "colorbar": {
              "outlinewidth": 0,
              "ticks": ""
             }
            },
            "type": "scatterpolar"
           }
          ],
          "scatterpolargl": [
           {
            "marker": {
             "colorbar": {
              "outlinewidth": 0,
              "ticks": ""
             }
            },
            "type": "scatterpolargl"
           }
          ],
          "scatterternary": [
           {
            "marker": {
             "colorbar": {
              "outlinewidth": 0,
              "ticks": ""
             }
            },
            "type": "scatterternary"
           }
          ],
          "surface": [
           {
            "colorbar": {
             "outlinewidth": 0,
             "ticks": ""
            },
            "colorscale": [
             [
              0,
              "#0d0887"
             ],
             [
              0.1111111111111111,
              "#46039f"
             ],
             [
              0.2222222222222222,
              "#7201a8"
             ],
             [
              0.3333333333333333,
              "#9c179e"
             ],
             [
              0.4444444444444444,
              "#bd3786"
             ],
             [
              0.5555555555555556,
              "#d8576b"
             ],
             [
              0.6666666666666666,
              "#ed7953"
             ],
             [
              0.7777777777777778,
              "#fb9f3a"
             ],
             [
              0.8888888888888888,
              "#fdca26"
             ],
             [
              1,
              "#f0f921"
             ]
            ],
            "type": "surface"
           }
          ],
          "table": [
           {
            "cells": {
             "fill": {
              "color": "#EBF0F8"
             },
             "line": {
              "color": "white"
             }
            },
            "header": {
             "fill": {
              "color": "#C8D4E3"
             },
             "line": {
              "color": "white"
             }
            },
            "type": "table"
           }
          ]
         },
         "layout": {
          "annotationdefaults": {
           "arrowcolor": "#2a3f5f",
           "arrowhead": 0,
           "arrowwidth": 1
          },
          "autotypenumbers": "strict",
          "coloraxis": {
           "colorbar": {
            "outlinewidth": 0,
            "ticks": ""
           }
          },
          "colorscale": {
           "diverging": [
            [
             0,
             "#8e0152"
            ],
            [
             0.1,
             "#c51b7d"
            ],
            [
             0.2,
             "#de77ae"
            ],
            [
             0.3,
             "#f1b6da"
            ],
            [
             0.4,
             "#fde0ef"
            ],
            [
             0.5,
             "#f7f7f7"
            ],
            [
             0.6,
             "#e6f5d0"
            ],
            [
             0.7,
             "#b8e186"
            ],
            [
             0.8,
             "#7fbc41"
            ],
            [
             0.9,
             "#4d9221"
            ],
            [
             1,
             "#276419"
            ]
           ],
           "sequential": [
            [
             0,
             "#0d0887"
            ],
            [
             0.1111111111111111,
             "#46039f"
            ],
            [
             0.2222222222222222,
             "#7201a8"
            ],
            [
             0.3333333333333333,
             "#9c179e"
            ],
            [
             0.4444444444444444,
             "#bd3786"
            ],
            [
             0.5555555555555556,
             "#d8576b"
            ],
            [
             0.6666666666666666,
             "#ed7953"
            ],
            [
             0.7777777777777778,
             "#fb9f3a"
            ],
            [
             0.8888888888888888,
             "#fdca26"
            ],
            [
             1,
             "#f0f921"
            ]
           ],
           "sequentialminus": [
            [
             0,
             "#0d0887"
            ],
            [
             0.1111111111111111,
             "#46039f"
            ],
            [
             0.2222222222222222,
             "#7201a8"
            ],
            [
             0.3333333333333333,
             "#9c179e"
            ],
            [
             0.4444444444444444,
             "#bd3786"
            ],
            [
             0.5555555555555556,
             "#d8576b"
            ],
            [
             0.6666666666666666,
             "#ed7953"
            ],
            [
             0.7777777777777778,
             "#fb9f3a"
            ],
            [
             0.8888888888888888,
             "#fdca26"
            ],
            [
             1,
             "#f0f921"
            ]
           ]
          },
          "colorway": [
           "#636efa",
           "#EF553B",
           "#00cc96",
           "#ab63fa",
           "#FFA15A",
           "#19d3f3",
           "#FF6692",
           "#B6E880",
           "#FF97FF",
           "#FECB52"
          ],
          "font": {
           "color": "#2a3f5f"
          },
          "geo": {
           "bgcolor": "white",
           "lakecolor": "white",
           "landcolor": "#E5ECF6",
           "showlakes": true,
           "showland": true,
           "subunitcolor": "white"
          },
          "hoverlabel": {
           "align": "left"
          },
          "hovermode": "closest",
          "mapbox": {
           "style": "light"
          },
          "paper_bgcolor": "white",
          "plot_bgcolor": "#E5ECF6",
          "polar": {
           "angularaxis": {
            "gridcolor": "white",
            "linecolor": "white",
            "ticks": ""
           },
           "bgcolor": "#E5ECF6",
           "radialaxis": {
            "gridcolor": "white",
            "linecolor": "white",
            "ticks": ""
           }
          },
          "scene": {
           "xaxis": {
            "backgroundcolor": "#E5ECF6",
            "gridcolor": "white",
            "gridwidth": 2,
            "linecolor": "white",
            "showbackground": true,
            "ticks": "",
            "zerolinecolor": "white"
           },
           "yaxis": {
            "backgroundcolor": "#E5ECF6",
            "gridcolor": "white",
            "gridwidth": 2,
            "linecolor": "white",
            "showbackground": true,
            "ticks": "",
            "zerolinecolor": "white"
           },
           "zaxis": {
            "backgroundcolor": "#E5ECF6",
            "gridcolor": "white",
            "gridwidth": 2,
            "linecolor": "white",
            "showbackground": true,
            "ticks": "",
            "zerolinecolor": "white"
           }
          },
          "shapedefaults": {
           "line": {
            "color": "#2a3f5f"
           }
          },
          "ternary": {
           "aaxis": {
            "gridcolor": "white",
            "linecolor": "white",
            "ticks": ""
           },
           "baxis": {
            "gridcolor": "white",
            "linecolor": "white",
            "ticks": ""
           },
           "bgcolor": "#E5ECF6",
           "caxis": {
            "gridcolor": "white",
            "linecolor": "white",
            "ticks": ""
           }
          },
          "title": {
           "x": 0.05
          },
          "xaxis": {
           "automargin": true,
           "gridcolor": "white",
           "linecolor": "white",
           "ticks": "",
           "title": {
            "standoff": 15
           },
           "zerolinecolor": "white",
           "zerolinewidth": 2
          },
          "yaxis": {
           "automargin": true,
           "gridcolor": "white",
           "linecolor": "white",
           "ticks": "",
           "title": {
            "standoff": 15
           },
           "zerolinecolor": "white",
           "zerolinewidth": 2
          }
         }
        },
        "width": 800,
        "xaxis": {
         "title": {
          "text": "fraction of outliers"
         }
        },
        "yaxis": {
         "title": {
          "text": "Mean relative difference in variance"
         }
        }
       }
      }
     },
     "metadata": {},
     "output_type": "display_data"
    }
   ],
   "source": [
    "### relative difference in variance mean, median, std of augmented data with outliers\n",
    "\n",
    "# set x, y and color variables\n",
    "color_columns_list=['relative_delta_var_weighted_true_VS_wrong_mean']\n",
    "x_column = 'frac_outliers'\n",
    "\n",
    "# compute variance\n",
    "results_df_var = process_variance_features_robustness(data_outliers)[[x_column, \n",
    "                                                       'predicted_variable_node_type',\n",
    "                                                       'relative_delta_var_weighted_true_VS_wrong_mean'\n",
    "                                                      ]]\n",
    "\n",
    "# aggregate results\n",
    "res_tot = compute_stats_for_line_plot_paper(results_df_var, [x_column], color_columns_list[0])\n",
    "\n",
    "# Figure\n",
    "fig = go.Figure()\n",
    "  \n",
    "### relative_delta_var_weighted_true_VS_wrong_mean results\n",
    "# abscisse\n",
    "x = res_tot[x_column].tolist()\n",
    "x_rev = x[::-1]\n",
    "# Line 1\n",
    "y1 = res_tot['relative_delta_var_weighted_true_VS_wrong_mean' + '_mean'].tolist()\n",
    "y1_upper = res_tot['relative_delta_var_weighted_true_VS_wrong_mean' + '_upper'].tolist()\n",
    "y1_lower = res_tot['relative_delta_var_weighted_true_VS_wrong_mean' + '_lower'].tolist()\n",
    "y1_lower = y1_lower[::-1]\n",
    "# Line 2\n",
    "y2 = res_tot['relative_delta_var_weighted_true_VS_wrong_mean' + '_median'].tolist()\n",
    "\n",
    "fig.add_trace(go.Scatter(\n",
    "    x=x+x_rev,\n",
    "    y=y1_upper+y1_lower,\n",
    "    fill='toself',\n",
    "    fillcolor=transparent_color_list[0],\n",
    "    line_color='rgba(255,255,255,0)', \n",
    "    showlegend=True,\n",
    "    name='std'\n",
    "))\n",
    "fig.add_trace(go.Scatter(\n",
    "    x=x,\n",
    "    y=y1,\n",
    "    line_color=color_list[0],\n",
    "    showlegend=True,\n",
    "    name='mean'\n",
    "))\n",
    "fig.add_trace(go.Scatter(\n",
    "    x=x,\n",
    "    y=y2,\n",
    "    line_color=color_list[0],\n",
    "    line_dash='dot',\n",
    "    showlegend=True,\n",
    "    name='median'\n",
    "))\n",
    "fig.update_traces(mode='lines')\n",
    "\n",
    "# magin & size\n",
    "fig.update_layout(\n",
    "    margin=dict(l=20, r=10, t=10, b=10),\n",
    "    width=800,\n",
    "    height=300,\n",
    ")\n",
    "\n",
    "# legend position\n",
    "fig.update_layout(legend=dict(\n",
    "    yanchor=\"top\",\n",
    "    y=0.99,\n",
    "    xanchor=\"left\",\n",
    "    x=0.01\n",
    "))\n",
    "\n",
    "# axis titles\n",
    "fig.update_yaxes(title_text='Mean relative difference in variance')\n",
    "fig.update_xaxes(title_text='fraction of outliers')\n",
    "\n",
    "fig.show()"
   ]
  },
  {
   "cell_type": "code",
   "execution_count": null,
   "metadata": {},
   "outputs": [],
   "source": []
  }
 ],
 "metadata": {
  "kernelspec": {
   "display_name": "Python 3.10.6 ('ADMGresults')",
   "language": "python",
   "name": "python3"
  },
  "language_info": {
   "codemirror_mode": {
    "name": "ipython",
    "version": 3
   },
   "file_extension": ".py",
   "mimetype": "text/x-python",
   "name": "python",
   "nbconvert_exporter": "python",
   "pygments_lexer": "ipython3",
   "version": "3.10.9"
  },
  "vscode": {
   "interpreter": {
    "hash": "7cc1f8893ecc801c8eb79af4fcbef525648b7ac781db12c5604c5b6c4d5eafe4"
   }
  }
 },
 "nbformat": 4,
 "nbformat_minor": 2
}
